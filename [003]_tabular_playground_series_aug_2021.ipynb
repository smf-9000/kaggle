{
  "nbformat": 4,
  "nbformat_minor": 5,
  "metadata": {
    "kernelspec": {
      "display_name": "Python 3",
      "language": "python",
      "name": "python3"
    },
    "language_info": {
      "codemirror_mode": {
        "name": "ipython",
        "version": 3
      },
      "file_extension": ".py",
      "mimetype": "text/x-python",
      "name": "python",
      "nbconvert_exporter": "python",
      "pygments_lexer": "ipython3",
      "version": "3.7.10"
    },
    "papermill": {
      "default_parameters": {},
      "duration": 3630.872937,
      "end_time": "2021-08-05T18:11:16.852892",
      "environment_variables": {},
      "exception": null,
      "input_path": "__notebook__.ipynb",
      "output_path": "__notebook__.ipynb",
      "parameters": {},
      "start_time": "2021-08-05T17:10:45.979955",
      "version": "2.3.3"
    },
    "colab": {
      "name": "[003]-tabular-playground-series-aug-2021.ipynb",
      "provenance": [],
      "include_colab_link": true
    }
  },
  "cells": [
    {
      "cell_type": "markdown",
      "metadata": {
        "id": "view-in-github",
        "colab_type": "text"
      },
      "source": [
        "<a href=\"https://colab.research.google.com/github/smf-9000/kaggle/blob/main/%5B003%5D_tabular_playground_series_aug_2021.ipynb\" target=\"_parent\"><img src=\"https://colab.research.google.com/assets/colab-badge.svg\" alt=\"Open In Colab\"/></a>"
      ]
    },
    {
      "cell_type": "code",
      "metadata": {
        "_cell_guid": "b1076dfc-b9ad-4769-8c92-a6c4dae69d19",
        "_uuid": "8f2839f25d086af736a60e9eeb907d3b93b6e0e5",
        "execution": {
          "iopub.execute_input": "2021-08-05T17:10:54.331907Z",
          "iopub.status.busy": "2021-08-05T17:10:54.330684Z",
          "iopub.status.idle": "2021-08-05T17:10:54.350201Z",
          "shell.execute_reply": "2021-08-05T17:10:54.350770Z",
          "shell.execute_reply.started": "2021-08-05T15:50:11.601565Z"
        },
        "papermill": {
          "duration": 0.048787,
          "end_time": "2021-08-05T17:10:54.351074",
          "exception": false,
          "start_time": "2021-08-05T17:10:54.302287",
          "status": "completed"
        },
        "tags": [],
        "id": "76c0258e"
      },
      "source": [
        "%config Completer.use_jedi = False"
      ],
      "id": "76c0258e",
      "execution_count": null,
      "outputs": []
    },
    {
      "cell_type": "code",
      "metadata": {
        "execution": {
          "iopub.execute_input": "2021-08-05T17:10:54.412214Z",
          "iopub.status.busy": "2021-08-05T17:10:54.411408Z",
          "iopub.status.idle": "2021-08-05T17:11:03.104834Z",
          "shell.execute_reply": "2021-08-05T17:11:03.103940Z",
          "shell.execute_reply.started": "2021-08-05T15:50:11.656404Z"
        },
        "papermill": {
          "duration": 8.727444,
          "end_time": "2021-08-05T17:11:03.104983",
          "exception": false,
          "start_time": "2021-08-05T17:10:54.377539",
          "status": "completed"
        },
        "tags": [],
        "id": "a902510b",
        "outputId": "aefd2787-9252-4d54-c7c3-a93d676a40ca"
      },
      "source": [
        "import numpy as np\n",
        "import pandas as pd\n",
        "import seaborn as sns\n",
        "import matplotlib.pyplot as plt\n",
        "from matplotlib.pyplot import imshow, imread\n",
        "import tensorflow as tf\n",
        "from tensorflow.keras import backend as K\n",
        "from sklearn.model_selection import train_test_split\n",
        "from sklearn.model_selection import GridSearchCV\n",
        "import lightgbm as lgb\n",
        "from statsmodels.nonparametric.smoothers_lowess import lowess\n",
        "import warnings\n",
        "\n",
        "import os\n",
        "for dirname, _, filenames in os.walk('/kaggle/input'):\n",
        "    for filename in filenames:\n",
        "        print(os.path.join(dirname, filename))"
      ],
      "id": "a902510b",
      "execution_count": null,
      "outputs": [
        {
          "output_type": "display_data",
          "data": {
            "text/html": [
              "<style type='text/css'>\n",
              ".datatable table.frame { margin-bottom: 0; }\n",
              ".datatable table.frame thead { border-bottom: none; }\n",
              ".datatable table.frame tr.coltypes td {  color: #FFFFFF;  line-height: 6px;  padding: 0 0.5em;}\n",
              ".datatable .bool    { background: #DDDD99; }\n",
              ".datatable .object  { background: #565656; }\n",
              ".datatable .int     { background: #5D9E5D; }\n",
              ".datatable .float   { background: #4040CC; }\n",
              ".datatable .str     { background: #CC4040; }\n",
              ".datatable .time    { background: #40CC40; }\n",
              ".datatable .row_index {  background: var(--jp-border-color3);  border-right: 1px solid var(--jp-border-color0);  color: var(--jp-ui-font-color3);  font-size: 9px;}\n",
              ".datatable .frame tbody td { text-align: left; }\n",
              ".datatable .frame tr.coltypes .row_index {  background: var(--jp-border-color0);}\n",
              ".datatable th:nth-child(2) { padding-left: 12px; }\n",
              ".datatable .hellipsis {  color: var(--jp-cell-editor-border-color);}\n",
              ".datatable .vellipsis {  background: var(--jp-layout-color0);  color: var(--jp-cell-editor-border-color);}\n",
              ".datatable .na {  color: var(--jp-cell-editor-border-color);  font-size: 80%;}\n",
              ".datatable .sp {  opacity: 0.25;}\n",
              ".datatable .footer { font-size: 9px; }\n",
              ".datatable .frame_dimensions {  background: var(--jp-border-color3);  border-top: 1px solid var(--jp-border-color0);  color: var(--jp-ui-font-color3);  display: inline-block;  opacity: 0.6;  padding: 1px 10px 1px 5px;}\n",
              "</style>\n"
            ],
            "text/plain": [
              "<IPython.core.display.HTML object>"
            ]
          },
          "metadata": {
            "tags": []
          }
        },
        {
          "output_type": "stream",
          "text": [
            "/kaggle/input/tabular-playground-series-aug-2021/sample_submission.csv\n",
            "/kaggle/input/tabular-playground-series-aug-2021/train.csv\n",
            "/kaggle/input/tabular-playground-series-aug-2021/test.csv\n"
          ],
          "name": "stdout"
        }
      ]
    },
    {
      "cell_type": "code",
      "metadata": {
        "execution": {
          "iopub.execute_input": "2021-08-05T17:11:03.161923Z",
          "iopub.status.busy": "2021-08-05T17:11:03.161219Z",
          "iopub.status.idle": "2021-08-05T17:11:14.133978Z",
          "shell.execute_reply": "2021-08-05T17:11:14.132854Z",
          "shell.execute_reply.started": "2021-08-05T15:50:21.495240Z"
        },
        "papermill": {
          "duration": 11.002426,
          "end_time": "2021-08-05T17:11:14.134134",
          "exception": false,
          "start_time": "2021-08-05T17:11:03.131708",
          "status": "completed"
        },
        "tags": [],
        "id": "03f7c1e3"
      },
      "source": [
        "submission_ex = pd.read_csv('/kaggle/input/tabular-playground-series-aug-2021/sample_submission.csv')\n",
        "train_df = pd.read_csv('/kaggle/input/tabular-playground-series-aug-2021/train.csv')\n",
        "test_df = pd.read_csv('/kaggle/input/tabular-playground-series-aug-2021/test.csv')"
      ],
      "id": "03f7c1e3",
      "execution_count": null,
      "outputs": []
    },
    {
      "cell_type": "code",
      "metadata": {
        "execution": {
          "iopub.execute_input": "2021-08-05T17:11:14.199046Z",
          "iopub.status.busy": "2021-08-05T17:11:14.198315Z",
          "iopub.status.idle": "2021-08-05T17:11:14.287946Z",
          "shell.execute_reply": "2021-08-05T17:11:14.287272Z",
          "shell.execute_reply.started": "2021-08-05T15:50:32.655498Z"
        },
        "papermill": {
          "duration": 0.127585,
          "end_time": "2021-08-05T17:11:14.288095",
          "exception": false,
          "start_time": "2021-08-05T17:11:14.160510",
          "status": "completed"
        },
        "tags": [],
        "id": "aae7c40b"
      },
      "source": [
        "targets_df = train_df[['loss']].copy()\n",
        "train_df.drop(['loss', 'id'], axis=1, inplace=True) "
      ],
      "id": "aae7c40b",
      "execution_count": null,
      "outputs": []
    },
    {
      "cell_type": "code",
      "metadata": {
        "execution": {
          "iopub.execute_input": "2021-08-05T17:11:14.348780Z",
          "iopub.status.busy": "2021-08-05T17:11:14.348043Z",
          "iopub.status.idle": "2021-08-05T17:11:14.371296Z",
          "shell.execute_reply": "2021-08-05T17:11:14.370730Z",
          "shell.execute_reply.started": "2021-08-05T15:50:32.759346Z"
        },
        "papermill": {
          "duration": 0.05727,
          "end_time": "2021-08-05T17:11:14.371468",
          "exception": false,
          "start_time": "2021-08-05T17:11:14.314198",
          "status": "completed"
        },
        "tags": [],
        "id": "4469fcf9"
      },
      "source": [
        "for df in [train_df, test_df]:\n",
        "    df['f27_0'] = ((df['f27'].values <= 50000)).astype(int)\n",
        "    df['f27_1'] = ((df['f27'].values > 50000)).astype(int)\n",
        "    df['f86_0'] = ((df['f86'].values < 200)).astype(int)\n",
        "    c = (df['f86'] >= 200) & (df['f86'] < 450)\n",
        "    df['f86_1'] = np.where(c, 1, 0)\n",
        "    c = (df['f86'] >= 450) & (df['f86'] < 800)\n",
        "    df['f86_2'] = np.where(c, 1, 0)\n",
        "    df['f86_3'] = ((df['f86'].values >= 800)).astype(int)"
      ],
      "id": "4469fcf9",
      "execution_count": null,
      "outputs": []
    },
    {
      "cell_type": "code",
      "metadata": {
        "execution": {
          "iopub.execute_input": "2021-08-05T17:11:14.427660Z",
          "iopub.status.busy": "2021-08-05T17:11:14.426774Z",
          "iopub.status.idle": "2021-08-05T17:11:14.430578Z",
          "shell.execute_reply": "2021-08-05T17:11:14.429884Z",
          "shell.execute_reply.started": "2021-08-05T15:50:32.799785Z"
        },
        "papermill": {
          "duration": 0.033432,
          "end_time": "2021-08-05T17:11:14.430732",
          "exception": false,
          "start_time": "2021-08-05T17:11:14.397300",
          "status": "completed"
        },
        "tags": [],
        "id": "59b222da"
      },
      "source": [
        "# from sklearn import preprocessing\n",
        "# # scaler = preprocessing.MinMaxScaler()\n",
        "# # scaler = preprocessing.MaxAbsScaler()\n",
        "# scaler = preprocessing.StandardScaler()\n",
        "# for df in [train_df, test_df]:\n",
        "#     for c in df.columns:\n",
        "#         if c not in ['id']:\n",
        "#             df[[c]] = scaler.fit_transform(df[[c]])"
      ],
      "id": "59b222da",
      "execution_count": null,
      "outputs": []
    },
    {
      "cell_type": "code",
      "metadata": {
        "execution": {
          "iopub.execute_input": "2021-08-05T17:11:14.491206Z",
          "iopub.status.busy": "2021-08-05T17:11:14.490437Z",
          "iopub.status.idle": "2021-08-05T17:11:14.492450Z",
          "shell.execute_reply": "2021-08-05T17:11:14.491795Z",
          "shell.execute_reply.started": "2021-08-05T15:50:32.805819Z"
        },
        "papermill": {
          "duration": 0.0349,
          "end_time": "2021-08-05T17:11:14.492599",
          "exception": false,
          "start_time": "2021-08-05T17:11:14.457699",
          "status": "completed"
        },
        "tags": [],
        "id": "3d119d96"
      },
      "source": [
        "# for df in [train_df, test_df]:\n",
        "#     for c in df.columns:\n",
        "#         if c not in ['id']:\n",
        "#             a = df[c].values\n",
        "#             n = len(a)\n",
        "#             for i in range(len(a)):\n",
        "#                 if i == 0:\n",
        "#                     a[i] = (a[i] + a[i+1]) / 2\n",
        "#                 elif i == n-1:\n",
        "#                     a[i] = (a[i-1] + a[i]) / 2\n",
        "#                 else:\n",
        "#                     a[i] = (a[i-1] + a[i] + a[i+1]) / 3\n",
        "#             df[c+'_s'] = a"
      ],
      "id": "3d119d96",
      "execution_count": null,
      "outputs": []
    },
    {
      "cell_type": "code",
      "metadata": {
        "execution": {
          "iopub.execute_input": "2021-08-05T17:11:14.551510Z",
          "iopub.status.busy": "2021-08-05T17:11:14.550550Z",
          "iopub.status.idle": "2021-08-05T17:11:14.553606Z",
          "shell.execute_reply": "2021-08-05T17:11:14.552969Z",
          "shell.execute_reply.started": "2021-08-05T15:50:32.820314Z"
        },
        "papermill": {
          "duration": 0.034169,
          "end_time": "2021-08-05T17:11:14.553755",
          "exception": false,
          "start_time": "2021-08-05T17:11:14.519586",
          "status": "completed"
        },
        "tags": [],
        "id": "b49d09ce"
      },
      "source": [
        "# warnings.filterwarnings(\"ignore\")\n",
        "\n",
        "# # ################################################################\n",
        "# fig = plt.figure(figsize = (30,30))\n",
        "# ax = fig.gca()\n",
        "# hist = train_df.hist(bins=50, ax = ax)"
      ],
      "id": "b49d09ce",
      "execution_count": null,
      "outputs": []
    },
    {
      "cell_type": "code",
      "metadata": {
        "execution": {
          "iopub.execute_input": "2021-08-05T17:11:14.610339Z",
          "iopub.status.busy": "2021-08-05T17:11:14.609375Z",
          "iopub.status.idle": "2021-08-05T17:11:14.612066Z",
          "shell.execute_reply": "2021-08-05T17:11:14.612515Z",
          "shell.execute_reply.started": "2021-08-05T15:50:32.840156Z"
        },
        "papermill": {
          "duration": 0.032762,
          "end_time": "2021-08-05T17:11:14.612687",
          "exception": false,
          "start_time": "2021-08-05T17:11:14.579925",
          "status": "completed"
        },
        "tags": [],
        "id": "e6a756f4"
      },
      "source": [
        "# for c in train_df.columns:\n",
        "#     if c != 'id':\n",
        "#         fig = plt.figure(figsize = (30, 3))\n",
        "#         g = train_df.iloc[:500,:][c].plot()\n",
        "#         g = targets_df.iloc[:500,:]['loss'].plot()\n",
        "#         g.legend([c])"
      ],
      "id": "e6a756f4",
      "execution_count": null,
      "outputs": []
    },
    {
      "cell_type": "code",
      "metadata": {
        "execution": {
          "iopub.execute_input": "2021-08-05T17:11:14.668670Z",
          "iopub.status.busy": "2021-08-05T17:11:14.667921Z",
          "iopub.status.idle": "2021-08-05T17:11:14.671110Z",
          "shell.execute_reply": "2021-08-05T17:11:14.670622Z",
          "shell.execute_reply.started": "2021-08-05T15:50:32.855853Z"
        },
        "papermill": {
          "duration": 0.033381,
          "end_time": "2021-08-05T17:11:14.671279",
          "exception": false,
          "start_time": "2021-08-05T17:11:14.637898",
          "status": "completed"
        },
        "tags": [],
        "id": "52c5f633"
      },
      "source": [
        "# train_df.iloc[0:10, 0:50].info()"
      ],
      "id": "52c5f633",
      "execution_count": null,
      "outputs": []
    },
    {
      "cell_type": "code",
      "metadata": {
        "execution": {
          "iopub.execute_input": "2021-08-05T17:11:14.727526Z",
          "iopub.status.busy": "2021-08-05T17:11:14.726830Z",
          "iopub.status.idle": "2021-08-05T17:11:14.730894Z",
          "shell.execute_reply": "2021-08-05T17:11:14.730128Z",
          "shell.execute_reply.started": "2021-08-05T15:50:32.869440Z"
        },
        "papermill": {
          "duration": 0.033327,
          "end_time": "2021-08-05T17:11:14.731033",
          "exception": false,
          "start_time": "2021-08-05T17:11:14.697706",
          "status": "completed"
        },
        "tags": [],
        "id": "8e2a24e7"
      },
      "source": [
        "# train_df.iloc[0:10, 27]"
      ],
      "id": "8e2a24e7",
      "execution_count": null,
      "outputs": []
    },
    {
      "cell_type": "code",
      "metadata": {
        "execution": {
          "iopub.execute_input": "2021-08-05T17:11:14.790547Z",
          "iopub.status.busy": "2021-08-05T17:11:14.789496Z",
          "iopub.status.idle": "2021-08-05T17:11:14.792687Z",
          "shell.execute_reply": "2021-08-05T17:11:14.791990Z",
          "shell.execute_reply.started": "2021-08-05T15:50:32.886826Z"
        },
        "papermill": {
          "duration": 0.034427,
          "end_time": "2021-08-05T17:11:14.792832",
          "exception": false,
          "start_time": "2021-08-05T17:11:14.758405",
          "status": "completed"
        },
        "tags": [],
        "id": "c16f2ddd"
      },
      "source": [
        "# warnings.filterwarnings(\"ignore\")\n",
        "\n",
        "# # ################################################################\n",
        "# fig = plt.figure(figsize = (30,10))\n",
        "# ax = fig.gca()\n",
        "# hist = targets_df[targets_df.columns.values].hist(bins=84, ax = ax)"
      ],
      "id": "c16f2ddd",
      "execution_count": null,
      "outputs": []
    },
    {
      "cell_type": "code",
      "metadata": {
        "execution": {
          "iopub.execute_input": "2021-08-05T17:11:14.850769Z",
          "iopub.status.busy": "2021-08-05T17:11:14.849962Z",
          "iopub.status.idle": "2021-08-05T17:11:14.853337Z",
          "shell.execute_reply": "2021-08-05T17:11:14.853853Z",
          "shell.execute_reply.started": "2021-08-05T15:50:32.900316Z"
        },
        "papermill": {
          "duration": 0.033936,
          "end_time": "2021-08-05T17:11:14.854017",
          "exception": false,
          "start_time": "2021-08-05T17:11:14.820081",
          "status": "completed"
        },
        "tags": [],
        "id": "37767ae9"
      },
      "source": [
        "# warnings.filterwarnings(\"ignore\")\n",
        "\n",
        "# train_without_zero_loss_df = train_df[targets_df['loss'] != 0]\n",
        "\n",
        "# # ################################################################\n",
        "# fig, axes = plt.subplots(nrows = 10, ncols = 10, figsize=(30, 30))\n",
        "# i = 0\n",
        "# for c in train_df.columns[1:]:\n",
        "#     ax = axes[i // 10, i % 10]\n",
        "#     ax.set_title(c)\n",
        "#     train_df[c].hist(bins=50, ax = ax)\n",
        "#     train_without_zero_loss_df[c].hist(bins=50, ax = ax, alpha = 0.7)\n",
        "#     i += 1"
      ],
      "id": "37767ae9",
      "execution_count": null,
      "outputs": []
    },
    {
      "cell_type": "markdown",
      "metadata": {
        "papermill": {
          "duration": 0.026348,
          "end_time": "2021-08-05T17:11:14.907472",
          "exception": false,
          "start_time": "2021-08-05T17:11:14.881124",
          "status": "completed"
        },
        "tags": [],
        "id": "268d12bf"
      },
      "source": [
        "### feature correlation"
      ],
      "id": "268d12bf"
    },
    {
      "cell_type": "code",
      "metadata": {
        "execution": {
          "iopub.execute_input": "2021-08-05T17:11:14.965286Z",
          "iopub.status.busy": "2021-08-05T17:11:14.964510Z",
          "iopub.status.idle": "2021-08-05T17:11:14.968345Z",
          "shell.execute_reply": "2021-08-05T17:11:14.968846Z",
          "shell.execute_reply.started": "2021-08-05T15:50:32.915294Z"
        },
        "papermill": {
          "duration": 0.034713,
          "end_time": "2021-08-05T17:11:14.969044",
          "exception": false,
          "start_time": "2021-08-05T17:11:14.934331",
          "status": "completed"
        },
        "tags": [],
        "id": "3a5ac2a9"
      },
      "source": [
        "# qq_df = pd.concat([train_df, targets_df], axis=1, join='inner')\n",
        "\n",
        "# # ################################################################\n",
        "# corr = qq_df.corr()\n",
        "\n",
        "# mask = np.zeros_like(corr)\n",
        "# mask[np.triu_indices_from(mask)] = True\n",
        "\n",
        "# fig = plt.figure(figsize = (25,25))\n",
        "# sns.heatmap(corr, cmap=\"flare\", mask=mask)\n",
        "# plt.show()"
      ],
      "id": "3a5ac2a9",
      "execution_count": null,
      "outputs": []
    },
    {
      "cell_type": "code",
      "metadata": {
        "papermill": {
          "duration": 0.025829,
          "end_time": "2021-08-05T17:11:15.021274",
          "exception": false,
          "start_time": "2021-08-05T17:11:14.995445",
          "status": "completed"
        },
        "tags": [],
        "id": "847b05e7"
      },
      "source": [
        ""
      ],
      "id": "847b05e7",
      "execution_count": null,
      "outputs": []
    },
    {
      "cell_type": "code",
      "metadata": {
        "execution": {
          "iopub.execute_input": "2021-08-05T17:11:15.078414Z",
          "iopub.status.busy": "2021-08-05T17:11:15.077586Z",
          "iopub.status.idle": "2021-08-05T17:11:15.103313Z",
          "shell.execute_reply": "2021-08-05T17:11:15.102652Z",
          "shell.execute_reply.started": "2021-08-05T15:50:32.927850Z"
        },
        "papermill": {
          "duration": 0.05577,
          "end_time": "2021-08-05T17:11:15.103489",
          "exception": false,
          "start_time": "2021-08-05T17:11:15.047719",
          "status": "completed"
        },
        "tags": [],
        "id": "a79d41e0"
      },
      "source": [
        "from bayes_opt import BayesianOptimization\n",
        "from sklearn.metrics import mean_squared_error\n",
        "import warnings\n",
        "from sklearn.model_selection import KFold"
      ],
      "id": "a79d41e0",
      "execution_count": null,
      "outputs": []
    },
    {
      "cell_type": "code",
      "metadata": {
        "execution": {
          "iopub.execute_input": "2021-08-05T17:11:15.174935Z",
          "iopub.status.busy": "2021-08-05T17:11:15.173910Z",
          "iopub.status.idle": "2021-08-05T17:11:15.177643Z",
          "shell.execute_reply": "2021-08-05T17:11:15.177055Z",
          "shell.execute_reply.started": "2021-08-05T15:50:32.965878Z"
        },
        "papermill": {
          "duration": 0.047563,
          "end_time": "2021-08-05T17:11:15.177783",
          "exception": false,
          "start_time": "2021-08-05T17:11:15.130220",
          "status": "completed"
        },
        "tags": [],
        "id": "ac31dc3e"
      },
      "source": [
        "def bayesion_opt_lgbm(X, y, init_points = 3, n_iter = 7, random_state = 42, seed = 42, _folds = 5, bo_verbose = 1, shuffle = False):\n",
        "    dtrain = lgb.Dataset(data = X, label = y)\n",
        "    print('no_of_folds: ', _folds)\n",
        "    print('random_state: ', random_state)\n",
        "    folds = KFold(_folds, shuffle = shuffle)\n",
        "\n",
        "    def rmse_score(preds, dtrain):\n",
        "        labels = dtrain.get_label()\n",
        "        tmp = np.array(preds)\n",
        "        return 'rmse', -mean_squared_error(labels, preds, squared = False), True\n",
        "\n",
        "    def hyp_lgbm(learning_rate, \n",
        "                num_leaves, \n",
        "                max_depth, \n",
        "                n_estimators,\n",
        "                min_sum_hessian_in_leaf,\n",
        "                lambda_l1,\n",
        "                lambda_l2,\n",
        "                bagging_fraction,\n",
        "                bagging_freq):\n",
        "\n",
        "        params = {'application':'regression', 'metric':'rmse_score', 'force_col_wise':True, 'verbose': -1}\n",
        "        params['learning_rate'] = learning_rate\n",
        "        params['num_leaves'] = int(round(num_leaves))\n",
        "        params['max_depth'] = int(round(max_depth))\n",
        "        params['n_estimators'] = int(round(n_estimators))\n",
        "        params['min_sum_hessian_in_leaf'] = min_sum_hessian_in_leaf\n",
        "        params['lambda_l1'] = 10 ** lambda_l1\n",
        "        params['lambda_l2'] = 10 ** lambda_l2\n",
        "        params['bagging_fraction'] = bagging_fraction\n",
        "        params['bagging_freq'] = int(round(bagging_freq))\n",
        "        \n",
        "        cv_results = lgb.cv(\n",
        "            params, \n",
        "            dtrain, \n",
        "            folds=folds.split(X), \n",
        "#             nfold = _folds, \n",
        "            seed = random_state, \n",
        "            stratified = False, \n",
        "            verbose_eval = None, \n",
        "            feval = rmse_score)\n",
        "\n",
        "        return np.max(cv_results['rmse-mean'])\n",
        "    pds = {\n",
        "        'learning_rate': (0.001, 0.1),\n",
        "        'num_leaves': (2, 256),\n",
        "        'max_depth': (-1, 100),\n",
        "        'n_estimators': (100, 100),\n",
        "        'min_sum_hessian_in_leaf': (1e-8, 1000),\n",
        "        'lambda_l1': (-5, 1),\n",
        "        'lambda_l2': (-5, 1),\n",
        "        'bagging_fraction': (0.4, 1.0),\n",
        "        'bagging_freq': (1, 7),\n",
        "        }\n",
        "\n",
        "    optimizer = BayesianOptimization(hyp_lgbm, pds, random_state = random_state, verbose = bo_verbose)\n",
        "\n",
        "    # n_iter: How many steps of bayesian optimization you want to perform. The more steps the more likely to find a good maximum you are.\n",
        "    # init_points: How many steps of random exploration you want to perform. Random exploration can help by diversifying the exploration space.\n",
        "    optimizer.maximize(init_points = init_points, n_iter = n_iter)\n",
        "\n",
        "    return optimizer.max"
      ],
      "id": "ac31dc3e",
      "execution_count": null,
      "outputs": []
    },
    {
      "cell_type": "code",
      "metadata": {
        "execution": {
          "iopub.execute_input": "2021-08-05T17:11:15.236430Z",
          "iopub.status.busy": "2021-08-05T17:11:15.235453Z",
          "iopub.status.idle": "2021-08-05T17:11:15.239078Z",
          "shell.execute_reply": "2021-08-05T17:11:15.238456Z",
          "shell.execute_reply.started": "2021-08-05T16:27:54.347830Z"
        },
        "papermill": {
          "duration": 0.034547,
          "end_time": "2021-08-05T17:11:15.239253",
          "exception": false,
          "start_time": "2021-08-05T17:11:15.204706",
          "status": "completed"
        },
        "tags": [],
        "id": "23f7ca9d"
      },
      "source": [
        "# warnings.filterwarnings(\"ignore\")\n",
        "\n",
        "# X, y = None, None\n",
        "\n",
        "# lgbm = lgb.LGBMRegressor()\n",
        "# _target = 'loss'\n",
        "# X = np.array(train_df, dtype='float32')[:250000]\n",
        "# y = np.squeeze(np.array(targets_df[[_target]].values, dtype='float32'))[:250000]\n",
        "# print('X_shape: ', X.shape)\n",
        "\n",
        "# data = bayesion_opt_lgbm(X, y, init_points = 10, n_iter = 20, _folds = 10, bo_verbose = 2, random_state = None, shuffle = True)  #init_points=random, n_iter=bayesian\n",
        "# for k, v in data['params'].items():\n",
        "#     if k in ['bagging_freq', 'max_depth', 'n_estimators', 'num_leaves']:\n",
        "#         data['params'][k] = int(round(v))\n",
        "#     elif k in ['lambda_l1', 'lambda_l2']:\n",
        "#         data['params'][k] = 10 ** v\n",
        "# print('params_' + str(_target) + ' =', data['params'])"
      ],
      "id": "23f7ca9d",
      "execution_count": null,
      "outputs": []
    },
    {
      "cell_type": "code",
      "metadata": {
        "papermill": {
          "duration": 0.026487,
          "end_time": "2021-08-05T17:11:15.292807",
          "exception": false,
          "start_time": "2021-08-05T17:11:15.266320",
          "status": "completed"
        },
        "tags": [],
        "id": "a6539e9d"
      },
      "source": [
        ""
      ],
      "id": "a6539e9d",
      "execution_count": null,
      "outputs": []
    },
    {
      "cell_type": "code",
      "metadata": {
        "execution": {
          "iopub.execute_input": "2021-08-05T17:11:15.352713Z",
          "iopub.status.busy": "2021-08-05T17:11:15.351691Z",
          "iopub.status.idle": "2021-08-05T17:11:15.355234Z",
          "shell.execute_reply": "2021-08-05T17:11:15.354657Z",
          "shell.execute_reply.started": "2021-08-05T15:51:12.308900Z"
        },
        "papermill": {
          "duration": 0.036077,
          "end_time": "2021-08-05T17:11:15.355373",
          "exception": false,
          "start_time": "2021-08-05T17:11:15.319296",
          "status": "completed"
        },
        "tags": [],
        "id": "e565c8eb"
      },
      "source": [
        "params_loss = {'bagging_fraction': 0.8962250586874196, 'bagging_freq': 1, 'lambda_l1': 0.01895614209401383, 'lambda_l2': 0.001397920954070796, 'learning_rate': 0.05906516799338329, 'max_depth': 46, 'min_sum_hessian_in_leaf': 376.9636549547788, 'n_estimators': 100, 'num_leaves': 184}\n",
        "# params_loss = {'bagging_fraction': 0.9962738592807339, 'bagging_freq': 5, 'lambda_l1': 0.0007443736962799421, 'lambda_l2': 0.0006596033786078184, 'learning_rate': 0.08281394225689416, 'max_depth': 36, 'min_sum_hessian_in_leaf': 513.7609568818598, 'n_estimators': 100, 'num_leaves': 54}\n",
        "\n",
        "\n",
        "\n",
        "params_loss['n_estimators'] = 10000\n",
        "params_loss['learning_rate'] = 0.001\n",
        "\n",
        "params_loss['n_estimators'] = 20000\n",
        "lgbm_reg = lgb.LGBMRegressor(**params_loss, \n",
        "                       objective='rmse',\n",
        "                       metric='rmse',\n",
        "                       n_jobs=-1)"
      ],
      "id": "e565c8eb",
      "execution_count": null,
      "outputs": []
    },
    {
      "cell_type": "code",
      "metadata": {
        "execution": {
          "iopub.execute_input": "2021-08-05T17:11:15.417062Z",
          "iopub.status.busy": "2021-08-05T17:11:15.415480Z",
          "iopub.status.idle": "2021-08-05T17:11:15.417762Z",
          "shell.execute_reply": "2021-08-05T17:11:15.418181Z",
          "shell.execute_reply.started": "2021-08-05T15:51:12.600045Z"
        },
        "papermill": {
          "duration": 0.035606,
          "end_time": "2021-08-05T17:11:15.418350",
          "exception": false,
          "start_time": "2021-08-05T17:11:15.382744",
          "status": "completed"
        },
        "tags": [],
        "id": "f28d141e"
      },
      "source": [
        "submit = True"
      ],
      "id": "f28d141e",
      "execution_count": null,
      "outputs": []
    },
    {
      "cell_type": "code",
      "metadata": {
        "execution": {
          "iopub.execute_input": "2021-08-05T17:11:15.478607Z",
          "iopub.status.busy": "2021-08-05T17:11:15.477353Z",
          "iopub.status.idle": "2021-08-05T18:11:13.215817Z",
          "shell.execute_reply": "2021-08-05T18:11:13.216637Z",
          "shell.execute_reply.started": "2021-08-05T16:28:12.988043Z"
        },
        "papermill": {
          "duration": 3597.773206,
          "end_time": "2021-08-05T18:11:13.217230",
          "exception": false,
          "start_time": "2021-08-05T17:11:15.444024",
          "status": "completed"
        },
        "tags": [],
        "id": "88364185",
        "outputId": "967c183a-c658-4e60-fcc4-070c4c72eccf"
      },
      "source": [
        "submission = test_df[['id']].copy()\n",
        "\n",
        "_target = 'loss'\n",
        "X = np.array(train_df, dtype='float32')\n",
        "y = np.squeeze(np.array(targets_df[[_target]].values, dtype='float32'))\n",
        "X_test = np.array(test_df.iloc[:,1:].values, dtype='float32')\n",
        "\n",
        "if not submit:\n",
        "    split_train = 225000\n",
        "    X, X_val = X[:split_train], X[split_train:]\n",
        "    y, y_val = y[:split_train], y[split_train:]\n",
        "    \n",
        "    lgbm_reg.fit(\n",
        "        X, \n",
        "        y,\n",
        "        eval_set=[(X_val, y_val)],\n",
        "        verbose=100,\n",
        "        early_stopping_rounds=500)\n",
        "    p1 = lgbm_reg.predict(X_val)\n",
        "\n",
        "    print('target: ', _target)\n",
        "    print('=================================')\n",
        "    print('rmse: ', mean_squared_error(y_val, p1, squared = False))\n",
        "else:\n",
        "    print('submit: ', _target)\n",
        "\n",
        "    lgbm_reg.fit(X, y)\n",
        "    print('prediction')\n",
        "    p1 = lgbm_reg.predict(X_test)\n",
        "\n",
        "    submission[_target] = p1"
      ],
      "id": "88364185",
      "execution_count": null,
      "outputs": [
        {
          "output_type": "stream",
          "text": [
            "submit:  loss\n",
            "[LightGBM] [Warning] lambda_l1 is set=0.01895614209401383, reg_alpha=0.0 will be ignored. Current value: lambda_l1=0.01895614209401383\n",
            "[LightGBM] [Warning] bagging_freq is set=1, subsample_freq=0 will be ignored. Current value: bagging_freq=1\n",
            "[LightGBM] [Warning] min_sum_hessian_in_leaf is set=376.9636549547788, min_child_weight=0.001 will be ignored. Current value: min_sum_hessian_in_leaf=376.9636549547788\n",
            "[LightGBM] [Warning] lambda_l2 is set=0.001397920954070796, reg_lambda=0.0 will be ignored. Current value: lambda_l2=0.001397920954070796\n",
            "[LightGBM] [Warning] bagging_fraction is set=0.8962250586874196, subsample=1.0 will be ignored. Current value: bagging_fraction=0.8962250586874196\n",
            "prediction\n"
          ],
          "name": "stdout"
        }
      ]
    },
    {
      "cell_type": "code",
      "metadata": {
        "execution": {
          "iopub.execute_input": "2021-08-05T18:11:13.276601Z",
          "iopub.status.busy": "2021-08-05T18:11:13.275861Z",
          "iopub.status.idle": "2021-08-05T18:11:13.862248Z",
          "shell.execute_reply": "2021-08-05T18:11:13.862850Z",
          "shell.execute_reply.started": "2021-08-03T17:01:23.189918Z"
        },
        "papermill": {
          "duration": 0.616156,
          "end_time": "2021-08-05T18:11:13.863036",
          "exception": false,
          "start_time": "2021-08-05T18:11:13.246880",
          "status": "completed"
        },
        "tags": [],
        "id": "60939827"
      },
      "source": [
        "submission.to_csv('submission.csv', index=False)"
      ],
      "id": "60939827",
      "execution_count": null,
      "outputs": []
    },
    {
      "cell_type": "code",
      "metadata": {
        "execution": {
          "iopub.execute_input": "2021-08-05T18:11:13.919060Z",
          "iopub.status.busy": "2021-08-05T18:11:13.918416Z",
          "iopub.status.idle": "2021-08-05T18:11:13.990686Z",
          "shell.execute_reply": "2021-08-05T18:11:13.991267Z",
          "shell.execute_reply.started": "2021-08-03T17:01:23.54326Z"
        },
        "papermill": {
          "duration": 0.102525,
          "end_time": "2021-08-05T18:11:13.991456",
          "exception": false,
          "start_time": "2021-08-05T18:11:13.888931",
          "status": "completed"
        },
        "tags": [],
        "id": "f609aaed",
        "outputId": "ebc40dbe-d6eb-4ca8-9b79-da1e0e06001f"
      },
      "source": [
        "test = pd.read_csv('submission.csv')\n",
        "test.head()"
      ],
      "id": "f609aaed",
      "execution_count": null,
      "outputs": [
        {
          "output_type": "execute_result",
          "data": {
            "text/html": [
              "<div>\n",
              "<style scoped>\n",
              "    .dataframe tbody tr th:only-of-type {\n",
              "        vertical-align: middle;\n",
              "    }\n",
              "\n",
              "    .dataframe tbody tr th {\n",
              "        vertical-align: top;\n",
              "    }\n",
              "\n",
              "    .dataframe thead th {\n",
              "        text-align: right;\n",
              "    }\n",
              "</style>\n",
              "<table border=\"1\" class=\"dataframe\">\n",
              "  <thead>\n",
              "    <tr style=\"text-align: right;\">\n",
              "      <th></th>\n",
              "      <th>id</th>\n",
              "      <th>loss</th>\n",
              "    </tr>\n",
              "  </thead>\n",
              "  <tbody>\n",
              "    <tr>\n",
              "      <th>0</th>\n",
              "      <td>250000</td>\n",
              "      <td>7.402576</td>\n",
              "    </tr>\n",
              "    <tr>\n",
              "      <th>1</th>\n",
              "      <td>250001</td>\n",
              "      <td>5.086758</td>\n",
              "    </tr>\n",
              "    <tr>\n",
              "      <th>2</th>\n",
              "      <td>250002</td>\n",
              "      <td>8.778332</td>\n",
              "    </tr>\n",
              "    <tr>\n",
              "      <th>3</th>\n",
              "      <td>250003</td>\n",
              "      <td>7.893456</td>\n",
              "    </tr>\n",
              "    <tr>\n",
              "      <th>4</th>\n",
              "      <td>250004</td>\n",
              "      <td>7.180392</td>\n",
              "    </tr>\n",
              "  </tbody>\n",
              "</table>\n",
              "</div>"
            ],
            "text/plain": [
              "       id      loss\n",
              "0  250000  7.402576\n",
              "1  250001  5.086758\n",
              "2  250002  8.778332\n",
              "3  250003  7.893456\n",
              "4  250004  7.180392"
            ]
          },
          "metadata": {
            "tags": []
          },
          "execution_count": 22
        }
      ]
    },
    {
      "cell_type": "code",
      "metadata": {
        "execution": {
          "iopub.execute_input": "2021-08-05T18:11:14.055501Z",
          "iopub.status.busy": "2021-08-05T18:11:14.054788Z",
          "iopub.status.idle": "2021-08-05T18:11:14.057784Z",
          "shell.execute_reply": "2021-08-05T18:11:14.058275Z",
          "shell.execute_reply.started": "2021-08-03T17:01:23.602416Z"
        },
        "papermill": {
          "duration": 0.039915,
          "end_time": "2021-08-05T18:11:14.058472",
          "exception": false,
          "start_time": "2021-08-05T18:11:14.018557",
          "status": "completed"
        },
        "tags": [],
        "id": "9082ed8a",
        "outputId": "baa0861e-c218-4b0b-f56b-10b632d01837"
      },
      "source": [
        "test.tail()"
      ],
      "id": "9082ed8a",
      "execution_count": null,
      "outputs": [
        {
          "output_type": "execute_result",
          "data": {
            "text/html": [
              "<div>\n",
              "<style scoped>\n",
              "    .dataframe tbody tr th:only-of-type {\n",
              "        vertical-align: middle;\n",
              "    }\n",
              "\n",
              "    .dataframe tbody tr th {\n",
              "        vertical-align: top;\n",
              "    }\n",
              "\n",
              "    .dataframe thead th {\n",
              "        text-align: right;\n",
              "    }\n",
              "</style>\n",
              "<table border=\"1\" class=\"dataframe\">\n",
              "  <thead>\n",
              "    <tr style=\"text-align: right;\">\n",
              "      <th></th>\n",
              "      <th>id</th>\n",
              "      <th>loss</th>\n",
              "    </tr>\n",
              "  </thead>\n",
              "  <tbody>\n",
              "    <tr>\n",
              "      <th>149995</th>\n",
              "      <td>399995</td>\n",
              "      <td>8.136704</td>\n",
              "    </tr>\n",
              "    <tr>\n",
              "      <th>149996</th>\n",
              "      <td>399996</td>\n",
              "      <td>7.936379</td>\n",
              "    </tr>\n",
              "    <tr>\n",
              "      <th>149997</th>\n",
              "      <td>399997</td>\n",
              "      <td>6.112471</td>\n",
              "    </tr>\n",
              "    <tr>\n",
              "      <th>149998</th>\n",
              "      <td>399998</td>\n",
              "      <td>5.569623</td>\n",
              "    </tr>\n",
              "    <tr>\n",
              "      <th>149999</th>\n",
              "      <td>399999</td>\n",
              "      <td>6.342379</td>\n",
              "    </tr>\n",
              "  </tbody>\n",
              "</table>\n",
              "</div>"
            ],
            "text/plain": [
              "            id      loss\n",
              "149995  399995  8.136704\n",
              "149996  399996  7.936379\n",
              "149997  399997  6.112471\n",
              "149998  399998  5.569623\n",
              "149999  399999  6.342379"
            ]
          },
          "metadata": {
            "tags": []
          },
          "execution_count": 23
        }
      ]
    },
    {
      "cell_type": "code",
      "metadata": {
        "papermill": {
          "duration": 0.027021,
          "end_time": "2021-08-05T18:11:14.112254",
          "exception": false,
          "start_time": "2021-08-05T18:11:14.085233",
          "status": "completed"
        },
        "tags": [],
        "id": "ff57b0c3"
      },
      "source": [
        ""
      ],
      "id": "ff57b0c3",
      "execution_count": null,
      "outputs": []
    },
    {
      "cell_type": "code",
      "metadata": {
        "papermill": {
          "duration": 0.026319,
          "end_time": "2021-08-05T18:11:14.165132",
          "exception": false,
          "start_time": "2021-08-05T18:11:14.138813",
          "status": "completed"
        },
        "tags": [],
        "id": "53c049e6"
      },
      "source": [
        ""
      ],
      "id": "53c049e6",
      "execution_count": null,
      "outputs": []
    },
    {
      "cell_type": "code",
      "metadata": {
        "papermill": {
          "duration": 0.026386,
          "end_time": "2021-08-05T18:11:14.218439",
          "exception": false,
          "start_time": "2021-08-05T18:11:14.192053",
          "status": "completed"
        },
        "tags": [],
        "id": "cc8468d2"
      },
      "source": [
        ""
      ],
      "id": "cc8468d2",
      "execution_count": null,
      "outputs": []
    },
    {
      "cell_type": "code",
      "metadata": {
        "papermill": {
          "duration": 0.028271,
          "end_time": "2021-08-05T18:11:14.274092",
          "exception": false,
          "start_time": "2021-08-05T18:11:14.245821",
          "status": "completed"
        },
        "tags": [],
        "id": "b3947fa8"
      },
      "source": [
        ""
      ],
      "id": "b3947fa8",
      "execution_count": null,
      "outputs": []
    },
    {
      "cell_type": "code",
      "metadata": {
        "papermill": {
          "duration": 0.027255,
          "end_time": "2021-08-05T18:11:14.328160",
          "exception": false,
          "start_time": "2021-08-05T18:11:14.300905",
          "status": "completed"
        },
        "tags": [],
        "id": "fcc26e35"
      },
      "source": [
        ""
      ],
      "id": "fcc26e35",
      "execution_count": null,
      "outputs": []
    }
  ]
}