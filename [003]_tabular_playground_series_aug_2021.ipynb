{
  "nbformat": 4,
  "nbformat_minor": 0,
  "metadata": {
    "kernelspec": {
      "language": "python",
      "display_name": "Python 3",
      "name": "python3"
    },
    "language_info": {
      "pygments_lexer": "ipython3",
      "nbconvert_exporter": "python",
      "version": "3.6.4",
      "file_extension": ".py",
      "codemirror_mode": {
        "name": "ipython",
        "version": 3
      },
      "name": "python",
      "mimetype": "text/x-python"
    },
    "colab": {
      "name": "[003]-tabular-playground-series-aug-2021.ipynb",
      "provenance": [],
      "include_colab_link": true
    }
  },
  "cells": [
    {
      "cell_type": "markdown",
      "metadata": {
        "id": "view-in-github",
        "colab_type": "text"
      },
      "source": [
        "<a href=\"https://colab.research.google.com/github/smf-9000/kaggle/blob/main/%5B003%5D_tabular_playground_series_aug_2021.ipynb\" target=\"_parent\"><img src=\"https://colab.research.google.com/assets/colab-badge.svg\" alt=\"Open In Colab\"/></a>"
      ]
    },
    {
      "cell_type": "code",
      "metadata": {
        "_uuid": "8f2839f25d086af736a60e9eeb907d3b93b6e0e5",
        "_cell_guid": "b1076dfc-b9ad-4769-8c92-a6c4dae69d19",
        "execution": {
          "iopub.status.busy": "2021-08-03T17:00:01.061142Z",
          "iopub.execute_input": "2021-08-03T17:00:01.061482Z",
          "iopub.status.idle": "2021-08-03T17:00:01.076967Z",
          "shell.execute_reply.started": "2021-08-03T17:00:01.06145Z",
          "shell.execute_reply": "2021-08-03T17:00:01.076008Z"
        },
        "trusted": true,
        "id": "xxKIUqsOgL_6"
      },
      "source": [
        "%config Completer.use_jedi = False"
      ],
      "execution_count": null,
      "outputs": []
    },
    {
      "cell_type": "code",
      "metadata": {
        "execution": {
          "iopub.status.busy": "2021-08-03T17:00:01.078282Z",
          "iopub.execute_input": "2021-08-03T17:00:01.078686Z",
          "iopub.status.idle": "2021-08-03T17:00:01.097378Z",
          "shell.execute_reply.started": "2021-08-03T17:00:01.078658Z",
          "shell.execute_reply": "2021-08-03T17:00:01.096163Z"
        },
        "trusted": true,
        "id": "PkQWgdM6gMAD"
      },
      "source": [
        "import numpy as np\n",
        "import pandas as pd\n",
        "import seaborn as sns\n",
        "import matplotlib.pyplot as plt\n",
        "from matplotlib.pyplot import imshow, imread\n",
        "import tensorflow as tf\n",
        "from tensorflow.keras import backend as K\n",
        "from sklearn.model_selection import train_test_split\n",
        "from sklearn.model_selection import GridSearchCV\n",
        "import lightgbm as lgb\n",
        "from statsmodels.nonparametric.smoothers_lowess import lowess\n",
        "import warnings\n",
        "\n",
        "import os\n",
        "for dirname, _, filenames in os.walk('/kaggle/input'):\n",
        "    for filename in filenames:\n",
        "        print(os.path.join(dirname, filename))"
      ],
      "execution_count": null,
      "outputs": []
    },
    {
      "cell_type": "code",
      "metadata": {
        "execution": {
          "iopub.status.busy": "2021-08-03T17:00:01.099344Z",
          "iopub.execute_input": "2021-08-03T17:00:01.099951Z",
          "iopub.status.idle": "2021-08-03T17:00:07.067644Z",
          "shell.execute_reply.started": "2021-08-03T17:00:01.099904Z",
          "shell.execute_reply": "2021-08-03T17:00:07.066765Z"
        },
        "trusted": true,
        "id": "41pxqhILgMAG"
      },
      "source": [
        "submission_ex = pd.read_csv('/kaggle/input/tabular-playground-series-aug-2021/sample_submission.csv')\n",
        "train_df = pd.read_csv('/kaggle/input/tabular-playground-series-aug-2021/train.csv')\n",
        "test_df = pd.read_csv('/kaggle/input/tabular-playground-series-aug-2021/test.csv')"
      ],
      "execution_count": null,
      "outputs": []
    },
    {
      "cell_type": "code",
      "metadata": {
        "execution": {
          "iopub.status.busy": "2021-08-03T17:00:07.069176Z",
          "iopub.execute_input": "2021-08-03T17:00:07.069769Z",
          "iopub.status.idle": "2021-08-03T17:00:07.158591Z",
          "shell.execute_reply.started": "2021-08-03T17:00:07.069725Z",
          "shell.execute_reply": "2021-08-03T17:00:07.157846Z"
        },
        "trusted": true,
        "id": "Fu7iR0t8gMAG"
      },
      "source": [
        "targets_df = train_df[['loss']].copy()\n",
        "train_df.drop(['loss', 'id'], axis=1, inplace=True) "
      ],
      "execution_count": null,
      "outputs": []
    },
    {
      "cell_type": "code",
      "metadata": {
        "execution": {
          "iopub.status.busy": "2021-08-03T17:00:07.159727Z",
          "iopub.execute_input": "2021-08-03T17:00:07.160255Z",
          "iopub.status.idle": "2021-08-03T17:00:07.187782Z",
          "shell.execute_reply.started": "2021-08-03T17:00:07.160215Z",
          "shell.execute_reply": "2021-08-03T17:00:07.186878Z"
        },
        "trusted": true,
        "id": "majJvMTUgMAH"
      },
      "source": [
        "for df in [train_df, test_df]:\n",
        "    df['f27_0'] = ((df['f27'].values <= 50000)).astype(int)\n",
        "    df['f27_1'] = ((df['f27'].values > 50000)).astype(int)\n",
        "    df['f86_0'] = ((df['f86'].values < 200)).astype(int)\n",
        "    c = (df['f86'] >= 200) & (df['f86'] < 450)\n",
        "    df['f86_1'] = np.where(c, 1, 0)\n",
        "    c = (df['f86'] >= 450) & (df['f86'] < 800)\n",
        "    df['f86_2'] = np.where(c, 1, 0)\n",
        "    df['f86_3'] = ((df['f86'].values >= 800)).astype(int)"
      ],
      "execution_count": null,
      "outputs": []
    },
    {
      "cell_type": "code",
      "metadata": {
        "execution": {
          "iopub.status.busy": "2021-08-03T17:00:07.189017Z",
          "iopub.execute_input": "2021-08-03T17:00:07.189623Z",
          "iopub.status.idle": "2021-08-03T17:00:07.193292Z",
          "shell.execute_reply.started": "2021-08-03T17:00:07.189566Z",
          "shell.execute_reply": "2021-08-03T17:00:07.192552Z"
        },
        "trusted": true,
        "id": "nU6gADqigMAH"
      },
      "source": [
        "# from sklearn import preprocessing\n",
        "# # scaler = preprocessing.MinMaxScaler()\n",
        "# # scaler = preprocessing.MaxAbsScaler()\n",
        "# scaler = preprocessing.StandardScaler()\n",
        "# for df in [train_df, test_df]:\n",
        "#     for c in df.columns:\n",
        "#         if c not in ['id']:\n",
        "#             df[[c]] = scaler.fit_transform(df[[c]])"
      ],
      "execution_count": null,
      "outputs": []
    },
    {
      "cell_type": "code",
      "metadata": {
        "execution": {
          "iopub.status.busy": "2021-08-03T17:00:07.19455Z",
          "iopub.execute_input": "2021-08-03T17:00:07.195003Z",
          "iopub.status.idle": "2021-08-03T17:00:07.208461Z",
          "shell.execute_reply.started": "2021-08-03T17:00:07.194975Z",
          "shell.execute_reply": "2021-08-03T17:00:07.207341Z"
        },
        "trusted": true,
        "id": "LhOnZJGsgMAH"
      },
      "source": [
        "# for df in [train_df, test_df]:\n",
        "#     for c in df.columns:\n",
        "#         if c not in ['id']:\n",
        "#             a = df[c].values\n",
        "#             n = len(a)\n",
        "#             for i in range(len(a)):\n",
        "#                 if i == 0:\n",
        "#                     a[i] = (a[i] + a[i+1]) / 2\n",
        "#                 elif i == n-1:\n",
        "#                     a[i] = (a[i-1] + a[i]) / 2\n",
        "#                 else:\n",
        "#                     a[i] = (a[i-1] + a[i] + a[i+1]) / 3\n",
        "#             df[c+'_s'] = a"
      ],
      "execution_count": null,
      "outputs": []
    },
    {
      "cell_type": "code",
      "metadata": {
        "execution": {
          "iopub.status.busy": "2021-08-03T17:00:07.210498Z",
          "iopub.execute_input": "2021-08-03T17:00:07.210814Z",
          "iopub.status.idle": "2021-08-03T17:00:07.225217Z",
          "shell.execute_reply.started": "2021-08-03T17:00:07.210786Z",
          "shell.execute_reply": "2021-08-03T17:00:07.224418Z"
        },
        "trusted": true,
        "id": "plAi-kDHgMAI"
      },
      "source": [
        "# warnings.filterwarnings(\"ignore\")\n",
        "\n",
        "# # ################################################################\n",
        "# fig = plt.figure(figsize = (30,30))\n",
        "# ax = fig.gca()\n",
        "# hist = train_df.hist(bins=50, ax = ax)"
      ],
      "execution_count": null,
      "outputs": []
    },
    {
      "cell_type": "code",
      "metadata": {
        "execution": {
          "iopub.status.busy": "2021-08-03T17:00:07.226504Z",
          "iopub.execute_input": "2021-08-03T17:00:07.226918Z",
          "iopub.status.idle": "2021-08-03T17:00:07.23921Z",
          "shell.execute_reply.started": "2021-08-03T17:00:07.226888Z",
          "shell.execute_reply": "2021-08-03T17:00:07.238146Z"
        },
        "trusted": true,
        "id": "aPaXoNUdgMAI"
      },
      "source": [
        "# for c in train_df.columns:\n",
        "#     if c != 'date_time':\n",
        "#         fig = plt.figure(figsize = (30, 3))\n",
        "#         g = train_df.iloc[:500,:][c].plot()\n",
        "#         g = targets_df.iloc[:500,:]['loss'].plot()\n",
        "#         g.legend([c])"
      ],
      "execution_count": null,
      "outputs": []
    },
    {
      "cell_type": "code",
      "metadata": {
        "id": "twz-PCiBgMAJ"
      },
      "source": [
        ""
      ],
      "execution_count": null,
      "outputs": []
    },
    {
      "cell_type": "code",
      "metadata": {
        "execution": {
          "iopub.status.busy": "2021-08-03T17:00:07.240428Z",
          "iopub.execute_input": "2021-08-03T17:00:07.240719Z",
          "iopub.status.idle": "2021-08-03T17:00:07.253891Z",
          "shell.execute_reply.started": "2021-08-03T17:00:07.240684Z",
          "shell.execute_reply": "2021-08-03T17:00:07.252742Z"
        },
        "trusted": true,
        "id": "NiSa0Q4XgMAJ"
      },
      "source": [
        "# warnings.filterwarnings(\"ignore\")\n",
        "\n",
        "# # ################################################################\n",
        "# fig = plt.figure(figsize = (30,10))\n",
        "# ax = fig.gca()\n",
        "# hist = targets_df[targets_df.columns.values].hist(bins=84, ax = ax)"
      ],
      "execution_count": null,
      "outputs": []
    },
    {
      "cell_type": "code",
      "metadata": {
        "execution": {
          "iopub.status.busy": "2021-08-03T17:00:07.255299Z",
          "iopub.execute_input": "2021-08-03T17:00:07.25562Z",
          "iopub.status.idle": "2021-08-03T17:00:07.268081Z",
          "shell.execute_reply.started": "2021-08-03T17:00:07.255575Z",
          "shell.execute_reply": "2021-08-03T17:00:07.26718Z"
        },
        "trusted": true,
        "id": "zZHYN2iAgMAJ"
      },
      "source": [
        "# warnings.filterwarnings(\"ignore\")\n",
        "\n",
        "# train_without_zero_loss_df = train_df[targets_df['loss'] != 0]\n",
        "\n",
        "# # ################################################################\n",
        "# fig, axes = plt.subplots(nrows = 10, ncols = 10, figsize=(30, 30))\n",
        "# i = 0\n",
        "# for c in train_df.columns[1:]:\n",
        "#     ax = axes[i // 10, i % 10]\n",
        "#     ax.set_title(c)\n",
        "#     train_df[c].hist(bins=50, ax = ax)\n",
        "#     train_without_zero_loss_df[c].hist(bins=50, ax = ax, alpha = 0.7)\n",
        "#     i += 1"
      ],
      "execution_count": null,
      "outputs": []
    },
    {
      "cell_type": "markdown",
      "metadata": {
        "id": "6nPvshtEgMAK"
      },
      "source": [
        "### feature correlation"
      ]
    },
    {
      "cell_type": "code",
      "metadata": {
        "execution": {
          "iopub.status.busy": "2021-08-03T17:00:07.26932Z",
          "iopub.execute_input": "2021-08-03T17:00:07.269988Z",
          "iopub.status.idle": "2021-08-03T17:00:07.282073Z",
          "shell.execute_reply.started": "2021-08-03T17:00:07.269946Z",
          "shell.execute_reply": "2021-08-03T17:00:07.281364Z"
        },
        "trusted": true,
        "id": "kRT74xxHgMAK"
      },
      "source": [
        "# qq_df = pd.concat([train_df, targets_df], axis=1, join='inner')\n",
        "\n",
        "# # ################################################################\n",
        "# corr = qq_df.corr()\n",
        "\n",
        "# mask = np.zeros_like(corr)\n",
        "# mask[np.triu_indices_from(mask)] = True\n",
        "\n",
        "# fig = plt.figure(figsize = (25,25))\n",
        "# sns.heatmap(corr, cmap=\"flare\", mask=mask)\n",
        "# plt.show()"
      ],
      "execution_count": null,
      "outputs": []
    },
    {
      "cell_type": "code",
      "metadata": {
        "id": "64GyZ-FLgMAK"
      },
      "source": [
        ""
      ],
      "execution_count": null,
      "outputs": []
    },
    {
      "cell_type": "code",
      "metadata": {
        "execution": {
          "iopub.status.busy": "2021-08-03T17:00:07.283009Z",
          "iopub.execute_input": "2021-08-03T17:00:07.283376Z",
          "iopub.status.idle": "2021-08-03T17:00:07.295437Z",
          "shell.execute_reply.started": "2021-08-03T17:00:07.283338Z",
          "shell.execute_reply": "2021-08-03T17:00:07.294723Z"
        },
        "trusted": true,
        "id": "whspgmGzgMAL"
      },
      "source": [
        "from bayes_opt import BayesianOptimization\n",
        "from sklearn.metrics import mean_squared_error\n",
        "import warnings\n",
        "from sklearn.model_selection import KFold"
      ],
      "execution_count": null,
      "outputs": []
    },
    {
      "cell_type": "code",
      "metadata": {
        "execution": {
          "iopub.status.busy": "2021-08-03T17:00:07.29671Z",
          "iopub.execute_input": "2021-08-03T17:00:07.297144Z",
          "iopub.status.idle": "2021-08-03T17:00:07.313533Z",
          "shell.execute_reply.started": "2021-08-03T17:00:07.297114Z",
          "shell.execute_reply": "2021-08-03T17:00:07.312692Z"
        },
        "trusted": true,
        "id": "LZNleBiXgMAL"
      },
      "source": [
        "def bayesion_opt_lgbm(X, y, init_points = 3, n_iter = 7, random_state = 42, seed = 42, _folds = 5, bo_verbose = 1, shuffle = False):\n",
        "    dtrain = lgb.Dataset(data = X, label = y)\n",
        "    print('no_of_folds: ', _folds)\n",
        "    print('random_state: ', random_state)\n",
        "    folds = KFold(_folds, shuffle = shuffle)\n",
        "\n",
        "    def rmse_score(preds, dtrain):\n",
        "        labels = dtrain.get_label()\n",
        "        tmp = np.array(preds)\n",
        "        return 'rmse', -mean_squared_error(labels, preds, squared = False), True\n",
        "\n",
        "    def hyp_lgbm(learning_rate, \n",
        "                num_leaves, \n",
        "                max_depth, \n",
        "                n_estimators):\n",
        "\n",
        "        params = {'application':'regression', 'metric':'rmse_score', 'force_col_wise':True, 'verbose': -1}\n",
        "        params['learning_rate'] = learning_rate\n",
        "        params['num_leaves'] = int(round(num_leaves))\n",
        "        params['max_depth'] = int(round(max_depth))\n",
        "        params['n_estimators'] = int(round(n_estimators))\n",
        "        \n",
        "        cv_results = lgb.cv(\n",
        "            params, \n",
        "            dtrain, \n",
        "            folds=folds.split(X), \n",
        "#             nfold = _folds, \n",
        "            seed = random_state, \n",
        "            stratified = False, \n",
        "            verbose_eval = None, \n",
        "            feval = rmse_score)\n",
        "\n",
        "        return np.max(cv_results['rmse-mean'])\n",
        "    pds = {\n",
        "        'learning_rate': (0.0001, 0.1),\n",
        "        'num_leaves': (2, 256),\n",
        "        'max_depth': (-1, 100),\n",
        "        'n_estimators': (2500, 10000)\n",
        "        }\n",
        "\n",
        "    optimizer = BayesianOptimization(hyp_lgbm, pds, random_state = random_state, verbose = bo_verbose)\n",
        "\n",
        "    # n_iter: How many steps of bayesian optimization you want to perform. The more steps the more likely to find a good maximum you are.\n",
        "    # init_points: How many steps of random exploration you want to perform. Random exploration can help by diversifying the exploration space.\n",
        "    optimizer.maximize(init_points = init_points, n_iter = n_iter)\n",
        "\n",
        "    return optimizer.max"
      ],
      "execution_count": null,
      "outputs": []
    },
    {
      "cell_type": "code",
      "metadata": {
        "execution": {
          "iopub.status.busy": "2021-08-03T17:00:07.314583Z",
          "iopub.execute_input": "2021-08-03T17:00:07.31508Z",
          "iopub.status.idle": "2021-08-03T17:00:07.329922Z",
          "shell.execute_reply.started": "2021-08-03T17:00:07.315048Z",
          "shell.execute_reply": "2021-08-03T17:00:07.329097Z"
        },
        "trusted": true,
        "id": "VX6aEHqhgMAO"
      },
      "source": [
        "# warnings.filterwarnings(\"ignore\")\n",
        "\n",
        "# X, y = None, None\n",
        "\n",
        "# lgbm = lgb.LGBMRegressor()\n",
        "# _target = 'loss'\n",
        "# X = np.array(train_df, dtype='float32')[:5000]\n",
        "# y = np.squeeze(np.array(targets_df[[_target]].values, dtype='float32'))[:5000]\n",
        "# print('X_shape: ', X.shape)\n",
        "\n",
        "# data = bayesion_opt_lgbm(X, y, init_points = 10, n_iter = 20, _folds = 5, bo_verbose = 2, random_state = None, shuffle = True)  #init_points=random, n_iter=bayesian\n",
        "# for k, v in data['params'].items():\n",
        "#     if k in ['bagging_freq', 'max_depth', 'n_estimators', 'num_leaves']:\n",
        "#         data['params'][k] = int(round(v))\n",
        "# print('params_' + str(_target) + ' =', data['params'])"
      ],
      "execution_count": null,
      "outputs": []
    },
    {
      "cell_type": "code",
      "metadata": {
        "id": "f2woOTWlgMAP"
      },
      "source": [
        ""
      ],
      "execution_count": null,
      "outputs": []
    },
    {
      "cell_type": "code",
      "metadata": {
        "execution": {
          "iopub.status.busy": "2021-08-03T17:00:07.33113Z",
          "iopub.execute_input": "2021-08-03T17:00:07.331544Z",
          "iopub.status.idle": "2021-08-03T17:00:07.347853Z",
          "shell.execute_reply.started": "2021-08-03T17:00:07.331515Z",
          "shell.execute_reply": "2021-08-03T17:00:07.347011Z"
        },
        "trusted": true,
        "id": "UPRluHC8gMAP"
      },
      "source": [
        "params_loss = {'learning_rate': 0.047, 'max_depth': 90, 'n_estimators': 2571, 'num_leaves': 5}\n",
        "\n",
        "lgbm_reg = lgb.LGBMRegressor(**params_loss)"
      ],
      "execution_count": null,
      "outputs": []
    },
    {
      "cell_type": "code",
      "metadata": {
        "execution": {
          "iopub.status.busy": "2021-08-03T17:00:07.349173Z",
          "iopub.execute_input": "2021-08-03T17:00:07.349665Z",
          "iopub.status.idle": "2021-08-03T17:00:07.356066Z",
          "shell.execute_reply.started": "2021-08-03T17:00:07.349628Z",
          "shell.execute_reply": "2021-08-03T17:00:07.355335Z"
        },
        "trusted": true,
        "id": "UfbF1zIzgMAR"
      },
      "source": [
        "submit = True"
      ],
      "execution_count": null,
      "outputs": []
    },
    {
      "cell_type": "code",
      "metadata": {
        "execution": {
          "iopub.status.busy": "2021-08-03T17:00:07.357212Z",
          "iopub.execute_input": "2021-08-03T17:00:07.357675Z",
          "iopub.status.idle": "2021-08-03T17:01:23.188261Z",
          "shell.execute_reply.started": "2021-08-03T17:00:07.35764Z",
          "shell.execute_reply": "2021-08-03T17:01:23.187427Z"
        },
        "trusted": true,
        "id": "1Kun54iZgMAR"
      },
      "source": [
        "submission = test_df[['id']].copy()\n",
        "\n",
        "_target = 'loss'\n",
        "X = np.array(train_df, dtype='float32')\n",
        "y = np.squeeze(np.array(targets_df[[_target]].values, dtype='float32'))\n",
        "X_test = np.array(test_df.iloc[:,1:].values, dtype='float32')\n",
        "\n",
        "if not submit:\n",
        "    split_train = 150000\n",
        "    X, X_val = X[:split_train], X[split_train:]\n",
        "    y, y_val = y[:split_train], y[split_train:]\n",
        "    \n",
        "    lgbm_reg.fit(X, y)\n",
        "    p1 = lgbm_reg.predict(X_val)\n",
        "\n",
        "    print('target: ', _target)\n",
        "    print('=================================')\n",
        "    print('rmse: ', mean_squared_error(y_val, p1, squared = False))\n",
        "else:\n",
        "    print('submit: ', _target)\n",
        "\n",
        "    lgbm_reg.fit(X, y)\n",
        "    p1 = lgbm_reg.predict(X_test)\n",
        "\n",
        "    submission[_target] = p1"
      ],
      "execution_count": null,
      "outputs": []
    },
    {
      "cell_type": "code",
      "metadata": {
        "execution": {
          "iopub.status.busy": "2021-08-03T17:01:23.189407Z",
          "iopub.execute_input": "2021-08-03T17:01:23.18996Z",
          "iopub.status.idle": "2021-08-03T17:01:23.5418Z",
          "shell.execute_reply.started": "2021-08-03T17:01:23.189918Z",
          "shell.execute_reply": "2021-08-03T17:01:23.540753Z"
        },
        "trusted": true,
        "id": "Ul35UNYKgMAR"
      },
      "source": [
        "submission.to_csv('submission.csv', index=False)"
      ],
      "execution_count": null,
      "outputs": []
    },
    {
      "cell_type": "code",
      "metadata": {
        "execution": {
          "iopub.status.busy": "2021-08-03T17:01:23.543022Z",
          "iopub.execute_input": "2021-08-03T17:01:23.543296Z",
          "iopub.status.idle": "2021-08-03T17:01:23.601194Z",
          "shell.execute_reply.started": "2021-08-03T17:01:23.54326Z",
          "shell.execute_reply": "2021-08-03T17:01:23.600374Z"
        },
        "trusted": true,
        "id": "QD6HZcTggMAR"
      },
      "source": [
        "test = pd.read_csv('submission.csv')\n",
        "test.head()"
      ],
      "execution_count": null,
      "outputs": []
    },
    {
      "cell_type": "code",
      "metadata": {
        "execution": {
          "iopub.status.busy": "2021-08-03T17:01:23.602194Z",
          "iopub.execute_input": "2021-08-03T17:01:23.60244Z",
          "iopub.status.idle": "2021-08-03T17:01:23.611251Z",
          "shell.execute_reply.started": "2021-08-03T17:01:23.602416Z",
          "shell.execute_reply": "2021-08-03T17:01:23.610335Z"
        },
        "trusted": true,
        "id": "eBnkgMQ6gMAS"
      },
      "source": [
        "test.tail()"
      ],
      "execution_count": null,
      "outputs": []
    },
    {
      "cell_type": "code",
      "metadata": {
        "id": "p3ih2qNHgMAS"
      },
      "source": [
        ""
      ],
      "execution_count": null,
      "outputs": []
    },
    {
      "cell_type": "code",
      "metadata": {
        "id": "V0lHxtRAgMAS"
      },
      "source": [
        ""
      ],
      "execution_count": null,
      "outputs": []
    },
    {
      "cell_type": "code",
      "metadata": {
        "id": "L2wRLB0EgMAS"
      },
      "source": [
        ""
      ],
      "execution_count": null,
      "outputs": []
    },
    {
      "cell_type": "code",
      "metadata": {
        "id": "8FUDTe3WgMAS"
      },
      "source": [
        ""
      ],
      "execution_count": null,
      "outputs": []
    },
    {
      "cell_type": "code",
      "metadata": {
        "id": "8WN4CSeegMAS"
      },
      "source": [
        ""
      ],
      "execution_count": null,
      "outputs": []
    }
  ]
}