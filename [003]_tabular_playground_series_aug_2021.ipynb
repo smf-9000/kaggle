{
  "nbformat": 4,
  "nbformat_minor": 5,
  "metadata": {
    "kernelspec": {
      "display_name": "Python 3",
      "language": "python",
      "name": "python3"
    },
    "language_info": {
      "codemirror_mode": {
        "name": "ipython",
        "version": 3
      },
      "file_extension": ".py",
      "mimetype": "text/x-python",
      "name": "python",
      "nbconvert_exporter": "python",
      "pygments_lexer": "ipython3",
      "version": "3.7.10"
    },
    "papermill": {
      "default_parameters": {},
      "duration": 1921.382125,
      "end_time": "2021-08-04T09:19:24.500893",
      "environment_variables": {},
      "exception": null,
      "input_path": "__notebook__.ipynb",
      "output_path": "__notebook__.ipynb",
      "parameters": {},
      "start_time": "2021-08-04T08:47:23.118768",
      "version": "2.3.3"
    },
    "colab": {
      "name": "[003]-tabular-playground-series-aug-2021.ipynb",
      "provenance": [],
      "collapsed_sections": [],
      "include_colab_link": true
    }
  },
  "cells": [
    {
      "cell_type": "markdown",
      "metadata": {
        "id": "view-in-github",
        "colab_type": "text"
      },
      "source": [
        "<a href=\"https://colab.research.google.com/github/smf-9000/kaggle/blob/main/%5B003%5D_tabular_playground_series_aug_2021.ipynb\" target=\"_parent\"><img src=\"https://colab.research.google.com/assets/colab-badge.svg\" alt=\"Open In Colab\"/></a>"
      ]
    },
    {
      "cell_type": "code",
      "metadata": {
        "_cell_guid": "b1076dfc-b9ad-4769-8c92-a6c4dae69d19",
        "_uuid": "8f2839f25d086af736a60e9eeb907d3b93b6e0e5",
        "execution": {
          "iopub.execute_input": "2021-08-04T08:47:31.494885Z",
          "iopub.status.busy": "2021-08-04T08:47:31.492974Z",
          "iopub.status.idle": "2021-08-04T08:47:31.495868Z",
          "shell.execute_reply": "2021-08-04T08:47:31.496411Z",
          "shell.execute_reply.started": "2021-08-04T07:19:52.314484Z"
        },
        "papermill": {
          "duration": 0.052137,
          "end_time": "2021-08-04T08:47:31.496716",
          "exception": false,
          "start_time": "2021-08-04T08:47:31.444579",
          "status": "completed"
        },
        "tags": [],
        "id": "0f75f5e0"
      },
      "source": [
        "%config Completer.use_jedi = False"
      ],
      "id": "0f75f5e0",
      "execution_count": null,
      "outputs": []
    },
    {
      "cell_type": "code",
      "metadata": {
        "execution": {
          "iopub.execute_input": "2021-08-04T08:47:31.553303Z",
          "iopub.status.busy": "2021-08-04T08:47:31.552429Z",
          "iopub.status.idle": "2021-08-04T08:47:39.849220Z",
          "shell.execute_reply": "2021-08-04T08:47:39.849753Z",
          "shell.execute_reply.started": "2021-08-04T07:19:52.373860Z"
        },
        "papermill": {
          "duration": 8.328274,
          "end_time": "2021-08-04T08:47:39.849923",
          "exception": false,
          "start_time": "2021-08-04T08:47:31.521649",
          "status": "completed"
        },
        "tags": [],
        "id": "dfe86d40",
        "outputId": "0bdf93d6-c2ad-4180-c52c-09439d84ef5c"
      },
      "source": [
        "import numpy as np\n",
        "import pandas as pd\n",
        "import seaborn as sns\n",
        "import matplotlib.pyplot as plt\n",
        "from matplotlib.pyplot import imshow, imread\n",
        "import tensorflow as tf\n",
        "from tensorflow.keras import backend as K\n",
        "from sklearn.model_selection import train_test_split\n",
        "from sklearn.model_selection import GridSearchCV\n",
        "import lightgbm as lgb\n",
        "from statsmodels.nonparametric.smoothers_lowess import lowess\n",
        "import warnings\n",
        "\n",
        "import os\n",
        "for dirname, _, filenames in os.walk('/kaggle/input'):\n",
        "    for filename in filenames:\n",
        "        print(os.path.join(dirname, filename))"
      ],
      "id": "dfe86d40",
      "execution_count": null,
      "outputs": [
        {
          "output_type": "display_data",
          "data": {
            "text/html": [
              "<style type='text/css'>\n",
              ".datatable table.frame { margin-bottom: 0; }\n",
              ".datatable table.frame thead { border-bottom: none; }\n",
              ".datatable table.frame tr.coltypes td {  color: #FFFFFF;  line-height: 6px;  padding: 0 0.5em;}\n",
              ".datatable .bool    { background: #DDDD99; }\n",
              ".datatable .object  { background: #565656; }\n",
              ".datatable .int     { background: #5D9E5D; }\n",
              ".datatable .float   { background: #4040CC; }\n",
              ".datatable .str     { background: #CC4040; }\n",
              ".datatable .time    { background: #40CC40; }\n",
              ".datatable .row_index {  background: var(--jp-border-color3);  border-right: 1px solid var(--jp-border-color0);  color: var(--jp-ui-font-color3);  font-size: 9px;}\n",
              ".datatable .frame tbody td { text-align: left; }\n",
              ".datatable .frame tr.coltypes .row_index {  background: var(--jp-border-color0);}\n",
              ".datatable th:nth-child(2) { padding-left: 12px; }\n",
              ".datatable .hellipsis {  color: var(--jp-cell-editor-border-color);}\n",
              ".datatable .vellipsis {  background: var(--jp-layout-color0);  color: var(--jp-cell-editor-border-color);}\n",
              ".datatable .na {  color: var(--jp-cell-editor-border-color);  font-size: 80%;}\n",
              ".datatable .sp {  opacity: 0.25;}\n",
              ".datatable .footer { font-size: 9px; }\n",
              ".datatable .frame_dimensions {  background: var(--jp-border-color3);  border-top: 1px solid var(--jp-border-color0);  color: var(--jp-ui-font-color3);  display: inline-block;  opacity: 0.6;  padding: 1px 10px 1px 5px;}\n",
              "</style>\n"
            ],
            "text/plain": [
              "<IPython.core.display.HTML object>"
            ]
          },
          "metadata": {
            "tags": []
          }
        },
        {
          "output_type": "stream",
          "text": [
            "/kaggle/input/tabular-playground-series-aug-2021/sample_submission.csv\n",
            "/kaggle/input/tabular-playground-series-aug-2021/train.csv\n",
            "/kaggle/input/tabular-playground-series-aug-2021/test.csv\n"
          ],
          "name": "stdout"
        }
      ]
    },
    {
      "cell_type": "code",
      "metadata": {
        "execution": {
          "iopub.execute_input": "2021-08-04T08:47:39.903178Z",
          "iopub.status.busy": "2021-08-04T08:47:39.902203Z",
          "iopub.status.idle": "2021-08-04T08:47:50.973475Z",
          "shell.execute_reply": "2021-08-04T08:47:50.972772Z",
          "shell.execute_reply.started": "2021-08-04T07:19:52.396927Z"
        },
        "papermill": {
          "duration": 11.098639,
          "end_time": "2021-08-04T08:47:50.973621",
          "exception": false,
          "start_time": "2021-08-04T08:47:39.874982",
          "status": "completed"
        },
        "tags": [],
        "id": "9447ca24"
      },
      "source": [
        "submission_ex = pd.read_csv('/kaggle/input/tabular-playground-series-aug-2021/sample_submission.csv')\n",
        "train_df = pd.read_csv('/kaggle/input/tabular-playground-series-aug-2021/train.csv')\n",
        "test_df = pd.read_csv('/kaggle/input/tabular-playground-series-aug-2021/test.csv')"
      ],
      "id": "9447ca24",
      "execution_count": null,
      "outputs": []
    },
    {
      "cell_type": "code",
      "metadata": {
        "execution": {
          "iopub.execute_input": "2021-08-04T08:47:51.035047Z",
          "iopub.status.busy": "2021-08-04T08:47:51.034422Z",
          "iopub.status.idle": "2021-08-04T08:47:51.119794Z",
          "shell.execute_reply": "2021-08-04T08:47:51.119261Z",
          "shell.execute_reply.started": "2021-08-04T07:20:00.347349Z"
        },
        "papermill": {
          "duration": 0.121661,
          "end_time": "2021-08-04T08:47:51.119938",
          "exception": false,
          "start_time": "2021-08-04T08:47:50.998277",
          "status": "completed"
        },
        "tags": [],
        "id": "c52cc756"
      },
      "source": [
        "targets_df = train_df[['loss']].copy()\n",
        "train_df.drop(['loss', 'id'], axis=1, inplace=True) "
      ],
      "id": "c52cc756",
      "execution_count": null,
      "outputs": []
    },
    {
      "cell_type": "code",
      "metadata": {
        "execution": {
          "iopub.execute_input": "2021-08-04T08:47:51.176706Z",
          "iopub.status.busy": "2021-08-04T08:47:51.175996Z",
          "iopub.status.idle": "2021-08-04T08:47:51.197257Z",
          "shell.execute_reply": "2021-08-04T08:47:51.196581Z",
          "shell.execute_reply.started": "2021-08-04T07:20:00.438622Z"
        },
        "papermill": {
          "duration": 0.053155,
          "end_time": "2021-08-04T08:47:51.197400",
          "exception": false,
          "start_time": "2021-08-04T08:47:51.144245",
          "status": "completed"
        },
        "tags": [],
        "id": "67a6717e"
      },
      "source": [
        "for df in [train_df, test_df]:\n",
        "    df['f27_0'] = ((df['f27'].values <= 50000)).astype(int)\n",
        "    df['f27_1'] = ((df['f27'].values > 50000)).astype(int)\n",
        "    df['f86_0'] = ((df['f86'].values < 200)).astype(int)\n",
        "    c = (df['f86'] >= 200) & (df['f86'] < 450)\n",
        "    df['f86_1'] = np.where(c, 1, 0)\n",
        "    c = (df['f86'] >= 450) & (df['f86'] < 800)\n",
        "    df['f86_2'] = np.where(c, 1, 0)\n",
        "    df['f86_3'] = ((df['f86'].values >= 800)).astype(int)"
      ],
      "id": "67a6717e",
      "execution_count": null,
      "outputs": []
    },
    {
      "cell_type": "code",
      "metadata": {
        "execution": {
          "iopub.execute_input": "2021-08-04T08:47:51.250974Z",
          "iopub.status.busy": "2021-08-04T08:47:51.250192Z",
          "iopub.status.idle": "2021-08-04T08:47:51.252607Z",
          "shell.execute_reply": "2021-08-04T08:47:51.253051Z",
          "shell.execute_reply.started": "2021-08-04T07:20:00.469810Z"
        },
        "papermill": {
          "duration": 0.031174,
          "end_time": "2021-08-04T08:47:51.253236",
          "exception": false,
          "start_time": "2021-08-04T08:47:51.222062",
          "status": "completed"
        },
        "tags": [],
        "id": "9cbb6eec"
      },
      "source": [
        "# from sklearn import preprocessing\n",
        "# # scaler = preprocessing.MinMaxScaler()\n",
        "# # scaler = preprocessing.MaxAbsScaler()\n",
        "# scaler = preprocessing.StandardScaler()\n",
        "# for df in [train_df, test_df]:\n",
        "#     for c in df.columns:\n",
        "#         if c not in ['id']:\n",
        "#             df[[c]] = scaler.fit_transform(df[[c]])"
      ],
      "id": "9cbb6eec",
      "execution_count": null,
      "outputs": []
    },
    {
      "cell_type": "code",
      "metadata": {
        "execution": {
          "iopub.execute_input": "2021-08-04T08:47:51.306492Z",
          "iopub.status.busy": "2021-08-04T08:47:51.305770Z",
          "iopub.status.idle": "2021-08-04T08:47:51.308761Z",
          "shell.execute_reply": "2021-08-04T08:47:51.308271Z",
          "shell.execute_reply.started": "2021-08-04T07:20:00.475593Z"
        },
        "papermill": {
          "duration": 0.031392,
          "end_time": "2021-08-04T08:47:51.308899",
          "exception": false,
          "start_time": "2021-08-04T08:47:51.277507",
          "status": "completed"
        },
        "tags": [],
        "id": "4644ed3b"
      },
      "source": [
        "# for df in [train_df, test_df]:\n",
        "#     for c in df.columns:\n",
        "#         if c not in ['id']:\n",
        "#             a = df[c].values\n",
        "#             n = len(a)\n",
        "#             for i in range(len(a)):\n",
        "#                 if i == 0:\n",
        "#                     a[i] = (a[i] + a[i+1]) / 2\n",
        "#                 elif i == n-1:\n",
        "#                     a[i] = (a[i-1] + a[i]) / 2\n",
        "#                 else:\n",
        "#                     a[i] = (a[i-1] + a[i] + a[i+1]) / 3\n",
        "#             df[c+'_s'] = a"
      ],
      "id": "4644ed3b",
      "execution_count": null,
      "outputs": []
    },
    {
      "cell_type": "code",
      "metadata": {
        "execution": {
          "iopub.execute_input": "2021-08-04T08:47:51.361545Z",
          "iopub.status.busy": "2021-08-04T08:47:51.360908Z",
          "iopub.status.idle": "2021-08-04T08:47:51.365272Z",
          "shell.execute_reply": "2021-08-04T08:47:51.364781Z",
          "shell.execute_reply.started": "2021-08-04T07:20:00.488072Z"
        },
        "papermill": {
          "duration": 0.032105,
          "end_time": "2021-08-04T08:47:51.365409",
          "exception": false,
          "start_time": "2021-08-04T08:47:51.333304",
          "status": "completed"
        },
        "tags": [],
        "id": "3d5f78cc"
      },
      "source": [
        "# warnings.filterwarnings(\"ignore\")\n",
        "\n",
        "# # ################################################################\n",
        "# fig = plt.figure(figsize = (30,30))\n",
        "# ax = fig.gca()\n",
        "# hist = train_df.hist(bins=50, ax = ax)"
      ],
      "id": "3d5f78cc",
      "execution_count": null,
      "outputs": []
    },
    {
      "cell_type": "code",
      "metadata": {
        "execution": {
          "iopub.execute_input": "2021-08-04T08:47:51.419213Z",
          "iopub.status.busy": "2021-08-04T08:47:51.418254Z",
          "iopub.status.idle": "2021-08-04T08:47:51.420976Z",
          "shell.execute_reply": "2021-08-04T08:47:51.420511Z",
          "shell.execute_reply.started": "2021-08-04T07:20:00.503644Z"
        },
        "papermill": {
          "duration": 0.031191,
          "end_time": "2021-08-04T08:47:51.421107",
          "exception": false,
          "start_time": "2021-08-04T08:47:51.389916",
          "status": "completed"
        },
        "tags": [],
        "id": "80632e12"
      },
      "source": [
        "# for c in train_df.columns:\n",
        "#     if c != 'id':\n",
        "#         fig = plt.figure(figsize = (30, 3))\n",
        "#         g = train_df.iloc[:500,:][c].plot()\n",
        "#         g = targets_df.iloc[:500,:]['loss'].plot()\n",
        "#         g.legend([c])"
      ],
      "id": "80632e12",
      "execution_count": null,
      "outputs": []
    },
    {
      "cell_type": "code",
      "metadata": {
        "execution": {
          "iopub.execute_input": "2021-08-04T08:47:51.474354Z",
          "iopub.status.busy": "2021-08-04T08:47:51.473367Z",
          "iopub.status.idle": "2021-08-04T08:47:51.476208Z",
          "shell.execute_reply": "2021-08-04T08:47:51.475709Z",
          "shell.execute_reply.started": "2021-08-04T07:20:00.515218Z"
        },
        "papermill": {
          "duration": 0.030977,
          "end_time": "2021-08-04T08:47:51.476345",
          "exception": false,
          "start_time": "2021-08-04T08:47:51.445368",
          "status": "completed"
        },
        "tags": [],
        "id": "c0dec8eb"
      },
      "source": [
        "# train_df.iloc[0:10, 0:50].info()"
      ],
      "id": "c0dec8eb",
      "execution_count": null,
      "outputs": []
    },
    {
      "cell_type": "code",
      "metadata": {
        "execution": {
          "iopub.execute_input": "2021-08-04T08:47:51.529379Z",
          "iopub.status.busy": "2021-08-04T08:47:51.528439Z",
          "iopub.status.idle": "2021-08-04T08:47:51.531336Z",
          "shell.execute_reply": "2021-08-04T08:47:51.530807Z",
          "shell.execute_reply.started": "2021-08-04T07:20:00.526210Z"
        },
        "papermill": {
          "duration": 0.030889,
          "end_time": "2021-08-04T08:47:51.531469",
          "exception": false,
          "start_time": "2021-08-04T08:47:51.500580",
          "status": "completed"
        },
        "tags": [],
        "id": "cd964f18"
      },
      "source": [
        "# train_df.iloc[0:10, 27]"
      ],
      "id": "cd964f18",
      "execution_count": null,
      "outputs": []
    },
    {
      "cell_type": "code",
      "metadata": {
        "execution": {
          "iopub.execute_input": "2021-08-04T08:47:51.584275Z",
          "iopub.status.busy": "2021-08-04T08:47:51.583592Z",
          "iopub.status.idle": "2021-08-04T08:47:51.586438Z",
          "shell.execute_reply": "2021-08-04T08:47:51.586904Z",
          "shell.execute_reply.started": "2021-08-04T07:20:00.537688Z"
        },
        "papermill": {
          "duration": 0.031352,
          "end_time": "2021-08-04T08:47:51.587071",
          "exception": false,
          "start_time": "2021-08-04T08:47:51.555719",
          "status": "completed"
        },
        "tags": [],
        "id": "f8058d08"
      },
      "source": [
        "# warnings.filterwarnings(\"ignore\")\n",
        "\n",
        "# # ################################################################\n",
        "# fig = plt.figure(figsize = (30,10))\n",
        "# ax = fig.gca()\n",
        "# hist = targets_df[targets_df.columns.values].hist(bins=84, ax = ax)"
      ],
      "id": "f8058d08",
      "execution_count": null,
      "outputs": []
    },
    {
      "cell_type": "code",
      "metadata": {
        "execution": {
          "iopub.execute_input": "2021-08-04T08:47:51.644439Z",
          "iopub.status.busy": "2021-08-04T08:47:51.643700Z",
          "iopub.status.idle": "2021-08-04T08:47:51.646352Z",
          "shell.execute_reply": "2021-08-04T08:47:51.645697Z",
          "shell.execute_reply.started": "2021-08-04T07:20:00.548705Z"
        },
        "papermill": {
          "duration": 0.031206,
          "end_time": "2021-08-04T08:47:51.646496",
          "exception": false,
          "start_time": "2021-08-04T08:47:51.615290",
          "status": "completed"
        },
        "tags": [],
        "id": "c0b6a932"
      },
      "source": [
        "# warnings.filterwarnings(\"ignore\")\n",
        "\n",
        "# train_without_zero_loss_df = train_df[targets_df['loss'] != 0]\n",
        "\n",
        "# # ################################################################\n",
        "# fig, axes = plt.subplots(nrows = 10, ncols = 10, figsize=(30, 30))\n",
        "# i = 0\n",
        "# for c in train_df.columns[1:]:\n",
        "#     ax = axes[i // 10, i % 10]\n",
        "#     ax.set_title(c)\n",
        "#     train_df[c].hist(bins=50, ax = ax)\n",
        "#     train_without_zero_loss_df[c].hist(bins=50, ax = ax, alpha = 0.7)\n",
        "#     i += 1"
      ],
      "id": "c0b6a932",
      "execution_count": null,
      "outputs": []
    },
    {
      "cell_type": "markdown",
      "metadata": {
        "papermill": {
          "duration": 0.024159,
          "end_time": "2021-08-04T08:47:51.695053",
          "exception": false,
          "start_time": "2021-08-04T08:47:51.670894",
          "status": "completed"
        },
        "tags": [],
        "id": "1bb2c787"
      },
      "source": [
        "### feature correlation"
      ],
      "id": "1bb2c787"
    },
    {
      "cell_type": "code",
      "metadata": {
        "execution": {
          "iopub.execute_input": "2021-08-04T08:47:51.747085Z",
          "iopub.status.busy": "2021-08-04T08:47:51.746464Z",
          "iopub.status.idle": "2021-08-04T08:47:51.749609Z",
          "shell.execute_reply": "2021-08-04T08:47:51.750102Z",
          "shell.execute_reply.started": "2021-08-04T07:20:00.560227Z"
        },
        "papermill": {
          "duration": 0.030643,
          "end_time": "2021-08-04T08:47:51.750282",
          "exception": false,
          "start_time": "2021-08-04T08:47:51.719639",
          "status": "completed"
        },
        "tags": [],
        "id": "cd65b722"
      },
      "source": [
        "# qq_df = pd.concat([train_df, targets_df], axis=1, join='inner')\n",
        "\n",
        "# # ################################################################\n",
        "# corr = qq_df.corr()\n",
        "\n",
        "# mask = np.zeros_like(corr)\n",
        "# mask[np.triu_indices_from(mask)] = True\n",
        "\n",
        "# fig = plt.figure(figsize = (25,25))\n",
        "# sns.heatmap(corr, cmap=\"flare\", mask=mask)\n",
        "# plt.show()"
      ],
      "id": "cd65b722",
      "execution_count": null,
      "outputs": []
    },
    {
      "cell_type": "code",
      "metadata": {
        "papermill": {
          "duration": 0.024055,
          "end_time": "2021-08-04T08:47:51.798941",
          "exception": false,
          "start_time": "2021-08-04T08:47:51.774886",
          "status": "completed"
        },
        "tags": [],
        "id": "898def8a"
      },
      "source": [
        ""
      ],
      "id": "898def8a",
      "execution_count": null,
      "outputs": []
    },
    {
      "cell_type": "code",
      "metadata": {
        "execution": {
          "iopub.execute_input": "2021-08-04T08:47:51.851391Z",
          "iopub.status.busy": "2021-08-04T08:47:51.850784Z",
          "iopub.status.idle": "2021-08-04T08:47:51.877096Z",
          "shell.execute_reply": "2021-08-04T08:47:51.877662Z",
          "shell.execute_reply.started": "2021-08-04T07:20:00.571572Z"
        },
        "papermill": {
          "duration": 0.054318,
          "end_time": "2021-08-04T08:47:51.877846",
          "exception": false,
          "start_time": "2021-08-04T08:47:51.823528",
          "status": "completed"
        },
        "tags": [],
        "id": "1e55b475"
      },
      "source": [
        "from bayes_opt import BayesianOptimization\n",
        "from sklearn.metrics import mean_squared_error\n",
        "import warnings\n",
        "from sklearn.model_selection import KFold"
      ],
      "id": "1e55b475",
      "execution_count": null,
      "outputs": []
    },
    {
      "cell_type": "code",
      "metadata": {
        "execution": {
          "iopub.execute_input": "2021-08-04T08:47:51.930199Z",
          "iopub.status.busy": "2021-08-04T08:47:51.929485Z",
          "iopub.status.idle": "2021-08-04T08:47:51.944613Z",
          "shell.execute_reply": "2021-08-04T08:47:51.945075Z",
          "shell.execute_reply.started": "2021-08-04T07:50:16.553520Z"
        },
        "papermill": {
          "duration": 0.042786,
          "end_time": "2021-08-04T08:47:51.945272",
          "exception": false,
          "start_time": "2021-08-04T08:47:51.902486",
          "status": "completed"
        },
        "tags": [],
        "id": "134c9ce7"
      },
      "source": [
        "def bayesion_opt_lgbm(X, y, init_points = 3, n_iter = 7, random_state = 42, seed = 42, _folds = 5, bo_verbose = 1, shuffle = False):\n",
        "    dtrain = lgb.Dataset(data = X, label = y)\n",
        "    print('no_of_folds: ', _folds)\n",
        "    print('random_state: ', random_state)\n",
        "    folds = KFold(_folds, shuffle = shuffle)\n",
        "\n",
        "    def rmse_score(preds, dtrain):\n",
        "        labels = dtrain.get_label()\n",
        "        tmp = np.array(preds)\n",
        "        return 'rmse', -mean_squared_error(labels, preds, squared = False), True\n",
        "\n",
        "    def hyp_lgbm(learning_rate, \n",
        "                num_leaves, \n",
        "                max_depth, \n",
        "                n_estimators,\n",
        "                min_sum_hessian_in_leaf,\n",
        "                lambda_l1,\n",
        "                lambda_l2,\n",
        "                bagging_fraction,\n",
        "                bagging_freq):\n",
        "\n",
        "        params = {'application':'regression', 'metric':'rmse_score', 'force_col_wise':True, 'verbose': -1}\n",
        "        params['learning_rate'] = learning_rate\n",
        "        params['num_leaves'] = int(round(num_leaves))\n",
        "        params['max_depth'] = int(round(max_depth))\n",
        "        params['n_estimators'] = int(round(n_estimators))\n",
        "        params['min_sum_hessian_in_leaf'] = min_sum_hessian_in_leaf\n",
        "        params['lambda_l1'] = 10 ** lambda_l1\n",
        "        params['lambda_l2'] = 10 ** lambda_l2\n",
        "        params['bagging_fraction'] = bagging_fraction\n",
        "        params['bagging_freq'] = int(round(bagging_freq))\n",
        "        \n",
        "        cv_results = lgb.cv(\n",
        "            params, \n",
        "            dtrain, \n",
        "            folds=folds.split(X), \n",
        "#             nfold = _folds, \n",
        "            seed = random_state, \n",
        "            stratified = False, \n",
        "            verbose_eval = None, \n",
        "            feval = rmse_score)\n",
        "\n",
        "        return np.max(cv_results['rmse-mean'])\n",
        "    pds = {\n",
        "        'learning_rate': (0.001, 0.1),\n",
        "        'num_leaves': (2, 256),\n",
        "        'max_depth': (-1, 100),\n",
        "        'n_estimators': (100, 100),\n",
        "        'min_sum_hessian_in_leaf': (1e-8, 1000),\n",
        "        'lambda_l1': (-5, 1),\n",
        "        'lambda_l2': (-5, 1),\n",
        "        'bagging_fraction': (0.4, 1.0),\n",
        "        'bagging_freq': (1, 7),\n",
        "        }\n",
        "\n",
        "    optimizer = BayesianOptimization(hyp_lgbm, pds, random_state = random_state, verbose = bo_verbose)\n",
        "\n",
        "    # n_iter: How many steps of bayesian optimization you want to perform. The more steps the more likely to find a good maximum you are.\n",
        "    # init_points: How many steps of random exploration you want to perform. Random exploration can help by diversifying the exploration space.\n",
        "    optimizer.maximize(init_points = init_points, n_iter = n_iter)\n",
        "\n",
        "    return optimizer.max"
      ],
      "id": "134c9ce7",
      "execution_count": null,
      "outputs": []
    },
    {
      "cell_type": "code",
      "metadata": {
        "execution": {
          "iopub.execute_input": "2021-08-04T08:47:51.998470Z",
          "iopub.status.busy": "2021-08-04T08:47:51.997804Z",
          "iopub.status.idle": "2021-08-04T08:47:52.000945Z",
          "shell.execute_reply": "2021-08-04T08:47:52.001475Z",
          "shell.execute_reply.started": "2021-08-04T07:51:58.453798Z"
        },
        "papermill": {
          "duration": 0.031719,
          "end_time": "2021-08-04T08:47:52.001645",
          "exception": false,
          "start_time": "2021-08-04T08:47:51.969926",
          "status": "completed"
        },
        "tags": [],
        "id": "7c67a6e8"
      },
      "source": [
        "# warnings.filterwarnings(\"ignore\")\n",
        "\n",
        "# X, y = None, None\n",
        "\n",
        "# lgbm = lgb.LGBMRegressor()\n",
        "# _target = 'loss'\n",
        "# X = np.array(train_df, dtype='float32')[:250000]\n",
        "# y = np.squeeze(np.array(targets_df[[_target]].values, dtype='float32'))[:250000]\n",
        "# print('X_shape: ', X.shape)\n",
        "\n",
        "# data = bayesion_opt_lgbm(X, y, init_points = 10, n_iter = 20, _folds = 5, bo_verbose = 2, random_state = None, shuffle = True)  #init_points=random, n_iter=bayesian\n",
        "# for k, v in data['params'].items():\n",
        "#     if k in ['bagging_freq', 'max_depth', 'n_estimators', 'num_leaves']:\n",
        "#         data['params'][k] = int(round(v))\n",
        "#     elif k in ['lambda_l1', 'lambda_l2']:\n",
        "#         data['params'][k] = 10 ** v\n",
        "# print('params_' + str(_target) + ' =', data['params'])"
      ],
      "id": "7c67a6e8",
      "execution_count": null,
      "outputs": []
    },
    {
      "cell_type": "code",
      "metadata": {
        "papermill": {
          "duration": 0.024003,
          "end_time": "2021-08-04T08:47:52.050001",
          "exception": false,
          "start_time": "2021-08-04T08:47:52.025998",
          "status": "completed"
        },
        "tags": [],
        "id": "31d8f851"
      },
      "source": [
        ""
      ],
      "id": "31d8f851",
      "execution_count": null,
      "outputs": []
    },
    {
      "cell_type": "code",
      "metadata": {
        "execution": {
          "iopub.execute_input": "2021-08-04T08:47:52.101947Z",
          "iopub.status.busy": "2021-08-04T08:47:52.101317Z",
          "iopub.status.idle": "2021-08-04T08:47:52.107716Z",
          "shell.execute_reply": "2021-08-04T08:47:52.107180Z"
        },
        "papermill": {
          "duration": 0.033426,
          "end_time": "2021-08-04T08:47:52.107849",
          "exception": false,
          "start_time": "2021-08-04T08:47:52.074423",
          "status": "completed"
        },
        "tags": [],
        "id": "911e412f"
      },
      "source": [
        "params_loss = {'bagging_fraction': 0.8962250586874196, 'bagging_freq': 1, 'lambda_l1': 0.01895614209401383, 'lambda_l2': 0.001397920954070796, 'learning_rate': 0.05906516799338329, 'max_depth': 46, 'min_sum_hessian_in_leaf': 376.9636549547788, 'n_estimators': 100, 'num_leaves': 184}\n",
        "\n",
        "params_loss['n_estimators'] = 10000\n",
        "params_loss['learning_rate'] = 0.001\n",
        "\n",
        "params_loss['n_estimators'] = 15000\n",
        "lgbm_reg = lgb.LGBMRegressor(**params_loss, \n",
        "                       objective='rmse',\n",
        "                       metric='rmse',\n",
        "                       n_jobs=-1)"
      ],
      "id": "911e412f",
      "execution_count": null,
      "outputs": []
    },
    {
      "cell_type": "code",
      "metadata": {
        "execution": {
          "iopub.execute_input": "2021-08-04T08:47:52.162881Z",
          "iopub.status.busy": "2021-08-04T08:47:52.161921Z",
          "iopub.status.idle": "2021-08-04T08:47:52.164439Z",
          "shell.execute_reply": "2021-08-04T08:47:52.164887Z"
        },
        "papermill": {
          "duration": 0.031732,
          "end_time": "2021-08-04T08:47:52.165055",
          "exception": false,
          "start_time": "2021-08-04T08:47:52.133323",
          "status": "completed"
        },
        "tags": [],
        "id": "e0d8626d"
      },
      "source": [
        "submit = True"
      ],
      "id": "e0d8626d",
      "execution_count": null,
      "outputs": []
    },
    {
      "cell_type": "code",
      "metadata": {
        "execution": {
          "iopub.execute_input": "2021-08-04T08:47:52.225829Z",
          "iopub.status.busy": "2021-08-04T08:47:52.223251Z",
          "iopub.status.idle": "2021-08-04T09:19:21.901652Z",
          "shell.execute_reply": "2021-08-04T09:19:21.902234Z"
        },
        "papermill": {
          "duration": 1889.712485,
          "end_time": "2021-08-04T09:19:21.902434",
          "exception": false,
          "start_time": "2021-08-04T08:47:52.189949",
          "status": "completed"
        },
        "tags": [],
        "id": "9485fe71",
        "outputId": "0bcde51c-43f3-44e8-e35e-a5b5adf6a626"
      },
      "source": [
        "submission = test_df[['id']].copy()\n",
        "\n",
        "_target = 'loss'\n",
        "X = np.array(train_df, dtype='float32')\n",
        "y = np.squeeze(np.array(targets_df[[_target]].values, dtype='float32'))\n",
        "X_test = np.array(test_df.iloc[:,1:].values, dtype='float32')\n",
        "\n",
        "if not submit:\n",
        "    split_train = 150000\n",
        "    X, X_val = X[:split_train], X[split_train:]\n",
        "    y, y_val = y[:split_train], y[split_train:]\n",
        "    \n",
        "    lgbm_reg.fit(\n",
        "        X, \n",
        "        y,\n",
        "        eval_set=[(X_val, y_val)],\n",
        "        verbose=100,\n",
        "        early_stopping_rounds=100)\n",
        "    p1 = lgbm_reg.predict(X_val)\n",
        "\n",
        "    print('target: ', _target)\n",
        "    print('=================================')\n",
        "    print('rmse: ', mean_squared_error(y_val, p1, squared = False))\n",
        "else:\n",
        "    print('submit: ', _target)\n",
        "\n",
        "    lgbm_reg.fit(X, y)\n",
        "    p1 = lgbm_reg.predict(X_test)\n",
        "\n",
        "    submission[_target] = p1"
      ],
      "id": "9485fe71",
      "execution_count": null,
      "outputs": [
        {
          "output_type": "stream",
          "text": [
            "submit:  loss\n",
            "[LightGBM] [Warning] lambda_l1 is set=0.01895614209401383, reg_alpha=0.0 will be ignored. Current value: lambda_l1=0.01895614209401383\n",
            "[LightGBM] [Warning] bagging_freq is set=1, subsample_freq=0 will be ignored. Current value: bagging_freq=1\n",
            "[LightGBM] [Warning] min_sum_hessian_in_leaf is set=376.9636549547788, min_child_weight=0.001 will be ignored. Current value: min_sum_hessian_in_leaf=376.9636549547788\n",
            "[LightGBM] [Warning] lambda_l2 is set=0.001397920954070796, reg_lambda=0.0 will be ignored. Current value: lambda_l2=0.001397920954070796\n",
            "[LightGBM] [Warning] bagging_fraction is set=0.8962250586874196, subsample=1.0 will be ignored. Current value: bagging_fraction=0.8962250586874196\n"
          ],
          "name": "stdout"
        }
      ]
    },
    {
      "cell_type": "code",
      "metadata": {
        "execution": {
          "iopub.execute_input": "2021-08-04T09:19:21.961518Z",
          "iopub.status.busy": "2021-08-04T09:19:21.960526Z",
          "iopub.status.idle": "2021-08-04T09:19:22.511991Z",
          "shell.execute_reply": "2021-08-04T09:19:22.511468Z",
          "shell.execute_reply.started": "2021-08-03T17:01:23.189918Z"
        },
        "papermill": {
          "duration": 0.581114,
          "end_time": "2021-08-04T09:19:22.512160",
          "exception": false,
          "start_time": "2021-08-04T09:19:21.931046",
          "status": "completed"
        },
        "tags": [],
        "id": "5fe3e9a9"
      },
      "source": [
        "submission.to_csv('submission.csv', index=False)"
      ],
      "id": "5fe3e9a9",
      "execution_count": null,
      "outputs": []
    },
    {
      "cell_type": "code",
      "metadata": {
        "execution": {
          "iopub.execute_input": "2021-08-04T09:19:22.568272Z",
          "iopub.status.busy": "2021-08-04T09:19:22.567318Z",
          "iopub.status.idle": "2021-08-04T09:19:22.630685Z",
          "shell.execute_reply": "2021-08-04T09:19:22.630091Z",
          "shell.execute_reply.started": "2021-08-03T17:01:23.54326Z"
        },
        "papermill": {
          "duration": 0.093342,
          "end_time": "2021-08-04T09:19:22.630824",
          "exception": false,
          "start_time": "2021-08-04T09:19:22.537482",
          "status": "completed"
        },
        "tags": [],
        "id": "ec812801"
      },
      "source": [
        "test = pd.read_csv('submission.csv')\n",
        "test.head()"
      ],
      "id": "ec812801",
      "execution_count": 1,
      "outputs": []
    },
    {
      "cell_type": "code",
      "metadata": {
        "execution": {
          "iopub.execute_input": "2021-08-04T09:19:22.691434Z",
          "iopub.status.busy": "2021-08-04T09:19:22.690591Z",
          "iopub.status.idle": "2021-08-04T09:19:22.694829Z",
          "shell.execute_reply": "2021-08-04T09:19:22.694322Z",
          "shell.execute_reply.started": "2021-08-03T17:01:23.602416Z"
        },
        "papermill": {
          "duration": 0.038451,
          "end_time": "2021-08-04T09:19:22.694965",
          "exception": false,
          "start_time": "2021-08-04T09:19:22.656514",
          "status": "completed"
        },
        "tags": [],
        "id": "5bdba735"
      },
      "source": [
        "test.tail()"
      ],
      "id": "5bdba735",
      "execution_count": 2,
      "outputs": []
    },
    {
      "cell_type": "code",
      "metadata": {
        "papermill": {
          "duration": 0.025549,
          "end_time": "2021-08-04T09:19:22.746433",
          "exception": false,
          "start_time": "2021-08-04T09:19:22.720884",
          "status": "completed"
        },
        "tags": [],
        "id": "3713a61b"
      },
      "source": [
        ""
      ],
      "id": "3713a61b",
      "execution_count": null,
      "outputs": []
    },
    {
      "cell_type": "code",
      "metadata": {
        "papermill": {
          "duration": 0.025503,
          "end_time": "2021-08-04T09:19:22.797791",
          "exception": false,
          "start_time": "2021-08-04T09:19:22.772288",
          "status": "completed"
        },
        "tags": [],
        "id": "cc8d16ce"
      },
      "source": [
        ""
      ],
      "id": "cc8d16ce",
      "execution_count": null,
      "outputs": []
    },
    {
      "cell_type": "code",
      "metadata": {
        "papermill": {
          "duration": 0.025641,
          "end_time": "2021-08-04T09:19:22.849438",
          "exception": false,
          "start_time": "2021-08-04T09:19:22.823797",
          "status": "completed"
        },
        "tags": [],
        "id": "6fd8dcb9"
      },
      "source": [
        ""
      ],
      "id": "6fd8dcb9",
      "execution_count": null,
      "outputs": []
    },
    {
      "cell_type": "code",
      "metadata": {
        "papermill": {
          "duration": 0.025546,
          "end_time": "2021-08-04T09:19:22.901404",
          "exception": false,
          "start_time": "2021-08-04T09:19:22.875858",
          "status": "completed"
        },
        "tags": [],
        "id": "52266b1d"
      },
      "source": [
        ""
      ],
      "id": "52266b1d",
      "execution_count": null,
      "outputs": []
    },
    {
      "cell_type": "code",
      "metadata": {
        "papermill": {
          "duration": 0.025536,
          "end_time": "2021-08-04T09:19:22.953119",
          "exception": false,
          "start_time": "2021-08-04T09:19:22.927583",
          "status": "completed"
        },
        "tags": [],
        "id": "cb462b9f"
      },
      "source": [
        ""
      ],
      "id": "cb462b9f",
      "execution_count": null,
      "outputs": []
    }
  ]
}