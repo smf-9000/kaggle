{
  "nbformat": 4,
  "nbformat_minor": 5,
  "metadata": {
    "kernelspec": {
      "display_name": "Python 3",
      "language": "python",
      "name": "python3"
    },
    "language_info": {
      "codemirror_mode": {
        "name": "ipython",
        "version": 3
      },
      "file_extension": ".py",
      "mimetype": "text/x-python",
      "name": "python",
      "nbconvert_exporter": "python",
      "pygments_lexer": "ipython3",
      "version": "3.7.10"
    },
    "papermill": {
      "default_parameters": {},
      "duration": 125.903129,
      "end_time": "2021-07-27T19:22:23.848892",
      "environment_variables": {},
      "exception": null,
      "input_path": "__notebook__.ipynb",
      "output_path": "__notebook__.ipynb",
      "parameters": {},
      "start_time": "2021-07-27T19:20:17.945763",
      "version": "2.3.3"
    },
    "colab": {
      "name": "[002]-tabular-playground-series-jul-2021-v3.ipynb",
      "provenance": [],
      "include_colab_link": true
    }
  },
  "cells": [
    {
      "cell_type": "markdown",
      "metadata": {
        "id": "view-in-github",
        "colab_type": "text"
      },
      "source": [
        "<a href=\"https://colab.research.google.com/github/smf-9000/kaggle/blob/main/%5B002%5D_tabular_playground_series_jul_2021_v3.ipynb\" target=\"_parent\"><img src=\"https://colab.research.google.com/assets/colab-badge.svg\" alt=\"Open In Colab\"/></a>"
      ]
    },
    {
      "cell_type": "code",
      "metadata": {
        "execution": {
          "iopub.execute_input": "2021-07-27T19:20:26.447937Z",
          "iopub.status.busy": "2021-07-27T19:20:26.447303Z",
          "iopub.status.idle": "2021-07-27T19:20:26.450359Z",
          "shell.execute_reply": "2021-07-27T19:20:26.449716Z",
          "shell.execute_reply.started": "2021-07-27T19:17:25.733445Z"
        },
        "papermill": {
          "duration": 0.05337,
          "end_time": "2021-07-27T19:20:26.450520",
          "exception": false,
          "start_time": "2021-07-27T19:20:26.397150",
          "status": "completed"
        },
        "tags": [],
        "id": "300c9105"
      },
      "source": [
        "%config Completer.use_jedi = False"
      ],
      "id": "300c9105",
      "execution_count": null,
      "outputs": []
    },
    {
      "cell_type": "code",
      "metadata": {
        "_cell_guid": "b1076dfc-b9ad-4769-8c92-a6c4dae69d19",
        "_uuid": "8f2839f25d086af736a60e9eeb907d3b93b6e0e5",
        "execution": {
          "iopub.execute_input": "2021-07-27T19:20:26.513076Z",
          "iopub.status.busy": "2021-07-27T19:20:26.512433Z",
          "iopub.status.idle": "2021-07-27T19:20:34.916918Z",
          "shell.execute_reply": "2021-07-27T19:20:34.916219Z",
          "shell.execute_reply.started": "2021-07-27T19:17:25.851318Z"
        },
        "papermill": {
          "duration": 8.437306,
          "end_time": "2021-07-27T19:20:34.917064",
          "exception": false,
          "start_time": "2021-07-27T19:20:26.479758",
          "status": "completed"
        },
        "tags": [],
        "id": "6b077c6e",
        "outputId": "1a2eae69-b2f7-4ab7-dd8e-e8cdad89b519"
      },
      "source": [
        "import numpy as np\n",
        "import pandas as pd\n",
        "import seaborn as sns\n",
        "import matplotlib.pyplot as plt\n",
        "from matplotlib.pyplot import imshow, imread\n",
        "import tensorflow as tf\n",
        "from tensorflow.keras import backend as K\n",
        "from sklearn.model_selection import train_test_split\n",
        "from sklearn.model_selection import GridSearchCV\n",
        "from lightgbm import LGBMRegressor\n",
        "from xgboost import XGBRegressor\n",
        "from statsmodels.nonparametric.smoothers_lowess import lowess\n",
        "\n",
        "\n",
        "import os\n",
        "for dirname, _, filenames in os.walk('/kaggle/input'):\n",
        "    for filename in filenames:\n",
        "        print(os.path.join(dirname, filename))"
      ],
      "id": "6b077c6e",
      "execution_count": null,
      "outputs": [
        {
          "output_type": "display_data",
          "data": {
            "text/html": [
              "<style type='text/css'>\n",
              ".datatable table.frame { margin-bottom: 0; }\n",
              ".datatable table.frame thead { border-bottom: none; }\n",
              ".datatable table.frame tr.coltypes td {  color: #FFFFFF;  line-height: 6px;  padding: 0 0.5em;}\n",
              ".datatable .bool    { background: #DDDD99; }\n",
              ".datatable .object  { background: #565656; }\n",
              ".datatable .int     { background: #5D9E5D; }\n",
              ".datatable .float   { background: #4040CC; }\n",
              ".datatable .str     { background: #CC4040; }\n",
              ".datatable .time    { background: #40CC40; }\n",
              ".datatable .row_index {  background: var(--jp-border-color3);  border-right: 1px solid var(--jp-border-color0);  color: var(--jp-ui-font-color3);  font-size: 9px;}\n",
              ".datatable .frame tbody td { text-align: left; }\n",
              ".datatable .frame tr.coltypes .row_index {  background: var(--jp-border-color0);}\n",
              ".datatable th:nth-child(2) { padding-left: 12px; }\n",
              ".datatable .hellipsis {  color: var(--jp-cell-editor-border-color);}\n",
              ".datatable .vellipsis {  background: var(--jp-layout-color0);  color: var(--jp-cell-editor-border-color);}\n",
              ".datatable .na {  color: var(--jp-cell-editor-border-color);  font-size: 80%;}\n",
              ".datatable .sp {  opacity: 0.25;}\n",
              ".datatable .footer { font-size: 9px; }\n",
              ".datatable .frame_dimensions {  background: var(--jp-border-color3);  border-top: 1px solid var(--jp-border-color0);  color: var(--jp-ui-font-color3);  display: inline-block;  opacity: 0.6;  padding: 1px 10px 1px 5px;}\n",
              "</style>\n"
            ],
            "text/plain": [
              "<IPython.core.display.HTML object>"
            ]
          },
          "metadata": {
            "tags": []
          }
        },
        {
          "output_type": "stream",
          "text": [
            "/kaggle/input/tabular-playground-series-jul-2021/sample_submission.csv\n",
            "/kaggle/input/tabular-playground-series-jul-2021/train.csv\n",
            "/kaggle/input/tabular-playground-series-jul-2021/test.csv\n"
          ],
          "name": "stdout"
        }
      ]
    },
    {
      "cell_type": "code",
      "metadata": {
        "execution": {
          "iopub.execute_input": "2021-07-27T19:20:34.981101Z",
          "iopub.status.busy": "2021-07-27T19:20:34.980410Z",
          "iopub.status.idle": "2021-07-27T19:20:35.055621Z",
          "shell.execute_reply": "2021-07-27T19:20:35.056395Z",
          "shell.execute_reply.started": "2021-07-27T19:17:25.879041Z"
        },
        "papermill": {
          "duration": 0.110978,
          "end_time": "2021-07-27T19:20:35.056591",
          "exception": false,
          "start_time": "2021-07-27T19:20:34.945613",
          "status": "completed"
        },
        "tags": [],
        "id": "46e7c02f"
      },
      "source": [
        "submission_ex = pd.read_csv('/kaggle/input/tabular-playground-series-jul-2021/sample_submission.csv')\n",
        "train_df = pd.read_csv('/kaggle/input/tabular-playground-series-jul-2021/train.csv')\n",
        "test_df = pd.read_csv('/kaggle/input/tabular-playground-series-jul-2021/test.csv')\n",
        "\n",
        "targets_df = train_df[[\"target_carbon_monoxide\",\"target_benzene\",\"target_nitrogen_oxides\"]].copy()\n",
        "train_df.drop([\"target_carbon_monoxide\",\"target_benzene\",\"target_nitrogen_oxides\"], axis=1, inplace=True)  "
      ],
      "id": "46e7c02f",
      "execution_count": null,
      "outputs": []
    },
    {
      "cell_type": "code",
      "metadata": {
        "execution": {
          "iopub.execute_input": "2021-07-27T19:20:35.118407Z",
          "iopub.status.busy": "2021-07-27T19:20:35.117377Z",
          "iopub.status.idle": "2021-07-27T19:20:35.119743Z",
          "shell.execute_reply": "2021-07-27T19:20:35.120307Z",
          "shell.execute_reply.started": "2021-07-27T19:17:25.949163Z"
        },
        "papermill": {
          "duration": 0.03597,
          "end_time": "2021-07-27T19:20:35.120485",
          "exception": false,
          "start_time": "2021-07-27T19:20:35.084515",
          "status": "completed"
        },
        "tags": [],
        "id": "cbf0014c"
      },
      "source": [
        "def root_mean_squared_log_error(y_true, y_pred):\n",
        "    msle = tf.keras.losses.MeanSquaredLogarithmicError()\n",
        "    return K.sqrt(msle(y_true, y_pred)) "
      ],
      "id": "cbf0014c",
      "execution_count": null,
      "outputs": []
    },
    {
      "cell_type": "code",
      "metadata": {
        "_kg_hide-input": true,
        "execution": {
          "iopub.execute_input": "2021-07-27T19:20:35.179318Z",
          "iopub.status.busy": "2021-07-27T19:20:35.178344Z",
          "iopub.status.idle": "2021-07-27T19:20:35.214984Z",
          "shell.execute_reply": "2021-07-27T19:20:35.214111Z",
          "shell.execute_reply.started": "2021-07-27T19:17:26.024327Z"
        },
        "papermill": {
          "duration": 0.067114,
          "end_time": "2021-07-27T19:20:35.215147",
          "exception": false,
          "start_time": "2021-07-27T19:20:35.148033",
          "status": "completed"
        },
        "tags": [],
        "id": "9a94cbd8",
        "outputId": "54804fc2-f04e-4e7e-9e90-78b503a2a250"
      },
      "source": [
        "train_df"
      ],
      "id": "9a94cbd8",
      "execution_count": null,
      "outputs": [
        {
          "output_type": "execute_result",
          "data": {
            "text/html": [
              "<div>\n",
              "<style scoped>\n",
              "    .dataframe tbody tr th:only-of-type {\n",
              "        vertical-align: middle;\n",
              "    }\n",
              "\n",
              "    .dataframe tbody tr th {\n",
              "        vertical-align: top;\n",
              "    }\n",
              "\n",
              "    .dataframe thead th {\n",
              "        text-align: right;\n",
              "    }\n",
              "</style>\n",
              "<table border=\"1\" class=\"dataframe\">\n",
              "  <thead>\n",
              "    <tr style=\"text-align: right;\">\n",
              "      <th></th>\n",
              "      <th>date_time</th>\n",
              "      <th>deg_C</th>\n",
              "      <th>relative_humidity</th>\n",
              "      <th>absolute_humidity</th>\n",
              "      <th>sensor_1</th>\n",
              "      <th>sensor_2</th>\n",
              "      <th>sensor_3</th>\n",
              "      <th>sensor_4</th>\n",
              "      <th>sensor_5</th>\n",
              "    </tr>\n",
              "  </thead>\n",
              "  <tbody>\n",
              "    <tr>\n",
              "      <th>0</th>\n",
              "      <td>2010-03-10 18:00:00</td>\n",
              "      <td>13.1</td>\n",
              "      <td>46.0</td>\n",
              "      <td>0.7578</td>\n",
              "      <td>1387.2</td>\n",
              "      <td>1087.8</td>\n",
              "      <td>1056.0</td>\n",
              "      <td>1742.8</td>\n",
              "      <td>1293.4</td>\n",
              "    </tr>\n",
              "    <tr>\n",
              "      <th>1</th>\n",
              "      <td>2010-03-10 19:00:00</td>\n",
              "      <td>13.2</td>\n",
              "      <td>45.3</td>\n",
              "      <td>0.7255</td>\n",
              "      <td>1279.1</td>\n",
              "      <td>888.2</td>\n",
              "      <td>1197.5</td>\n",
              "      <td>1449.9</td>\n",
              "      <td>1010.9</td>\n",
              "    </tr>\n",
              "    <tr>\n",
              "      <th>2</th>\n",
              "      <td>2010-03-10 20:00:00</td>\n",
              "      <td>12.6</td>\n",
              "      <td>56.2</td>\n",
              "      <td>0.7502</td>\n",
              "      <td>1331.9</td>\n",
              "      <td>929.6</td>\n",
              "      <td>1060.2</td>\n",
              "      <td>1586.1</td>\n",
              "      <td>1117.0</td>\n",
              "    </tr>\n",
              "    <tr>\n",
              "      <th>3</th>\n",
              "      <td>2010-03-10 21:00:00</td>\n",
              "      <td>11.0</td>\n",
              "      <td>62.4</td>\n",
              "      <td>0.7867</td>\n",
              "      <td>1321.0</td>\n",
              "      <td>929.0</td>\n",
              "      <td>1102.9</td>\n",
              "      <td>1536.5</td>\n",
              "      <td>1263.2</td>\n",
              "    </tr>\n",
              "    <tr>\n",
              "      <th>4</th>\n",
              "      <td>2010-03-10 22:00:00</td>\n",
              "      <td>11.9</td>\n",
              "      <td>59.0</td>\n",
              "      <td>0.7888</td>\n",
              "      <td>1272.0</td>\n",
              "      <td>852.7</td>\n",
              "      <td>1180.9</td>\n",
              "      <td>1415.5</td>\n",
              "      <td>1132.2</td>\n",
              "    </tr>\n",
              "    <tr>\n",
              "      <th>...</th>\n",
              "      <td>...</td>\n",
              "      <td>...</td>\n",
              "      <td>...</td>\n",
              "      <td>...</td>\n",
              "      <td>...</td>\n",
              "      <td>...</td>\n",
              "      <td>...</td>\n",
              "      <td>...</td>\n",
              "      <td>...</td>\n",
              "    </tr>\n",
              "    <tr>\n",
              "      <th>7106</th>\n",
              "      <td>2010-12-31 20:00:00</td>\n",
              "      <td>9.2</td>\n",
              "      <td>32.0</td>\n",
              "      <td>0.3871</td>\n",
              "      <td>1000.5</td>\n",
              "      <td>811.2</td>\n",
              "      <td>873.0</td>\n",
              "      <td>909.0</td>\n",
              "      <td>910.5</td>\n",
              "    </tr>\n",
              "    <tr>\n",
              "      <th>7107</th>\n",
              "      <td>2010-12-31 21:00:00</td>\n",
              "      <td>9.1</td>\n",
              "      <td>33.2</td>\n",
              "      <td>0.3766</td>\n",
              "      <td>1022.7</td>\n",
              "      <td>790.0</td>\n",
              "      <td>951.6</td>\n",
              "      <td>912.9</td>\n",
              "      <td>903.4</td>\n",
              "    </tr>\n",
              "    <tr>\n",
              "      <th>7108</th>\n",
              "      <td>2010-12-31 22:00:00</td>\n",
              "      <td>9.6</td>\n",
              "      <td>34.6</td>\n",
              "      <td>0.4310</td>\n",
              "      <td>1044.4</td>\n",
              "      <td>767.3</td>\n",
              "      <td>861.9</td>\n",
              "      <td>889.2</td>\n",
              "      <td>1159.1</td>\n",
              "    </tr>\n",
              "    <tr>\n",
              "      <th>7109</th>\n",
              "      <td>2010-12-31 23:00:00</td>\n",
              "      <td>8.0</td>\n",
              "      <td>40.7</td>\n",
              "      <td>0.4085</td>\n",
              "      <td>952.8</td>\n",
              "      <td>691.9</td>\n",
              "      <td>908.5</td>\n",
              "      <td>917.0</td>\n",
              "      <td>1206.3</td>\n",
              "    </tr>\n",
              "    <tr>\n",
              "      <th>7110</th>\n",
              "      <td>2011-01-01 00:00:00</td>\n",
              "      <td>8.0</td>\n",
              "      <td>41.3</td>\n",
              "      <td>0.4375</td>\n",
              "      <td>1108.8</td>\n",
              "      <td>745.7</td>\n",
              "      <td>797.1</td>\n",
              "      <td>880.0</td>\n",
              "      <td>1273.1</td>\n",
              "    </tr>\n",
              "  </tbody>\n",
              "</table>\n",
              "<p>7111 rows × 9 columns</p>\n",
              "</div>"
            ],
            "text/plain": [
              "                date_time  deg_C  relative_humidity  absolute_humidity  \\\n",
              "0     2010-03-10 18:00:00   13.1               46.0             0.7578   \n",
              "1     2010-03-10 19:00:00   13.2               45.3             0.7255   \n",
              "2     2010-03-10 20:00:00   12.6               56.2             0.7502   \n",
              "3     2010-03-10 21:00:00   11.0               62.4             0.7867   \n",
              "4     2010-03-10 22:00:00   11.9               59.0             0.7888   \n",
              "...                   ...    ...                ...                ...   \n",
              "7106  2010-12-31 20:00:00    9.2               32.0             0.3871   \n",
              "7107  2010-12-31 21:00:00    9.1               33.2             0.3766   \n",
              "7108  2010-12-31 22:00:00    9.6               34.6             0.4310   \n",
              "7109  2010-12-31 23:00:00    8.0               40.7             0.4085   \n",
              "7110  2011-01-01 00:00:00    8.0               41.3             0.4375   \n",
              "\n",
              "      sensor_1  sensor_2  sensor_3  sensor_4  sensor_5  \n",
              "0       1387.2    1087.8    1056.0    1742.8    1293.4  \n",
              "1       1279.1     888.2    1197.5    1449.9    1010.9  \n",
              "2       1331.9     929.6    1060.2    1586.1    1117.0  \n",
              "3       1321.0     929.0    1102.9    1536.5    1263.2  \n",
              "4       1272.0     852.7    1180.9    1415.5    1132.2  \n",
              "...        ...       ...       ...       ...       ...  \n",
              "7106    1000.5     811.2     873.0     909.0     910.5  \n",
              "7107    1022.7     790.0     951.6     912.9     903.4  \n",
              "7108    1044.4     767.3     861.9     889.2    1159.1  \n",
              "7109     952.8     691.9     908.5     917.0    1206.3  \n",
              "7110    1108.8     745.7     797.1     880.0    1273.1  \n",
              "\n",
              "[7111 rows x 9 columns]"
            ]
          },
          "metadata": {
            "tags": []
          },
          "execution_count": 5
        }
      ]
    },
    {
      "cell_type": "code",
      "metadata": {
        "_kg_hide-input": true,
        "execution": {
          "iopub.execute_input": "2021-07-27T19:20:35.283858Z",
          "iopub.status.busy": "2021-07-27T19:20:35.282906Z",
          "iopub.status.idle": "2021-07-27T19:20:35.310397Z",
          "shell.execute_reply": "2021-07-27T19:20:35.309686Z",
          "shell.execute_reply.started": "2021-07-27T19:17:26.058724Z"
        },
        "papermill": {
          "duration": 0.059682,
          "end_time": "2021-07-27T19:20:35.310544",
          "exception": false,
          "start_time": "2021-07-27T19:20:35.250862",
          "status": "completed"
        },
        "tags": [],
        "id": "cf2a47fe",
        "outputId": "61aaa395-f442-43e2-b79a-700767d6ecf6"
      },
      "source": [
        "test_df"
      ],
      "id": "cf2a47fe",
      "execution_count": null,
      "outputs": [
        {
          "output_type": "execute_result",
          "data": {
            "text/html": [
              "<div>\n",
              "<style scoped>\n",
              "    .dataframe tbody tr th:only-of-type {\n",
              "        vertical-align: middle;\n",
              "    }\n",
              "\n",
              "    .dataframe tbody tr th {\n",
              "        vertical-align: top;\n",
              "    }\n",
              "\n",
              "    .dataframe thead th {\n",
              "        text-align: right;\n",
              "    }\n",
              "</style>\n",
              "<table border=\"1\" class=\"dataframe\">\n",
              "  <thead>\n",
              "    <tr style=\"text-align: right;\">\n",
              "      <th></th>\n",
              "      <th>date_time</th>\n",
              "      <th>deg_C</th>\n",
              "      <th>relative_humidity</th>\n",
              "      <th>absolute_humidity</th>\n",
              "      <th>sensor_1</th>\n",
              "      <th>sensor_2</th>\n",
              "      <th>sensor_3</th>\n",
              "      <th>sensor_4</th>\n",
              "      <th>sensor_5</th>\n",
              "    </tr>\n",
              "  </thead>\n",
              "  <tbody>\n",
              "    <tr>\n",
              "      <th>0</th>\n",
              "      <td>2011-01-01 00:00:00</td>\n",
              "      <td>8.0</td>\n",
              "      <td>41.3</td>\n",
              "      <td>0.4375</td>\n",
              "      <td>1108.8</td>\n",
              "      <td>745.7</td>\n",
              "      <td>797.1</td>\n",
              "      <td>880.0</td>\n",
              "      <td>1273.1</td>\n",
              "    </tr>\n",
              "    <tr>\n",
              "      <th>1</th>\n",
              "      <td>2011-01-01 01:00:00</td>\n",
              "      <td>5.1</td>\n",
              "      <td>51.7</td>\n",
              "      <td>0.4564</td>\n",
              "      <td>1249.5</td>\n",
              "      <td>864.9</td>\n",
              "      <td>687.9</td>\n",
              "      <td>972.8</td>\n",
              "      <td>1714.0</td>\n",
              "    </tr>\n",
              "    <tr>\n",
              "      <th>2</th>\n",
              "      <td>2011-01-01 02:00:00</td>\n",
              "      <td>5.8</td>\n",
              "      <td>51.5</td>\n",
              "      <td>0.4689</td>\n",
              "      <td>1102.6</td>\n",
              "      <td>878.0</td>\n",
              "      <td>693.7</td>\n",
              "      <td>941.9</td>\n",
              "      <td>1300.8</td>\n",
              "    </tr>\n",
              "    <tr>\n",
              "      <th>3</th>\n",
              "      <td>2011-01-01 03:00:00</td>\n",
              "      <td>5.0</td>\n",
              "      <td>52.3</td>\n",
              "      <td>0.4693</td>\n",
              "      <td>1139.7</td>\n",
              "      <td>916.2</td>\n",
              "      <td>725.6</td>\n",
              "      <td>1011.0</td>\n",
              "      <td>1283.0</td>\n",
              "    </tr>\n",
              "    <tr>\n",
              "      <th>4</th>\n",
              "      <td>2011-01-01 04:00:00</td>\n",
              "      <td>4.5</td>\n",
              "      <td>57.5</td>\n",
              "      <td>0.4650</td>\n",
              "      <td>1022.4</td>\n",
              "      <td>838.5</td>\n",
              "      <td>871.5</td>\n",
              "      <td>967.0</td>\n",
              "      <td>1142.3</td>\n",
              "    </tr>\n",
              "    <tr>\n",
              "      <th>...</th>\n",
              "      <td>...</td>\n",
              "      <td>...</td>\n",
              "      <td>...</td>\n",
              "      <td>...</td>\n",
              "      <td>...</td>\n",
              "      <td>...</td>\n",
              "      <td>...</td>\n",
              "      <td>...</td>\n",
              "      <td>...</td>\n",
              "    </tr>\n",
              "    <tr>\n",
              "      <th>2242</th>\n",
              "      <td>2011-04-04 10:00:00</td>\n",
              "      <td>23.2</td>\n",
              "      <td>28.7</td>\n",
              "      <td>0.7568</td>\n",
              "      <td>1340.3</td>\n",
              "      <td>1023.9</td>\n",
              "      <td>522.8</td>\n",
              "      <td>1374.0</td>\n",
              "      <td>1659.8</td>\n",
              "    </tr>\n",
              "    <tr>\n",
              "      <th>2243</th>\n",
              "      <td>2011-04-04 11:00:00</td>\n",
              "      <td>24.5</td>\n",
              "      <td>22.5</td>\n",
              "      <td>0.7119</td>\n",
              "      <td>1232.8</td>\n",
              "      <td>955.1</td>\n",
              "      <td>616.1</td>\n",
              "      <td>1226.1</td>\n",
              "      <td>1269.0</td>\n",
              "    </tr>\n",
              "    <tr>\n",
              "      <th>2244</th>\n",
              "      <td>2011-04-04 12:00:00</td>\n",
              "      <td>26.6</td>\n",
              "      <td>19.0</td>\n",
              "      <td>0.6406</td>\n",
              "      <td>1187.7</td>\n",
              "      <td>1052.4</td>\n",
              "      <td>572.8</td>\n",
              "      <td>1253.4</td>\n",
              "      <td>1081.1</td>\n",
              "    </tr>\n",
              "    <tr>\n",
              "      <th>2245</th>\n",
              "      <td>2011-04-04 13:00:00</td>\n",
              "      <td>29.1</td>\n",
              "      <td>12.7</td>\n",
              "      <td>0.5139</td>\n",
              "      <td>1053.2</td>\n",
              "      <td>1009.0</td>\n",
              "      <td>702.0</td>\n",
              "      <td>1009.8</td>\n",
              "      <td>808.5</td>\n",
              "    </tr>\n",
              "    <tr>\n",
              "      <th>2246</th>\n",
              "      <td>2011-04-04 14:00:00</td>\n",
              "      <td>27.9</td>\n",
              "      <td>13.5</td>\n",
              "      <td>0.5028</td>\n",
              "      <td>1124.6</td>\n",
              "      <td>1078.4</td>\n",
              "      <td>608.2</td>\n",
              "      <td>1061.3</td>\n",
              "      <td>816.0</td>\n",
              "    </tr>\n",
              "  </tbody>\n",
              "</table>\n",
              "<p>2247 rows × 9 columns</p>\n",
              "</div>"
            ],
            "text/plain": [
              "                date_time  deg_C  relative_humidity  absolute_humidity  \\\n",
              "0     2011-01-01 00:00:00    8.0               41.3             0.4375   \n",
              "1     2011-01-01 01:00:00    5.1               51.7             0.4564   \n",
              "2     2011-01-01 02:00:00    5.8               51.5             0.4689   \n",
              "3     2011-01-01 03:00:00    5.0               52.3             0.4693   \n",
              "4     2011-01-01 04:00:00    4.5               57.5             0.4650   \n",
              "...                   ...    ...                ...                ...   \n",
              "2242  2011-04-04 10:00:00   23.2               28.7             0.7568   \n",
              "2243  2011-04-04 11:00:00   24.5               22.5             0.7119   \n",
              "2244  2011-04-04 12:00:00   26.6               19.0             0.6406   \n",
              "2245  2011-04-04 13:00:00   29.1               12.7             0.5139   \n",
              "2246  2011-04-04 14:00:00   27.9               13.5             0.5028   \n",
              "\n",
              "      sensor_1  sensor_2  sensor_3  sensor_4  sensor_5  \n",
              "0       1108.8     745.7     797.1     880.0    1273.1  \n",
              "1       1249.5     864.9     687.9     972.8    1714.0  \n",
              "2       1102.6     878.0     693.7     941.9    1300.8  \n",
              "3       1139.7     916.2     725.6    1011.0    1283.0  \n",
              "4       1022.4     838.5     871.5     967.0    1142.3  \n",
              "...        ...       ...       ...       ...       ...  \n",
              "2242    1340.3    1023.9     522.8    1374.0    1659.8  \n",
              "2243    1232.8     955.1     616.1    1226.1    1269.0  \n",
              "2244    1187.7    1052.4     572.8    1253.4    1081.1  \n",
              "2245    1053.2    1009.0     702.0    1009.8     808.5  \n",
              "2246    1124.6    1078.4     608.2    1061.3     816.0  \n",
              "\n",
              "[2247 rows x 9 columns]"
            ]
          },
          "metadata": {
            "tags": []
          },
          "execution_count": 6
        }
      ]
    },
    {
      "cell_type": "code",
      "metadata": {
        "_kg_hide-input": true,
        "execution": {
          "iopub.execute_input": "2021-07-27T19:20:35.380948Z",
          "iopub.status.busy": "2021-07-27T19:20:35.380015Z",
          "iopub.status.idle": "2021-07-27T19:20:35.384281Z",
          "shell.execute_reply": "2021-07-27T19:20:35.384831Z",
          "shell.execute_reply.started": "2021-07-27T19:17:26.093816Z"
        },
        "papermill": {
          "duration": 0.04518,
          "end_time": "2021-07-27T19:20:35.385011",
          "exception": false,
          "start_time": "2021-07-27T19:20:35.339831",
          "status": "completed"
        },
        "tags": [],
        "id": "ae6c9af8",
        "outputId": "f9454e3b-27ac-4b33-bb4f-bde9cc057d6e"
      },
      "source": [
        "targets_df.tail()"
      ],
      "id": "ae6c9af8",
      "execution_count": null,
      "outputs": [
        {
          "output_type": "execute_result",
          "data": {
            "text/html": [
              "<div>\n",
              "<style scoped>\n",
              "    .dataframe tbody tr th:only-of-type {\n",
              "        vertical-align: middle;\n",
              "    }\n",
              "\n",
              "    .dataframe tbody tr th {\n",
              "        vertical-align: top;\n",
              "    }\n",
              "\n",
              "    .dataframe thead th {\n",
              "        text-align: right;\n",
              "    }\n",
              "</style>\n",
              "<table border=\"1\" class=\"dataframe\">\n",
              "  <thead>\n",
              "    <tr style=\"text-align: right;\">\n",
              "      <th></th>\n",
              "      <th>target_carbon_monoxide</th>\n",
              "      <th>target_benzene</th>\n",
              "      <th>target_nitrogen_oxides</th>\n",
              "    </tr>\n",
              "  </thead>\n",
              "  <tbody>\n",
              "    <tr>\n",
              "      <th>7106</th>\n",
              "      <td>1.3</td>\n",
              "      <td>5.1</td>\n",
              "      <td>191.1</td>\n",
              "    </tr>\n",
              "    <tr>\n",
              "      <th>7107</th>\n",
              "      <td>1.4</td>\n",
              "      <td>5.8</td>\n",
              "      <td>221.3</td>\n",
              "    </tr>\n",
              "    <tr>\n",
              "      <th>7108</th>\n",
              "      <td>1.6</td>\n",
              "      <td>5.2</td>\n",
              "      <td>227.4</td>\n",
              "    </tr>\n",
              "    <tr>\n",
              "      <th>7109</th>\n",
              "      <td>1.5</td>\n",
              "      <td>4.6</td>\n",
              "      <td>199.8</td>\n",
              "    </tr>\n",
              "    <tr>\n",
              "      <th>7110</th>\n",
              "      <td>1.4</td>\n",
              "      <td>4.1</td>\n",
              "      <td>186.5</td>\n",
              "    </tr>\n",
              "  </tbody>\n",
              "</table>\n",
              "</div>"
            ],
            "text/plain": [
              "      target_carbon_monoxide  target_benzene  target_nitrogen_oxides\n",
              "7106                     1.3             5.1                   191.1\n",
              "7107                     1.4             5.8                   221.3\n",
              "7108                     1.6             5.2                   227.4\n",
              "7109                     1.5             4.6                   199.8\n",
              "7110                     1.4             4.1                   186.5"
            ]
          },
          "metadata": {
            "tags": []
          },
          "execution_count": 7
        }
      ]
    },
    {
      "cell_type": "code",
      "metadata": {
        "_kg_hide-input": true,
        "execution": {
          "iopub.execute_input": "2021-07-27T19:20:35.460427Z",
          "iopub.status.busy": "2021-07-27T19:20:35.459391Z",
          "iopub.status.idle": "2021-07-27T19:20:35.463713Z",
          "shell.execute_reply": "2021-07-27T19:20:35.464194Z",
          "shell.execute_reply.started": "2021-07-27T19:17:26.140242Z"
        },
        "papermill": {
          "duration": 0.047038,
          "end_time": "2021-07-27T19:20:35.464426",
          "exception": false,
          "start_time": "2021-07-27T19:20:35.417388",
          "status": "completed"
        },
        "tags": [],
        "id": "326a3cf8",
        "outputId": "932d175d-0867-40cf-deb5-b47aaa988bff"
      },
      "source": [
        "submission_ex.head()"
      ],
      "id": "326a3cf8",
      "execution_count": null,
      "outputs": [
        {
          "output_type": "execute_result",
          "data": {
            "text/html": [
              "<div>\n",
              "<style scoped>\n",
              "    .dataframe tbody tr th:only-of-type {\n",
              "        vertical-align: middle;\n",
              "    }\n",
              "\n",
              "    .dataframe tbody tr th {\n",
              "        vertical-align: top;\n",
              "    }\n",
              "\n",
              "    .dataframe thead th {\n",
              "        text-align: right;\n",
              "    }\n",
              "</style>\n",
              "<table border=\"1\" class=\"dataframe\">\n",
              "  <thead>\n",
              "    <tr style=\"text-align: right;\">\n",
              "      <th></th>\n",
              "      <th>date_time</th>\n",
              "      <th>target_carbon_monoxide</th>\n",
              "      <th>target_benzene</th>\n",
              "      <th>target_nitrogen_oxides</th>\n",
              "    </tr>\n",
              "  </thead>\n",
              "  <tbody>\n",
              "    <tr>\n",
              "      <th>0</th>\n",
              "      <td>2011-01-01 00:00:00</td>\n",
              "      <td>2.0</td>\n",
              "      <td>10.0</td>\n",
              "      <td>300.0</td>\n",
              "    </tr>\n",
              "    <tr>\n",
              "      <th>1</th>\n",
              "      <td>2011-01-01 01:00:00</td>\n",
              "      <td>2.0</td>\n",
              "      <td>10.0</td>\n",
              "      <td>300.0</td>\n",
              "    </tr>\n",
              "    <tr>\n",
              "      <th>2</th>\n",
              "      <td>2011-01-01 02:00:00</td>\n",
              "      <td>2.0</td>\n",
              "      <td>10.0</td>\n",
              "      <td>300.0</td>\n",
              "    </tr>\n",
              "    <tr>\n",
              "      <th>3</th>\n",
              "      <td>2011-01-01 03:00:00</td>\n",
              "      <td>2.0</td>\n",
              "      <td>10.0</td>\n",
              "      <td>300.0</td>\n",
              "    </tr>\n",
              "    <tr>\n",
              "      <th>4</th>\n",
              "      <td>2011-01-01 04:00:00</td>\n",
              "      <td>2.0</td>\n",
              "      <td>10.0</td>\n",
              "      <td>300.0</td>\n",
              "    </tr>\n",
              "  </tbody>\n",
              "</table>\n",
              "</div>"
            ],
            "text/plain": [
              "             date_time  target_carbon_monoxide  target_benzene  \\\n",
              "0  2011-01-01 00:00:00                     2.0            10.0   \n",
              "1  2011-01-01 01:00:00                     2.0            10.0   \n",
              "2  2011-01-01 02:00:00                     2.0            10.0   \n",
              "3  2011-01-01 03:00:00                     2.0            10.0   \n",
              "4  2011-01-01 04:00:00                     2.0            10.0   \n",
              "\n",
              "   target_nitrogen_oxides  \n",
              "0                   300.0  \n",
              "1                   300.0  \n",
              "2                   300.0  \n",
              "3                   300.0  \n",
              "4                   300.0  "
            ]
          },
          "metadata": {
            "tags": []
          },
          "execution_count": 8
        }
      ]
    },
    {
      "cell_type": "code",
      "metadata": {
        "_kg_hide-input": true,
        "execution": {
          "iopub.execute_input": "2021-07-27T19:20:35.535187Z",
          "iopub.status.busy": "2021-07-27T19:20:35.534327Z",
          "iopub.status.idle": "2021-07-27T19:20:35.572482Z",
          "shell.execute_reply": "2021-07-27T19:20:35.571781Z",
          "shell.execute_reply.started": "2021-07-27T19:17:26.158575Z"
        },
        "papermill": {
          "duration": 0.075619,
          "end_time": "2021-07-27T19:20:35.572637",
          "exception": false,
          "start_time": "2021-07-27T19:20:35.497018",
          "status": "completed"
        },
        "tags": [],
        "id": "1f71c9cd",
        "outputId": "cce0693c-9790-45a9-c352-ec34b6ed4511"
      },
      "source": [
        "train_df.describe()"
      ],
      "id": "1f71c9cd",
      "execution_count": null,
      "outputs": [
        {
          "output_type": "execute_result",
          "data": {
            "text/html": [
              "<div>\n",
              "<style scoped>\n",
              "    .dataframe tbody tr th:only-of-type {\n",
              "        vertical-align: middle;\n",
              "    }\n",
              "\n",
              "    .dataframe tbody tr th {\n",
              "        vertical-align: top;\n",
              "    }\n",
              "\n",
              "    .dataframe thead th {\n",
              "        text-align: right;\n",
              "    }\n",
              "</style>\n",
              "<table border=\"1\" class=\"dataframe\">\n",
              "  <thead>\n",
              "    <tr style=\"text-align: right;\">\n",
              "      <th></th>\n",
              "      <th>deg_C</th>\n",
              "      <th>relative_humidity</th>\n",
              "      <th>absolute_humidity</th>\n",
              "      <th>sensor_1</th>\n",
              "      <th>sensor_2</th>\n",
              "      <th>sensor_3</th>\n",
              "      <th>sensor_4</th>\n",
              "      <th>sensor_5</th>\n",
              "    </tr>\n",
              "  </thead>\n",
              "  <tbody>\n",
              "    <tr>\n",
              "      <th>count</th>\n",
              "      <td>7111.000000</td>\n",
              "      <td>7111.000000</td>\n",
              "      <td>7111.000000</td>\n",
              "      <td>7111.000000</td>\n",
              "      <td>7111.000000</td>\n",
              "      <td>7111.000000</td>\n",
              "      <td>7111.000000</td>\n",
              "      <td>7111.000000</td>\n",
              "    </tr>\n",
              "    <tr>\n",
              "      <th>mean</th>\n",
              "      <td>20.878034</td>\n",
              "      <td>47.561004</td>\n",
              "      <td>1.110309</td>\n",
              "      <td>1091.572100</td>\n",
              "      <td>938.064970</td>\n",
              "      <td>883.903305</td>\n",
              "      <td>1513.238349</td>\n",
              "      <td>998.335565</td>\n",
              "    </tr>\n",
              "    <tr>\n",
              "      <th>std</th>\n",
              "      <td>7.937917</td>\n",
              "      <td>17.398731</td>\n",
              "      <td>0.398950</td>\n",
              "      <td>218.537554</td>\n",
              "      <td>281.978988</td>\n",
              "      <td>310.456355</td>\n",
              "      <td>350.180310</td>\n",
              "      <td>381.537695</td>\n",
              "    </tr>\n",
              "    <tr>\n",
              "      <th>min</th>\n",
              "      <td>1.300000</td>\n",
              "      <td>8.900000</td>\n",
              "      <td>0.198800</td>\n",
              "      <td>620.300000</td>\n",
              "      <td>364.000000</td>\n",
              "      <td>310.600000</td>\n",
              "      <td>552.900000</td>\n",
              "      <td>242.700000</td>\n",
              "    </tr>\n",
              "    <tr>\n",
              "      <th>25%</th>\n",
              "      <td>14.900000</td>\n",
              "      <td>33.700000</td>\n",
              "      <td>0.855900</td>\n",
              "      <td>930.250000</td>\n",
              "      <td>734.900000</td>\n",
              "      <td>681.050000</td>\n",
              "      <td>1320.350000</td>\n",
              "      <td>722.850000</td>\n",
              "    </tr>\n",
              "    <tr>\n",
              "      <th>50%</th>\n",
              "      <td>20.700000</td>\n",
              "      <td>47.300000</td>\n",
              "      <td>1.083500</td>\n",
              "      <td>1060.500000</td>\n",
              "      <td>914.200000</td>\n",
              "      <td>827.800000</td>\n",
              "      <td>1513.100000</td>\n",
              "      <td>928.700000</td>\n",
              "    </tr>\n",
              "    <tr>\n",
              "      <th>75%</th>\n",
              "      <td>25.800000</td>\n",
              "      <td>60.800000</td>\n",
              "      <td>1.404150</td>\n",
              "      <td>1215.800000</td>\n",
              "      <td>1124.100000</td>\n",
              "      <td>1008.850000</td>\n",
              "      <td>1720.400000</td>\n",
              "      <td>1224.700000</td>\n",
              "    </tr>\n",
              "    <tr>\n",
              "      <th>max</th>\n",
              "      <td>46.100000</td>\n",
              "      <td>90.800000</td>\n",
              "      <td>2.231000</td>\n",
              "      <td>2088.300000</td>\n",
              "      <td>2302.600000</td>\n",
              "      <td>2567.400000</td>\n",
              "      <td>2913.800000</td>\n",
              "      <td>2594.600000</td>\n",
              "    </tr>\n",
              "  </tbody>\n",
              "</table>\n",
              "</div>"
            ],
            "text/plain": [
              "             deg_C  relative_humidity  absolute_humidity     sensor_1  \\\n",
              "count  7111.000000        7111.000000        7111.000000  7111.000000   \n",
              "mean     20.878034          47.561004           1.110309  1091.572100   \n",
              "std       7.937917          17.398731           0.398950   218.537554   \n",
              "min       1.300000           8.900000           0.198800   620.300000   \n",
              "25%      14.900000          33.700000           0.855900   930.250000   \n",
              "50%      20.700000          47.300000           1.083500  1060.500000   \n",
              "75%      25.800000          60.800000           1.404150  1215.800000   \n",
              "max      46.100000          90.800000           2.231000  2088.300000   \n",
              "\n",
              "          sensor_2     sensor_3     sensor_4     sensor_5  \n",
              "count  7111.000000  7111.000000  7111.000000  7111.000000  \n",
              "mean    938.064970   883.903305  1513.238349   998.335565  \n",
              "std     281.978988   310.456355   350.180310   381.537695  \n",
              "min     364.000000   310.600000   552.900000   242.700000  \n",
              "25%     734.900000   681.050000  1320.350000   722.850000  \n",
              "50%     914.200000   827.800000  1513.100000   928.700000  \n",
              "75%    1124.100000  1008.850000  1720.400000  1224.700000  \n",
              "max    2302.600000  2567.400000  2913.800000  2594.600000  "
            ]
          },
          "metadata": {
            "tags": []
          },
          "execution_count": 9
        }
      ]
    },
    {
      "cell_type": "code",
      "metadata": {
        "_kg_hide-input": true,
        "execution": {
          "iopub.execute_input": "2021-07-27T19:20:35.646160Z",
          "iopub.status.busy": "2021-07-27T19:20:35.644288Z",
          "iopub.status.idle": "2021-07-27T19:20:35.678527Z",
          "shell.execute_reply": "2021-07-27T19:20:35.677946Z",
          "shell.execute_reply.started": "2021-07-27T19:17:26.475639Z"
        },
        "papermill": {
          "duration": 0.07236,
          "end_time": "2021-07-27T19:20:35.678681",
          "exception": false,
          "start_time": "2021-07-27T19:20:35.606321",
          "status": "completed"
        },
        "tags": [],
        "id": "c7a53332",
        "outputId": "9c3d97ba-3fdf-4e85-9f0a-23ae12d95362"
      },
      "source": [
        "test_df.describe()"
      ],
      "id": "c7a53332",
      "execution_count": null,
      "outputs": [
        {
          "output_type": "execute_result",
          "data": {
            "text/html": [
              "<div>\n",
              "<style scoped>\n",
              "    .dataframe tbody tr th:only-of-type {\n",
              "        vertical-align: middle;\n",
              "    }\n",
              "\n",
              "    .dataframe tbody tr th {\n",
              "        vertical-align: top;\n",
              "    }\n",
              "\n",
              "    .dataframe thead th {\n",
              "        text-align: right;\n",
              "    }\n",
              "</style>\n",
              "<table border=\"1\" class=\"dataframe\">\n",
              "  <thead>\n",
              "    <tr style=\"text-align: right;\">\n",
              "      <th></th>\n",
              "      <th>deg_C</th>\n",
              "      <th>relative_humidity</th>\n",
              "      <th>absolute_humidity</th>\n",
              "      <th>sensor_1</th>\n",
              "      <th>sensor_2</th>\n",
              "      <th>sensor_3</th>\n",
              "      <th>sensor_4</th>\n",
              "      <th>sensor_5</th>\n",
              "    </tr>\n",
              "  </thead>\n",
              "  <tbody>\n",
              "    <tr>\n",
              "      <th>count</th>\n",
              "      <td>2247.000000</td>\n",
              "      <td>2247.000000</td>\n",
              "      <td>2247.000000</td>\n",
              "      <td>2247.000000</td>\n",
              "      <td>2247.000000</td>\n",
              "      <td>2247.000000</td>\n",
              "      <td>2247.000000</td>\n",
              "      <td>2247.000000</td>\n",
              "    </tr>\n",
              "    <tr>\n",
              "      <th>mean</th>\n",
              "      <td>10.808144</td>\n",
              "      <td>51.031242</td>\n",
              "      <td>0.627053</td>\n",
              "      <td>1106.534490</td>\n",
              "      <td>836.459769</td>\n",
              "      <td>828.321495</td>\n",
              "      <td>1104.850601</td>\n",
              "      <td>1029.851535</td>\n",
              "    </tr>\n",
              "    <tr>\n",
              "      <th>std</th>\n",
              "      <td>6.444497</td>\n",
              "      <td>16.665047</td>\n",
              "      <td>0.266588</td>\n",
              "      <td>205.341455</td>\n",
              "      <td>272.816585</td>\n",
              "      <td>339.511779</td>\n",
              "      <td>293.112225</td>\n",
              "      <td>434.863287</td>\n",
              "    </tr>\n",
              "    <tr>\n",
              "      <th>min</th>\n",
              "      <td>-1.800000</td>\n",
              "      <td>9.800000</td>\n",
              "      <td>0.184700</td>\n",
              "      <td>665.900000</td>\n",
              "      <td>356.200000</td>\n",
              "      <td>320.100000</td>\n",
              "      <td>523.400000</td>\n",
              "      <td>218.800000</td>\n",
              "    </tr>\n",
              "    <tr>\n",
              "      <th>25%</th>\n",
              "      <td>5.600000</td>\n",
              "      <td>36.900000</td>\n",
              "      <td>0.413350</td>\n",
              "      <td>951.500000</td>\n",
              "      <td>640.700000</td>\n",
              "      <td>597.050000</td>\n",
              "      <td>899.450000</td>\n",
              "      <td>688.550000</td>\n",
              "    </tr>\n",
              "    <tr>\n",
              "      <th>50%</th>\n",
              "      <td>9.800000</td>\n",
              "      <td>50.600000</td>\n",
              "      <td>0.596400</td>\n",
              "      <td>1080.400000</td>\n",
              "      <td>800.800000</td>\n",
              "      <td>757.100000</td>\n",
              "      <td>1076.200000</td>\n",
              "      <td>973.100000</td>\n",
              "    </tr>\n",
              "    <tr>\n",
              "      <th>75%</th>\n",
              "      <td>14.200000</td>\n",
              "      <td>63.550000</td>\n",
              "      <td>0.804950</td>\n",
              "      <td>1222.100000</td>\n",
              "      <td>1016.100000</td>\n",
              "      <td>944.950000</td>\n",
              "      <td>1288.350000</td>\n",
              "      <td>1324.000000</td>\n",
              "    </tr>\n",
              "    <tr>\n",
              "      <th>max</th>\n",
              "      <td>30.900000</td>\n",
              "      <td>88.800000</td>\n",
              "      <td>1.393000</td>\n",
              "      <td>1882.900000</td>\n",
              "      <td>1776.100000</td>\n",
              "      <td>1975.000000</td>\n",
              "      <td>2211.400000</td>\n",
              "      <td>2593.800000</td>\n",
              "    </tr>\n",
              "  </tbody>\n",
              "</table>\n",
              "</div>"
            ],
            "text/plain": [
              "             deg_C  relative_humidity  absolute_humidity     sensor_1  \\\n",
              "count  2247.000000        2247.000000        2247.000000  2247.000000   \n",
              "mean     10.808144          51.031242           0.627053  1106.534490   \n",
              "std       6.444497          16.665047           0.266588   205.341455   \n",
              "min      -1.800000           9.800000           0.184700   665.900000   \n",
              "25%       5.600000          36.900000           0.413350   951.500000   \n",
              "50%       9.800000          50.600000           0.596400  1080.400000   \n",
              "75%      14.200000          63.550000           0.804950  1222.100000   \n",
              "max      30.900000          88.800000           1.393000  1882.900000   \n",
              "\n",
              "          sensor_2     sensor_3     sensor_4     sensor_5  \n",
              "count  2247.000000  2247.000000  2247.000000  2247.000000  \n",
              "mean    836.459769   828.321495  1104.850601  1029.851535  \n",
              "std     272.816585   339.511779   293.112225   434.863287  \n",
              "min     356.200000   320.100000   523.400000   218.800000  \n",
              "25%     640.700000   597.050000   899.450000   688.550000  \n",
              "50%     800.800000   757.100000  1076.200000   973.100000  \n",
              "75%    1016.100000   944.950000  1288.350000  1324.000000  \n",
              "max    1776.100000  1975.000000  2211.400000  2593.800000  "
            ]
          },
          "metadata": {
            "tags": []
          },
          "execution_count": 10
        }
      ]
    },
    {
      "cell_type": "code",
      "metadata": {
        "_kg_hide-input": true,
        "execution": {
          "iopub.execute_input": "2021-07-27T19:20:35.747267Z",
          "iopub.status.busy": "2021-07-27T19:20:35.746585Z",
          "iopub.status.idle": "2021-07-27T19:20:35.752096Z",
          "shell.execute_reply": "2021-07-27T19:20:35.752650Z",
          "shell.execute_reply.started": "2021-07-27T19:17:26.508781Z"
        },
        "papermill": {
          "duration": 0.042964,
          "end_time": "2021-07-27T19:20:35.752825",
          "exception": false,
          "start_time": "2021-07-27T19:20:35.709861",
          "status": "completed"
        },
        "tags": [],
        "id": "149f730f",
        "outputId": "46802d86-5079-4ad0-8e26-5cb6f7e88d65"
      },
      "source": [
        "train_df.isna().sum()"
      ],
      "id": "149f730f",
      "execution_count": null,
      "outputs": [
        {
          "output_type": "execute_result",
          "data": {
            "text/plain": [
              "date_time            0\n",
              "deg_C                0\n",
              "relative_humidity    0\n",
              "absolute_humidity    0\n",
              "sensor_1             0\n",
              "sensor_2             0\n",
              "sensor_3             0\n",
              "sensor_4             0\n",
              "sensor_5             0\n",
              "dtype: int64"
            ]
          },
          "metadata": {
            "tags": []
          },
          "execution_count": 11
        }
      ]
    },
    {
      "cell_type": "code",
      "metadata": {
        "_kg_hide-input": true,
        "execution": {
          "iopub.execute_input": "2021-07-27T19:20:35.818894Z",
          "iopub.status.busy": "2021-07-27T19:20:35.818130Z",
          "iopub.status.idle": "2021-07-27T19:20:35.826160Z",
          "shell.execute_reply": "2021-07-27T19:20:35.826689Z",
          "shell.execute_reply.started": "2021-07-27T19:17:26.518083Z"
        },
        "papermill": {
          "duration": 0.042865,
          "end_time": "2021-07-27T19:20:35.826865",
          "exception": false,
          "start_time": "2021-07-27T19:20:35.784000",
          "status": "completed"
        },
        "tags": [],
        "id": "696a5d89",
        "outputId": "86f60ba8-f0cf-49de-a8e1-616d419be60f"
      },
      "source": [
        "test_df.isna().sum()"
      ],
      "id": "696a5d89",
      "execution_count": null,
      "outputs": [
        {
          "output_type": "execute_result",
          "data": {
            "text/plain": [
              "date_time            0\n",
              "deg_C                0\n",
              "relative_humidity    0\n",
              "absolute_humidity    0\n",
              "sensor_1             0\n",
              "sensor_2             0\n",
              "sensor_3             0\n",
              "sensor_4             0\n",
              "sensor_5             0\n",
              "dtype: int64"
            ]
          },
          "metadata": {
            "tags": []
          },
          "execution_count": 12
        }
      ]
    },
    {
      "cell_type": "markdown",
      "metadata": {
        "papermill": {
          "duration": 0.031234,
          "end_time": "2021-07-27T19:20:35.889659",
          "exception": false,
          "start_time": "2021-07-27T19:20:35.858425",
          "status": "completed"
        },
        "tags": [],
        "id": "c4174ddc"
      },
      "source": [
        "### train dataset"
      ],
      "id": "c4174ddc"
    },
    {
      "cell_type": "code",
      "metadata": {
        "execution": {
          "iopub.execute_input": "2021-07-27T19:20:35.955458Z",
          "iopub.status.busy": "2021-07-27T19:20:35.954821Z",
          "iopub.status.idle": "2021-07-27T19:20:35.959130Z",
          "shell.execute_reply": "2021-07-27T19:20:35.958508Z",
          "shell.execute_reply.started": "2021-07-27T19:17:26.533175Z"
        },
        "papermill": {
          "duration": 0.038267,
          "end_time": "2021-07-27T19:20:35.959286",
          "exception": false,
          "start_time": "2021-07-27T19:20:35.921019",
          "status": "completed"
        },
        "tags": [],
        "id": "8d0c7633"
      },
      "source": [
        "# ################################################################\n",
        "# for c in train_df.columns:\n",
        "#     if c != 'date_time':\n",
        "#         fig = plt.figure(figsize = (15, 5))\n",
        "#         g = train_df[c].plot()\n",
        "#         train_df['hmm'] = lowess(train_df[c].values, np.arange(len(train_df[c].values)), frac=0.10)[:, 1]\n",
        "#         g = train_df['hmm'].plot()\n",
        "#         g.legend([c])\n",
        "# del train_df['hmm'] "
      ],
      "id": "8d0c7633",
      "execution_count": null,
      "outputs": []
    },
    {
      "cell_type": "code",
      "metadata": {
        "execution": {
          "iopub.execute_input": "2021-07-27T19:20:36.026036Z",
          "iopub.status.busy": "2021-07-27T19:20:36.025338Z",
          "iopub.status.idle": "2021-07-27T19:20:36.028789Z",
          "shell.execute_reply": "2021-07-27T19:20:36.029343Z",
          "shell.execute_reply.started": "2021-07-27T19:17:26.545162Z"
        },
        "papermill": {
          "duration": 0.038288,
          "end_time": "2021-07-27T19:20:36.029517",
          "exception": false,
          "start_time": "2021-07-27T19:20:35.991229",
          "status": "completed"
        },
        "tags": [],
        "id": "eb57a209"
      },
      "source": [
        "# ################################################################\n",
        "# fig = plt.figure(figsize = (30,30))\n",
        "# ax = fig.gca()\n",
        "# hist = train_df[train_df.columns.values].hist(bins=150, ax = ax)"
      ],
      "id": "eb57a209",
      "execution_count": null,
      "outputs": []
    },
    {
      "cell_type": "markdown",
      "metadata": {
        "papermill": {
          "duration": 0.031261,
          "end_time": "2021-07-27T19:20:36.092898",
          "exception": false,
          "start_time": "2021-07-27T19:20:36.061637",
          "status": "completed"
        },
        "tags": [],
        "id": "c37f8aa7"
      },
      "source": [
        "### test dataset"
      ],
      "id": "c37f8aa7"
    },
    {
      "cell_type": "code",
      "metadata": {
        "execution": {
          "iopub.execute_input": "2021-07-27T19:20:36.158986Z",
          "iopub.status.busy": "2021-07-27T19:20:36.158349Z",
          "iopub.status.idle": "2021-07-27T19:20:36.162800Z",
          "shell.execute_reply": "2021-07-27T19:20:36.162302Z",
          "shell.execute_reply.started": "2021-07-27T19:17:26.556823Z"
        },
        "papermill": {
          "duration": 0.038577,
          "end_time": "2021-07-27T19:20:36.162941",
          "exception": false,
          "start_time": "2021-07-27T19:20:36.124364",
          "status": "completed"
        },
        "tags": [],
        "id": "d8cae194"
      },
      "source": [
        "# ################################################################\n",
        "# for c in test_df.columns:\n",
        "#     if c != 'date_time':\n",
        "#         fig = plt.figure(figsize = (15, 5))\n",
        "#         g = test_df[c].plot()\n",
        "#         test_df['hmm'] = lowess(test_df[c].values, np.arange(len(test_df[c].values)), frac=0.15)[:, 1]\n",
        "#         g = test_df['hmm'].plot()\n",
        "#         g.legend([c])\n",
        "# del test_df['hmm']"
      ],
      "id": "d8cae194",
      "execution_count": null,
      "outputs": []
    },
    {
      "cell_type": "code",
      "metadata": {
        "execution": {
          "iopub.execute_input": "2021-07-27T19:20:36.230959Z",
          "iopub.status.busy": "2021-07-27T19:20:36.230326Z",
          "iopub.status.idle": "2021-07-27T19:20:36.232189Z",
          "shell.execute_reply": "2021-07-27T19:20:36.232675Z",
          "shell.execute_reply.started": "2021-07-27T19:17:26.569740Z"
        },
        "papermill": {
          "duration": 0.038528,
          "end_time": "2021-07-27T19:20:36.232850",
          "exception": false,
          "start_time": "2021-07-27T19:20:36.194322",
          "status": "completed"
        },
        "tags": [],
        "id": "699079d9"
      },
      "source": [
        "# ################################################################\n",
        "# fig = plt.figure(figsize = (30,30))\n",
        "# ax = fig.gca()\n",
        "# hist = test_df[test_df.columns.values].hist(bins=150, ax = ax)"
      ],
      "id": "699079d9",
      "execution_count": null,
      "outputs": []
    },
    {
      "cell_type": "markdown",
      "metadata": {
        "papermill": {
          "duration": 0.031093,
          "end_time": "2021-07-27T19:20:36.296436",
          "exception": false,
          "start_time": "2021-07-27T19:20:36.265343",
          "status": "completed"
        },
        "tags": [],
        "id": "f82b065d"
      },
      "source": [
        "### feature correlation"
      ],
      "id": "f82b065d"
    },
    {
      "cell_type": "code",
      "metadata": {
        "execution": {
          "iopub.execute_input": "2021-07-27T19:20:36.362351Z",
          "iopub.status.busy": "2021-07-27T19:20:36.361687Z",
          "iopub.status.idle": "2021-07-27T19:20:36.364651Z",
          "shell.execute_reply": "2021-07-27T19:20:36.365183Z",
          "shell.execute_reply.started": "2021-07-27T19:17:26.586130Z"
        },
        "papermill": {
          "duration": 0.037486,
          "end_time": "2021-07-27T19:20:36.365420",
          "exception": false,
          "start_time": "2021-07-27T19:20:36.327934",
          "status": "completed"
        },
        "tags": [],
        "id": "7fb7d04d"
      },
      "source": [
        "# ################################################################\n",
        "# corr = train_df.corr()\n",
        "# fig = plt.figure(figsize = (15,15))\n",
        "# sns.heatmap(corr, vmax = .8, square = True)\n",
        "# plt.show()"
      ],
      "id": "7fb7d04d",
      "execution_count": null,
      "outputs": []
    },
    {
      "cell_type": "markdown",
      "metadata": {
        "papermill": {
          "duration": 0.031052,
          "end_time": "2021-07-27T19:20:36.428501",
          "exception": false,
          "start_time": "2021-07-27T19:20:36.397449",
          "status": "completed"
        },
        "tags": [],
        "id": "af433bf2"
      },
      "source": [
        "### new features"
      ],
      "id": "af433bf2"
    },
    {
      "cell_type": "code",
      "metadata": {
        "execution": {
          "iopub.execute_input": "2021-07-27T19:20:36.494338Z",
          "iopub.status.busy": "2021-07-27T19:20:36.493661Z",
          "iopub.status.idle": "2021-07-27T19:22:13.912233Z",
          "shell.execute_reply": "2021-07-27T19:22:13.911027Z",
          "shell.execute_reply.started": "2021-07-27T19:17:26.599615Z"
        },
        "papermill": {
          "duration": 97.452431,
          "end_time": "2021-07-27T19:22:13.912408",
          "exception": false,
          "start_time": "2021-07-27T19:20:36.459977",
          "status": "completed"
        },
        "tags": [],
        "id": "17e15949"
      },
      "source": [
        "fold_part = 1000\n",
        "\n",
        "a = train_df.iloc[1:fold_part,:].iloc[::-1]\n",
        "train_df = a.append(train_df)\n",
        "\n",
        "test_df = test_df.loc[1:]\n",
        "b = test_df.iloc[-fold_part:-1,:].iloc[::-1]\n",
        "test_df = test_df.append(b)\n",
        "\n",
        "df = train_df.append(test_df)\n",
        "df.reset_index(drop=True, inplace=True)\n",
        "\n",
        "# -------------------------------------------------\n",
        "\n",
        "tmp_columns = df.columns\n",
        "\n",
        "for col in df.columns:\n",
        "    if col not in ['date_time']:\n",
        "        for mean in [0.03, 0.1, 0.2]:\n",
        "            df['mean_' + str(mean) + '_' + col] = lowess(df[col].values, np.arange(len(df[col].values)), frac=mean)[:, 1]\n",
        "\n",
        "df['date_time'] = pd.to_datetime(df['date_time'], errors='coerce')\n",
        "\n",
        "df['time'] = df['date_time'].astype(np.int64)//10**9\n",
        "df['hh'] = df['date_time'].dt.hour.values\n",
        "df['rush_h'] = df['hh'].apply(lambda x: 1 if x in [8,9,18,19,20]  else 0)\n",
        "df['day_of_w'] = df['date_time'].dt.dayofweek.values\n",
        "df['weekend'] = df['day_of_w'].apply(lambda x: 1 if (x>4)  else 0)\n",
        "df['day_of_m'] = df['date_time'].dt.day.values\n",
        "df['month'] = df['date_time'].dt.month.values\n",
        "\n",
        "columns_without_errors = [col for col in df.columns if col not in tmp_columns]\n",
        "\n",
        "df['deg_F'] = (df['deg_C']*(9/5)) + 32\n",
        "df[\"SMC\"] = (df[\"absolute_humidity\"] * 100) / df['relative_humidity']\n",
        "df['dew_point'] = df['deg_C'] - ((100 - df['relative_humidity']) / 5)\n",
        "df.drop(['dew_point'], axis=1, inplace=True)  \n",
        "\n",
        "df['hm_1'] = ((df['absolute_humidity'].values < 0.25)).astype(int)\n",
        "\n",
        "lag_features = ['deg_C', 'relative_humidity', 'absolute_humidity', 'sensor_1', 'sensor_2', 'sensor_3', 'sensor_4', 'sensor_5']\n",
        "lags = [3, 6, 9, 12]\n",
        "for feature in lag_features:\n",
        "    for lag in lags:\n",
        "        df[feature + '_lag_' + str(lag)] = df[feature].shift(periods=lag, fill_value = 0)\n",
        "\n",
        "# -------------------------------------------------\n",
        "\n",
        "train_df = df.iloc[fold_part - 1:fold_part - 1 +  7111,:].copy()\n",
        "test_df = df.iloc[fold_part - 1 +  7111 - 1:-fold_part + 1,:].copy()\n",
        "train_df.reset_index(drop=True, inplace=True)\n",
        "test_df.reset_index(drop=True, inplace=True)"
      ],
      "id": "17e15949",
      "execution_count": null,
      "outputs": []
    },
    {
      "cell_type": "code",
      "metadata": {
        "_kg_hide-input": true,
        "execution": {
          "iopub.execute_input": "2021-07-27T19:22:13.981637Z",
          "iopub.status.busy": "2021-07-27T19:22:13.980845Z",
          "iopub.status.idle": "2021-07-27T19:22:13.984575Z",
          "shell.execute_reply": "2021-07-27T19:22:13.984012Z",
          "shell.execute_reply.started": "2021-07-27T19:18:35.124706Z"
        },
        "papermill": {
          "duration": 0.040405,
          "end_time": "2021-07-27T19:22:13.984713",
          "exception": false,
          "start_time": "2021-07-27T19:22:13.944308",
          "status": "completed"
        },
        "tags": [],
        "id": "cca99e48"
      },
      "source": [
        "# from sklearn import preprocessing\n",
        "# # scaler = preprocessing.MinMaxScaler()\n",
        "# # scaler = preprocessing.MaxAbsScaler()\n",
        "# scaler = preprocessing.StandardScaler()\n",
        "# for df in [train_df, test_df]:\n",
        "#     for c in df.columns:\n",
        "#         if c not in ['target_carbon_monoxide','target_benzene','target_nitrogen_oxides','date_time']:\n",
        "#             df[[c]] = scaler.fit_transform(df[[c]])"
      ],
      "id": "cca99e48",
      "execution_count": null,
      "outputs": []
    },
    {
      "cell_type": "code",
      "metadata": {
        "_kg_hide-input": true,
        "execution": {
          "iopub.execute_input": "2021-07-27T19:22:14.053598Z",
          "iopub.status.busy": "2021-07-27T19:22:14.052967Z",
          "iopub.status.idle": "2021-07-27T19:22:14.055873Z",
          "shell.execute_reply": "2021-07-27T19:22:14.055364Z",
          "shell.execute_reply.started": "2021-07-27T19:18:35.129313Z"
        },
        "papermill": {
          "duration": 0.03888,
          "end_time": "2021-07-27T19:22:14.056004",
          "exception": false,
          "start_time": "2021-07-27T19:22:14.017124",
          "status": "completed"
        },
        "tags": [],
        "id": "6b2d4dd5"
      },
      "source": [
        "# test_df.head()"
      ],
      "id": "6b2d4dd5",
      "execution_count": null,
      "outputs": []
    },
    {
      "cell_type": "code",
      "metadata": {
        "_kg_hide-input": true,
        "execution": {
          "iopub.execute_input": "2021-07-27T19:22:14.125724Z",
          "iopub.status.busy": "2021-07-27T19:22:14.124688Z",
          "iopub.status.idle": "2021-07-27T19:22:14.127703Z",
          "shell.execute_reply": "2021-07-27T19:22:14.127057Z",
          "shell.execute_reply.started": "2021-07-27T19:18:35.152416Z"
        },
        "papermill": {
          "duration": 0.039894,
          "end_time": "2021-07-27T19:22:14.127839",
          "exception": false,
          "start_time": "2021-07-27T19:22:14.087945",
          "status": "completed"
        },
        "tags": [],
        "id": "04c3a880"
      },
      "source": [
        "# lgbm = LGBMRegressor()\n",
        "# _target = 'target_carbon_monoxide'\n",
        "# X = np.array(train_df[list(test_df.columns.values)[1:]].values, dtype='float32')\n",
        "# y = np.squeeze(np.array(train_df[[_target]].values, dtype='float32'))\n",
        "# params = {\n",
        "#     'num_leaves': [16, 21, 26],\n",
        "#     'learning_rate': [0.001, 0.003, 0.005],\n",
        "#     'max_depth': [6, 7, 8],\n",
        "#     'n_estimators': [700, 1000, 1300],\n",
        "#     'min_data_in_leaf': [5, 20]\n",
        "# }\n",
        "# grid= GridSearchCV(estimator=lgbm, param_grid = params, cv = 5, n_jobs=-1, verbose=True)\n",
        "# grid.fit(X, y)\n",
        "# print('=====================================', 'target: ', _target)\n",
        "# print(grid.best_estimator_)\n",
        "# print('-------------------------------------')\n",
        "# print(grid.best_score_)\n",
        "# print('-------------------------------------')\n",
        "# print(grid.best_params_)"
      ],
      "id": "04c3a880",
      "execution_count": null,
      "outputs": []
    },
    {
      "cell_type": "code",
      "metadata": {
        "_kg_hide-input": true,
        "execution": {
          "iopub.execute_input": "2021-07-27T19:22:14.195741Z",
          "iopub.status.busy": "2021-07-27T19:22:14.194780Z",
          "iopub.status.idle": "2021-07-27T19:22:14.197996Z",
          "shell.execute_reply": "2021-07-27T19:22:14.197525Z",
          "shell.execute_reply.started": "2021-07-27T19:18:35.165830Z"
        },
        "papermill": {
          "duration": 0.038811,
          "end_time": "2021-07-27T19:22:14.198130",
          "exception": false,
          "start_time": "2021-07-27T19:22:14.159319",
          "status": "completed"
        },
        "tags": [],
        "id": "71e3652d"
      },
      "source": [
        "# lgbm = LGBMRegressor()\n",
        "# _target = 'target_benzene'\n",
        "# X = np.array(train_df[list(test_df.columns.values)[1:]].values, dtype='float32')\n",
        "# y = np.squeeze(np.array(train_df[[_target]].values, dtype='float32'))\n",
        "# params = {\n",
        "#     'num_leaves': [3, 5, 7],\n",
        "#     'learning_rate': [0.003, 0.01, 0.03],\n",
        "#     'max_depth': [3, 4, 5],\n",
        "#     'n_estimators': [700, 1000, 1300]\n",
        "# }\n",
        "# grid= GridSearchCV(estimator=lgbm, param_grid = params, cv = 5, n_jobs=-1, verbose=True)\n",
        "# grid.fit(X, y)\n",
        "# print('=====================================', 'target: ', _target)\n",
        "# print(grid.best_estimator_)\n",
        "# print('-------------------------------------')\n",
        "# print(grid.best_score_)\n",
        "# print('-------------------------------------')\n",
        "# print(grid.best_params_)"
      ],
      "id": "71e3652d",
      "execution_count": null,
      "outputs": []
    },
    {
      "cell_type": "code",
      "metadata": {
        "_kg_hide-input": true,
        "execution": {
          "iopub.execute_input": "2021-07-27T19:22:14.264194Z",
          "iopub.status.busy": "2021-07-27T19:22:14.263549Z",
          "iopub.status.idle": "2021-07-27T19:22:14.267040Z",
          "shell.execute_reply": "2021-07-27T19:22:14.267514Z",
          "shell.execute_reply.started": "2021-07-27T19:18:35.178180Z"
        },
        "papermill": {
          "duration": 0.038189,
          "end_time": "2021-07-27T19:22:14.267684",
          "exception": false,
          "start_time": "2021-07-27T19:22:14.229495",
          "status": "completed"
        },
        "tags": [],
        "id": "626904f4"
      },
      "source": [
        "# lgbm = LGBMRegressor()\n",
        "# _target = 'target_nitrogen_oxides'\n",
        "# X = np.array(train_df[list(test_df.columns.values)[1:]].values, dtype='float32')\n",
        "# y = np.squeeze(np.array(train_df[[_target]].values, dtype='float32'))\n",
        "# params = {\n",
        "#     'num_leaves': [3, 4, 5],\n",
        "#     'learning_rate': [0.2, 0.1, 0.05],\n",
        "#     'max_depth': [-1, 5, 10],\n",
        "#     'n_estimators': [300, 500, 800]\n",
        "# }\n",
        "# grid= GridSearchCV(estimator=lgbm, param_grid = params, cv = 5, n_jobs=-1, verbose=True)\n",
        "# grid.fit(X, y)\n",
        "# print('=====================================', 'target: ', _target)\n",
        "# print(grid.best_estimator_)\n",
        "# print('-------------------------------------')\n",
        "# print(grid.best_score_)\n",
        "# print('-------------------------------------')\n",
        "# print(grid.best_params_)"
      ],
      "id": "626904f4",
      "execution_count": null,
      "outputs": []
    },
    {
      "cell_type": "markdown",
      "metadata": {
        "papermill": {
          "duration": 0.031155,
          "end_time": "2021-07-27T19:22:14.330906",
          "exception": false,
          "start_time": "2021-07-27T19:22:14.299751",
          "status": "completed"
        },
        "tags": [],
        "id": "f4688360"
      },
      "source": [
        "### LGBMRegressor"
      ],
      "id": "f4688360"
    },
    {
      "cell_type": "code",
      "metadata": {
        "_kg_hide-input": true,
        "execution": {
          "iopub.execute_input": "2021-07-27T19:22:14.400147Z",
          "iopub.status.busy": "2021-07-27T19:22:14.399089Z",
          "iopub.status.idle": "2021-07-27T19:22:14.404418Z",
          "shell.execute_reply": "2021-07-27T19:22:14.403864Z",
          "shell.execute_reply.started": "2021-07-27T19:18:35.191559Z"
        },
        "papermill": {
          "duration": 0.041793,
          "end_time": "2021-07-27T19:22:14.404571",
          "exception": false,
          "start_time": "2021-07-27T19:22:14.362778",
          "status": "completed"
        },
        "tags": [],
        "id": "f4bb7118"
      },
      "source": [
        "# ===================================== target:  target_carbon_monoxide\n",
        "# LGBMRegressor(learning_rate=0.005, max_depth=7, min_data_in_leaf=20,\n",
        "#               n_estimators=1300, num_leaves=26)\n",
        "# -------------------------------------\n",
        "# 0.8820984830544785\n",
        "# -------------------------------------\n",
        "# {'learning_rate': 0.005, 'max_depth': 7, 'min_data_in_leaf': 20, 'n_estimators': 1300, 'num_leaves': 26}\n",
        "\n",
        "# ===================================== target:  target_benzene\n",
        "# LGBMRegressor(learning_rate=0.03, max_depth=3, n_estimators=700, num_leaves=7)\n",
        "# -------------------------------------\n",
        "# 0.9719938458962158\n",
        "# -------------------------------------\n",
        "# {'learning_rate': 0.03, 'max_depth': 3, 'n_estimators': 700, 'num_leaves': 7}\n",
        "# ===================================== target:  target_nitrogen_oxides\n",
        "# LGBMRegressor(n_estimators=300, num_leaves=4)\n",
        "# -------------------------------------\n",
        "# 0.5840828704905612\n",
        "# -------------------------------------\n",
        "# {'learning_rate': 0.1, 'max_depth': -1, 'n_estimators': 300, 'num_leaves': 4}"
      ],
      "id": "f4bb7118",
      "execution_count": null,
      "outputs": []
    },
    {
      "cell_type": "code",
      "metadata": {
        "execution": {
          "iopub.execute_input": "2021-07-27T19:22:14.474224Z",
          "iopub.status.busy": "2021-07-27T19:22:14.473177Z",
          "iopub.status.idle": "2021-07-27T19:22:14.476358Z",
          "shell.execute_reply": "2021-07-27T19:22:14.475836Z",
          "shell.execute_reply.started": "2021-07-27T19:18:35.207830Z"
        },
        "papermill": {
          "duration": 0.040496,
          "end_time": "2021-07-27T19:22:14.476516",
          "exception": false,
          "start_time": "2021-07-27T19:22:14.436020",
          "status": "completed"
        },
        "tags": [],
        "id": "ba4875e8"
      },
      "source": [
        "lgbm_regs = {}\n",
        "\n",
        "lgbm_regs['target_carbon_monoxide'] = LGBMRegressor(\n",
        "                        num_leaves=26,\n",
        "                        learning_rate=0.005,\n",
        "                        max_depth= 7,\n",
        "                        n_estimators=1300)\n",
        "\n",
        "lgbm_regs['target_benzene'] = LGBMRegressor(\n",
        "                        num_leaves=7,\n",
        "                        learning_rate=0.03,\n",
        "                        max_depth= 3,\n",
        "                        n_estimators=700)\n",
        "\n",
        "lgbm_regs['target_nitrogen_oxides'] = LGBMRegressor(\n",
        "                        num_leaves=4,\n",
        "                        learning_rate=0.1,\n",
        "                        max_depth= -1,\n",
        "                        n_estimators=300)\n"
      ],
      "id": "ba4875e8",
      "execution_count": null,
      "outputs": []
    },
    {
      "cell_type": "markdown",
      "metadata": {
        "papermill": {
          "duration": 0.031219,
          "end_time": "2021-07-27T19:22:14.539237",
          "exception": false,
          "start_time": "2021-07-27T19:22:14.508018",
          "status": "completed"
        },
        "tags": [],
        "id": "bc6360ce"
      },
      "source": [
        "### submission"
      ],
      "id": "bc6360ce"
    },
    {
      "cell_type": "code",
      "metadata": {
        "execution": {
          "iopub.execute_input": "2021-07-27T19:22:14.605446Z",
          "iopub.status.busy": "2021-07-27T19:22:14.604746Z",
          "iopub.status.idle": "2021-07-27T19:22:14.607880Z",
          "shell.execute_reply": "2021-07-27T19:22:14.608386Z",
          "shell.execute_reply.started": "2021-07-27T19:18:35.223802Z"
        },
        "papermill": {
          "duration": 0.037819,
          "end_time": "2021-07-27T19:22:14.608556",
          "exception": false,
          "start_time": "2021-07-27T19:22:14.570737",
          "status": "completed"
        },
        "tags": [],
        "id": "75ac8b8a"
      },
      "source": [
        "submit = True"
      ],
      "id": "75ac8b8a",
      "execution_count": null,
      "outputs": []
    },
    {
      "cell_type": "code",
      "metadata": {
        "execution": {
          "iopub.execute_input": "2021-07-27T19:22:14.675067Z",
          "iopub.status.busy": "2021-07-27T19:22:14.674401Z",
          "iopub.status.idle": "2021-07-27T19:22:21.909912Z",
          "shell.execute_reply": "2021-07-27T19:22:21.910516Z",
          "shell.execute_reply.started": "2021-07-27T19:18:35.236497Z"
        },
        "papermill": {
          "duration": 7.27054,
          "end_time": "2021-07-27T19:22:21.910735",
          "exception": false,
          "start_time": "2021-07-27T19:22:14.640195",
          "status": "completed"
        },
        "tags": [],
        "id": "4c35076d",
        "outputId": "00d46ced-6d49-4e92-af42-040fb8908fcb"
      },
      "source": [
        "submission = submission_ex.copy()\n",
        "\n",
        "for _target in ['target_carbon_monoxide', 'target_benzene','target_nitrogen_oxides']:\n",
        "    X = np.array(train_df[list(test_df.columns.values)[1:]].values, dtype='float32')\n",
        "    y = np.squeeze(np.array(targets_df[[_target]].values, dtype='float32'))\n",
        "    X_test = np.array(test_df.iloc[:,1:].values, dtype='float32')\n",
        "    if not submit:\n",
        "#         X, X_val, y, y_val = train_test_split(X, y, test_size=0.2, random_state=423)\n",
        "        X, X_val = X[:5500], X[5500:]\n",
        "        y, y_val = y[:5500], y[5500:]\n",
        "        lgbm_regs[_target].fit(X, y)\n",
        "        p1 = lgbm_regs[_target].predict(X_val)\n",
        "        print('target: ', _target)\n",
        "        print('rmsle: ', root_mean_squared_log_error(y_val, p1))\n",
        "        \n",
        "        fig = plt.figure(figsize = (30, 15))\n",
        "        g = targets_df.iloc[5500:,:].reset_index()[_target].plot()\n",
        "        tmp_col = pd.DataFrame(data=p1, columns=['tmp'])\n",
        "        g = tmp_col['tmp'].plot(alpha = 0.7)\n",
        "        \n",
        "        g.legend([_target])\n",
        "    else:\n",
        "        print('submit: ', _target)\n",
        "        lgbm_regs[_target].fit(X, y)\n",
        "        p1 = lgbm_regs[_target].predict(X_test)\n",
        "        submission[_target] = p1\n"
      ],
      "id": "4c35076d",
      "execution_count": null,
      "outputs": [
        {
          "output_type": "stream",
          "text": [
            "submit:  target_carbon_monoxide\n",
            "submit:  target_benzene\n",
            "submit:  target_nitrogen_oxides\n"
          ],
          "name": "stdout"
        }
      ]
    },
    {
      "cell_type": "code",
      "metadata": {
        "execution": {
          "iopub.execute_input": "2021-07-27T19:22:21.984515Z",
          "iopub.status.busy": "2021-07-27T19:22:21.983812Z",
          "iopub.status.idle": "2021-07-27T19:22:22.024024Z",
          "shell.execute_reply": "2021-07-27T19:22:22.023474Z",
          "shell.execute_reply.started": "2021-07-27T19:18:42.349473Z"
        },
        "papermill": {
          "duration": 0.07745,
          "end_time": "2021-07-27T19:22:22.024170",
          "exception": false,
          "start_time": "2021-07-27T19:22:21.946720",
          "status": "completed"
        },
        "tags": [],
        "id": "c03548b2",
        "outputId": "04a75d89-bd06-4202-d451-8ea9604bd557"
      },
      "source": [
        "submission.to_csv('submission.csv', index=False)\n",
        "\n",
        "test = pd.read_csv('submission.csv')\n",
        "test.tail()"
      ],
      "id": "c03548b2",
      "execution_count": null,
      "outputs": [
        {
          "output_type": "execute_result",
          "data": {
            "text/html": [
              "<div>\n",
              "<style scoped>\n",
              "    .dataframe tbody tr th:only-of-type {\n",
              "        vertical-align: middle;\n",
              "    }\n",
              "\n",
              "    .dataframe tbody tr th {\n",
              "        vertical-align: top;\n",
              "    }\n",
              "\n",
              "    .dataframe thead th {\n",
              "        text-align: right;\n",
              "    }\n",
              "</style>\n",
              "<table border=\"1\" class=\"dataframe\">\n",
              "  <thead>\n",
              "    <tr style=\"text-align: right;\">\n",
              "      <th></th>\n",
              "      <th>date_time</th>\n",
              "      <th>target_carbon_monoxide</th>\n",
              "      <th>target_benzene</th>\n",
              "      <th>target_nitrogen_oxides</th>\n",
              "    </tr>\n",
              "  </thead>\n",
              "  <tbody>\n",
              "    <tr>\n",
              "      <th>2242</th>\n",
              "      <td>2011-04-04 10:00:00</td>\n",
              "      <td>2.800043</td>\n",
              "      <td>13.188567</td>\n",
              "      <td>528.449642</td>\n",
              "    </tr>\n",
              "    <tr>\n",
              "      <th>2243</th>\n",
              "      <td>2011-04-04 11:00:00</td>\n",
              "      <td>2.314215</td>\n",
              "      <td>10.487288</td>\n",
              "      <td>406.530389</td>\n",
              "    </tr>\n",
              "    <tr>\n",
              "      <th>2244</th>\n",
              "      <td>2011-04-04 12:00:00</td>\n",
              "      <td>2.521941</td>\n",
              "      <td>12.628235</td>\n",
              "      <td>402.429900</td>\n",
              "    </tr>\n",
              "    <tr>\n",
              "      <th>2245</th>\n",
              "      <td>2011-04-04 13:00:00</td>\n",
              "      <td>2.271611</td>\n",
              "      <td>10.422693</td>\n",
              "      <td>367.823033</td>\n",
              "    </tr>\n",
              "    <tr>\n",
              "      <th>2246</th>\n",
              "      <td>2011-04-04 14:00:00</td>\n",
              "      <td>2.507134</td>\n",
              "      <td>12.959961</td>\n",
              "      <td>365.336103</td>\n",
              "    </tr>\n",
              "  </tbody>\n",
              "</table>\n",
              "</div>"
            ],
            "text/plain": [
              "                date_time  target_carbon_monoxide  target_benzene  \\\n",
              "2242  2011-04-04 10:00:00                2.800043       13.188567   \n",
              "2243  2011-04-04 11:00:00                2.314215       10.487288   \n",
              "2244  2011-04-04 12:00:00                2.521941       12.628235   \n",
              "2245  2011-04-04 13:00:00                2.271611       10.422693   \n",
              "2246  2011-04-04 14:00:00                2.507134       12.959961   \n",
              "\n",
              "      target_nitrogen_oxides  \n",
              "2242              528.449642  \n",
              "2243              406.530389  \n",
              "2244              402.429900  \n",
              "2245              367.823033  \n",
              "2246              365.336103  "
            ]
          },
          "metadata": {
            "tags": []
          },
          "execution_count": 28
        }
      ]
    },
    {
      "cell_type": "code",
      "metadata": {
        "execution": {
          "iopub.execute_input": "2021-07-27T19:22:22.103759Z",
          "iopub.status.busy": "2021-07-27T19:22:22.103037Z",
          "iopub.status.idle": "2021-07-27T19:22:22.107568Z",
          "shell.execute_reply": "2021-07-27T19:22:22.106872Z",
          "shell.execute_reply.started": "2021-07-27T19:19:19.131391Z"
        },
        "papermill": {
          "duration": 0.049146,
          "end_time": "2021-07-27T19:22:22.107712",
          "exception": false,
          "start_time": "2021-07-27T19:22:22.058566",
          "status": "completed"
        },
        "tags": [],
        "id": "09f8d8eb",
        "outputId": "e432ca48-79a2-4709-93aa-7bf1ff026b82"
      },
      "source": [
        "test.head()"
      ],
      "id": "09f8d8eb",
      "execution_count": null,
      "outputs": [
        {
          "output_type": "execute_result",
          "data": {
            "text/html": [
              "<div>\n",
              "<style scoped>\n",
              "    .dataframe tbody tr th:only-of-type {\n",
              "        vertical-align: middle;\n",
              "    }\n",
              "\n",
              "    .dataframe tbody tr th {\n",
              "        vertical-align: top;\n",
              "    }\n",
              "\n",
              "    .dataframe thead th {\n",
              "        text-align: right;\n",
              "    }\n",
              "</style>\n",
              "<table border=\"1\" class=\"dataframe\">\n",
              "  <thead>\n",
              "    <tr style=\"text-align: right;\">\n",
              "      <th></th>\n",
              "      <th>date_time</th>\n",
              "      <th>target_carbon_monoxide</th>\n",
              "      <th>target_benzene</th>\n",
              "      <th>target_nitrogen_oxides</th>\n",
              "    </tr>\n",
              "  </thead>\n",
              "  <tbody>\n",
              "    <tr>\n",
              "      <th>0</th>\n",
              "      <td>2011-01-01 00:00:00</td>\n",
              "      <td>1.924428</td>\n",
              "      <td>5.342285</td>\n",
              "      <td>227.913696</td>\n",
              "    </tr>\n",
              "    <tr>\n",
              "      <th>1</th>\n",
              "      <td>2011-01-01 01:00:00</td>\n",
              "      <td>2.199655</td>\n",
              "      <td>7.303215</td>\n",
              "      <td>302.246362</td>\n",
              "    </tr>\n",
              "    <tr>\n",
              "      <th>2</th>\n",
              "      <td>2011-01-01 02:00:00</td>\n",
              "      <td>2.025452</td>\n",
              "      <td>7.184037</td>\n",
              "      <td>239.798233</td>\n",
              "    </tr>\n",
              "    <tr>\n",
              "      <th>3</th>\n",
              "      <td>2011-01-01 03:00:00</td>\n",
              "      <td>2.104262</td>\n",
              "      <td>8.396122</td>\n",
              "      <td>265.972374</td>\n",
              "    </tr>\n",
              "    <tr>\n",
              "      <th>4</th>\n",
              "      <td>2011-01-01 04:00:00</td>\n",
              "      <td>1.588538</td>\n",
              "      <td>6.563832</td>\n",
              "      <td>170.951164</td>\n",
              "    </tr>\n",
              "  </tbody>\n",
              "</table>\n",
              "</div>"
            ],
            "text/plain": [
              "             date_time  target_carbon_monoxide  target_benzene  \\\n",
              "0  2011-01-01 00:00:00                1.924428        5.342285   \n",
              "1  2011-01-01 01:00:00                2.199655        7.303215   \n",
              "2  2011-01-01 02:00:00                2.025452        7.184037   \n",
              "3  2011-01-01 03:00:00                2.104262        8.396122   \n",
              "4  2011-01-01 04:00:00                1.588538        6.563832   \n",
              "\n",
              "   target_nitrogen_oxides  \n",
              "0              227.913696  \n",
              "1              302.246362  \n",
              "2              239.798233  \n",
              "3              265.972374  \n",
              "4              170.951164  "
            ]
          },
          "metadata": {
            "tags": []
          },
          "execution_count": 29
        }
      ]
    }
  ]
}