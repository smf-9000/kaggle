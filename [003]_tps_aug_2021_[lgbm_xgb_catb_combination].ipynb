{
  "nbformat": 4,
  "nbformat_minor": 0,
  "metadata": {
    "kernelspec": {
      "language": "python",
      "display_name": "Python 3",
      "name": "python3"
    },
    "language_info": {
      "name": "python",
      "version": "3.7.10",
      "mimetype": "text/x-python",
      "codemirror_mode": {
        "name": "ipython",
        "version": 3
      },
      "pygments_lexer": "ipython3",
      "nbconvert_exporter": "python",
      "file_extension": ".py"
    },
    "colab": {
      "name": "[003]-tps-aug-2021 [lgbm-xgb-catb-combination].ipynb",
      "provenance": [],
      "include_colab_link": true
    }
  },
  "cells": [
    {
      "cell_type": "markdown",
      "metadata": {
        "id": "view-in-github",
        "colab_type": "text"
      },
      "source": [
        "<a href=\"https://colab.research.google.com/github/smf-9000/kaggle/blob/main/%5B003%5D_tps_aug_2021_%5Blgbm_xgb_catb_combination%5D.ipynb\" target=\"_parent\"><img src=\"https://colab.research.google.com/assets/colab-badge.svg\" alt=\"Open In Colab\"/></a>"
      ]
    },
    {
      "cell_type": "code",
      "metadata": {
        "_cell_guid": "b1076dfc-b9ad-4769-8c92-a6c4dae69d19",
        "_uuid": "8f2839f25d086af736a60e9eeb907d3b93b6e0e5",
        "papermill": {
          "duration": 0.048787,
          "end_time": "2021-08-05T17:10:54.351074",
          "exception": false,
          "start_time": "2021-08-05T17:10:54.302287",
          "status": "completed"
        },
        "tags": [],
        "execution": {
          "iopub.status.busy": "2021-08-14T15:30:24.145519Z",
          "iopub.execute_input": "2021-08-14T15:30:24.146048Z",
          "iopub.status.idle": "2021-08-14T15:30:24.173385Z",
          "shell.execute_reply.started": "2021-08-14T15:30:24.145941Z",
          "shell.execute_reply": "2021-08-14T15:30:24.171402Z"
        },
        "trusted": true,
        "id": "G_Hd2t-P5o4M"
      },
      "source": [
        "%config Completer.use_jedi = False"
      ],
      "execution_count": null,
      "outputs": []
    },
    {
      "cell_type": "code",
      "metadata": {
        "execution": {
          "iopub.status.busy": "2021-08-14T15:30:24.175855Z",
          "iopub.execute_input": "2021-08-14T15:30:24.176504Z",
          "iopub.status.idle": "2021-08-14T15:30:24.189197Z",
          "shell.execute_reply.started": "2021-08-14T15:30:24.176448Z",
          "shell.execute_reply": "2021-08-14T15:30:24.187812Z"
        },
        "trusted": true,
        "id": "i_eyxZg75o4P"
      },
      "source": [
        "# !pip3 show lightgbm"
      ],
      "execution_count": null,
      "outputs": []
    },
    {
      "cell_type": "code",
      "metadata": {
        "papermill": {
          "duration": 8.727444,
          "end_time": "2021-08-05T17:11:03.104983",
          "exception": false,
          "start_time": "2021-08-05T17:10:54.377539",
          "status": "completed"
        },
        "tags": [],
        "execution": {
          "iopub.status.busy": "2021-08-14T15:30:24.191877Z",
          "iopub.execute_input": "2021-08-14T15:30:24.192237Z",
          "iopub.status.idle": "2021-08-14T15:30:28.251001Z",
          "shell.execute_reply.started": "2021-08-14T15:30:24.192204Z",
          "shell.execute_reply": "2021-08-14T15:30:28.249732Z"
        },
        "trusted": true,
        "id": "m9OtGHVm5o4W",
        "outputId": "0bf7d522-b9a0-4ac7-8f90-b2933ec3bfe8"
      },
      "source": [
        "import numpy as np\n",
        "import pandas as pd\n",
        "import seaborn as sns\n",
        "import matplotlib.pyplot as plt\n",
        "from matplotlib.pyplot import imshow, imread\n",
        "\n",
        "from sklearn.model_selection import train_test_split, GridSearchCV\n",
        "from sklearn.linear_model import Ridge\n",
        "from sklearn.model_selection import KFold\n",
        "from sklearn.preprocessing import PolynomialFeatures\n",
        "from sklearn.pipeline import Pipeline\n",
        "from sklearn.metrics import mean_squared_error\n",
        "\n",
        "from statsmodels.nonparametric.smoothers_lowess import lowess\n",
        "\n",
        "import lightgbm as lgb\n",
        "import xgboost as xgb\n",
        "from catboost import CatBoostRegressor\n",
        "\n",
        "import warnings\n",
        "\n",
        "# from bayes_opt import BayesianOptimization\n",
        "\n",
        "import optuna\n",
        "\n",
        "import os\n",
        "for dirname, _, filenames in os.walk('/kaggle/input'):\n",
        "    for filename in filenames:\n",
        "        print(os.path.join(dirname, filename))"
      ],
      "execution_count": null,
      "outputs": [
        {
          "output_type": "display_data",
          "data": {
            "text/plain": [
              "<IPython.core.display.HTML object>"
            ],
            "text/html": [
              "<style type='text/css'>\n",
              ".datatable table.frame { margin-bottom: 0; }\n",
              ".datatable table.frame thead { border-bottom: none; }\n",
              ".datatable table.frame tr.coltypes td {  color: #FFFFFF;  line-height: 6px;  padding: 0 0.5em;}\n",
              ".datatable .bool    { background: #DDDD99; }\n",
              ".datatable .object  { background: #565656; }\n",
              ".datatable .int     { background: #5D9E5D; }\n",
              ".datatable .float   { background: #4040CC; }\n",
              ".datatable .str     { background: #CC4040; }\n",
              ".datatable .time    { background: #40CC40; }\n",
              ".datatable .row_index {  background: var(--jp-border-color3);  border-right: 1px solid var(--jp-border-color0);  color: var(--jp-ui-font-color3);  font-size: 9px;}\n",
              ".datatable .frame tbody td { text-align: left; }\n",
              ".datatable .frame tr.coltypes .row_index {  background: var(--jp-border-color0);}\n",
              ".datatable th:nth-child(2) { padding-left: 12px; }\n",
              ".datatable .hellipsis {  color: var(--jp-cell-editor-border-color);}\n",
              ".datatable .vellipsis {  background: var(--jp-layout-color0);  color: var(--jp-cell-editor-border-color);}\n",
              ".datatable .na {  color: var(--jp-cell-editor-border-color);  font-size: 80%;}\n",
              ".datatable .sp {  opacity: 0.25;}\n",
              ".datatable .footer { font-size: 9px; }\n",
              ".datatable .frame_dimensions {  background: var(--jp-border-color3);  border-top: 1px solid var(--jp-border-color0);  color: var(--jp-ui-font-color3);  display: inline-block;  opacity: 0.6;  padding: 1px 10px 1px 5px;}\n",
              "</style>\n"
            ]
          },
          "metadata": {
            "tags": []
          }
        },
        {
          "output_type": "stream",
          "text": [
            "/kaggle/input/003-tps/ridge_y_df.csv\n",
            "/kaggle/input/003-tps/ridge_train_df.csv\n",
            "/kaggle/input/tabular-playground-series-aug-2021/sample_submission.csv\n",
            "/kaggle/input/tabular-playground-series-aug-2021/train.csv\n",
            "/kaggle/input/tabular-playground-series-aug-2021/test.csv\n"
          ],
          "name": "stdout"
        }
      ]
    },
    {
      "cell_type": "code",
      "metadata": {
        "papermill": {
          "duration": 11.002426,
          "end_time": "2021-08-05T17:11:14.134134",
          "exception": false,
          "start_time": "2021-08-05T17:11:03.131708",
          "status": "completed"
        },
        "tags": [],
        "execution": {
          "iopub.status.busy": "2021-08-14T15:30:28.252923Z",
          "iopub.execute_input": "2021-08-14T15:30:28.253295Z",
          "iopub.status.idle": "2021-08-14T15:30:41.077913Z",
          "shell.execute_reply.started": "2021-08-14T15:30:28.253260Z",
          "shell.execute_reply": "2021-08-14T15:30:41.076682Z"
        },
        "trusted": true,
        "id": "6BX33_zZ5o4a"
      },
      "source": [
        "submission_ex = pd.read_csv('/kaggle/input/tabular-playground-series-aug-2021/sample_submission.csv')\n",
        "train_df = pd.read_csv('/kaggle/input/tabular-playground-series-aug-2021/train.csv')\n",
        "test_df = pd.read_csv('/kaggle/input/tabular-playground-series-aug-2021/test.csv')"
      ],
      "execution_count": null,
      "outputs": []
    },
    {
      "cell_type": "code",
      "metadata": {
        "papermill": {
          "duration": 0.127585,
          "end_time": "2021-08-05T17:11:14.288095",
          "exception": false,
          "start_time": "2021-08-05T17:11:14.16051",
          "status": "completed"
        },
        "tags": [],
        "execution": {
          "iopub.status.busy": "2021-08-14T15:30:41.079443Z",
          "iopub.execute_input": "2021-08-14T15:30:41.079788Z",
          "iopub.status.idle": "2021-08-14T15:30:41.226916Z",
          "shell.execute_reply.started": "2021-08-14T15:30:41.079752Z",
          "shell.execute_reply": "2021-08-14T15:30:41.225738Z"
        },
        "trusted": true,
        "id": "0ZQTwXhA5o4b"
      },
      "source": [
        "targets_df = train_df[['loss']].copy()\n",
        "train_df.drop(['loss'], axis=1, inplace=True)"
      ],
      "execution_count": null,
      "outputs": []
    },
    {
      "cell_type": "code",
      "metadata": {
        "execution": {
          "iopub.status.busy": "2021-08-14T15:30:41.228676Z",
          "iopub.execute_input": "2021-08-14T15:30:41.229078Z",
          "iopub.status.idle": "2021-08-14T15:30:51.899674Z",
          "shell.execute_reply.started": "2021-08-14T15:30:41.229040Z",
          "shell.execute_reply": "2021-08-14T15:30:51.898693Z"
        },
        "trusted": true,
        "id": "G5lVo5DF5o4b"
      },
      "source": [
        "from sklearn.cluster import KMeans\n",
        "\n",
        "n_clusters = 2\n",
        "\n",
        "all_df = pd.concat([train_df, test_df])\n",
        "data = all_df.values\n",
        "km = KMeans(n_clusters = n_clusters)\n",
        "km.fit(data)\n",
        "k_clus = km.labels_\n",
        "\n",
        "# one_h_clus = np.zeros((k_clus.size, k_clus.max()+1))\n",
        "# one_h_clus[np.arange(k_clus.size), k_clus] = 1\n",
        "# for i in range(n_clusters):\n",
        "#     all_df['clus_' + str(i)] = one_h_clus[:,i]\n",
        "\n",
        "# all_df['k_clus'] = k_clus\n",
        "_dist = km.transform(data)\n",
        "_dict = {'dist_from_' + str(i): _dist[:,i] for i in range(n_clusters)}\n",
        "for k, v in _dict.items():\n",
        "    all_df[k] = v\n",
        "train_df, test_df = all_df.iloc[:train_df.shape[0],:].copy(), all_df.iloc[-test_df.shape[0]:,:].copy()"
      ],
      "execution_count": null,
      "outputs": []
    },
    {
      "cell_type": "code",
      "metadata": {
        "execution": {
          "iopub.status.busy": "2021-08-14T15:30:51.901406Z",
          "iopub.execute_input": "2021-08-14T15:30:51.902155Z",
          "iopub.status.idle": "2021-08-14T15:30:51.907516Z",
          "shell.execute_reply.started": "2021-08-14T15:30:51.902108Z",
          "shell.execute_reply": "2021-08-14T15:30:51.906444Z"
        },
        "trusted": true,
        "id": "N02F1Aah5o4c"
      },
      "source": [
        "# pd.value_counts(targets_df.loss)"
      ],
      "execution_count": null,
      "outputs": []
    },
    {
      "cell_type": "code",
      "metadata": {
        "execution": {
          "iopub.status.busy": "2021-08-14T15:30:51.910623Z",
          "iopub.execute_input": "2021-08-14T15:30:51.912719Z",
          "iopub.status.idle": "2021-08-14T15:30:51.920354Z",
          "shell.execute_reply.started": "2021-08-14T15:30:51.912650Z",
          "shell.execute_reply": "2021-08-14T15:30:51.919232Z"
        },
        "trusted": true,
        "id": "KaHCD0Kj5o4c"
      },
      "source": [
        "# pd.value_counts(train_df.k_clus)"
      ],
      "execution_count": null,
      "outputs": []
    },
    {
      "cell_type": "code",
      "metadata": {
        "execution": {
          "iopub.status.busy": "2021-08-14T15:30:51.926303Z",
          "iopub.execute_input": "2021-08-14T15:30:51.927350Z",
          "iopub.status.idle": "2021-08-14T15:30:51.933274Z",
          "shell.execute_reply.started": "2021-08-14T15:30:51.927289Z",
          "shell.execute_reply": "2021-08-14T15:30:51.932115Z"
        },
        "trusted": true,
        "id": "faUSJPcV5o4d"
      },
      "source": [
        "# pd.value_counts(test_df.k_clus)"
      ],
      "execution_count": null,
      "outputs": []
    },
    {
      "cell_type": "code",
      "metadata": {
        "execution": {
          "iopub.status.busy": "2021-08-14T15:30:51.936244Z",
          "iopub.execute_input": "2021-08-14T15:30:51.937300Z",
          "iopub.status.idle": "2021-08-14T15:30:52.282579Z",
          "shell.execute_reply.started": "2021-08-14T15:30:51.937239Z",
          "shell.execute_reply": "2021-08-14T15:30:52.281707Z"
        },
        "trusted": true,
        "id": "bmR2RZVb5o4d"
      },
      "source": [
        "train_df.drop(['id'], axis=1, inplace=True) "
      ],
      "execution_count": null,
      "outputs": []
    },
    {
      "cell_type": "code",
      "metadata": {
        "papermill": {
          "duration": 0.034169,
          "end_time": "2021-08-05T17:11:14.553755",
          "exception": false,
          "start_time": "2021-08-05T17:11:14.519586",
          "status": "completed"
        },
        "tags": [],
        "execution": {
          "iopub.status.busy": "2021-08-14T15:30:52.284347Z",
          "iopub.execute_input": "2021-08-14T15:30:52.284826Z",
          "iopub.status.idle": "2021-08-14T15:30:52.289553Z",
          "shell.execute_reply.started": "2021-08-14T15:30:52.284752Z",
          "shell.execute_reply": "2021-08-14T15:30:52.288211Z"
        },
        "trusted": true,
        "id": "uAblBKzV5o4e"
      },
      "source": [
        "# warnings.filterwarnings(\"ignore\")\n",
        "\n",
        "# # ################################################################\n",
        "# fig = plt.figure(figsize = (30,30))\n",
        "# ax = fig.gca()\n",
        "# hist = train_df.hist(bins=50, ax = ax)"
      ],
      "execution_count": null,
      "outputs": []
    },
    {
      "cell_type": "code",
      "metadata": {
        "papermill": {
          "duration": 0.032762,
          "end_time": "2021-08-05T17:11:14.612687",
          "exception": false,
          "start_time": "2021-08-05T17:11:14.579925",
          "status": "completed"
        },
        "tags": [],
        "execution": {
          "iopub.status.busy": "2021-08-14T15:30:52.291530Z",
          "iopub.execute_input": "2021-08-14T15:30:52.292038Z",
          "iopub.status.idle": "2021-08-14T15:30:52.302662Z",
          "shell.execute_reply.started": "2021-08-14T15:30:52.291985Z",
          "shell.execute_reply": "2021-08-14T15:30:52.301423Z"
        },
        "trusted": true,
        "id": "-nNhPanh5o4e"
      },
      "source": [
        "# for c in train_df.columns:\n",
        "#     if c != 'id':\n",
        "#         fig = plt.figure(figsize = (30, 3))\n",
        "#         g = train_df.iloc[:500,:][c].plot()\n",
        "#         g = targets_df.iloc[:500,:]['loss'].plot()\n",
        "#         g.legend([c])"
      ],
      "execution_count": null,
      "outputs": []
    },
    {
      "cell_type": "code",
      "metadata": {
        "papermill": {
          "duration": 0.034427,
          "end_time": "2021-08-05T17:11:14.792832",
          "exception": false,
          "start_time": "2021-08-05T17:11:14.758405",
          "status": "completed"
        },
        "tags": [],
        "execution": {
          "iopub.status.busy": "2021-08-14T15:30:52.304602Z",
          "iopub.execute_input": "2021-08-14T15:30:52.305093Z",
          "iopub.status.idle": "2021-08-14T15:30:52.315336Z",
          "shell.execute_reply.started": "2021-08-14T15:30:52.305041Z",
          "shell.execute_reply": "2021-08-14T15:30:52.314138Z"
        },
        "trusted": true,
        "id": "44KAf83e5o4e"
      },
      "source": [
        "# warnings.filterwarnings(\"ignore\")\n",
        "\n",
        "# # ################################################################\n",
        "# fig = plt.figure(figsize = (30,10))\n",
        "# ax = fig.gca()\n",
        "# hist = targets_df[targets_df.columns.values].hist(bins=84, ax = ax)"
      ],
      "execution_count": null,
      "outputs": []
    },
    {
      "cell_type": "code",
      "metadata": {
        "papermill": {
          "duration": 0.033936,
          "end_time": "2021-08-05T17:11:14.854017",
          "exception": false,
          "start_time": "2021-08-05T17:11:14.820081",
          "status": "completed"
        },
        "tags": [],
        "execution": {
          "iopub.status.busy": "2021-08-14T15:30:52.316764Z",
          "iopub.execute_input": "2021-08-14T15:30:52.317149Z",
          "iopub.status.idle": "2021-08-14T15:30:52.329372Z",
          "shell.execute_reply.started": "2021-08-14T15:30:52.317113Z",
          "shell.execute_reply": "2021-08-14T15:30:52.328232Z"
        },
        "trusted": true,
        "id": "FLREg7Id5o4e"
      },
      "source": [
        "# warnings.filterwarnings(\"ignore\")\n",
        "\n",
        "# train_without_zero_loss_df = train_df[targets_df['loss'] != 0]\n",
        "\n",
        "# # ################################################################\n",
        "# fig, axes = plt.subplots(nrows = 10, ncols = 10, figsize=(30, 30))\n",
        "# i = 0\n",
        "# for c in train_df.columns[1:]:\n",
        "#     ax = axes[i // 10, i % 10]\n",
        "#     ax.set_title(c)\n",
        "#     train_df[c].hist(bins=50, ax = ax)\n",
        "#     train_without_zero_loss_df[c].hist(bins=50, ax = ax, alpha = 0.7)\n",
        "#     i += 1"
      ],
      "execution_count": null,
      "outputs": []
    },
    {
      "cell_type": "markdown",
      "metadata": {
        "papermill": {
          "duration": 0.026348,
          "end_time": "2021-08-05T17:11:14.907472",
          "exception": false,
          "start_time": "2021-08-05T17:11:14.881124",
          "status": "completed"
        },
        "tags": [],
        "id": "6kqeXYHq5o4f"
      },
      "source": [
        "### feature correlation"
      ]
    },
    {
      "cell_type": "code",
      "metadata": {
        "papermill": {
          "duration": 0.034713,
          "end_time": "2021-08-05T17:11:14.969044",
          "exception": false,
          "start_time": "2021-08-05T17:11:14.934331",
          "status": "completed"
        },
        "tags": [],
        "execution": {
          "iopub.status.busy": "2021-08-14T15:30:52.331119Z",
          "iopub.execute_input": "2021-08-14T15:30:52.331639Z",
          "iopub.status.idle": "2021-08-14T15:30:52.342593Z",
          "shell.execute_reply.started": "2021-08-14T15:30:52.331586Z",
          "shell.execute_reply": "2021-08-14T15:30:52.341359Z"
        },
        "trusted": true,
        "id": "9mPJ2Uoz5o4f"
      },
      "source": [
        "# qq_df = pd.concat([train_df, targets_df], axis=1, join='inner')\n",
        "\n",
        "# # ################################################################\n",
        "# corr = qq_df.corr()\n",
        "\n",
        "# mask = np.zeros_like(corr)\n",
        "# mask[np.triu_indices_from(mask)] = True\n",
        "\n",
        "# fig = plt.figure(figsize = (25,25))\n",
        "# sns.heatmap(corr, cmap=\"flare\", mask=mask)\n",
        "# plt.show()"
      ],
      "execution_count": null,
      "outputs": []
    },
    {
      "cell_type": "code",
      "metadata": {
        "execution": {
          "iopub.status.busy": "2021-08-14T15:30:52.343928Z",
          "iopub.execute_input": "2021-08-14T15:30:52.344230Z",
          "iopub.status.idle": "2021-08-14T15:30:52.361323Z",
          "shell.execute_reply.started": "2021-08-14T15:30:52.344202Z",
          "shell.execute_reply": "2021-08-14T15:30:52.359980Z"
        },
        "trusted": true,
        "id": "uZayt9kO5o4f"
      },
      "source": [
        "X = train_df\n",
        "y = targets_df[['loss']]"
      ],
      "execution_count": null,
      "outputs": []
    },
    {
      "cell_type": "code",
      "metadata": {
        "execution": {
          "iopub.status.busy": "2021-08-14T15:30:52.362614Z",
          "iopub.execute_input": "2021-08-14T15:30:52.362967Z",
          "iopub.status.idle": "2021-08-14T15:30:52.373593Z",
          "shell.execute_reply.started": "2021-08-14T15:30:52.362931Z",
          "shell.execute_reply": "2021-08-14T15:30:52.371734Z"
        },
        "trusted": true,
        "id": "qOmZu2Qn5o4f"
      },
      "source": [
        "kfolds = KFold(n_splits = 5, shuffle = True) # , random_state = 37"
      ],
      "execution_count": null,
      "outputs": []
    },
    {
      "cell_type": "code",
      "metadata": {
        "execution": {
          "iopub.status.busy": "2021-08-14T15:30:52.375554Z",
          "iopub.execute_input": "2021-08-14T15:30:52.376127Z",
          "iopub.status.idle": "2021-08-14T15:30:52.388652Z",
          "shell.execute_reply.started": "2021-08-14T15:30:52.376061Z",
          "shell.execute_reply": "2021-08-14T15:30:52.387565Z"
        },
        "trusted": true,
        "id": "GEm0g2SL5o4g"
      },
      "source": [
        "def tune(objective):\n",
        "    study = optuna.create_study(direction = \"minimize\")\n",
        "    study.optimize(objective, n_trials = 1000, timeout = 3*60*60) # \"specifying 'timeout' option to Study.optimize() instead of 'n_trials' and set the timeout value as long as time allows?\"\n",
        "    optuna.visualization.plot_optimization_history(study)\n",
        "    params = study.best_params\n",
        "    best_score = study.best_value\n",
        "    print(f\"Best score: {best_score} \\nOptimized parameters: params = {params}\")\n",
        "    return params"
      ],
      "execution_count": null,
      "outputs": []
    },
    {
      "cell_type": "code",
      "metadata": {
        "execution": {
          "iopub.status.busy": "2021-08-14T15:30:52.390293Z",
          "iopub.execute_input": "2021-08-14T15:30:52.390948Z",
          "iopub.status.idle": "2021-08-14T15:30:52.406835Z",
          "shell.execute_reply.started": "2021-08-14T15:30:52.390905Z",
          "shell.execute_reply": "2021-08-14T15:30:52.405878Z"
        },
        "trusted": true,
        "id": "vUAltduV5o4g"
      },
      "source": [
        "def lightgbm_objective(trial):\n",
        "    \n",
        "    params = {\n",
        "        \"objective\": \"rmse\",\n",
        "        \"metric\": \"rmse\",\n",
        "        \"boosting_type\": \"gbdt\",\n",
        "        'n_estimators': trial.suggest_int(\"n_estimators\", 100, 1000),\n",
        "        'max_depth': trial.suggest_int(\"max_depth\", -1, 100),\n",
        "        \"learning_rate\": trial.suggest_float(\"learning_rate\", 0.01, 0.1),\n",
        "        \"lambda_l1\": trial.suggest_loguniform(\"lambda_l1\", 1e-8, 1),\n",
        "        \"lambda_l2\": trial.suggest_loguniform(\"lambda_l2\", 1e-8, 1),\n",
        "        \"num_leaves\": trial.suggest_int(\"num_leaves\", 2, 256),\n",
        "        \"min_child_samples\": trial.suggest_int(\"min_child_samples\", 1, 100),\n",
        "        'feature_fraction': trial.suggest_uniform('feature_fraction', 0.1, 1.0),\n",
        "        'bagging_fraction': trial.suggest_uniform('bagging_fraction', 0.1, 1.0),\n",
        "        'bagging_freq': trial.suggest_int('bagging_freq', 0, 5),\n",
        "#         'device': 'gpu',\n",
        "#         'gpu_platform_id': 0,\n",
        "#         'gpu_device_id': 0\n",
        "    }\n",
        "    \n",
        "    pruning_callback = optuna.integration.LightGBMPruningCallback(trial, 'rmse', valid_name='valid_0')\n",
        "    \n",
        "    model = lgb.LGBMRegressor(**params,\n",
        "                              n_jobs=-1,\n",
        "                              random_state = 37) #,\n",
        "                              # device_type=\"gpu\")\n",
        "    \n",
        "    val_rmse = []\n",
        "    for train_index, test_index in kfolds.split(X):\n",
        " \n",
        "        X_train, X_val = X.iloc[train_index], X.iloc[test_index]\n",
        "        y_train, y_val = y.iloc[train_index], y.iloc[test_index]\n",
        "    \n",
        "        model.fit(\n",
        "            X_train, \n",
        "            y_train, \n",
        "            eval_metric = \"rmse\", \n",
        "            eval_set = [(X_val, y_val)], #(X_train, y_train), \n",
        "            verbose = 100,\n",
        "#             early_stopping_rounds = 20,\n",
        "            callbacks = [pruning_callback])\n",
        "        oof_pred1 = model.predict(X_val)\n",
        "        oof_pred1 = np.clip(oof_pred1, y['loss'].min(), y['loss'].max())\n",
        "        val_rmse.append(mean_squared_error(y_val, oof_pred1, squared = False))\n",
        "    \n",
        "   \n",
        "    score = sum(val_rmse) / len(val_rmse)\n",
        "    \n",
        "    return score\n",
        "    "
      ],
      "execution_count": null,
      "outputs": []
    },
    {
      "cell_type": "code",
      "metadata": {
        "scrolled": true,
        "execution": {
          "iopub.status.busy": "2021-08-14T15:30:52.408138Z",
          "iopub.execute_input": "2021-08-14T15:30:52.408595Z",
          "iopub.status.idle": "2021-08-14T15:30:52.423171Z",
          "shell.execute_reply.started": "2021-08-14T15:30:52.408557Z",
          "shell.execute_reply": "2021-08-14T15:30:52.422160Z"
        },
        "trusted": true,
        "id": "ZNoauvVl5o4h"
      },
      "source": [
        "# lightgbm_params = tune(lightgbm_objective)"
      ],
      "execution_count": null,
      "outputs": []
    },
    {
      "cell_type": "code",
      "metadata": {
        "execution": {
          "iopub.status.busy": "2021-08-14T15:30:52.424458Z",
          "iopub.execute_input": "2021-08-14T15:30:52.425022Z",
          "iopub.status.idle": "2021-08-14T15:30:52.441444Z",
          "shell.execute_reply.started": "2021-08-14T15:30:52.424986Z",
          "shell.execute_reply": "2021-08-14T15:30:52.440478Z"
        },
        "trusted": true,
        "id": "mQFY_L0v5o4j"
      },
      "source": [
        "def xgb_objective(trial):\n",
        "    \n",
        "    params = {\n",
        "        \"verbosity\": 0,\n",
        "        \"objective\": \"reg:squarederror\",\n",
        "        \"tree_method\": \"gpu_hist\", # \n",
        "        \"booster\": \"gbtree\",\n",
        "        \"lambda\": trial.suggest_float(\"lambda\", 1, 10),\n",
        "        \"alpha\": trial.suggest_float(\"alpha\", 0, 10),\n",
        "        \"subsample\": trial.suggest_float(\"subsample\", 0.2, 1.0),\n",
        "        \"colsample_bytree\": trial.suggest_float(\"colsample_bytree\", 0.2, 1.0),\n",
        "        'max_depth': trial.suggest_int(\"max_depth\", 2, 20),\n",
        "        'n_estimators': trial.suggest_int(\"n_estimators\", 100, 1000),\n",
        "        \"learning_rate\": trial.suggest_float(\"learning_rate\", 0.01, 0.1),\n",
        "        'min_child_weight': trial.suggest_int('min_child_weight', 1, 300),\n",
        "    }\n",
        "    \n",
        "    \n",
        "    pruning_callback = optuna.integration.XGBoostPruningCallback(trial, 'validation_0-rmse')\n",
        "    \n",
        "    model = xgb.XGBRegressor(**params,\n",
        "                             n_jobs = 4,\n",
        "                             random_state = 37)\n",
        "\n",
        "    val_rmse = []\n",
        "    for train_index, test_index in kfolds.split(X):\n",
        " \n",
        "        X_train, X_val = X.iloc[train_index], X.iloc[test_index]\n",
        "        y_train, y_val = y.iloc[train_index], y.iloc[test_index]\n",
        "    \n",
        "        model.fit(\n",
        "            X_train, \n",
        "            y_train, \n",
        "            eval_metric=\"rmse\", \n",
        "            eval_set=[(X_val, y_val)], # (X_train, y_train), \n",
        "            verbose = 100,\n",
        "#             early_stopping_rounds = 100,\n",
        "            callbacks = [pruning_callback])\n",
        "    \n",
        "        oof_pred2 = model.predict(X_val)\n",
        "        oof_pred2 = np.clip(oof_pred2, y['loss'].min(), y['loss'].max())\n",
        "        val_rmse.append(mean_squared_error(y_val, oof_pred2, squared = False))\n",
        "   \n",
        "    score = sum(val_rmse) / len(val_rmse)\n",
        "    \n",
        "    return score"
      ],
      "execution_count": null,
      "outputs": []
    },
    {
      "cell_type": "code",
      "metadata": {
        "scrolled": true,
        "execution": {
          "iopub.status.busy": "2021-08-14T15:30:52.442709Z",
          "iopub.execute_input": "2021-08-14T15:30:52.443218Z",
          "iopub.status.idle": "2021-08-14T15:30:52.455279Z",
          "shell.execute_reply.started": "2021-08-14T15:30:52.443180Z",
          "shell.execute_reply": "2021-08-14T15:30:52.453779Z"
        },
        "trusted": true,
        "id": "qqeq36LZ5o4m"
      },
      "source": [
        "# xgb_params = tune(xgb_objective)"
      ],
      "execution_count": null,
      "outputs": []
    },
    {
      "cell_type": "code",
      "metadata": {
        "execution": {
          "iopub.status.busy": "2021-08-14T15:30:52.456906Z",
          "iopub.execute_input": "2021-08-14T15:30:52.457372Z",
          "iopub.status.idle": "2021-08-14T15:30:52.470367Z",
          "shell.execute_reply.started": "2021-08-14T15:30:52.457326Z",
          "shell.execute_reply": "2021-08-14T15:30:52.469091Z"
        },
        "trusted": true,
        "id": "a0aJaoDj5o4m"
      },
      "source": [
        "def catb_objective(trial):\n",
        "    \n",
        "    params = {\n",
        "        \"verbose\": 100,\n",
        "        'grow_policy': 'Depthwise',\n",
        "        'loss_function': 'RMSE',\n",
        "        'eval_metric': 'RMSE',\n",
        "        'od_type': 'Iter',\n",
        "        'task_type': 'GPU',\n",
        "        \"random_strength\": trial.suggest_float(\"random_strength\", 1.0, 5),\n",
        "        'min_child_samples': trial.suggest_int(\"min_child_samples\", 1, 35),\n",
        "        \"l2_leaf_reg\": trial.suggest_float(\"l2_leaf_reg\", 1.0, 20),\n",
        "        'depth': trial.suggest_int(\"depth\", 2, 15),\n",
        "        'iterations': trial.suggest_int(\"iterations\", 100, 1000),\n",
        "        \"learning_rate\": trial.suggest_float(\"learning_rate\", 0.01, 0.1)\n",
        "    }\n",
        "    \n",
        "    model = CatBoostRegressor(**params,\n",
        "                             thread_count = 4,\n",
        "                             random_state = 37)\n",
        "\n",
        "    val_rmse = []\n",
        "    for train_index, test_index in kfolds.split(X):\n",
        "        X_train, X_val = X.iloc[train_index], X.iloc[test_index]\n",
        "        y_train, y_val = y.iloc[train_index], y.iloc[test_index]\n",
        "        \n",
        "        model.fit(\n",
        "                    X_train, \n",
        "                    y_train,\n",
        "                    eval_set=[(X_val, y_val)],\n",
        "#                     early_stopping_rounds = 100\n",
        "                    )\n",
        "        \n",
        "        oof_pred3 = model.predict(X_val)\n",
        "        oof_pred3 = np.clip(oof_pred3, y['loss'].min(), y['loss'].max())\n",
        "        val_rmse.append(mean_squared_error(y_val, oof_pred3, squared = False))\n",
        "   \n",
        "    score = sum(val_rmse) / len(val_rmse)\n",
        "\n",
        "    return score"
      ],
      "execution_count": null,
      "outputs": []
    },
    {
      "cell_type": "code",
      "metadata": {
        "scrolled": true,
        "execution": {
          "iopub.status.busy": "2021-08-14T15:30:52.471724Z",
          "iopub.execute_input": "2021-08-14T15:30:52.472132Z",
          "iopub.status.idle": "2021-08-14T15:30:52.485067Z",
          "shell.execute_reply.started": "2021-08-14T15:30:52.472092Z",
          "shell.execute_reply": "2021-08-14T15:30:52.483865Z"
        },
        "trusted": true,
        "id": "FyIWYgp35o4m"
      },
      "source": [
        "# catb_params = tune(catb_objective)"
      ],
      "execution_count": null,
      "outputs": []
    },
    {
      "cell_type": "markdown",
      "metadata": {
        "id": "MCyJhGQX5o4n"
      },
      "source": [
        "### #data"
      ]
    },
    {
      "cell_type": "code",
      "metadata": {
        "execution": {
          "iopub.status.busy": "2021-08-14T17:14:33.278463Z",
          "iopub.execute_input": "2021-08-14T17:14:33.278882Z",
          "iopub.status.idle": "2021-08-14T17:14:33.928606Z",
          "shell.execute_reply.started": "2021-08-14T17:14:33.278841Z",
          "shell.execute_reply": "2021-08-14T17:14:33.927253Z"
        },
        "trusted": true,
        "id": "iHywlSZN5o4n"
      },
      "source": [
        "_target = 'loss'\n",
        "y = np.squeeze(np.array(targets_df[[_target]].values, dtype='float32'))\n",
        "X_test = np.array(test_df.iloc[:,1:].values, dtype='float32')\n",
        "\n",
        "X_train, X_val, y_train, y_val = train_test_split(train_df, y, test_size = 0.5, random_state = 42, shuffle = True)\n",
        "# split_train = 125000\n",
        "# X_train, X_val = train_df.iloc[:split_train,:], train_df.iloc[split_train:, :]\n",
        "# y_train, y_val = y[:split_train], y[split_train:]\n",
        "\n",
        "ridge_train_df = None\n",
        "ridge_y_df = None\n",
        "ridge_final_df = None\n",
        "p1, p2, p3 = None, None, None"
      ],
      "execution_count": null,
      "outputs": []
    },
    {
      "cell_type": "code",
      "metadata": {
        "papermill": {
          "duration": 0.035606,
          "end_time": "2021-08-05T17:11:15.41835",
          "exception": false,
          "start_time": "2021-08-05T17:11:15.382744",
          "status": "completed"
        },
        "tags": [],
        "execution": {
          "iopub.status.busy": "2021-08-14T17:14:33.930415Z",
          "iopub.execute_input": "2021-08-14T17:14:33.930845Z",
          "iopub.status.idle": "2021-08-14T17:14:33.934956Z",
          "shell.execute_reply.started": "2021-08-14T17:14:33.930754Z",
          "shell.execute_reply": "2021-08-14T17:14:33.933956Z"
        },
        "trusted": true,
        "id": "ZOKtbQGR5o4n"
      },
      "source": [
        "submit = True"
      ],
      "execution_count": null,
      "outputs": []
    },
    {
      "cell_type": "markdown",
      "metadata": {
        "id": "jhNDKgta5o4n"
      },
      "source": [
        "### #lightGBM"
      ]
    },
    {
      "cell_type": "code",
      "metadata": {
        "papermill": {
          "duration": 0.036077,
          "end_time": "2021-08-05T17:11:15.355373",
          "exception": false,
          "start_time": "2021-08-05T17:11:15.319296",
          "status": "completed"
        },
        "tags": [],
        "execution": {
          "iopub.status.busy": "2021-08-14T17:14:33.936847Z",
          "iopub.execute_input": "2021-08-14T17:14:33.937279Z",
          "iopub.status.idle": "2021-08-14T17:14:33.985410Z",
          "shell.execute_reply.started": "2021-08-14T17:14:33.937245Z",
          "shell.execute_reply": "2021-08-14T17:14:33.984541Z"
        },
        "trusted": true,
        "id": "ck_5V2nV5o4n"
      },
      "source": [
        "lightgbm_params = {'n_estimators': 535, \n",
        "                   'max_depth': 65, \n",
        "                   'learning_rate': 0.037982101708680834, \n",
        "                   'lambda_l1': 1.4182871983597388e-07, \n",
        "                   'lambda_l2': 0.3020801492297757, \n",
        "                   'num_leaves': 45, \n",
        "                   'min_child_samples': 75, \n",
        "                   'feature_fraction': 0.4537941150166718, \n",
        "                   'bagging_fraction': 0.5661024435645774, \n",
        "                   'bagging_freq': 0}\n",
        "\n",
        "lightgbm_params['n_estimators'] = 15000\n",
        "lightgbm_params['learning_rate'] = 0.0037982101708680834\n",
        "\n",
        "lgbm_reg = lgb.LGBMRegressor(**lightgbm_params, \n",
        "                       objective = 'rmse',\n",
        "                       metric = 'rmse',\n",
        "                       boosting_type = 'gbdt',\n",
        "                       n_jobs=-1)"
      ],
      "execution_count": null,
      "outputs": []
    },
    {
      "cell_type": "code",
      "metadata": {
        "papermill": {
          "duration": 3597.773206,
          "end_time": "2021-08-05T18:11:13.21723",
          "exception": false,
          "start_time": "2021-08-05T17:11:15.444024",
          "status": "completed"
        },
        "tags": [],
        "execution": {
          "iopub.status.busy": "2021-08-14T17:14:33.987101Z",
          "iopub.execute_input": "2021-08-14T17:14:33.987604Z",
          "iopub.status.idle": "2021-08-14T17:14:41.757380Z",
          "shell.execute_reply.started": "2021-08-14T17:14:33.987565Z",
          "shell.execute_reply": "2021-08-14T17:14:41.756159Z"
        },
        "trusted": true,
        "id": "6DGFFiXf5o4n",
        "outputId": "720b49e0-d898-4bed-da1c-3d2e0f0c0a48"
      },
      "source": [
        "if not submit:\n",
        "    lgbm_reg.fit(\n",
        "        X_train, \n",
        "        y_train,\n",
        "        eval_set = [(X_val, y_val)],\n",
        "        verbose = 100,\n",
        "        early_stopping_rounds = 500)\n",
        "    oof_pred_1 = lgbm_reg.predict(X_val)\n",
        "    oof_pred_1 = np.clip(oof_pred_1, y.min(), y.max())\n",
        "\n",
        "    print('target: ', _target)\n",
        "    print('=================================')\n",
        "    print('rmse: ', mean_squared_error(y_val, oof_pred_1, squared = False))\n",
        "    \n",
        "    print('Plotting feature importances...')\n",
        "    fea_imp = pd.DataFrame({'imp': lgbm_reg.feature_importances_, 'col': X_train.columns})\n",
        "    fea_imp = fea_imp.sort_values(['imp', 'col'], ascending=[True, False])#.iloc[-10:]\n",
        "    fea_imp.plot(kind='barh', x='col', y='imp', figsize=(20, 30), legend=None)\n",
        "    plt.title('LGBMRegressor - Feature Importance')\n",
        "    plt.ylabel('Features')\n",
        "    plt.xlabel('Importance')\n",
        "    \n",
        "    ridge_train_df = pd.DataFrame({'oof_1': oof_pred_1})\n",
        "else:\n",
        "    print('submit s_1')\n",
        "    submission_1 = test_df[['id']].copy()\n",
        "    lgbm_reg.fit(train_df, y)\n",
        "    \n",
        "    print('prediction s_1')\n",
        "    p1 = lgbm_reg.predict(X_test)\n",
        "    p1 = np.clip(p1, y.min(), y.max())\n",
        "\n",
        "    submission_1[_target] = p1\n",
        "    submission_1.to_csv('submission_1.csv', index=False)\n",
        "    test = pd.read_csv('submission_1.csv')\n",
        "    print(test)"
      ],
      "execution_count": null,
      "outputs": [
        {
          "output_type": "stream",
          "text": [
            "submit s_1\n",
            "[LightGBM] [Warning] lambda_l1 is set=1.4182871983597388e-07, reg_alpha=0.0 will be ignored. Current value: lambda_l1=1.4182871983597388e-07\n",
            "[LightGBM] [Warning] feature_fraction is set=0.4537941150166718, colsample_bytree=1.0 will be ignored. Current value: feature_fraction=0.4537941150166718\n",
            "[LightGBM] [Warning] bagging_freq is set=0, subsample_freq=0 will be ignored. Current value: bagging_freq=0\n",
            "[LightGBM] [Warning] lambda_l2 is set=0.3020801492297757, reg_lambda=0.0 will be ignored. Current value: lambda_l2=0.3020801492297757\n",
            "[LightGBM] [Warning] bagging_fraction is set=0.5661024435645774, subsample=1.0 will be ignored. Current value: bagging_fraction=0.5661024435645774\n",
            "prediction s_1\n",
            "            id      loss\n",
            "0       250000  6.839050\n",
            "1       250001  6.744543\n",
            "2       250002  6.706794\n",
            "3       250003  6.865972\n",
            "4       250004  6.920852\n",
            "...        ...       ...\n",
            "149995  399995  6.806974\n",
            "149996  399996  6.825065\n",
            "149997  399997  6.702042\n",
            "149998  399998  6.767999\n",
            "149999  399999  6.804453\n",
            "\n",
            "[150000 rows x 2 columns]\n"
          ],
          "name": "stdout"
        }
      ]
    },
    {
      "cell_type": "markdown",
      "metadata": {
        "id": "w1juJqgs5o4o"
      },
      "source": [
        "### # XGB"
      ]
    },
    {
      "cell_type": "code",
      "metadata": {
        "execution": {
          "iopub.status.busy": "2021-08-14T17:14:41.758789Z",
          "iopub.execute_input": "2021-08-14T17:14:41.759089Z",
          "iopub.status.idle": "2021-08-14T17:14:41.771444Z",
          "shell.execute_reply.started": "2021-08-14T17:14:41.759060Z",
          "shell.execute_reply": "2021-08-14T17:14:41.770393Z"
        },
        "trusted": true,
        "id": "y6p1fSV-5o4o"
      },
      "source": [
        "xgb_params = {'lambda': 6.699320718487671, \n",
        "              'alpha': 7.10622549536764, \n",
        "              'subsample': 0.6602661885588786, \n",
        "              'colsample_bytree': 0.919626651702815, \n",
        "              'max_depth': 3, \n",
        "              'n_estimators': 497, \n",
        "              'learning_rate': 0.09813314953213292, \n",
        "              'min_child_weight': 194}\n",
        "\n",
        "xgb_params['n_estimators'] = 10500\n",
        "xgb_params['learning_rate'] = 0.009813314953213292\n",
        "\n",
        "xgb_reg = xgb.XGBRegressor(\n",
        "                            **xgb_params,\n",
        "                            verbosity = 0,\n",
        "                            objective = \"reg:squarederror\",\n",
        "                            tree_method = \"hist\", # gpu_\n",
        "                            booster = \"gbtree\")"
      ],
      "execution_count": null,
      "outputs": []
    },
    {
      "cell_type": "code",
      "metadata": {
        "papermill": {
          "duration": 0.027021,
          "end_time": "2021-08-05T18:11:14.112254",
          "exception": false,
          "start_time": "2021-08-05T18:11:14.085233",
          "status": "completed"
        },
        "tags": [],
        "execution": {
          "iopub.status.busy": "2021-08-14T17:14:41.773444Z",
          "iopub.execute_input": "2021-08-14T17:14:41.773863Z",
          "iopub.status.idle": "2021-08-14T17:14:50.712290Z",
          "shell.execute_reply.started": "2021-08-14T17:14:41.773818Z",
          "shell.execute_reply": "2021-08-14T17:14:50.711128Z"
        },
        "trusted": true,
        "id": "HSEjQ12J5o4o",
        "outputId": "1389b5ad-6102-4cfe-ae90-f02fcf52a81d"
      },
      "source": [
        "if not submit:\n",
        "    xgb_reg.fit(\n",
        "                X_train, \n",
        "                y_train, \n",
        "                eval_metric=\"rmse\", \n",
        "                eval_set=[(X_val, y_val)], \n",
        "                verbose=100, \n",
        "                early_stopping_rounds = 500)\n",
        "\n",
        "    oof_pred_2 = xgb_reg.predict(X_val)\n",
        "    oof_pred_2 = np.clip(oof_pred_2, y.min(), y.max())\n",
        "    \n",
        "    print('target: ', _target)\n",
        "    print('=================================')\n",
        "    print('rmse: ', mean_squared_error(y_val, oof_pred_2, squared = False))\n",
        "    \n",
        "    print('Plotting feature importances...')\n",
        "    fea_imp = pd.DataFrame({'imp': xgb_reg.feature_importances_, 'col': X_train.columns})\n",
        "    fea_imp = fea_imp.sort_values(['imp', 'col'], ascending=[True, False])#.iloc[-10:]\n",
        "    fea_imp.plot(kind='barh', x='col', y='imp', figsize=(20, 30), legend=None)\n",
        "    plt.title('XGBRegressor - Feature Importance')\n",
        "    plt.ylabel('Features')\n",
        "    plt.xlabel('Importance')\n",
        "    \n",
        "    ridge_train_df['oof_2'] = oof_pred_2\n",
        "else:\n",
        "    print('submit s_2')\n",
        "    submission_2 = test_df[['id']].copy()\n",
        "    xgb_reg.fit(train_df, y)\n",
        "    \n",
        "    print('prediction s_2')\n",
        "    p2 = xgb_reg.predict(X_test)\n",
        "    p2 = np.clip(p2, y.min(), y.max())\n",
        "\n",
        "    submission_2[_target] = p2\n",
        "    submission_2.to_csv('submission_2.csv', index=False)\n",
        "    test = pd.read_csv('submission_2.csv')\n",
        "    print(test)"
      ],
      "execution_count": null,
      "outputs": [
        {
          "output_type": "stream",
          "text": [
            "submit s_2\n",
            "prediction s_2\n",
            "            id      loss\n",
            "0       250000  4.405971\n",
            "1       250001  4.363369\n",
            "2       250002  4.152820\n",
            "3       250003  4.538853\n",
            "4       250004  4.771395\n",
            "...        ...       ...\n",
            "149995  399995  4.328613\n",
            "149996  399996  4.374373\n",
            "149997  399997  4.364668\n",
            "149998  399998  4.406545\n",
            "149999  399999  4.513653\n",
            "\n",
            "[150000 rows x 2 columns]\n"
          ],
          "name": "stdout"
        }
      ]
    },
    {
      "cell_type": "markdown",
      "metadata": {
        "id": "v1nZWoL65o4o"
      },
      "source": [
        "### #catB"
      ]
    },
    {
      "cell_type": "code",
      "metadata": {
        "execution": {
          "iopub.status.busy": "2021-08-14T17:14:50.713621Z",
          "iopub.execute_input": "2021-08-14T17:14:50.713959Z",
          "iopub.status.idle": "2021-08-14T17:14:50.746538Z",
          "shell.execute_reply.started": "2021-08-14T17:14:50.713926Z",
          "shell.execute_reply": "2021-08-14T17:14:50.745114Z"
        },
        "trusted": true,
        "id": "4Zm4Ridk5o4p"
      },
      "source": [
        "catb_params = {'random_strength': 2.3629132213017803, \n",
        "               'min_child_samples': 13, \n",
        "               'l2_leaf_reg': 8.840092897150026, \n",
        "               'depth': 6, \n",
        "               'iterations': 791, \n",
        "               'learning_rate': 0.03419185967256572}\n",
        "\n",
        "\n",
        "catb_params['iterations'] = 15000\n",
        "catb_params['learning_rate'] = 0.003419185967256572\n",
        "\n",
        "catb_reg = CatBoostRegressor(\n",
        "                        **catb_params,\n",
        "                        verbose = 100,\n",
        "                        grow_policy = 'Depthwise',\n",
        "                        loss_function = 'RMSE',\n",
        "                        eval_metric = 'RMSE',\n",
        "                        od_type = 'Iter',\n",
        "                        # task_type: 'GPU'\n",
        "                        )"
      ],
      "execution_count": null,
      "outputs": []
    },
    {
      "cell_type": "code",
      "metadata": {
        "execution": {
          "iopub.status.busy": "2021-08-14T17:14:50.748735Z",
          "iopub.execute_input": "2021-08-14T17:14:50.749284Z",
          "iopub.status.idle": "2021-08-14T17:15:11.239540Z",
          "shell.execute_reply.started": "2021-08-14T17:14:50.749216Z",
          "shell.execute_reply": "2021-08-14T17:15:11.238425Z"
        },
        "trusted": true,
        "id": "nCumWIlq5o4p",
        "outputId": "96f4c77a-3fba-4eb3-f89f-5b06908fd747"
      },
      "source": [
        "if not submit:\n",
        "    \n",
        "    catb_reg.fit(\n",
        "                X_train, \n",
        "                y_train,\n",
        "                eval_set=[(X_val, y_val)],\n",
        "                verbose=100, \n",
        "                early_stopping_rounds = 500)\n",
        "    oof_pred_3 = catb_reg.predict(X_val)\n",
        "    oof_pred_3 = np.clip(oof_pred_3, y.min(), y.max())\n",
        "\n",
        "    print('Plotting feature importances...')\n",
        "    fea_imp = pd.DataFrame({'imp': catb_reg.feature_importances_, 'col': X_train.columns})\n",
        "    fea_imp = fea_imp.sort_values(['imp', 'col'], ascending=[True, False])#.iloc[-10:]\n",
        "    fea_imp.plot(kind='barh', x='col', y='imp', figsize=(20, 30), legend=None)\n",
        "    plt.title('CatBoost - Feature Importance')\n",
        "    plt.ylabel('Features')\n",
        "    plt.xlabel('Importance')\n",
        "\n",
        "    ridge_train_df['oof_3'] = oof_pred_3\n",
        "else:\n",
        "    print('submit s_3')\n",
        "    submission_3 = test_df[['id']].copy()\n",
        "    catb_reg.fit(train_df, y)\n",
        "    \n",
        "    print('prediction s_3')\n",
        "    p3 = catb_reg.predict(X_test)\n",
        "    p3 = np.clip(p3, y.min(), y.max())\n",
        "\n",
        "    submission_3[_target] = p3\n",
        "    submission_3.to_csv('submission_3.csv', index=False)\n",
        "    test = pd.read_csv('submission_3.csv')\n",
        "    print(test)"
      ],
      "execution_count": null,
      "outputs": [
        {
          "output_type": "stream",
          "text": [
            "submit s_3\n",
            "0:\tlearn: 7.9400499\ttotal: 183ms\tremaining: 18.1s\n",
            "99:\tlearn: 7.9311484\ttotal: 18.2s\tremaining: 0us\n",
            "prediction s_3\n",
            "            id      loss\n",
            "0       250000  6.773577\n",
            "1       250001  6.740703\n",
            "2       250002  6.705142\n",
            "3       250003  6.865776\n",
            "4       250004  6.944710\n",
            "...        ...       ...\n",
            "149995  399995  6.761159\n",
            "149996  399996  6.780478\n",
            "149997  399997  6.766689\n",
            "149998  399998  6.788790\n",
            "149999  399999  6.866636\n",
            "\n",
            "[150000 rows x 2 columns]\n"
          ],
          "name": "stdout"
        }
      ]
    },
    {
      "cell_type": "markdown",
      "metadata": {
        "id": "KCDlT0wo5xbN"
      },
      "source": [
        "### #ridge"
      ]
    },
    {
      "cell_type": "code",
      "metadata": {
        "trusted": true,
        "id": "OTyvFtMA5o4p"
      },
      "source": [
        ""
      ],
      "execution_count": null,
      "outputs": []
    },
    {
      "cell_type": "code",
      "metadata": {
        "execution": {
          "iopub.status.busy": "2021-08-14T17:15:11.241742Z",
          "iopub.execute_input": "2021-08-14T17:15:11.242089Z",
          "iopub.status.idle": "2021-08-14T17:15:11.340961Z",
          "shell.execute_reply.started": "2021-08-14T17:15:11.242057Z",
          "shell.execute_reply": "2021-08-14T17:15:11.339688Z"
        },
        "trusted": true,
        "id": "6EX9NvoE5o4p"
      },
      "source": [
        "if not submit:\n",
        "    ridge_train_df.to_csv('ridge_train_df.csv', index = False)\n",
        "    ridge_y_df = pd.DataFrame({'loss': y_val})\n",
        "    ridge_y_df.to_csv('ridge_y_df.csv', index = False)\n",
        "else:\n",
        "    ridge_train_df = pd.read_csv('/kaggle/input/003-tps/ridge_train_df (1).csv')\n",
        "    ridge_y_df = pd.read_csv('/kaggle/input/003-tps/ridge_y_df (1).csv')\n",
        "    ridge_final_df = pd.DataFrame({'_1': p1})\n",
        "    ridge_final_df['_2'] = p2\n",
        "    ridge_final_df['_3'] = p3"
      ],
      "execution_count": null,
      "outputs": []
    },
    {
      "cell_type": "code",
      "metadata": {
        "execution": {
          "iopub.status.busy": "2021-08-14T17:15:11.342624Z",
          "iopub.execute_input": "2021-08-14T17:15:11.342988Z",
          "iopub.status.idle": "2021-08-14T17:15:12.025976Z",
          "shell.execute_reply.started": "2021-08-14T17:15:11.342953Z",
          "shell.execute_reply": "2021-08-14T17:15:12.024833Z"
        },
        "trusted": true,
        "id": "oFxj-Uos5o4p",
        "outputId": "903a96dc-450c-4a3a-b232-86b3d309d89b"
      },
      "source": [
        "if not submit:\n",
        "    steps = [\n",
        "        ('poly', PolynomialFeatures()), # degree = 2\n",
        "        ('model', Ridge())\n",
        "    ]\n",
        "    model = Pipeline(steps)\n",
        "    parameters = [ {'model__alpha': np.array([450, 400, 375, 350, 225, 300, 250]), 'poly__degree': np.array([1, 2])} ]\n",
        "\n",
        "    grid_search = GridSearchCV(estimator = model, \n",
        "                               param_grid = parameters,\n",
        "                               scoring = 'neg_mean_squared_error',\n",
        "                               cv = 10,\n",
        "                               n_jobs = -1)\n",
        "    grid_search = grid_search.fit(ridge_train_df, ridge_y_df)\n",
        "    print(grid_search.best_params_)\n",
        "    model = grid_search.best_estimator_\n",
        "    ridge_pred = model.predict(ridge_train_df)\n",
        "    print(ridge_pred)\n",
        "else:\n",
        "    steps = [\n",
        "        ('poly', PolynomialFeatures(degree = 2)),\n",
        "        ('model', Ridge(alpha = 350))\n",
        "    ]\n",
        "    model = Pipeline(steps)\n",
        "    model.fit(ridge_train_df, ridge_y_df)\n",
        "    ridge_pred = model.predict(ridge_final_df)\n",
        "    print(ridge_pred)\n",
        "    submission_ = test_df[['id']].copy()\n",
        "    submission_['loss'] = ridge_pred\n",
        "    submission_.to_csv('submission_.csv', index=False)"
      ],
      "execution_count": null,
      "outputs": [
        {
          "output_type": "stream",
          "text": [
            "[[5.58646403]\n",
            " [5.52128681]\n",
            " [5.3659759 ]\n",
            " ...\n",
            " [5.50102088]\n",
            " [5.55443808]\n",
            " [5.63266142]]\n"
          ],
          "name": "stdout"
        }
      ]
    },
    {
      "cell_type": "code",
      "metadata": {
        "trusted": true,
        "id": "0WOB82KS5o4p"
      },
      "source": [
        ""
      ],
      "execution_count": null,
      "outputs": []
    },
    {
      "cell_type": "code",
      "metadata": {
        "id": "yUcejUVM5o4p"
      },
      "source": [
        ""
      ],
      "execution_count": null,
      "outputs": []
    },
    {
      "cell_type": "code",
      "metadata": {
        "id": "sthMksCZ5o4q"
      },
      "source": [
        ""
      ],
      "execution_count": null,
      "outputs": []
    },
    {
      "cell_type": "code",
      "metadata": {
        "id": "bDS2wZlC5o4q"
      },
      "source": [
        ""
      ],
      "execution_count": null,
      "outputs": []
    },
    {
      "cell_type": "code",
      "metadata": {
        "id": "HNGhYK6F5o4q"
      },
      "source": [
        ""
      ],
      "execution_count": null,
      "outputs": []
    },
    {
      "cell_type": "code",
      "metadata": {
        "id": "brOLm2bo5o4q"
      },
      "source": [
        ""
      ],
      "execution_count": null,
      "outputs": []
    },
    {
      "cell_type": "code",
      "metadata": {
        "id": "fpOc78LS5o4q"
      },
      "source": [
        ""
      ],
      "execution_count": null,
      "outputs": []
    },
    {
      "cell_type": "code",
      "metadata": {
        "papermill": {
          "duration": 0.028271,
          "end_time": "2021-08-05T18:11:14.274092",
          "exception": false,
          "start_time": "2021-08-05T18:11:14.245821",
          "status": "completed"
        },
        "tags": [],
        "id": "11LBNYnJ5o4q"
      },
      "source": [
        ""
      ],
      "execution_count": null,
      "outputs": []
    },
    {
      "cell_type": "code",
      "metadata": {
        "papermill": {
          "duration": 0.027255,
          "end_time": "2021-08-05T18:11:14.32816",
          "exception": false,
          "start_time": "2021-08-05T18:11:14.300905",
          "status": "completed"
        },
        "tags": [],
        "id": "Ebp5wEuM5o4q"
      },
      "source": [
        ""
      ],
      "execution_count": null,
      "outputs": []
    }
  ]
}