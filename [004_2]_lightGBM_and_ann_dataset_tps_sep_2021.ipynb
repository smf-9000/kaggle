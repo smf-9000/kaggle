{
  "nbformat": 4,
  "nbformat_minor": 0,
  "metadata": {
    "kernelspec": {
      "language": "python",
      "display_name": "Python 3",
      "name": "python3"
    },
    "language_info": {
      "name": "python",
      "version": "3.7.10",
      "mimetype": "text/x-python",
      "codemirror_mode": {
        "name": "ipython",
        "version": 3
      },
      "pygments_lexer": "ipython3",
      "nbconvert_exporter": "python",
      "file_extension": ".py"
    },
    "colab": {
      "name": "[004-2]-lightGBM-and-ann-dataset-tps-sep-2021.ipynb",
      "provenance": [],
      "include_colab_link": true
    }
  },
  "cells": [
    {
      "cell_type": "markdown",
      "metadata": {
        "id": "view-in-github",
        "colab_type": "text"
      },
      "source": [
        "<a href=\"https://colab.research.google.com/github/smf-9000/kaggle/blob/main/%5B004_2%5D_lightGBM_and_ann_dataset_tps_sep_2021.ipynb\" target=\"_parent\"><img src=\"https://colab.research.google.com/assets/colab-badge.svg\" alt=\"Open In Colab\"/></a>"
      ]
    },
    {
      "cell_type": "code",
      "metadata": {
        "_cell_guid": "b1076dfc-b9ad-4769-8c92-a6c4dae69d19",
        "_uuid": "8f2839f25d086af736a60e9eeb907d3b93b6e0e5",
        "papermill": {
          "duration": 0.038238,
          "end_time": "2021-08-22T18:32:36.509378",
          "exception": false,
          "start_time": "2021-08-22T18:32:36.47114",
          "status": "completed"
        },
        "tags": [],
        "execution": {
          "iopub.status.busy": "2021-09-08T17:10:40.872674Z",
          "iopub.execute_input": "2021-09-08T17:10:40.873117Z",
          "iopub.status.idle": "2021-09-08T17:10:40.895656Z",
          "shell.execute_reply.started": "2021-09-08T17:10:40.873022Z",
          "shell.execute_reply": "2021-09-08T17:10:40.894702Z"
        },
        "trusted": true,
        "id": "55YyXCzYW_3W"
      },
      "source": [
        "%config Completer.use_jedi = False"
      ],
      "execution_count": null,
      "outputs": []
    },
    {
      "cell_type": "code",
      "metadata": {
        "papermill": {
          "duration": 3.008247,
          "end_time": "2021-08-22T18:32:39.534747",
          "exception": false,
          "start_time": "2021-08-22T18:32:36.5265",
          "status": "completed"
        },
        "tags": [],
        "execution": {
          "iopub.status.busy": "2021-09-08T17:10:40.897324Z",
          "iopub.execute_input": "2021-09-08T17:10:40.897677Z",
          "iopub.status.idle": "2021-09-08T17:10:44.794466Z",
          "shell.execute_reply.started": "2021-09-08T17:10:40.897646Z",
          "shell.execute_reply": "2021-09-08T17:10:44.793400Z"
        },
        "trusted": true,
        "id": "RkK_FRswW_3l",
        "outputId": "cd496271-57d7-4e61-bbc9-2c912e45457b"
      },
      "source": [
        "import numpy as np\n",
        "import pandas as pd\n",
        "import seaborn as sns\n",
        "\n",
        "import matplotlib.pyplot as plt\n",
        "from matplotlib.pyplot import imshow, imread\n",
        "\n",
        "from sklearn.model_selection import train_test_split, StratifiedKFold, KFold\n",
        "from sklearn.metrics import mean_squared_error, accuracy_score, roc_auc_score\n",
        "from sklearn.decomposition import PCA\n",
        "from sklearn.preprocessing import StandardScaler\n",
        "from sklearn.cluster import KMeans\n",
        "from sklearn.mixture import GaussianMixture\n",
        "from sklearn.impute import SimpleImputer\n",
        "import scikitplot as skplt\n",
        "\n",
        "import scipy.stats as stats\n",
        "\n",
        "import lightgbm as lgb\n",
        "import warnings\n",
        "\n",
        "import optuna"
      ],
      "execution_count": null,
      "outputs": [
        {
          "output_type": "display_data",
          "data": {
            "text/plain": "<IPython.core.display.HTML object>",
            "text/html": "<style type='text/css'>\n.datatable table.frame { margin-bottom: 0; }\n.datatable table.frame thead { border-bottom: none; }\n.datatable table.frame tr.coltypes td {  color: #FFFFFF;  line-height: 6px;  padding: 0 0.5em;}\n.datatable .bool    { background: #DDDD99; }\n.datatable .object  { background: #565656; }\n.datatable .int     { background: #5D9E5D; }\n.datatable .float   { background: #4040CC; }\n.datatable .str     { background: #CC4040; }\n.datatable .time    { background: #40CC40; }\n.datatable .row_index {  background: var(--jp-border-color3);  border-right: 1px solid var(--jp-border-color0);  color: var(--jp-ui-font-color3);  font-size: 9px;}\n.datatable .frame tbody td { text-align: left; }\n.datatable .frame tr.coltypes .row_index {  background: var(--jp-border-color0);}\n.datatable th:nth-child(2) { padding-left: 12px; }\n.datatable .hellipsis {  color: var(--jp-cell-editor-border-color);}\n.datatable .vellipsis {  background: var(--jp-layout-color0);  color: var(--jp-cell-editor-border-color);}\n.datatable .na {  color: var(--jp-cell-editor-border-color);  font-size: 80%;}\n.datatable .sp {  opacity: 0.25;}\n.datatable .footer { font-size: 9px; }\n.datatable .frame_dimensions {  background: var(--jp-border-color3);  border-top: 1px solid var(--jp-border-color0);  color: var(--jp-ui-font-color3);  display: inline-block;  opacity: 0.6;  padding: 1px 10px 1px 5px;}\n</style>\n"
          },
          "metadata": {}
        }
      ]
    },
    {
      "cell_type": "code",
      "metadata": {
        "papermill": {
          "duration": 0.022481,
          "end_time": "2021-08-22T18:32:39.573273",
          "exception": false,
          "start_time": "2021-08-22T18:32:39.550792",
          "status": "completed"
        },
        "tags": [],
        "execution": {
          "iopub.status.busy": "2021-09-08T17:10:44.796183Z",
          "iopub.execute_input": "2021-09-08T17:10:44.796512Z",
          "iopub.status.idle": "2021-09-08T17:10:44.801010Z",
          "shell.execute_reply.started": "2021-09-08T17:10:44.796482Z",
          "shell.execute_reply": "2021-09-08T17:10:44.799503Z"
        },
        "trusted": true,
        "id": "Qb9q1U45W_3v"
      },
      "source": [
        "R_SEED = 37"
      ],
      "execution_count": null,
      "outputs": []
    },
    {
      "cell_type": "markdown",
      "metadata": {
        "id": "C6VNrRgCW_3w"
      },
      "source": [
        "#### Additional ann dataset\n",
        "My excursion with neural net ended with bad result. In try to get something out of it, I collected data from layer before the last. So, version1 of this dataset has 32 features and version2 has 16 features. Dataset is [public](https://www.kaggle.com/ivankontic/0042-ann32ds-tps-sep-2021), if someone want to try."
      ]
    },
    {
      "cell_type": "code",
      "metadata": {
        "papermill": {
          "duration": 9.508118,
          "end_time": "2021-08-22T18:32:49.134464",
          "exception": false,
          "start_time": "2021-08-22T18:32:39.626346",
          "status": "completed"
        },
        "tags": [],
        "execution": {
          "iopub.status.busy": "2021-09-08T17:10:44.802597Z",
          "iopub.execute_input": "2021-09-08T17:10:44.803020Z",
          "iopub.status.idle": "2021-09-08T17:11:39.776063Z",
          "shell.execute_reply.started": "2021-09-08T17:10:44.802989Z",
          "shell.execute_reply": "2021-09-08T17:11:39.774516Z"
        },
        "trusted": true,
        "id": "8qvx8cpIW_3z"
      },
      "source": [
        "submission_ex = pd.read_csv('/kaggle/input/tabular-playground-series-sep-2021/sample_solution.csv')\n",
        "train_data_a = pd.read_csv('/kaggle/input/tabular-playground-series-sep-2021/train.csv')\n",
        "test_data_a  = pd.read_csv('/kaggle/input/tabular-playground-series-sep-2021/test.csv')\n",
        "train_data_b = pd.read_csv('/kaggle/input/0042-ann32ds-tps-sep-2021/train_data_nn_features.csv')\n",
        "test_data_b  = pd.read_csv('/kaggle/input/0042-ann32ds-tps-sep-2021/test_data_nn_features.csv')"
      ],
      "execution_count": null,
      "outputs": []
    },
    {
      "cell_type": "code",
      "metadata": {
        "execution": {
          "iopub.status.busy": "2021-09-08T17:11:39.778330Z",
          "iopub.execute_input": "2021-09-08T17:11:39.778706Z",
          "iopub.status.idle": "2021-09-08T17:11:40.454972Z",
          "shell.execute_reply.started": "2021-09-08T17:11:39.778668Z",
          "shell.execute_reply": "2021-09-08T17:11:40.453518Z"
        },
        "trusted": true,
        "id": "ItWtzDJdW_31"
      },
      "source": [
        "target_data = train_data_a[['claim']].copy()\n",
        "train_data_a.drop(['id', 'claim'], axis=1, inplace=True)\n",
        "submit_data = test_data_a[['id']].copy()\n",
        "test_data_a.drop(['id'], axis=1, inplace=True)"
      ],
      "execution_count": null,
      "outputs": []
    },
    {
      "cell_type": "code",
      "metadata": {
        "execution": {
          "iopub.status.busy": "2021-09-08T17:11:40.456623Z",
          "iopub.execute_input": "2021-09-08T17:11:40.456960Z",
          "iopub.status.idle": "2021-09-08T17:11:40.949726Z",
          "shell.execute_reply.started": "2021-09-08T17:11:40.456927Z",
          "shell.execute_reply": "2021-09-08T17:11:40.948566Z"
        },
        "trusted": true,
        "id": "UmdSuGL_W_32"
      },
      "source": [
        "all_data = pd.concat([train_data_a, test_data_a])\n",
        "all_data.reset_index(drop=True, inplace=True)"
      ],
      "execution_count": null,
      "outputs": []
    },
    {
      "cell_type": "code",
      "metadata": {
        "execution": {
          "iopub.status.busy": "2021-09-08T17:11:40.951330Z",
          "iopub.execute_input": "2021-09-08T17:11:40.951704Z",
          "iopub.status.idle": "2021-09-08T17:11:42.593982Z",
          "shell.execute_reply.started": "2021-09-08T17:11:40.951669Z",
          "shell.execute_reply": "2021-09-08T17:11:42.592885Z"
        },
        "trusted": true,
        "id": "KpBO5h0GW_34"
      },
      "source": [
        "all_n_missing = all_data.isna().sum(axis=1)\n",
        "all_std = all_data.std(axis=1)"
      ],
      "execution_count": null,
      "outputs": []
    },
    {
      "cell_type": "code",
      "metadata": {
        "execution": {
          "iopub.status.busy": "2021-09-08T17:11:42.596628Z",
          "iopub.execute_input": "2021-09-08T17:11:42.596969Z",
          "iopub.status.idle": "2021-09-08T17:11:47.311850Z",
          "shell.execute_reply.started": "2021-09-08T17:11:42.596936Z",
          "shell.execute_reply": "2021-09-08T17:11:47.310749Z"
        },
        "trusted": true,
        "id": "8x_rPG_FW_35"
      },
      "source": [
        "all_data_normalized = StandardScaler().fit_transform(all_data)\n",
        "all_data = pd.DataFrame(all_data_normalized, columns=all_data.columns)"
      ],
      "execution_count": null,
      "outputs": []
    },
    {
      "cell_type": "markdown",
      "metadata": {
        "id": "uaZOnpujW_3-"
      },
      "source": [
        "I decided to not do anything with missing values (for now). Let lgbm deal with it."
      ]
    },
    {
      "cell_type": "code",
      "metadata": {
        "execution": {
          "iopub.status.busy": "2021-09-08T17:11:47.313805Z",
          "iopub.execute_input": "2021-09-08T17:11:47.314219Z",
          "iopub.status.idle": "2021-09-08T17:11:47.318693Z",
          "shell.execute_reply.started": "2021-09-08T17:11:47.314174Z",
          "shell.execute_reply": "2021-09-08T17:11:47.317598Z"
        },
        "trusted": true,
        "id": "p7SCFRnbW_3_"
      },
      "source": [
        "##### all_data['n_missing'] = all_n_missing\n",
        "##### all_data['std'] = all_std\n",
        "\n",
        "# imputer = SimpleImputer(strategy='constant', fill_value=0) # add_indicator=True, \n",
        "\n",
        "# old_features = list(all_data.columns)\n",
        "# all_data = pd.DataFrame(imputer.fit_transform(all_data))\n",
        "# features = old_features # + ['ind_for_' + str(e) for e in imputer.indicator_.features_]\n",
        "# all_data.columns = features"
      ],
      "execution_count": null,
      "outputs": []
    },
    {
      "cell_type": "code",
      "metadata": {
        "execution": {
          "iopub.status.busy": "2021-09-08T17:11:47.320276Z",
          "iopub.execute_input": "2021-09-08T17:11:47.320815Z",
          "iopub.status.idle": "2021-09-08T17:11:47.761106Z",
          "shell.execute_reply.started": "2021-09-08T17:11:47.320759Z",
          "shell.execute_reply": "2021-09-08T17:11:47.760039Z"
        },
        "trusted": true,
        "id": "XwzGqR_BW_4A"
      },
      "source": [
        "train_data_a, test_data_a = all_data.iloc[:train_data_a.shape[0],:].copy(), all_data.iloc[train_data_a.shape[0]:,:].copy()\n",
        "\n",
        "n_missing = all_n_missing[:train_data_a.shape[0]]"
      ],
      "execution_count": null,
      "outputs": []
    },
    {
      "cell_type": "markdown",
      "metadata": {
        "id": "WO_9-hvMW_4B"
      },
      "source": [
        "#### Just experimenting\n",
        "Maybe some of pca components will be useful. PCA has been applied on ann dataset."
      ]
    },
    {
      "cell_type": "code",
      "metadata": {
        "execution": {
          "iopub.status.busy": "2021-09-08T17:11:47.762619Z",
          "iopub.execute_input": "2021-09-08T17:11:47.763047Z",
          "iopub.status.idle": "2021-09-08T17:11:52.920974Z",
          "shell.execute_reply.started": "2021-09-08T17:11:47.763001Z",
          "shell.execute_reply": "2021-09-08T17:11:52.919506Z"
        },
        "trusted": true,
        "id": "3Mn25KAKW_4B"
      },
      "source": [
        "pca = PCA(n_components=5)\n",
        "pca.fit(pd.concat([train_data_b, test_data_b]))\n",
        "train_data_c = pd.DataFrame(pca.transform(train_data_b), columns=['pca_b_f' + str(i) for i in range(5)])\n",
        "test_data_c = pd.DataFrame(pca.transform(test_data_b), columns=['pca_b_f' + str(i) for i in range(5)])"
      ],
      "execution_count": null,
      "outputs": []
    },
    {
      "cell_type": "code",
      "metadata": {
        "execution": {
          "iopub.status.busy": "2021-09-08T17:51:02.911165Z",
          "iopub.execute_input": "2021-09-08T17:51:02.911628Z",
          "iopub.status.idle": "2021-09-08T17:51:02.917330Z",
          "shell.execute_reply.started": "2021-09-08T17:51:02.911592Z",
          "shell.execute_reply": "2021-09-08T17:51:02.916188Z"
        },
        "trusted": true,
        "id": "D96CBNNsW_4C",
        "outputId": "6af4f5d0-0158-49a7-ec55-c08a942b91f7"
      },
      "source": [
        "print(pca.explained_variance_ratio_)"
      ],
      "execution_count": null,
      "outputs": [
        {
          "name": "stdout",
          "text": "[0.8860344  0.0414131  0.01112924 0.00961131 0.00804676]\n",
          "output_type": "stream"
        }
      ]
    },
    {
      "cell_type": "markdown",
      "metadata": {
        "id": "LmqIQeAHW_4D"
      },
      "source": [
        "#### NaN"
      ]
    },
    {
      "cell_type": "code",
      "metadata": {
        "_kg_hide-input": true,
        "execution": {
          "iopub.status.busy": "2021-09-08T17:11:52.922708Z",
          "iopub.execute_input": "2021-09-08T17:11:52.923344Z",
          "iopub.status.idle": "2021-09-08T17:11:52.933029Z",
          "shell.execute_reply.started": "2021-09-08T17:11:52.923298Z",
          "shell.execute_reply": "2021-09-08T17:11:52.931479Z"
        },
        "trusted": true,
        "id": "QFCyTMd1W_4E"
      },
      "source": [
        "def plot_gmm(model, data, ax, c):\n",
        "    weights = model.weights_\n",
        "    means = model.means_\n",
        "    covars = model.covariances_\n",
        "\n",
        "    x = np.arange(np.min(data), np.max(data), (np.max(data) - np.min(data)) / 100)\n",
        "    for i in range(len(weights)):\n",
        "        ax.plot(x - 1, weights[i] * stats.norm.pdf(x,means[i],np.sqrt(covars[i])[0]), alpha = 0.7, linewidth = 3, color=c)"
      ],
      "execution_count": null,
      "outputs": []
    },
    {
      "cell_type": "code",
      "metadata": {
        "_kg_hide-input": true,
        "execution": {
          "iopub.status.busy": "2021-09-08T17:11:52.934696Z",
          "iopub.execute_input": "2021-09-08T17:11:52.935395Z",
          "iopub.status.idle": "2021-09-08T17:11:57.250948Z",
          "shell.execute_reply.started": "2021-09-08T17:11:52.935330Z",
          "shell.execute_reply": "2021-09-08T17:11:57.249931Z"
        },
        "trusted": true,
        "id": "hpkOYn_FW_4E",
        "outputId": "f0315b89-e650-4fbc-9a01-7c03985b0ae6"
      },
      "source": [
        "fig = plt.figure(figsize = (10, 5))\n",
        "ax = fig.gca()\n",
        "\n",
        "data0 = np.expand_dims(n_missing[target_data['claim'] == 0], axis=1)\n",
        "gm = GaussianMixture(n_components = 1, n_init = 5)\n",
        "gm.fit(data0)\n",
        "plot_gmm(gm, data0, ax, 'red')\n",
        "#---\n",
        "data1 = np.expand_dims(n_missing[target_data['claim'] == 1], axis=1)\n",
        "gm = GaussianMixture(n_components = 1, n_init = 5)\n",
        "gm.fit(data1)\n",
        "plot_gmm(gm, data1, ax, 'blue')\n",
        "\n",
        "ax.set_title('NaN_values')\n",
        "ax.legend(['probability for 0', 'probability for 1'])\n",
        "\n",
        "plt.show()"
      ],
      "execution_count": null,
      "outputs": [
        {
          "output_type": "display_data",
          "data": {
            "text/plain": "<Figure size 720x360 with 1 Axes>",
            "image/png": "[encoded data removed]"
          },
          "metadata": {
            "needs_background": "light"
          }
        }
      ]
    },
    {
      "cell_type": "markdown",
      "metadata": {
        "id": "zyDZw16tW_4F"
      },
      "source": [
        "Little more freely drawn graph, but it should be right.  \n",
        "As we can see, if there are NaN in row, probability is on the side of 1s. I'll try later something with this probabilities."
      ]
    },
    {
      "cell_type": "code",
      "metadata": {
        "execution": {
          "iopub.status.busy": "2021-09-08T17:11:57.254939Z",
          "iopub.execute_input": "2021-09-08T17:11:57.257040Z",
          "iopub.status.idle": "2021-09-08T17:11:58.180781Z",
          "shell.execute_reply.started": "2021-09-08T17:11:57.256982Z",
          "shell.execute_reply": "2021-09-08T17:11:58.179605Z"
        },
        "trusted": true,
        "id": "HyveMWytW_4G"
      },
      "source": [
        "train_data = pd.concat([train_data_a, train_data_b, train_data_c], axis=1)\n",
        "test_data = pd.concat([test_data_a.reset_index(drop=True), test_data_b, test_data_c], axis=1)"
      ],
      "execution_count": null,
      "outputs": []
    },
    {
      "cell_type": "code",
      "metadata": {
        "execution": {
          "iopub.status.busy": "2021-09-08T17:11:58.183445Z",
          "iopub.execute_input": "2021-09-08T17:11:58.183917Z",
          "iopub.status.idle": "2021-09-08T17:11:58.193555Z",
          "shell.execute_reply.started": "2021-09-08T17:11:58.183866Z",
          "shell.execute_reply": "2021-09-08T17:11:58.192341Z"
        },
        "trusted": true,
        "id": "SxRppMadW_4G"
      },
      "source": [
        "del train_data_a, train_data_b, train_data_c, test_data_a, test_data_b, test_data_c, all_data"
      ],
      "execution_count": null,
      "outputs": []
    },
    {
      "cell_type": "markdown",
      "metadata": {
        "id": "v5-ADruTW_4H"
      },
      "source": [
        "#### Run\n",
        "Two models are trained, One on prepared dataset and one on number_of_missing array.  \n",
        "Just want to see how looks on graph."
      ]
    },
    {
      "cell_type": "code",
      "metadata": {
        "execution": {
          "iopub.status.busy": "2021-09-08T17:14:24.431014Z",
          "iopub.execute_input": "2021-09-08T17:14:24.431390Z",
          "iopub.status.idle": "2021-09-08T17:14:24.439196Z",
          "shell.execute_reply.started": "2021-09-08T17:14:24.431346Z",
          "shell.execute_reply": "2021-09-08T17:14:24.437978Z"
        },
        "trusted": true,
        "id": "W1T-p1d7W_4H"
      },
      "source": [
        "params_1 = {\n",
        "    'objective': 'binary',\n",
        "    'metric': 'auc',\n",
        "    'boosting_type': 'gbdt',\n",
        "    'n_estimators': 20000,\n",
        "    'learning_rate': 0.005,\n",
        "    'num_leaves': 627, \n",
        "    'min_child_samples': 1952, \n",
        "    'feature_fraction': 0.4, \n",
        "    'bagging_fraction': 0.8,\n",
        "    'bagging_freq': 2,\n",
        "    'importance_type': 'gain'}\n",
        "\n",
        "params_2 = {\n",
        "    'objective': 'binary',\n",
        "    'metric': 'auc',\n",
        "    'boosting_type': 'gbdt',\n",
        "    'n_estimators': 1000, \n",
        "    'learning_rate': 0.05, \n",
        "    'num_leaves': 89, \n",
        "    'min_child_samples': 48, \n",
        "    'feature_fraction': 0.35, \n",
        "    'bagging_fraction': 0.9, \n",
        "    'bagging_freq': 1}\n",
        "    \n",
        "model_1 = lgb.LGBMRegressor(**params_1,\n",
        "                          n_jobs=-1,\n",
        "                          random_state = R_SEED)\n",
        "\n",
        "model_2 = lgb.LGBMRegressor(**params_2,\n",
        "                          n_jobs=-1,\n",
        "                          random_state = R_SEED)"
      ],
      "execution_count": null,
      "outputs": []
    },
    {
      "cell_type": "code",
      "metadata": {
        "_kg_hide-output": true,
        "execution": {
          "iopub.status.busy": "2021-09-08T17:14:24.641063Z",
          "iopub.execute_input": "2021-09-08T17:14:24.641480Z",
          "iopub.status.idle": "2021-09-08T17:30:39.258223Z",
          "shell.execute_reply.started": "2021-09-08T17:14:24.641442Z",
          "shell.execute_reply": "2021-09-08T17:30:39.257345Z"
        },
        "trusted": true,
        "id": "Nn0-dh5QW_4I",
        "outputId": "482fc413-8fa1-4a62-e318-43b996f123c9"
      },
      "source": [
        "kfolds = StratifiedKFold(n_splits = 5, shuffle = True, random_state = R_SEED)\n",
        "pred = []\n",
        "lgb_oof_1 = np.zeros(train_data.shape[0])\n",
        "lgb_oof_2 = np.zeros(train_data.shape[0])\n",
        "\n",
        "for train_index, test_index in kfolds.split(X=train_data, y=n_missing):\n",
        "\n",
        "    X_train, X_val = train_data.iloc[train_index], train_data.iloc[test_index]\n",
        "    X_train_2, X_val_2 = np.expand_dims(n_missing[train_index], axis=1), np.expand_dims(n_missing[test_index], axis=1)\n",
        "    y_train, y_val = target_data.iloc[train_index], target_data.iloc[test_index]\n",
        "    \n",
        "    print(y_train.shape[0], y_train['claim'].sum())\n",
        "    \n",
        "    model_1.fit(\n",
        "        X_train, \n",
        "        np.ravel(y_train), \n",
        "        eval_metric = \"auc\", \n",
        "        eval_set = [(X_val, y_val)],\n",
        "        verbose = 100,\n",
        "        early_stopping_rounds = 500)\n",
        "    \n",
        "    oof_pred_1 = model_1.predict(X_val)\n",
        "    lgb_oof_1[test_index] = oof_pred_1\n",
        "        \n",
        "    _p = model_1.predict(test_data)\n",
        "    pred.append(_p)\n",
        "    \n",
        "    model_2.fit(\n",
        "        X_train_2, \n",
        "        np.ravel(y_train), \n",
        "        eval_metric = \"auc\", \n",
        "        eval_set = [(X_val_2, y_val)],\n",
        "        verbose = 100,\n",
        "        early_stopping_rounds = 200)\n",
        "    \n",
        "    oof_pred_2 = model_2.predict(X_val_2)\n",
        "    lgb_oof_2[test_index] = oof_pred_2\n",
        "    \n",
        "final_p = np.sum(pred, axis = 0) / len(pred)\n",
        "\n",
        "submit_data['claim'] = final_p\n",
        "submit_data.to_csv('submission.csv', index=False)"
      ],
      "execution_count": null,
      "outputs": [
        {
          "name": "stdout",
          "text": "766335 382156\nTraining until validation scores don't improve for 500 rounds\n[100]\tvalid_0's auc: 0.808082\n[200]\tvalid_0's auc: 0.808801\n[300]\tvalid_0's auc: 0.809377\n[400]\tvalid_0's auc: 0.810016\n[500]\tvalid_0's auc: 0.810579\nDid not meet early stopping. Best iteration is:\n[500]\tvalid_0's auc: 0.810579\n[LightGBM] [Warning] bagging_fraction is set=0.9, subsample=1.0 will be ignored. Current value: bagging_fraction=0.9\n[LightGBM] [Warning] feature_fraction is set=0.35, colsample_bytree=1.0 will be ignored. Current value: feature_fraction=0.35\n[LightGBM] [Warning] bagging_freq is set=1, subsample_freq=0 will be ignored. Current value: bagging_freq=1\nTraining until validation scores don't improve for 200 rounds\n[100]\tvalid_0's auc: 0.798861\n[200]\tvalid_0's auc: 0.798861\nEarly stopping, best iteration is:\n[13]\tvalid_0's auc: 0.798862\n766335 382004\n[LightGBM] [Warning] bagging_fraction is set=0.8, subsample=1.0 will be ignored. Current value: bagging_fraction=0.8\n[LightGBM] [Warning] feature_fraction is set=0.4, colsample_bytree=1.0 will be ignored. Current value: feature_fraction=0.4\n[LightGBM] [Warning] bagging_freq is set=2, subsample_freq=0 will be ignored. Current value: bagging_freq=2\nTraining until validation scores don't improve for 500 rounds\n[100]\tvalid_0's auc: 0.8072\n[200]\tvalid_0's auc: 0.807859\n[300]\tvalid_0's auc: 0.80855\n[400]\tvalid_0's auc: 0.809244\n[500]\tvalid_0's auc: 0.809819\nDid not meet early stopping. Best iteration is:\n[500]\tvalid_0's auc: 0.809819\n[LightGBM] [Warning] bagging_fraction is set=0.9, subsample=1.0 will be ignored. Current value: bagging_fraction=0.9\n[LightGBM] [Warning] feature_fraction is set=0.35, colsample_bytree=1.0 will be ignored. Current value: feature_fraction=0.35\n[LightGBM] [Warning] bagging_freq is set=1, subsample_freq=0 will be ignored. Current value: bagging_freq=1\nTraining until validation scores don't improve for 200 rounds\n[100]\tvalid_0's auc: 0.79741\n[200]\tvalid_0's auc: 0.796813\nEarly stopping, best iteration is:\n[10]\tvalid_0's auc: 0.797426\n766335 381972\n[LightGBM] [Warning] bagging_fraction is set=0.8, subsample=1.0 will be ignored. Current value: bagging_fraction=0.8\n[LightGBM] [Warning] feature_fraction is set=0.4, colsample_bytree=1.0 will be ignored. Current value: feature_fraction=0.4\n[LightGBM] [Warning] bagging_freq is set=2, subsample_freq=0 will be ignored. Current value: bagging_freq=2\nTraining until validation scores don't improve for 500 rounds\n[100]\tvalid_0's auc: 0.808462\n[200]\tvalid_0's auc: 0.809189\n[300]\tvalid_0's auc: 0.810122\n[400]\tvalid_0's auc: 0.810841\n[500]\tvalid_0's auc: 0.811404\nDid not meet early stopping. Best iteration is:\n[500]\tvalid_0's auc: 0.811404\n[LightGBM] [Warning] bagging_fraction is set=0.9, subsample=1.0 will be ignored. Current value: bagging_fraction=0.9\n[LightGBM] [Warning] feature_fraction is set=0.35, colsample_bytree=1.0 will be ignored. Current value: feature_fraction=0.35\n[LightGBM] [Warning] bagging_freq is set=1, subsample_freq=0 will be ignored. Current value: bagging_freq=1\nTraining until validation scores don't improve for 200 rounds\n[100]\tvalid_0's auc: 0.798942\n[200]\tvalid_0's auc: 0.79897\nEarly stopping, best iteration is:\n[10]\tvalid_0's auc: 0.79897\n766335 381965\n[LightGBM] [Warning] bagging_fraction is set=0.8, subsample=1.0 will be ignored. Current value: bagging_fraction=0.8\n[LightGBM] [Warning] feature_fraction is set=0.4, colsample_bytree=1.0 will be ignored. Current value: feature_fraction=0.4\n[LightGBM] [Warning] bagging_freq is set=2, subsample_freq=0 will be ignored. Current value: bagging_freq=2\nTraining until validation scores don't improve for 500 rounds\n[100]\tvalid_0's auc: 0.80807\n[200]\tvalid_0's auc: 0.808814\n[300]\tvalid_0's auc: 0.809643\n[400]\tvalid_0's auc: 0.81031\n[500]\tvalid_0's auc: 0.810843\nDid not meet early stopping. Best iteration is:\n[500]\tvalid_0's auc: 0.810843\n[LightGBM] [Warning] bagging_fraction is set=0.9, subsample=1.0 will be ignored. Current value: bagging_fraction=0.9\n[LightGBM] [Warning] feature_fraction is set=0.35, colsample_bytree=1.0 will be ignored. Current value: feature_fraction=0.35\n[LightGBM] [Warning] bagging_freq is set=1, subsample_freq=0 will be ignored. Current value: bagging_freq=1\nTraining until validation scores don't improve for 200 rounds\n[100]\tvalid_0's auc: 0.798539\n[200]\tvalid_0's auc: 0.798539\nEarly stopping, best iteration is:\n[1]\tvalid_0's auc: 0.798539\n766336 381963\n[LightGBM] [Warning] bagging_fraction is set=0.8, subsample=1.0 will be ignored. Current value: bagging_fraction=0.8\n[LightGBM] [Warning] feature_fraction is set=0.4, colsample_bytree=1.0 will be ignored. Current value: feature_fraction=0.4\n[LightGBM] [Warning] bagging_freq is set=2, subsample_freq=0 will be ignored. Current value: bagging_freq=2\nTraining until validation scores don't improve for 500 rounds\n[100]\tvalid_0's auc: 0.808897\n[200]\tvalid_0's auc: 0.809491\n[300]\tvalid_0's auc: 0.810244\n[400]\tvalid_0's auc: 0.81097\n[500]\tvalid_0's auc: 0.811462\nDid not meet early stopping. Best iteration is:\n[500]\tvalid_0's auc: 0.811462\n[LightGBM] [Warning] bagging_fraction is set=0.9, subsample=1.0 will be ignored. Current value: bagging_fraction=0.9\n[LightGBM] [Warning] feature_fraction is set=0.35, colsample_bytree=1.0 will be ignored. Current value: feature_fraction=0.35\n[LightGBM] [Warning] bagging_freq is set=1, subsample_freq=0 will be ignored. Current value: bagging_freq=1\nTraining until validation scores don't improve for 200 rounds\n[100]\tvalid_0's auc: 0.798564\n[200]\tvalid_0's auc: 0.798564\nEarly stopping, best iteration is:\n[2]\tvalid_0's auc: 0.798564\n",
          "output_type": "stream"
        }
      ]
    },
    {
      "cell_type": "markdown",
      "metadata": {
        "id": "cj_yHaQPW_4J"
      },
      "source": [
        "Curve is drawn with oof data"
      ]
    },
    {
      "cell_type": "code",
      "metadata": {
        "execution": {
          "iopub.status.busy": "2021-09-08T17:30:39.259968Z",
          "iopub.execute_input": "2021-09-08T17:30:39.260569Z",
          "iopub.status.idle": "2021-09-08T17:30:45.119383Z",
          "shell.execute_reply.started": "2021-09-08T17:30:39.260530Z",
          "shell.execute_reply": "2021-09-08T17:30:45.118293Z"
        },
        "trusted": true,
        "id": "Ls7VZCThW_4K",
        "outputId": "6353efe0-216a-4969-ff39-5c167ebcd6ee"
      },
      "source": [
        "p_1 = [(1-e, e) for e in lgb_oof_1]\n",
        "p_2 = [(1-e, e) for e in lgb_oof_2]\n",
        "\n",
        "fig = plt.figure(figsize = (10, 10))\n",
        "ax = fig.gca()\n",
        "\n",
        "skplt.metrics.plot_roc(target_data.claim.values, p_1, plot_micro=False, plot_macro=False, classes_to_plot=[1], ax=ax, cmap='Reds')\n",
        "# skplt.metrics.plot_roc(target_data.claim.values, p_1, plot_micro=False, plot_macro=False, classes_to_plot=[0], ax=ax, cmap='ocean')\n",
        "skplt.metrics.plot_roc(target_data.claim.values, p_2, plot_micro=False, plot_macro=False, classes_to_plot=[1], ax=ax, cmap='Blues')\n",
        "plt.show()"
      ],
      "execution_count": null,
      "outputs": [
        {
          "output_type": "display_data",
          "data": {
            "text/plain": "<Figure size 720x720 with 1 Axes>",
            "image/png": "[encoded data removed]"
          },
          "metadata": {
            "needs_background": "light"
          }
        }
      ]
    },
    {
      "cell_type": "markdown",
      "metadata": {
        "id": "zzr6wuPXW_4K"
      },
      "source": [
        "It seems a bit unnatural :). The blue one is of number_of_missing \"dataset\".  \n",
        "left side is a bit to spacious. It's sign that we have in upper side mixing of 1s and 0s. So, part closer to 0 is better than part closer to 1 (as far as classification is concerned)"
      ]
    },
    {
      "cell_type": "code",
      "metadata": {
        "id": "3cvpktUnW_4K"
      },
      "source": [
        ""
      ],
      "execution_count": null,
      "outputs": []
    }
  ]
}