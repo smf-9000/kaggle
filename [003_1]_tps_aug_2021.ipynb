{
  "nbformat": 4,
  "nbformat_minor": 0,
  "metadata": {
    "kernelspec": {
      "language": "python",
      "display_name": "Python 3",
      "name": "python3"
    },
    "language_info": {
      "pygments_lexer": "ipython3",
      "nbconvert_exporter": "python",
      "version": "3.6.4",
      "file_extension": ".py",
      "codemirror_mode": {
        "name": "ipython",
        "version": 3
      },
      "name": "python",
      "mimetype": "text/x-python"
    },
    "colab": {
      "name": "[003-1]-tps-aug-2021.ipynb",
      "provenance": [],
      "include_colab_link": true
    }
  },
  "cells": [
    {
      "cell_type": "markdown",
      "metadata": {
        "id": "view-in-github",
        "colab_type": "text"
      },
      "source": [
        "<a href=\"https://colab.research.google.com/github/smf-9000/kaggle/blob/main/%5B003_1%5D_tps_aug_2021.ipynb\" target=\"_parent\"><img src=\"https://colab.research.google.com/assets/colab-badge.svg\" alt=\"Open In Colab\"/></a>"
      ]
    },
    {
      "cell_type": "markdown",
      "metadata": {
        "id": "DKtGbm28f2lB"
      },
      "source": [
        "```\n",
        "I'm trying to push lightGBM to the end. All in all, I think that \"fold\" concept has some potential.\n",
        "```"
      ]
    },
    {
      "cell_type": "code",
      "metadata": {
        "_cell_guid": "b1076dfc-b9ad-4769-8c92-a6c4dae69d19",
        "_uuid": "8f2839f25d086af736a60e9eeb907d3b93b6e0e5",
        "papermill": {
          "duration": 0.057251,
          "end_time": "2021-08-10T18:13:47.76712",
          "exception": false,
          "start_time": "2021-08-10T18:13:47.709869",
          "status": "completed"
        },
        "tags": [],
        "execution": {
          "iopub.status.busy": "2021-08-16T08:48:23.461956Z",
          "iopub.execute_input": "2021-08-16T08:48:23.462751Z",
          "iopub.status.idle": "2021-08-16T08:48:23.484816Z",
          "shell.execute_reply.started": "2021-08-16T08:48:23.462606Z",
          "shell.execute_reply": "2021-08-16T08:48:23.483711Z"
        },
        "trusted": true,
        "id": "AhcOD3ImdpdL"
      },
      "source": [
        "%config Completer.use_jedi = False"
      ],
      "execution_count": null,
      "outputs": []
    },
    {
      "cell_type": "code",
      "metadata": {
        "papermill": {
          "duration": 2.458595,
          "end_time": "2021-08-10T18:13:50.257546",
          "exception": false,
          "start_time": "2021-08-10T18:13:47.798951",
          "status": "completed"
        },
        "tags": [],
        "execution": {
          "iopub.status.busy": "2021-08-16T08:48:23.486528Z",
          "iopub.execute_input": "2021-08-16T08:48:23.487152Z",
          "iopub.status.idle": "2021-08-16T08:48:26.240367Z",
          "shell.execute_reply.started": "2021-08-16T08:48:23.487108Z",
          "shell.execute_reply": "2021-08-16T08:48:26.239292Z"
        },
        "trusted": true,
        "id": "rnBmPsPFdpdR"
      },
      "source": [
        "import numpy as np\n",
        "import pandas as pd\n",
        "import seaborn as sns\n",
        "\n",
        "import matplotlib.pyplot as plt\n",
        "from matplotlib.pyplot import imshow, imread\n",
        "\n",
        "from sklearn.model_selection import train_test_split\n",
        "from sklearn.model_selection import GridSearchCV\n",
        "from sklearn.metrics import mean_squared_error\n",
        "from sklearn.model_selection import KFold\n",
        "\n",
        "import lightgbm as lgb\n",
        "import warnings"
      ],
      "execution_count": null,
      "outputs": []
    },
    {
      "cell_type": "code",
      "metadata": {
        "papermill": {
          "duration": 11.286766,
          "end_time": "2021-08-10T18:14:01.578272",
          "exception": false,
          "start_time": "2021-08-10T18:13:50.291506",
          "status": "completed"
        },
        "tags": [],
        "execution": {
          "iopub.status.busy": "2021-08-16T08:48:26.242808Z",
          "iopub.execute_input": "2021-08-16T08:48:26.243234Z",
          "iopub.status.idle": "2021-08-16T08:48:37.680664Z",
          "shell.execute_reply.started": "2021-08-16T08:48:26.243187Z",
          "shell.execute_reply": "2021-08-16T08:48:37.67962Z"
        },
        "trusted": true,
        "id": "IbOs00zDdpdc"
      },
      "source": [
        "submission_ex = pd.read_csv('/kaggle/input/tabular-playground-series-aug-2021/sample_submission.csv')\n",
        "train_df = pd.read_csv('/kaggle/input/tabular-playground-series-aug-2021/train.csv')\n",
        "test_df = pd.read_csv('/kaggle/input/tabular-playground-series-aug-2021/test.csv')"
      ],
      "execution_count": null,
      "outputs": []
    },
    {
      "cell_type": "code",
      "metadata": {
        "papermill": {
          "duration": 0.135384,
          "end_time": "2021-08-10T18:14:01.745668",
          "exception": false,
          "start_time": "2021-08-10T18:14:01.610284",
          "status": "completed"
        },
        "tags": [],
        "execution": {
          "iopub.status.busy": "2021-08-16T08:48:37.682318Z",
          "iopub.execute_input": "2021-08-16T08:48:37.682775Z",
          "iopub.status.idle": "2021-08-16T08:48:37.831978Z",
          "shell.execute_reply.started": "2021-08-16T08:48:37.68273Z",
          "shell.execute_reply": "2021-08-16T08:48:37.830819Z"
        },
        "trusted": true,
        "id": "F8cIdcB9dpdd"
      },
      "source": [
        "targets_df = train_df[['loss']].copy()\n",
        "train_df.drop(['id', 'loss'], axis=1, inplace=True) \n",
        "test_df.drop(['id'], axis=1, inplace=True) "
      ],
      "execution_count": null,
      "outputs": []
    },
    {
      "cell_type": "code",
      "metadata": {
        "execution": {
          "iopub.status.busy": "2021-08-16T13:30:33.943109Z",
          "iopub.execute_input": "2021-08-16T13:30:33.943626Z",
          "iopub.status.idle": "2021-08-16T13:30:33.949361Z",
          "shell.execute_reply.started": "2021-08-16T13:30:33.94358Z",
          "shell.execute_reply": "2021-08-16T13:30:33.948121Z"
        },
        "trusted": true,
        "id": "zjWpgez5dpdd"
      },
      "source": [
        "def softmax(x):\n",
        "    e_x = np.exp(x - np.max(x))\n",
        "    return e_x / e_x.sum(axis = 0)"
      ],
      "execution_count": null,
      "outputs": []
    },
    {
      "cell_type": "code",
      "metadata": {
        "papermill": {
          "duration": 0.042906,
          "end_time": "2021-08-10T18:14:03.824199",
          "exception": false,
          "start_time": "2021-08-10T18:14:03.781293",
          "status": "completed"
        },
        "tags": [],
        "execution": {
          "iopub.status.busy": "2021-08-16T13:49:15.500762Z",
          "iopub.execute_input": "2021-08-16T13:49:15.501211Z",
          "iopub.status.idle": "2021-08-16T13:49:15.50906Z",
          "shell.execute_reply.started": "2021-08-16T13:49:15.501175Z",
          "shell.execute_reply": "2021-08-16T13:49:15.50774Z"
        },
        "trusted": true,
        "id": "rBEmtQrrdpde"
      },
      "source": [
        "params_loss = {'bagging_fraction': 0.8962250586874196, \n",
        "               'bagging_freq': 1, \n",
        "               'lambda_l1': 0.01895614209401383, \n",
        "               'lambda_l2': 0.001397920954070796, \n",
        "               'learning_rate': 0.05906516799338329, \n",
        "               'max_depth': 46, \n",
        "               'min_sum_hessian_in_leaf': 376.9636549547788, \n",
        "               'n_estimators': 100, \n",
        "               'num_leaves': 184}\n",
        "\n",
        "\n",
        "params_loss['n_estimators'] = 20000\n",
        "params_loss['learning_rate'] = 0.005\n",
        "\n",
        "lgbm_reg = lgb.LGBMRegressor(**params_loss, \n",
        "                       objective='rmse',\n",
        "                       metric='rmse',\n",
        "                       n_jobs=-1)"
      ],
      "execution_count": null,
      "outputs": []
    },
    {
      "cell_type": "code",
      "metadata": {
        "papermill": {
          "duration": 0.039813,
          "end_time": "2021-08-10T18:14:03.897447",
          "exception": false,
          "start_time": "2021-08-10T18:14:03.857634",
          "status": "completed"
        },
        "tags": [],
        "execution": {
          "iopub.status.busy": "2021-08-16T13:49:15.849265Z",
          "iopub.execute_input": "2021-08-16T13:49:15.849732Z",
          "iopub.status.idle": "2021-08-16T13:49:15.854903Z",
          "shell.execute_reply.started": "2021-08-16T13:49:15.849693Z",
          "shell.execute_reply": "2021-08-16T13:49:15.853573Z"
        },
        "trusted": true,
        "id": "lYb4_hQCdpdg"
      },
      "source": [
        "submit = True"
      ],
      "execution_count": null,
      "outputs": []
    },
    {
      "cell_type": "markdown",
      "metadata": {
        "id": "MShAtm8Jdpdh"
      },
      "source": [
        "```\n",
        "300 epochs\n",
        "\n",
        "fold 2, 4, 6, 8, 10\n",
        "===================\n",
        "all_rmse:  7.883865767912834\n",
        "end_rmse1:  7.91782919532188\n",
        "end_rmse2:  7.917809927969676\t###\n",
        "end_rmse3:  7.917848576969314\n",
        "\n",
        "fold 10\n",
        "===================\n",
        "all_rmse:  7.883768205859681\n",
        "end_rmse1:  7.918339059278837\n",
        "end_rmse2:  7.918326740043123\t###\n",
        "end_rmse3:  7.918351779650094\n",
        "\n",
        "fold 20\n",
        "===================\n",
        "all_rmse:  7.883478431519637\n",
        "end_rmse1:  7.918303796204797\n",
        "end_rmse2:  7.918301322304228\t###\n",
        "end_rmse3:  7.918306860761374\n",
        "```"
      ]
    },
    {
      "cell_type": "code",
      "metadata": {
        "papermill": {
          "duration": 3701.44117,
          "end_time": "2021-08-10T19:15:45.371968",
          "exception": false,
          "start_time": "2021-08-10T18:14:03.930798",
          "status": "completed"
        },
        "tags": [],
        "_kg_hide-input": false,
        "execution": {
          "iopub.status.busy": "2021-08-16T13:49:16.953168Z",
          "iopub.execute_input": "2021-08-16T13:49:16.953624Z",
          "iopub.status.idle": "2021-08-16T14:02:24.961601Z",
          "shell.execute_reply.started": "2021-08-16T13:49:16.953586Z",
          "shell.execute_reply": "2021-08-16T14:02:24.960006Z"
        },
        "_kg_hide-output": true,
        "trusted": true,
        "id": "Zpyowm2qdpdj"
      },
      "source": [
        "_target = 'loss'\n",
        "\n",
        "if submit:\n",
        "    X = train_df\n",
        "    y = targets_df[['loss']]\n",
        "else:\n",
        "    np.random.seed(37)\n",
        "    msk = np.random.rand(len(train_df)) < 0.9\n",
        "    X = train_df[msk]\n",
        "    my_X = train_df[~msk]\n",
        "    y = targets_df[msk]\n",
        "    my_y = targets_df[~msk]\n",
        "\n",
        "pred = []\n",
        "val_rmse = []\n",
        "random_state = 37\n",
        "all_rmse = 0\n",
        "\n",
        "print(X.shape)\n",
        "\n",
        "for k in range(2, 11, 2):\n",
        "    print('k: ', k)\n",
        "    print('====================')\n",
        "    kfolds = KFold(n_splits = k, shuffle = True, random_state = random_state)\n",
        "    k_folds_rmse = 0\n",
        "    _k = 1\n",
        "    for train_index, test_index in kfolds.split(X):\n",
        "        print('------------------------------------------------k: ', _k, 'of', k)\n",
        "        _k += 1\n",
        "        X_train, X_val = X.iloc[train_index], X.iloc[test_index]\n",
        "        y_train, y_val = y.iloc[train_index], y.iloc[test_index]\n",
        "        \n",
        "        lgbm_reg.fit(\n",
        "            X_train, \n",
        "            y_train,\n",
        "            eval_set=[(X_val, y_val)],\n",
        "            verbose=500,\n",
        "            early_stopping_rounds=500)\n",
        "        \n",
        "        f_pred = lgbm_reg.predict(X_val)\n",
        "        curr_rmse = mean_squared_error(y_val[_target].values, f_pred, squared = False)\n",
        "        print('curr_rmse: ', curr_rmse)\n",
        "        val_rmse.append(curr_rmse)\n",
        "        \n",
        "        all_rmse += curr_rmse\n",
        "        k_folds_rmse += curr_rmse\n",
        "        \n",
        "        pred.append(lgbm_reg.predict(my_X if not submit else test_df))\n",
        "        \n",
        "    print('k_folds_rmse: ', k_folds_rmse / k)\n",
        "        \n",
        "    print('all_rmse: ', all_rmse / len(pred))\n",
        "\n",
        "    \n",
        "pred1 = np.sum(pred, axis = 0) / len(pred)\n",
        "pred2 = np.transpose(np.matmul(np.transpose(pred), softmax(val_rmse)))\n",
        "pred3 = np.transpose(np.matmul(np.transpose(pred), softmax(np.squeeze(np.full((1, len(pred)), 100)) - val_rmse)))\n",
        "\n",
        "if not submit:\n",
        "    end_rmse1 = mean_squared_error(my_y, pred1, squared = False)\n",
        "    print('end_rmse1: ', end_rmse1)\n",
        "    end_rmse2 = mean_squared_error(my_y, pred2, squared = False)\n",
        "    print('end_rmse2: ', end_rmse2)\n",
        "    end_rmse3 = mean_squared_error(my_y, pred3, squared = False)\n",
        "    print('end_rmse3: ', end_rmse3)\n",
        "else:\n",
        "    submission_1 = submission_ex[['id']].copy()\n",
        "    submission_2 = submission_ex[['id']].copy()\n",
        "    submission_3 = submission_ex[['id']].copy()\n",
        "    submission_1[_target] = pred1\n",
        "    submission_2[_target] = pred2\n",
        "    submission_3[_target] = pred3\n",
        "    submission_1.to_csv('submission_1.csv', index=False)\n",
        "    submission_2.to_csv('submission_2_p.csv', index=False)\n",
        "    submission_3.to_csv('submission_3.csv', index=False)"
      ],
      "execution_count": null,
      "outputs": []
    },
    {
      "cell_type": "code",
      "metadata": {
        "papermill": {
          "duration": 0.11051,
          "end_time": "2021-08-10T19:15:46.147038",
          "exception": false,
          "start_time": "2021-08-10T19:15:46.036528",
          "status": "completed"
        },
        "tags": [],
        "execution": {
          "iopub.status.busy": "2021-08-16T13:47:58.560528Z",
          "iopub.execute_input": "2021-08-16T13:47:58.560859Z",
          "iopub.status.idle": "2021-08-16T13:47:58.61933Z",
          "shell.execute_reply.started": "2021-08-16T13:47:58.560817Z",
          "shell.execute_reply": "2021-08-16T13:47:58.618257Z"
        },
        "trusted": true,
        "id": "jB_VbDXTdpdq"
      },
      "source": [
        "test = pd.read_csv('submission_2_p.csv')\n",
        "test.head()"
      ],
      "execution_count": null,
      "outputs": []
    },
    {
      "cell_type": "code",
      "metadata": {
        "papermill": {
          "duration": 0.034908,
          "end_time": "2021-08-10T19:15:46.579357",
          "exception": false,
          "start_time": "2021-08-10T19:15:46.544449",
          "status": "completed"
        },
        "tags": [],
        "id": "nPD0QxwZdpdr"
      },
      "source": [
        ""
      ],
      "execution_count": null,
      "outputs": []
    }
  ]
}