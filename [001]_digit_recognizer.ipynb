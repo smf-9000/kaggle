{
  "nbformat": 4,
  "nbformat_minor": 5,
  "metadata": {
    "kernelspec": {
      "display_name": "Python 3",
      "language": "python",
      "name": "python3"
    },
    "language_info": {
      "codemirror_mode": {
        "name": "ipython",
        "version": 3
      },
      "file_extension": ".py",
      "mimetype": "text/x-python",
      "name": "python",
      "nbconvert_exporter": "python",
      "pygments_lexer": "ipython3",
      "version": "3.7.10"
    },
    "papermill": {
      "default_parameters": {},
      "duration": 662.868233,
      "end_time": "2021-07-21T11:06:34.308534",
      "environment_variables": {},
      "exception": null,
      "input_path": "__notebook__.ipynb",
      "output_path": "__notebook__.ipynb",
      "parameters": {},
      "start_time": "2021-07-21T10:55:31.440301",
      "version": "2.3.3"
    },
    "colab": {
      "name": "[001]-digit-recognizer.ipynb",
      "provenance": [],
      "collapsed_sections": []
    }
  },
  "cells": [
    {
      "cell_type": "markdown",
      "metadata": {
        "id": "IcVSDP21Dgng"
      },
      "source": [
        "<a href=\"https://www.kaggle.com/ivankontic/001-digit-recognizer\" target=\"_parent\"><img alt=\"Kaggle\" title=\"Open in Kaggle\" src=\"https://kaggle.com/static/images/open-in-kaggle.svg\"></a>"
      ],
      "id": "IcVSDP21Dgng"
    },
    {
      "cell_type": "code",
      "metadata": {
        "execution": {
          "iopub.execute_input": "2021-07-21T10:55:39.889985Z",
          "iopub.status.busy": "2021-07-21T10:55:39.884722Z",
          "iopub.status.idle": "2021-07-21T10:55:39.902008Z",
          "shell.execute_reply": "2021-07-21T10:55:39.901335Z",
          "shell.execute_reply.started": "2021-07-21T10:36:27.657231Z"
        },
        "papermill": {
          "duration": 0.053643,
          "end_time": "2021-07-21T10:55:39.902185",
          "exception": false,
          "start_time": "2021-07-21T10:55:39.848542",
          "status": "completed"
        },
        "tags": [],
        "id": "8027d415"
      },
      "source": [
        "%config Completer.use_jedi = False"
      ],
      "id": "8027d415",
      "execution_count": null,
      "outputs": []
    },
    {
      "cell_type": "code",
      "metadata": {
        "_cell_guid": "b1076dfc-b9ad-4769-8c92-a6c4dae69d19",
        "_uuid": "8f2839f25d086af736a60e9eeb907d3b93b6e0e5",
        "execution": {
          "iopub.execute_input": "2021-07-21T10:55:39.958654Z",
          "iopub.status.busy": "2021-07-21T10:55:39.957975Z",
          "iopub.status.idle": "2021-07-21T10:55:39.959839Z",
          "shell.execute_reply": "2021-07-21T10:55:39.960279Z",
          "shell.execute_reply.started": "2021-07-21T10:36:27.678929Z"
        },
        "papermill": {
          "duration": 0.032234,
          "end_time": "2021-07-21T10:55:39.960445",
          "exception": false,
          "start_time": "2021-07-21T10:55:39.928211",
          "status": "completed"
        },
        "tags": [],
        "id": "ff75e3f4"
      },
      "source": [
        "import numpy as np # linear algebra\n",
        "import pandas as pd # data processing, CSV file I/O (e.g. pd.read_csv)"
      ],
      "id": "ff75e3f4",
      "execution_count": null,
      "outputs": []
    },
    {
      "cell_type": "code",
      "metadata": {
        "execution": {
          "iopub.execute_input": "2021-07-21T10:55:40.015393Z",
          "iopub.status.busy": "2021-07-21T10:55:40.014729Z",
          "iopub.status.idle": "2021-07-21T10:55:40.021833Z",
          "shell.execute_reply": "2021-07-21T10:55:40.022544Z",
          "shell.execute_reply.started": "2021-07-21T10:36:27.691735Z"
        },
        "papermill": {
          "duration": 0.036056,
          "end_time": "2021-07-21T10:55:40.022781",
          "exception": false,
          "start_time": "2021-07-21T10:55:39.986725",
          "status": "completed"
        },
        "tags": [],
        "id": "6f83e964",
        "outputId": "cb5eee33-b381-4751-9b0e-b165cae1a6bf"
      },
      "source": [
        "import os\n",
        "for dirname, _, filenames in os.walk('/kaggle/input'):\n",
        "    for filename in filenames:\n",
        "        print(os.path.join(dirname, filename))"
      ],
      "id": "6f83e964",
      "execution_count": null,
      "outputs": [
        {
          "output_type": "stream",
          "text": [
            "/kaggle/input/digit-recognizer/sample_submission.csv\n",
            "/kaggle/input/digit-recognizer/train.csv\n",
            "/kaggle/input/digit-recognizer/test.csv\n"
          ],
          "name": "stdout"
        }
      ]
    },
    {
      "cell_type": "code",
      "metadata": {
        "execution": {
          "iopub.execute_input": "2021-07-21T10:55:40.088950Z",
          "iopub.status.busy": "2021-07-21T10:55:40.088210Z",
          "iopub.status.idle": "2021-07-21T10:55:46.387874Z",
          "shell.execute_reply": "2021-07-21T10:55:46.387074Z",
          "shell.execute_reply.started": "2021-07-21T10:36:27.713128Z"
        },
        "papermill": {
          "duration": 6.337919,
          "end_time": "2021-07-21T10:55:46.388022",
          "exception": false,
          "start_time": "2021-07-21T10:55:40.050103",
          "status": "completed"
        },
        "tags": [],
        "id": "e93821c2"
      },
      "source": [
        "sample_submission_df = pd.read_csv('/kaggle/input/digit-recognizer/sample_submission.csv')\n",
        "train_df = pd.read_csv('/kaggle/input/digit-recognizer/train.csv')\n",
        "test_df = pd.read_csv('/kaggle/input/digit-recognizer/test.csv')"
      ],
      "id": "e93821c2",
      "execution_count": null,
      "outputs": []
    },
    {
      "cell_type": "code",
      "metadata": {
        "execution": {
          "iopub.execute_input": "2021-07-21T10:55:46.452843Z",
          "iopub.status.busy": "2021-07-21T10:55:46.451837Z",
          "iopub.status.idle": "2021-07-21T10:55:46.468267Z",
          "shell.execute_reply": "2021-07-21T10:55:46.468781Z",
          "shell.execute_reply.started": "2021-07-21T10:47:34.719247Z"
        },
        "papermill": {
          "duration": 0.054911,
          "end_time": "2021-07-21T10:55:46.468947",
          "exception": false,
          "start_time": "2021-07-21T10:55:46.414036",
          "status": "completed"
        },
        "tags": [],
        "id": "1764dfb7",
        "outputId": "573b9edc-3438-4c32-b809-fa7cda3c37b0"
      },
      "source": [
        "sample_submission_df.head()"
      ],
      "id": "1764dfb7",
      "execution_count": null,
      "outputs": [
        {
          "output_type": "execute_result",
          "data": {
            "text/html": [
              "<div>\n",
              "<style scoped>\n",
              "    .dataframe tbody tr th:only-of-type {\n",
              "        vertical-align: middle;\n",
              "    }\n",
              "\n",
              "    .dataframe tbody tr th {\n",
              "        vertical-align: top;\n",
              "    }\n",
              "\n",
              "    .dataframe thead th {\n",
              "        text-align: right;\n",
              "    }\n",
              "</style>\n",
              "<table border=\"1\" class=\"dataframe\">\n",
              "  <thead>\n",
              "    <tr style=\"text-align: right;\">\n",
              "      <th></th>\n",
              "      <th>ImageId</th>\n",
              "      <th>Label</th>\n",
              "    </tr>\n",
              "  </thead>\n",
              "  <tbody>\n",
              "    <tr>\n",
              "      <th>0</th>\n",
              "      <td>1</td>\n",
              "      <td>0</td>\n",
              "    </tr>\n",
              "    <tr>\n",
              "      <th>1</th>\n",
              "      <td>2</td>\n",
              "      <td>0</td>\n",
              "    </tr>\n",
              "    <tr>\n",
              "      <th>2</th>\n",
              "      <td>3</td>\n",
              "      <td>0</td>\n",
              "    </tr>\n",
              "    <tr>\n",
              "      <th>3</th>\n",
              "      <td>4</td>\n",
              "      <td>0</td>\n",
              "    </tr>\n",
              "    <tr>\n",
              "      <th>4</th>\n",
              "      <td>5</td>\n",
              "      <td>0</td>\n",
              "    </tr>\n",
              "  </tbody>\n",
              "</table>\n",
              "</div>"
            ],
            "text/plain": [
              "   ImageId  Label\n",
              "0        1      0\n",
              "1        2      0\n",
              "2        3      0\n",
              "3        4      0\n",
              "4        5      0"
            ]
          },
          "metadata": {
            "tags": []
          },
          "execution_count": 5
        }
      ]
    },
    {
      "cell_type": "code",
      "metadata": {
        "execution": {
          "iopub.execute_input": "2021-07-21T10:55:46.540456Z",
          "iopub.status.busy": "2021-07-21T10:55:46.539571Z",
          "iopub.status.idle": "2021-07-21T10:55:46.543445Z",
          "shell.execute_reply": "2021-07-21T10:55:46.542852Z",
          "shell.execute_reply.started": "2021-07-21T10:36:34.085184Z"
        },
        "papermill": {
          "duration": 0.048115,
          "end_time": "2021-07-21T10:55:46.543600",
          "exception": false,
          "start_time": "2021-07-21T10:55:46.495485",
          "status": "completed"
        },
        "tags": [],
        "id": "c9e4a76e",
        "outputId": "775b5a06-c56b-4f98-f508-90a46afef53b"
      },
      "source": [
        "train_df.head()"
      ],
      "id": "c9e4a76e",
      "execution_count": null,
      "outputs": [
        {
          "output_type": "execute_result",
          "data": {
            "text/html": [
              "<div>\n",
              "<style scoped>\n",
              "    .dataframe tbody tr th:only-of-type {\n",
              "        vertical-align: middle;\n",
              "    }\n",
              "\n",
              "    .dataframe tbody tr th {\n",
              "        vertical-align: top;\n",
              "    }\n",
              "\n",
              "    .dataframe thead th {\n",
              "        text-align: right;\n",
              "    }\n",
              "</style>\n",
              "<table border=\"1\" class=\"dataframe\">\n",
              "  <thead>\n",
              "    <tr style=\"text-align: right;\">\n",
              "      <th></th>\n",
              "      <th>label</th>\n",
              "      <th>pixel0</th>\n",
              "      <th>pixel1</th>\n",
              "      <th>pixel2</th>\n",
              "      <th>pixel3</th>\n",
              "      <th>pixel4</th>\n",
              "      <th>pixel5</th>\n",
              "      <th>pixel6</th>\n",
              "      <th>pixel7</th>\n",
              "      <th>pixel8</th>\n",
              "      <th>...</th>\n",
              "      <th>pixel774</th>\n",
              "      <th>pixel775</th>\n",
              "      <th>pixel776</th>\n",
              "      <th>pixel777</th>\n",
              "      <th>pixel778</th>\n",
              "      <th>pixel779</th>\n",
              "      <th>pixel780</th>\n",
              "      <th>pixel781</th>\n",
              "      <th>pixel782</th>\n",
              "      <th>pixel783</th>\n",
              "    </tr>\n",
              "  </thead>\n",
              "  <tbody>\n",
              "    <tr>\n",
              "      <th>0</th>\n",
              "      <td>1</td>\n",
              "      <td>0</td>\n",
              "      <td>0</td>\n",
              "      <td>0</td>\n",
              "      <td>0</td>\n",
              "      <td>0</td>\n",
              "      <td>0</td>\n",
              "      <td>0</td>\n",
              "      <td>0</td>\n",
              "      <td>0</td>\n",
              "      <td>...</td>\n",
              "      <td>0</td>\n",
              "      <td>0</td>\n",
              "      <td>0</td>\n",
              "      <td>0</td>\n",
              "      <td>0</td>\n",
              "      <td>0</td>\n",
              "      <td>0</td>\n",
              "      <td>0</td>\n",
              "      <td>0</td>\n",
              "      <td>0</td>\n",
              "    </tr>\n",
              "    <tr>\n",
              "      <th>1</th>\n",
              "      <td>0</td>\n",
              "      <td>0</td>\n",
              "      <td>0</td>\n",
              "      <td>0</td>\n",
              "      <td>0</td>\n",
              "      <td>0</td>\n",
              "      <td>0</td>\n",
              "      <td>0</td>\n",
              "      <td>0</td>\n",
              "      <td>0</td>\n",
              "      <td>...</td>\n",
              "      <td>0</td>\n",
              "      <td>0</td>\n",
              "      <td>0</td>\n",
              "      <td>0</td>\n",
              "      <td>0</td>\n",
              "      <td>0</td>\n",
              "      <td>0</td>\n",
              "      <td>0</td>\n",
              "      <td>0</td>\n",
              "      <td>0</td>\n",
              "    </tr>\n",
              "    <tr>\n",
              "      <th>2</th>\n",
              "      <td>1</td>\n",
              "      <td>0</td>\n",
              "      <td>0</td>\n",
              "      <td>0</td>\n",
              "      <td>0</td>\n",
              "      <td>0</td>\n",
              "      <td>0</td>\n",
              "      <td>0</td>\n",
              "      <td>0</td>\n",
              "      <td>0</td>\n",
              "      <td>...</td>\n",
              "      <td>0</td>\n",
              "      <td>0</td>\n",
              "      <td>0</td>\n",
              "      <td>0</td>\n",
              "      <td>0</td>\n",
              "      <td>0</td>\n",
              "      <td>0</td>\n",
              "      <td>0</td>\n",
              "      <td>0</td>\n",
              "      <td>0</td>\n",
              "    </tr>\n",
              "    <tr>\n",
              "      <th>3</th>\n",
              "      <td>4</td>\n",
              "      <td>0</td>\n",
              "      <td>0</td>\n",
              "      <td>0</td>\n",
              "      <td>0</td>\n",
              "      <td>0</td>\n",
              "      <td>0</td>\n",
              "      <td>0</td>\n",
              "      <td>0</td>\n",
              "      <td>0</td>\n",
              "      <td>...</td>\n",
              "      <td>0</td>\n",
              "      <td>0</td>\n",
              "      <td>0</td>\n",
              "      <td>0</td>\n",
              "      <td>0</td>\n",
              "      <td>0</td>\n",
              "      <td>0</td>\n",
              "      <td>0</td>\n",
              "      <td>0</td>\n",
              "      <td>0</td>\n",
              "    </tr>\n",
              "    <tr>\n",
              "      <th>4</th>\n",
              "      <td>0</td>\n",
              "      <td>0</td>\n",
              "      <td>0</td>\n",
              "      <td>0</td>\n",
              "      <td>0</td>\n",
              "      <td>0</td>\n",
              "      <td>0</td>\n",
              "      <td>0</td>\n",
              "      <td>0</td>\n",
              "      <td>0</td>\n",
              "      <td>...</td>\n",
              "      <td>0</td>\n",
              "      <td>0</td>\n",
              "      <td>0</td>\n",
              "      <td>0</td>\n",
              "      <td>0</td>\n",
              "      <td>0</td>\n",
              "      <td>0</td>\n",
              "      <td>0</td>\n",
              "      <td>0</td>\n",
              "      <td>0</td>\n",
              "    </tr>\n",
              "  </tbody>\n",
              "</table>\n",
              "<p>5 rows × 785 columns</p>\n",
              "</div>"
            ],
            "text/plain": [
              "   label  pixel0  pixel1  pixel2  pixel3  pixel4  pixel5  pixel6  pixel7  \\\n",
              "0      1       0       0       0       0       0       0       0       0   \n",
              "1      0       0       0       0       0       0       0       0       0   \n",
              "2      1       0       0       0       0       0       0       0       0   \n",
              "3      4       0       0       0       0       0       0       0       0   \n",
              "4      0       0       0       0       0       0       0       0       0   \n",
              "\n",
              "   pixel8  ...  pixel774  pixel775  pixel776  pixel777  pixel778  pixel779  \\\n",
              "0       0  ...         0         0         0         0         0         0   \n",
              "1       0  ...         0         0         0         0         0         0   \n",
              "2       0  ...         0         0         0         0         0         0   \n",
              "3       0  ...         0         0         0         0         0         0   \n",
              "4       0  ...         0         0         0         0         0         0   \n",
              "\n",
              "   pixel780  pixel781  pixel782  pixel783  \n",
              "0         0         0         0         0  \n",
              "1         0         0         0         0  \n",
              "2         0         0         0         0  \n",
              "3         0         0         0         0  \n",
              "4         0         0         0         0  \n",
              "\n",
              "[5 rows x 785 columns]"
            ]
          },
          "metadata": {
            "tags": []
          },
          "execution_count": 6
        }
      ]
    },
    {
      "cell_type": "code",
      "metadata": {
        "execution": {
          "iopub.execute_input": "2021-07-21T10:55:46.600848Z",
          "iopub.status.busy": "2021-07-21T10:55:46.600149Z",
          "iopub.status.idle": "2021-07-21T10:55:46.642226Z",
          "shell.execute_reply": "2021-07-21T10:55:46.641560Z",
          "shell.execute_reply.started": "2021-07-21T10:36:34.121089Z"
        },
        "papermill": {
          "duration": 0.071728,
          "end_time": "2021-07-21T10:55:46.642363",
          "exception": false,
          "start_time": "2021-07-21T10:55:46.570635",
          "status": "completed"
        },
        "tags": [],
        "id": "d23e2b38",
        "outputId": "02c80d47-2366-4eda-e7bc-7e7438d6832b"
      },
      "source": [
        "train_df.to_numpy().max()"
      ],
      "id": "d23e2b38",
      "execution_count": null,
      "outputs": [
        {
          "output_type": "execute_result",
          "data": {
            "text/plain": [
              "255"
            ]
          },
          "metadata": {
            "tags": []
          },
          "execution_count": 7
        }
      ]
    },
    {
      "cell_type": "code",
      "metadata": {
        "execution": {
          "iopub.execute_input": "2021-07-21T10:55:46.750489Z",
          "iopub.status.busy": "2021-07-21T10:55:46.735257Z",
          "iopub.status.idle": "2021-07-21T10:55:46.753876Z",
          "shell.execute_reply": "2021-07-21T10:55:46.753007Z",
          "shell.execute_reply.started": "2021-07-21T10:36:34.174763Z"
        },
        "papermill": {
          "duration": 0.083431,
          "end_time": "2021-07-21T10:55:46.754065",
          "exception": false,
          "start_time": "2021-07-21T10:55:46.670634",
          "status": "completed"
        },
        "tags": [],
        "id": "c014b501",
        "outputId": "f8a9e17f-ab5b-40ca-f9e0-ed738d0a8a76"
      },
      "source": [
        "train_df.info()"
      ],
      "id": "c014b501",
      "execution_count": null,
      "outputs": [
        {
          "output_type": "stream",
          "text": [
            "<class 'pandas.core.frame.DataFrame'>\n",
            "RangeIndex: 42000 entries, 0 to 41999\n",
            "Columns: 785 entries, label to pixel783\n",
            "dtypes: int64(785)\n",
            "memory usage: 251.5 MB\n"
          ],
          "name": "stdout"
        }
      ]
    },
    {
      "cell_type": "code",
      "metadata": {
        "execution": {
          "iopub.execute_input": "2021-07-21T10:55:46.815238Z",
          "iopub.status.busy": "2021-07-21T10:55:46.814541Z",
          "iopub.status.idle": "2021-07-21T10:55:46.827534Z",
          "shell.execute_reply": "2021-07-21T10:55:46.828007Z",
          "shell.execute_reply.started": "2021-07-21T10:36:34.226764Z"
        },
        "papermill": {
          "duration": 0.045379,
          "end_time": "2021-07-21T10:55:46.828181",
          "exception": false,
          "start_time": "2021-07-21T10:55:46.782802",
          "status": "completed"
        },
        "tags": [],
        "id": "02d91ffb",
        "outputId": "9e59aa31-873c-4b21-8805-24b4c01c922a"
      },
      "source": [
        "train_df.isnull().values.any()"
      ],
      "id": "02d91ffb",
      "execution_count": null,
      "outputs": [
        {
          "output_type": "execute_result",
          "data": {
            "text/plain": [
              "False"
            ]
          },
          "metadata": {
            "tags": []
          },
          "execution_count": 9
        }
      ]
    },
    {
      "cell_type": "code",
      "metadata": {
        "execution": {
          "iopub.execute_input": "2021-07-21T10:55:46.902721Z",
          "iopub.status.busy": "2021-07-21T10:55:46.902037Z",
          "iopub.status.idle": "2021-07-21T10:55:46.906438Z",
          "shell.execute_reply": "2021-07-21T10:55:46.906939Z",
          "shell.execute_reply.started": "2021-07-21T10:36:34.255963Z"
        },
        "papermill": {
          "duration": 0.051179,
          "end_time": "2021-07-21T10:55:46.907110",
          "exception": false,
          "start_time": "2021-07-21T10:55:46.855931",
          "status": "completed"
        },
        "tags": [],
        "id": "6c871ef5",
        "outputId": "95d97398-50fa-4f6e-de02-bcb799f31303"
      },
      "source": [
        "test_df.head()"
      ],
      "id": "6c871ef5",
      "execution_count": null,
      "outputs": [
        {
          "output_type": "execute_result",
          "data": {
            "text/html": [
              "<div>\n",
              "<style scoped>\n",
              "    .dataframe tbody tr th:only-of-type {\n",
              "        vertical-align: middle;\n",
              "    }\n",
              "\n",
              "    .dataframe tbody tr th {\n",
              "        vertical-align: top;\n",
              "    }\n",
              "\n",
              "    .dataframe thead th {\n",
              "        text-align: right;\n",
              "    }\n",
              "</style>\n",
              "<table border=\"1\" class=\"dataframe\">\n",
              "  <thead>\n",
              "    <tr style=\"text-align: right;\">\n",
              "      <th></th>\n",
              "      <th>pixel0</th>\n",
              "      <th>pixel1</th>\n",
              "      <th>pixel2</th>\n",
              "      <th>pixel3</th>\n",
              "      <th>pixel4</th>\n",
              "      <th>pixel5</th>\n",
              "      <th>pixel6</th>\n",
              "      <th>pixel7</th>\n",
              "      <th>pixel8</th>\n",
              "      <th>pixel9</th>\n",
              "      <th>...</th>\n",
              "      <th>pixel774</th>\n",
              "      <th>pixel775</th>\n",
              "      <th>pixel776</th>\n",
              "      <th>pixel777</th>\n",
              "      <th>pixel778</th>\n",
              "      <th>pixel779</th>\n",
              "      <th>pixel780</th>\n",
              "      <th>pixel781</th>\n",
              "      <th>pixel782</th>\n",
              "      <th>pixel783</th>\n",
              "    </tr>\n",
              "  </thead>\n",
              "  <tbody>\n",
              "    <tr>\n",
              "      <th>0</th>\n",
              "      <td>0</td>\n",
              "      <td>0</td>\n",
              "      <td>0</td>\n",
              "      <td>0</td>\n",
              "      <td>0</td>\n",
              "      <td>0</td>\n",
              "      <td>0</td>\n",
              "      <td>0</td>\n",
              "      <td>0</td>\n",
              "      <td>0</td>\n",
              "      <td>...</td>\n",
              "      <td>0</td>\n",
              "      <td>0</td>\n",
              "      <td>0</td>\n",
              "      <td>0</td>\n",
              "      <td>0</td>\n",
              "      <td>0</td>\n",
              "      <td>0</td>\n",
              "      <td>0</td>\n",
              "      <td>0</td>\n",
              "      <td>0</td>\n",
              "    </tr>\n",
              "    <tr>\n",
              "      <th>1</th>\n",
              "      <td>0</td>\n",
              "      <td>0</td>\n",
              "      <td>0</td>\n",
              "      <td>0</td>\n",
              "      <td>0</td>\n",
              "      <td>0</td>\n",
              "      <td>0</td>\n",
              "      <td>0</td>\n",
              "      <td>0</td>\n",
              "      <td>0</td>\n",
              "      <td>...</td>\n",
              "      <td>0</td>\n",
              "      <td>0</td>\n",
              "      <td>0</td>\n",
              "      <td>0</td>\n",
              "      <td>0</td>\n",
              "      <td>0</td>\n",
              "      <td>0</td>\n",
              "      <td>0</td>\n",
              "      <td>0</td>\n",
              "      <td>0</td>\n",
              "    </tr>\n",
              "    <tr>\n",
              "      <th>2</th>\n",
              "      <td>0</td>\n",
              "      <td>0</td>\n",
              "      <td>0</td>\n",
              "      <td>0</td>\n",
              "      <td>0</td>\n",
              "      <td>0</td>\n",
              "      <td>0</td>\n",
              "      <td>0</td>\n",
              "      <td>0</td>\n",
              "      <td>0</td>\n",
              "      <td>...</td>\n",
              "      <td>0</td>\n",
              "      <td>0</td>\n",
              "      <td>0</td>\n",
              "      <td>0</td>\n",
              "      <td>0</td>\n",
              "      <td>0</td>\n",
              "      <td>0</td>\n",
              "      <td>0</td>\n",
              "      <td>0</td>\n",
              "      <td>0</td>\n",
              "    </tr>\n",
              "    <tr>\n",
              "      <th>3</th>\n",
              "      <td>0</td>\n",
              "      <td>0</td>\n",
              "      <td>0</td>\n",
              "      <td>0</td>\n",
              "      <td>0</td>\n",
              "      <td>0</td>\n",
              "      <td>0</td>\n",
              "      <td>0</td>\n",
              "      <td>0</td>\n",
              "      <td>0</td>\n",
              "      <td>...</td>\n",
              "      <td>0</td>\n",
              "      <td>0</td>\n",
              "      <td>0</td>\n",
              "      <td>0</td>\n",
              "      <td>0</td>\n",
              "      <td>0</td>\n",
              "      <td>0</td>\n",
              "      <td>0</td>\n",
              "      <td>0</td>\n",
              "      <td>0</td>\n",
              "    </tr>\n",
              "    <tr>\n",
              "      <th>4</th>\n",
              "      <td>0</td>\n",
              "      <td>0</td>\n",
              "      <td>0</td>\n",
              "      <td>0</td>\n",
              "      <td>0</td>\n",
              "      <td>0</td>\n",
              "      <td>0</td>\n",
              "      <td>0</td>\n",
              "      <td>0</td>\n",
              "      <td>0</td>\n",
              "      <td>...</td>\n",
              "      <td>0</td>\n",
              "      <td>0</td>\n",
              "      <td>0</td>\n",
              "      <td>0</td>\n",
              "      <td>0</td>\n",
              "      <td>0</td>\n",
              "      <td>0</td>\n",
              "      <td>0</td>\n",
              "      <td>0</td>\n",
              "      <td>0</td>\n",
              "    </tr>\n",
              "  </tbody>\n",
              "</table>\n",
              "<p>5 rows × 784 columns</p>\n",
              "</div>"
            ],
            "text/plain": [
              "   pixel0  pixel1  pixel2  pixel3  pixel4  pixel5  pixel6  pixel7  pixel8  \\\n",
              "0       0       0       0       0       0       0       0       0       0   \n",
              "1       0       0       0       0       0       0       0       0       0   \n",
              "2       0       0       0       0       0       0       0       0       0   \n",
              "3       0       0       0       0       0       0       0       0       0   \n",
              "4       0       0       0       0       0       0       0       0       0   \n",
              "\n",
              "   pixel9  ...  pixel774  pixel775  pixel776  pixel777  pixel778  pixel779  \\\n",
              "0       0  ...         0         0         0         0         0         0   \n",
              "1       0  ...         0         0         0         0         0         0   \n",
              "2       0  ...         0         0         0         0         0         0   \n",
              "3       0  ...         0         0         0         0         0         0   \n",
              "4       0  ...         0         0         0         0         0         0   \n",
              "\n",
              "   pixel780  pixel781  pixel782  pixel783  \n",
              "0         0         0         0         0  \n",
              "1         0         0         0         0  \n",
              "2         0         0         0         0  \n",
              "3         0         0         0         0  \n",
              "4         0         0         0         0  \n",
              "\n",
              "[5 rows x 784 columns]"
            ]
          },
          "metadata": {
            "tags": []
          },
          "execution_count": 10
        }
      ]
    },
    {
      "cell_type": "code",
      "metadata": {
        "execution": {
          "iopub.execute_input": "2021-07-21T10:55:46.970209Z",
          "iopub.status.busy": "2021-07-21T10:55:46.969340Z",
          "iopub.status.idle": "2021-07-21T10:55:46.972108Z",
          "shell.execute_reply": "2021-07-21T10:55:46.972651Z",
          "shell.execute_reply.started": "2021-07-21T10:48:28.439621Z"
        },
        "papermill": {
          "duration": 0.037223,
          "end_time": "2021-07-21T10:55:46.972855",
          "exception": false,
          "start_time": "2021-07-21T10:55:46.935632",
          "status": "completed"
        },
        "tags": [],
        "id": "783b52ff"
      },
      "source": [
        "X, y = train_df.iloc[:, 1:], train_df['label'].values\n",
        "test_X = test_df.iloc[:,:]\n",
        "submission_indices = test_df.index.values + 1"
      ],
      "id": "783b52ff",
      "execution_count": null,
      "outputs": []
    },
    {
      "cell_type": "code",
      "metadata": {
        "execution": {
          "iopub.execute_input": "2021-07-21T10:55:47.036088Z",
          "iopub.status.busy": "2021-07-21T10:55:47.035103Z",
          "iopub.status.idle": "2021-07-21T10:55:47.039779Z",
          "shell.execute_reply": "2021-07-21T10:55:47.039191Z",
          "shell.execute_reply.started": "2021-07-21T10:48:36.149074Z"
        },
        "papermill": {
          "duration": 0.038279,
          "end_time": "2021-07-21T10:55:47.039919",
          "exception": false,
          "start_time": "2021-07-21T10:55:47.001640",
          "status": "completed"
        },
        "tags": [],
        "id": "d0bd2c62",
        "outputId": "3a6930e9-623c-4520-c566-3dee97fc735c"
      },
      "source": [
        "submission_indices"
      ],
      "id": "d0bd2c62",
      "execution_count": null,
      "outputs": [
        {
          "output_type": "execute_result",
          "data": {
            "text/plain": [
              "array([    1,     2,     3, ..., 27998, 27999, 28000])"
            ]
          },
          "metadata": {
            "tags": []
          },
          "execution_count": 12
        }
      ]
    },
    {
      "cell_type": "code",
      "metadata": {
        "execution": {
          "iopub.execute_input": "2021-07-21T10:55:47.103760Z",
          "iopub.status.busy": "2021-07-21T10:55:47.102915Z",
          "iopub.status.idle": "2021-07-21T10:55:48.519605Z",
          "shell.execute_reply": "2021-07-21T10:55:48.520146Z",
          "shell.execute_reply.started": "2021-07-21T10:36:34.292981Z"
        },
        "papermill": {
          "duration": 1.451389,
          "end_time": "2021-07-21T10:55:48.520318",
          "exception": false,
          "start_time": "2021-07-21T10:55:47.068929",
          "status": "completed"
        },
        "tags": [],
        "id": "02750b4d"
      },
      "source": [
        "from sklearn import preprocessing\n",
        "min_max_scaler = preprocessing.MinMaxScaler()\n",
        "X = min_max_scaler.fit_transform(X)\n",
        "test_X = min_max_scaler.fit_transform(test_X)"
      ],
      "id": "02750b4d",
      "execution_count": null,
      "outputs": []
    },
    {
      "cell_type": "code",
      "metadata": {
        "execution": {
          "iopub.execute_input": "2021-07-21T10:55:48.583481Z",
          "iopub.status.busy": "2021-07-21T10:55:48.582500Z",
          "iopub.status.idle": "2021-07-21T10:55:48.588576Z",
          "shell.execute_reply": "2021-07-21T10:55:48.589020Z",
          "shell.execute_reply.started": "2021-07-21T10:36:36.073224Z"
        },
        "papermill": {
          "duration": 0.038273,
          "end_time": "2021-07-21T10:55:48.589190",
          "exception": false,
          "start_time": "2021-07-21T10:55:48.550917",
          "status": "completed"
        },
        "tags": [],
        "id": "b65ea2b1",
        "outputId": "64494073-aae0-4ddf-9e1a-8c8277db8f2e"
      },
      "source": [
        "X"
      ],
      "id": "b65ea2b1",
      "execution_count": null,
      "outputs": [
        {
          "output_type": "execute_result",
          "data": {
            "text/plain": [
              "array([[0., 0., 0., ..., 0., 0., 0.],\n",
              "       [0., 0., 0., ..., 0., 0., 0.],\n",
              "       [0., 0., 0., ..., 0., 0., 0.],\n",
              "       ...,\n",
              "       [0., 0., 0., ..., 0., 0., 0.],\n",
              "       [0., 0., 0., ..., 0., 0., 0.],\n",
              "       [0., 0., 0., ..., 0., 0., 0.]])"
            ]
          },
          "metadata": {
            "tags": []
          },
          "execution_count": 14
        }
      ]
    },
    {
      "cell_type": "code",
      "metadata": {
        "execution": {
          "iopub.execute_input": "2021-07-21T10:55:48.651161Z",
          "iopub.status.busy": "2021-07-21T10:55:48.650176Z",
          "iopub.status.idle": "2021-07-21T10:55:48.655406Z",
          "shell.execute_reply": "2021-07-21T10:55:48.655916Z",
          "shell.execute_reply.started": "2021-07-21T10:36:36.081554Z"
        },
        "papermill": {
          "duration": 0.03791,
          "end_time": "2021-07-21T10:55:48.656082",
          "exception": false,
          "start_time": "2021-07-21T10:55:48.618172",
          "status": "completed"
        },
        "tags": [],
        "id": "b9b82432",
        "outputId": "274b99c8-7636-42fd-bbe4-a01d0fafd666"
      },
      "source": [
        "test_X.shape"
      ],
      "id": "b9b82432",
      "execution_count": null,
      "outputs": [
        {
          "output_type": "execute_result",
          "data": {
            "text/plain": [
              "(28000, 784)"
            ]
          },
          "metadata": {
            "tags": []
          },
          "execution_count": 15
        }
      ]
    },
    {
      "cell_type": "code",
      "metadata": {
        "execution": {
          "iopub.execute_input": "2021-07-21T10:55:48.719106Z",
          "iopub.status.busy": "2021-07-21T10:55:48.718089Z",
          "iopub.status.idle": "2021-07-21T10:55:49.201876Z",
          "shell.execute_reply": "2021-07-21T10:55:49.202368Z",
          "shell.execute_reply.started": "2021-07-21T10:36:36.097321Z"
        },
        "papermill": {
          "duration": 0.517014,
          "end_time": "2021-07-21T10:55:49.202570",
          "exception": false,
          "start_time": "2021-07-21T10:55:48.685556",
          "status": "completed"
        },
        "tags": [],
        "id": "beed43ad",
        "outputId": "63638ec6-ed2b-4853-f2e8-01802e51fd25"
      },
      "source": [
        "from sklearn.model_selection import train_test_split\n",
        "X_train, X_val, y_train, y_val = train_test_split(X, y, test_size=0.01, random_state=42)\n",
        "print(X_train.shape, X_val.shape, y_train.shape, y_val.shape)"
      ],
      "id": "beed43ad",
      "execution_count": null,
      "outputs": [
        {
          "output_type": "stream",
          "text": [
            "(41580, 784) (420, 784) (41580,) (420,)\n"
          ],
          "name": "stdout"
        }
      ]
    },
    {
      "cell_type": "markdown",
      "metadata": {
        "papermill": {
          "duration": 0.029645,
          "end_time": "2021-07-21T10:55:49.262202",
          "exception": false,
          "start_time": "2021-07-21T10:55:49.232557",
          "status": "completed"
        },
        "tags": [],
        "id": "d89ce75d"
      },
      "source": [
        "### CNN"
      ],
      "id": "d89ce75d"
    },
    {
      "cell_type": "code",
      "metadata": {
        "execution": {
          "iopub.execute_input": "2021-07-21T10:55:49.325541Z",
          "iopub.status.busy": "2021-07-21T10:55:49.324549Z",
          "iopub.status.idle": "2021-07-21T10:55:54.977478Z",
          "shell.execute_reply": "2021-07-21T10:55:54.978014Z",
          "shell.execute_reply.started": "2021-07-21T10:36:36.822610Z"
        },
        "papermill": {
          "duration": 5.686188,
          "end_time": "2021-07-21T10:55:54.978211",
          "exception": false,
          "start_time": "2021-07-21T10:55:49.292023",
          "status": "completed"
        },
        "tags": [],
        "id": "b6f8753b"
      },
      "source": [
        "import tensorflow as tf\n",
        "\n",
        "from tensorflow.keras import datasets, layers, models\n",
        "import matplotlib.pyplot as plt"
      ],
      "id": "b6f8753b",
      "execution_count": null,
      "outputs": []
    },
    {
      "cell_type": "code",
      "metadata": {
        "execution": {
          "iopub.execute_input": "2021-07-21T10:55:55.050270Z",
          "iopub.status.busy": "2021-07-21T10:55:55.049584Z",
          "iopub.status.idle": "2021-07-21T10:55:55.052716Z",
          "shell.execute_reply": "2021-07-21T10:55:55.052199Z",
          "shell.execute_reply.started": "2021-07-21T10:36:42.226221Z"
        },
        "papermill": {
          "duration": 0.044739,
          "end_time": "2021-07-21T10:55:55.052860",
          "exception": false,
          "start_time": "2021-07-21T10:55:55.008121",
          "status": "completed"
        },
        "tags": [],
        "id": "53bc3a2e"
      },
      "source": [
        "def CNN(input_shape=(784), classes=10):\n",
        "    \n",
        "    x_input = layers.Input(shape=input_shape)\n",
        "    X = layers.Reshape(target_shape=(28, 28, 1))(x_input)\n",
        "    \n",
        "    X = layers.Conv2D(filters=32, kernel_size=(3, 3), strides=(1,1), padding='same')(X)\n",
        "    X = layers.BatchNormalization(axis=3)(X) \n",
        "    X = layers.Activation('relu')(X)\n",
        "    X = layers.MaxPooling2D(pool_size=(2, 2), strides=(2, 2))(X)\n",
        "    X = layers.Conv2D(filters=64, kernel_size=(3, 3), strides=(1,1), padding='same')(X)\n",
        "    X = layers.BatchNormalization(axis=3)(X) \n",
        "    X = layers.Activation('relu')(X)\n",
        "    X = layers.MaxPooling2D(pool_size=(2, 2), strides=(2, 2))(X)\n",
        "    \n",
        "    X = layers.Flatten()(X)\n",
        "    X = layers.Dense(256, activation='relu')(X)\n",
        "    X = layers.Dropout(rate=0.4)(X)\n",
        "    X = layers.Dense(128, activation='relu')(X)\n",
        "    X = layers.Dropout(rate=0.4)(X)\n",
        "    X = layers.Dense(classes)(X)\n",
        "    \n",
        "    model = models.Model(inputs = x_input, outputs = X, name='MNIST_CNN')\n",
        "    return model"
      ],
      "id": "53bc3a2e",
      "execution_count": null,
      "outputs": []
    },
    {
      "cell_type": "code",
      "metadata": {
        "execution": {
          "iopub.execute_input": "2021-07-21T10:55:55.118268Z",
          "iopub.status.busy": "2021-07-21T10:55:55.117636Z",
          "iopub.status.idle": "2021-07-21T10:55:55.465464Z",
          "shell.execute_reply": "2021-07-21T10:55:55.464419Z",
          "shell.execute_reply.started": "2021-07-21T10:36:42.238620Z"
        },
        "papermill": {
          "duration": 0.382909,
          "end_time": "2021-07-21T10:55:55.465631",
          "exception": false,
          "start_time": "2021-07-21T10:55:55.082722",
          "status": "completed"
        },
        "tags": [],
        "id": "8472f542"
      },
      "source": [
        "model = CNN(input_shape = (784), classes = 10)"
      ],
      "id": "8472f542",
      "execution_count": null,
      "outputs": []
    },
    {
      "cell_type": "code",
      "metadata": {
        "execution": {
          "iopub.execute_input": "2021-07-21T10:55:55.532364Z",
          "iopub.status.busy": "2021-07-21T10:55:55.531704Z",
          "iopub.status.idle": "2021-07-21T10:55:55.539541Z",
          "shell.execute_reply": "2021-07-21T10:55:55.540292Z",
          "shell.execute_reply.started": "2021-07-21T10:36:42.622017Z"
        },
        "papermill": {
          "duration": 0.044869,
          "end_time": "2021-07-21T10:55:55.540532",
          "exception": false,
          "start_time": "2021-07-21T10:55:55.495663",
          "status": "completed"
        },
        "tags": [],
        "id": "78129b61",
        "outputId": "c4de868d-59eb-45c7-a449-40998b558c2e"
      },
      "source": [
        "model.summary()"
      ],
      "id": "78129b61",
      "execution_count": null,
      "outputs": [
        {
          "output_type": "stream",
          "text": [
            "Model: \"MNIST_CNN\"\n",
            "_________________________________________________________________\n",
            "Layer (type)                 Output Shape              Param #   \n",
            "=================================================================\n",
            "input_1 (InputLayer)         [(None, 784)]             0         \n",
            "_________________________________________________________________\n",
            "reshape (Reshape)            (None, 28, 28, 1)         0         \n",
            "_________________________________________________________________\n",
            "conv2d (Conv2D)              (None, 28, 28, 32)        320       \n",
            "_________________________________________________________________\n",
            "batch_normalization (BatchNo (None, 28, 28, 32)        128       \n",
            "_________________________________________________________________\n",
            "activation (Activation)      (None, 28, 28, 32)        0         \n",
            "_________________________________________________________________\n",
            "max_pooling2d (MaxPooling2D) (None, 14, 14, 32)        0         \n",
            "_________________________________________________________________\n",
            "conv2d_1 (Conv2D)            (None, 14, 14, 64)        18496     \n",
            "_________________________________________________________________\n",
            "batch_normalization_1 (Batch (None, 14, 14, 64)        256       \n",
            "_________________________________________________________________\n",
            "activation_1 (Activation)    (None, 14, 14, 64)        0         \n",
            "_________________________________________________________________\n",
            "max_pooling2d_1 (MaxPooling2 (None, 7, 7, 64)          0         \n",
            "_________________________________________________________________\n",
            "flatten (Flatten)            (None, 3136)              0         \n",
            "_________________________________________________________________\n",
            "dense (Dense)                (None, 256)               803072    \n",
            "_________________________________________________________________\n",
            "dropout (Dropout)            (None, 256)               0         \n",
            "_________________________________________________________________\n",
            "dense_1 (Dense)              (None, 128)               32896     \n",
            "_________________________________________________________________\n",
            "dropout_1 (Dropout)          (None, 128)               0         \n",
            "_________________________________________________________________\n",
            "dense_2 (Dense)              (None, 10)                1290      \n",
            "=================================================================\n",
            "Total params: 856,458\n",
            "Trainable params: 856,266\n",
            "Non-trainable params: 192\n",
            "_________________________________________________________________\n"
          ],
          "name": "stdout"
        }
      ]
    },
    {
      "cell_type": "code",
      "metadata": {
        "execution": {
          "iopub.execute_input": "2021-07-21T10:55:55.605429Z",
          "iopub.status.busy": "2021-07-21T10:55:55.604780Z",
          "iopub.status.idle": "2021-07-21T10:55:55.609771Z",
          "shell.execute_reply": "2021-07-21T10:55:55.609207Z",
          "shell.execute_reply.started": "2021-07-21T10:36:42.636005Z"
        },
        "papermill": {
          "duration": 0.038121,
          "end_time": "2021-07-21T10:55:55.609920",
          "exception": false,
          "start_time": "2021-07-21T10:55:55.571799",
          "status": "completed"
        },
        "tags": [],
        "id": "b94e24ef"
      },
      "source": [
        "def scheduler(epoch, lr):\n",
        "    if epoch < 5:\n",
        "        print('lr: ', 0.001)\n",
        "        return 0.001\n",
        "    else:\n",
        "        print('lr: ', 0.0002)\n",
        "        return 0.0002"
      ],
      "id": "b94e24ef",
      "execution_count": null,
      "outputs": []
    },
    {
      "cell_type": "code",
      "metadata": {
        "execution": {
          "iopub.execute_input": "2021-07-21T10:55:55.676851Z",
          "iopub.status.busy": "2021-07-21T10:55:55.676156Z",
          "iopub.status.idle": "2021-07-21T10:55:55.678012Z",
          "shell.execute_reply": "2021-07-21T10:55:55.678485Z",
          "shell.execute_reply.started": "2021-07-21T10:36:42.642465Z"
        },
        "papermill": {
          "duration": 0.038056,
          "end_time": "2021-07-21T10:55:55.678663",
          "exception": false,
          "start_time": "2021-07-21T10:55:55.640607",
          "status": "completed"
        },
        "tags": [],
        "id": "e3b02386"
      },
      "source": [
        "lrSchedulerCallback = tf.keras.callbacks.LearningRateScheduler(scheduler)"
      ],
      "id": "e3b02386",
      "execution_count": null,
      "outputs": []
    },
    {
      "cell_type": "code",
      "metadata": {
        "execution": {
          "iopub.execute_input": "2021-07-21T10:55:55.742558Z",
          "iopub.status.busy": "2021-07-21T10:55:55.741884Z",
          "iopub.status.idle": "2021-07-21T11:05:30.309197Z",
          "shell.execute_reply": "2021-07-21T11:05:30.308537Z",
          "shell.execute_reply.started": "2021-07-21T10:36:42.654372Z"
        },
        "papermill": {
          "duration": 574.600236,
          "end_time": "2021-07-21T11:05:30.309343",
          "exception": false,
          "start_time": "2021-07-21T10:55:55.709107",
          "status": "completed"
        },
        "tags": [],
        "id": "f141f217",
        "outputId": "84887839-0980-4135-b50f-4b1d7efb16d6"
      },
      "source": [
        "model.compile(optimizer='adam',\n",
        "              loss=tf.keras.losses.SparseCategoricalCrossentropy(from_logits=True),\n",
        "              metrics=['accuracy'])\n",
        "\n",
        "history = model.fit(\n",
        "    X_train, y_train, \n",
        "    epochs = 15,\n",
        "    batch_size = 64,\n",
        "    validation_data = (X_val, y_val),\n",
        "    validation_batch_size = 64,\n",
        "    callbacks = [lrSchedulerCallback])"
      ],
      "id": "f141f217",
      "execution_count": null,
      "outputs": [
        {
          "output_type": "stream",
          "text": [
            "Epoch 1/15\n",
            "lr:  0.001\n",
            "650/650 [==============================] - 39s 59ms/step - loss: 0.7533 - accuracy: 0.7653 - val_loss: 0.1235 - val_accuracy: 0.9690\n",
            "Epoch 2/15\n",
            "lr:  0.001\n",
            "650/650 [==============================] - 38s 58ms/step - loss: 0.1411 - accuracy: 0.9611 - val_loss: 0.1180 - val_accuracy: 0.9714\n",
            "Epoch 3/15\n",
            "lr:  0.001\n",
            "650/650 [==============================] - 37s 57ms/step - loss: 0.0915 - accuracy: 0.9743 - val_loss: 0.0667 - val_accuracy: 0.9762\n",
            "Epoch 4/15\n",
            "lr:  0.001\n",
            "650/650 [==============================] - 38s 58ms/step - loss: 0.0828 - accuracy: 0.9760 - val_loss: 0.0827 - val_accuracy: 0.9714\n",
            "Epoch 5/15\n",
            "lr:  0.001\n",
            "650/650 [==============================] - 38s 58ms/step - loss: 0.0592 - accuracy: 0.9831 - val_loss: 0.1058 - val_accuracy: 0.9738\n",
            "Epoch 6/15\n",
            "lr:  0.0002\n",
            "650/650 [==============================] - 38s 59ms/step - loss: 0.0498 - accuracy: 0.9853 - val_loss: 0.0437 - val_accuracy: 0.9810\n",
            "Epoch 7/15\n",
            "lr:  0.0002\n",
            "650/650 [==============================] - 38s 58ms/step - loss: 0.0342 - accuracy: 0.9902 - val_loss: 0.0524 - val_accuracy: 0.9833\n",
            "Epoch 8/15\n",
            "lr:  0.0002\n",
            "650/650 [==============================] - 38s 58ms/step - loss: 0.0294 - accuracy: 0.9916 - val_loss: 0.0389 - val_accuracy: 0.9810\n",
            "Epoch 9/15\n",
            "lr:  0.0002\n",
            "650/650 [==============================] - 38s 59ms/step - loss: 0.0254 - accuracy: 0.9928 - val_loss: 0.0575 - val_accuracy: 0.9833\n",
            "Epoch 10/15\n",
            "lr:  0.0002\n",
            "650/650 [==============================] - 39s 60ms/step - loss: 0.0275 - accuracy: 0.9921 - val_loss: 0.0659 - val_accuracy: 0.9786\n",
            "Epoch 11/15\n",
            "lr:  0.0002\n",
            "650/650 [==============================] - 39s 60ms/step - loss: 0.0246 - accuracy: 0.9929 - val_loss: 0.0508 - val_accuracy: 0.9833\n",
            "Epoch 12/15\n",
            "lr:  0.0002\n",
            "650/650 [==============================] - 39s 60ms/step - loss: 0.0253 - accuracy: 0.9931 - val_loss: 0.0480 - val_accuracy: 0.9833\n",
            "Epoch 13/15\n",
            "lr:  0.0002\n",
            "650/650 [==============================] - 38s 59ms/step - loss: 0.0208 - accuracy: 0.9931 - val_loss: 0.0774 - val_accuracy: 0.9833\n",
            "Epoch 14/15\n",
            "lr:  0.0002\n",
            "650/650 [==============================] - 38s 58ms/step - loss: 0.0206 - accuracy: 0.9941 - val_loss: 0.0607 - val_accuracy: 0.9857\n",
            "Epoch 15/15\n",
            "lr:  0.0002\n",
            "650/650 [==============================] - 38s 59ms/step - loss: 0.0190 - accuracy: 0.9942 - val_loss: 0.0572 - val_accuracy: 0.9857\n"
          ],
          "name": "stdout"
        }
      ]
    },
    {
      "cell_type": "code",
      "metadata": {
        "execution": {
          "iopub.execute_input": "2021-07-21T11:05:36.317980Z",
          "iopub.status.busy": "2021-07-21T11:05:36.317281Z",
          "iopub.status.idle": "2021-07-21T11:05:36.320853Z",
          "shell.execute_reply": "2021-07-21T11:05:36.320282Z",
          "shell.execute_reply.started": "2021-07-21T10:46:31.970182Z"
        },
        "papermill": {
          "duration": 3.053393,
          "end_time": "2021-07-21T11:05:36.320991",
          "exception": false,
          "start_time": "2021-07-21T11:05:33.267598",
          "status": "completed"
        },
        "tags": [],
        "id": "9d44e5f9"
      },
      "source": [
        "import matplotlib.pyplot as plt\n",
        "from matplotlib.pyplot import imshow, imread"
      ],
      "id": "9d44e5f9",
      "execution_count": null,
      "outputs": []
    },
    {
      "cell_type": "code",
      "metadata": {
        "execution": {
          "iopub.execute_input": "2021-07-21T11:05:42.350280Z",
          "iopub.status.busy": "2021-07-21T11:05:42.349636Z",
          "iopub.status.idle": "2021-07-21T11:05:42.352446Z",
          "shell.execute_reply": "2021-07-21T11:05:42.351840Z",
          "shell.execute_reply.started": "2021-07-21T10:46:33.658488Z"
        },
        "papermill": {
          "duration": 3.018848,
          "end_time": "2021-07-21T11:05:42.352615",
          "exception": false,
          "start_time": "2021-07-21T11:05:39.333767",
          "status": "completed"
        },
        "tags": [],
        "id": "f7336c7a"
      },
      "source": [
        "def plot_graphs(history, string):\n",
        "    plt.plot(history.history[string])\n",
        "    plt.plot(history.history['val_'+string])\n",
        "    plt.xlabel(\"Epochs\")\n",
        "    plt.ylabel(string)\n",
        "    plt.legend([string, 'val_'+string])\n",
        "    plt.show()"
      ],
      "id": "f7336c7a",
      "execution_count": null,
      "outputs": []
    },
    {
      "cell_type": "code",
      "metadata": {
        "execution": {
          "iopub.execute_input": "2021-07-21T11:05:48.315400Z",
          "iopub.status.busy": "2021-07-21T11:05:48.314771Z",
          "iopub.status.idle": "2021-07-21T11:05:48.650102Z",
          "shell.execute_reply": "2021-07-21T11:05:48.649475Z",
          "shell.execute_reply.started": "2021-07-21T10:46:35.848197Z"
        },
        "papermill": {
          "duration": 3.343367,
          "end_time": "2021-07-21T11:05:48.650253",
          "exception": false,
          "start_time": "2021-07-21T11:05:45.306886",
          "status": "completed"
        },
        "tags": [],
        "id": "56d50304",
        "outputId": "96757575-de98-45a6-8935-4c1a382901e6"
      },
      "source": [
        "plot_graphs(history, 'accuracy')\n",
        "plot_graphs(history, \"loss\")"
      ],
      "id": "56d50304",
      "execution_count": null,
      "outputs": [
        {
          "output_type": "display_data",
          "data": {
            "image/png": "[encoded data removed]",
            "text/plain": [
              "<Figure size 432x288 with 1 Axes>"
            ]
          },
          "metadata": {
            "tags": [],
            "needs_background": "light"
          }
        },
        {
          "output_type": "display_data",
          "data": {
            "image/png": "[encoded data removed]",
            "text/plain": [
              "<Figure size 432x288 with 1 Axes>"
            ]
          },
          "metadata": {
            "tags": [],
            "needs_background": "light"
          }
        }
      ]
    },
    {
      "cell_type": "code",
      "metadata": {
        "execution": {
          "iopub.execute_input": "2021-07-21T11:05:54.618637Z",
          "iopub.status.busy": "2021-07-21T11:05:54.617973Z",
          "iopub.status.idle": "2021-07-21T11:06:05.315802Z",
          "shell.execute_reply": "2021-07-21T11:06:05.315254Z",
          "shell.execute_reply.started": "2021-07-21T10:46:46.047392Z"
        },
        "papermill": {
          "duration": 13.664576,
          "end_time": "2021-07-21T11:06:05.315964",
          "exception": false,
          "start_time": "2021-07-21T11:05:51.651388",
          "status": "completed"
        },
        "tags": [],
        "id": "8978bd9d"
      },
      "source": [
        "output = model(test_X)"
      ],
      "id": "8978bd9d",
      "execution_count": null,
      "outputs": []
    },
    {
      "cell_type": "code",
      "metadata": {
        "execution": {
          "iopub.execute_input": "2021-07-21T11:06:11.322720Z",
          "iopub.status.busy": "2021-07-21T11:06:11.322060Z",
          "iopub.status.idle": "2021-07-21T11:06:11.324570Z",
          "shell.execute_reply": "2021-07-21T11:06:11.325018Z",
          "shell.execute_reply.started": "2021-07-21T10:47:09.344541Z"
        },
        "papermill": {
          "duration": 2.969436,
          "end_time": "2021-07-21T11:06:11.325202",
          "exception": false,
          "start_time": "2021-07-21T11:06:08.355766",
          "status": "completed"
        },
        "tags": [],
        "id": "348c254d"
      },
      "source": [
        "output = tf.argmax(output, 1)"
      ],
      "id": "348c254d",
      "execution_count": null,
      "outputs": []
    },
    {
      "cell_type": "code",
      "metadata": {
        "execution": {
          "iopub.execute_input": "2021-07-21T11:06:17.359668Z",
          "iopub.status.busy": "2021-07-21T11:06:17.359042Z",
          "iopub.status.idle": "2021-07-21T11:06:17.363315Z",
          "shell.execute_reply": "2021-07-21T11:06:17.363890Z",
          "shell.execute_reply.started": "2021-07-21T10:47:09.364207Z"
        },
        "papermill": {
          "duration": 3.022753,
          "end_time": "2021-07-21T11:06:17.364050",
          "exception": false,
          "start_time": "2021-07-21T11:06:14.341297",
          "status": "completed"
        },
        "tags": [],
        "id": "2f39eda6",
        "outputId": "00535c7c-222a-49b2-a001-a37c9060341a"
      },
      "source": [
        "output.numpy()"
      ],
      "id": "2f39eda6",
      "execution_count": null,
      "outputs": [
        {
          "output_type": "execute_result",
          "data": {
            "text/plain": [
              "array([2, 0, 9, ..., 3, 9, 2])"
            ]
          },
          "metadata": {
            "tags": []
          },
          "execution_count": 29
        }
      ]
    },
    {
      "cell_type": "code",
      "metadata": {
        "execution": {
          "iopub.execute_input": "2021-07-21T11:06:23.345761Z",
          "iopub.status.busy": "2021-07-21T11:06:23.345044Z",
          "iopub.status.idle": "2021-07-21T11:06:23.402788Z",
          "shell.execute_reply": "2021-07-21T11:06:23.402155Z",
          "shell.execute_reply.started": "2021-07-21T10:51:54.636492Z"
        },
        "papermill": {
          "duration": 3.059004,
          "end_time": "2021-07-21T11:06:23.402938",
          "exception": false,
          "start_time": "2021-07-21T11:06:20.343934",
          "status": "completed"
        },
        "tags": [],
        "id": "56db59a2"
      },
      "source": [
        "submission = pd.DataFrame({'ImageId': submission_indices, 'Label': output.numpy()})\n",
        "submission.to_csv('submission.csv', index=False)"
      ],
      "id": "56db59a2",
      "execution_count": null,
      "outputs": []
    },
    {
      "cell_type": "code",
      "metadata": {
        "execution": {
          "iopub.execute_input": "2021-07-21T11:06:29.359055Z",
          "iopub.status.busy": "2021-07-21T11:06:29.358113Z",
          "iopub.status.idle": "2021-07-21T11:06:29.377005Z",
          "shell.execute_reply": "2021-07-21T11:06:29.377439Z",
          "shell.execute_reply.started": "2021-07-21T10:54:12.289425Z"
        },
        "papermill": {
          "duration": 3.024527,
          "end_time": "2021-07-21T11:06:29.377627",
          "exception": false,
          "start_time": "2021-07-21T11:06:26.353100",
          "status": "completed"
        },
        "tags": [],
        "id": "e03296e1",
        "outputId": "15ea2b5e-0467-4c57-edb8-e7672c6626f4"
      },
      "source": [
        "test = pd.read_csv('submission.csv')\n",
        "test"
      ],
      "id": "e03296e1",
      "execution_count": null,
      "outputs": [
        {
          "output_type": "execute_result",
          "data": {
            "text/html": [
              "<div>\n",
              "<style scoped>\n",
              "    .dataframe tbody tr th:only-of-type {\n",
              "        vertical-align: middle;\n",
              "    }\n",
              "\n",
              "    .dataframe tbody tr th {\n",
              "        vertical-align: top;\n",
              "    }\n",
              "\n",
              "    .dataframe thead th {\n",
              "        text-align: right;\n",
              "    }\n",
              "</style>\n",
              "<table border=\"1\" class=\"dataframe\">\n",
              "  <thead>\n",
              "    <tr style=\"text-align: right;\">\n",
              "      <th></th>\n",
              "      <th>ImageId</th>\n",
              "      <th>Label</th>\n",
              "    </tr>\n",
              "  </thead>\n",
              "  <tbody>\n",
              "    <tr>\n",
              "      <th>0</th>\n",
              "      <td>1</td>\n",
              "      <td>2</td>\n",
              "    </tr>\n",
              "    <tr>\n",
              "      <th>1</th>\n",
              "      <td>2</td>\n",
              "      <td>0</td>\n",
              "    </tr>\n",
              "    <tr>\n",
              "      <th>2</th>\n",
              "      <td>3</td>\n",
              "      <td>9</td>\n",
              "    </tr>\n",
              "    <tr>\n",
              "      <th>3</th>\n",
              "      <td>4</td>\n",
              "      <td>9</td>\n",
              "    </tr>\n",
              "    <tr>\n",
              "      <th>4</th>\n",
              "      <td>5</td>\n",
              "      <td>3</td>\n",
              "    </tr>\n",
              "    <tr>\n",
              "      <th>...</th>\n",
              "      <td>...</td>\n",
              "      <td>...</td>\n",
              "    </tr>\n",
              "    <tr>\n",
              "      <th>27995</th>\n",
              "      <td>27996</td>\n",
              "      <td>9</td>\n",
              "    </tr>\n",
              "    <tr>\n",
              "      <th>27996</th>\n",
              "      <td>27997</td>\n",
              "      <td>7</td>\n",
              "    </tr>\n",
              "    <tr>\n",
              "      <th>27997</th>\n",
              "      <td>27998</td>\n",
              "      <td>3</td>\n",
              "    </tr>\n",
              "    <tr>\n",
              "      <th>27998</th>\n",
              "      <td>27999</td>\n",
              "      <td>9</td>\n",
              "    </tr>\n",
              "    <tr>\n",
              "      <th>27999</th>\n",
              "      <td>28000</td>\n",
              "      <td>2</td>\n",
              "    </tr>\n",
              "  </tbody>\n",
              "</table>\n",
              "<p>28000 rows × 2 columns</p>\n",
              "</div>"
            ],
            "text/plain": [
              "       ImageId  Label\n",
              "0            1      2\n",
              "1            2      0\n",
              "2            3      9\n",
              "3            4      9\n",
              "4            5      3\n",
              "...        ...    ...\n",
              "27995    27996      9\n",
              "27996    27997      7\n",
              "27997    27998      3\n",
              "27998    27999      9\n",
              "27999    28000      2\n",
              "\n",
              "[28000 rows x 2 columns]"
            ]
          },
          "metadata": {
            "tags": []
          },
          "execution_count": 31
        }
      ]
    }
  ]
}