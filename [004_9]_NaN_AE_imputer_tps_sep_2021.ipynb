{
  "nbformat": 4,
  "nbformat_minor": 0,
  "metadata": {
    "kernelspec": {
      "language": "python",
      "display_name": "Python 3",
      "name": "python3"
    },
    "language_info": {
      "pygments_lexer": "ipython3",
      "nbconvert_exporter": "python",
      "version": "3.6.4",
      "file_extension": ".py",
      "codemirror_mode": {
        "name": "ipython",
        "version": 3
      },
      "name": "python",
      "mimetype": "text/x-python"
    },
    "colab": {
      "name": "[004-9]-NaN-AE-imputer-tps-sep-2021.ipynb",
      "provenance": [],
      "include_colab_link": true
    }
  },
  "cells": [
    {
      "cell_type": "markdown",
      "metadata": {
        "id": "view-in-github",
        "colab_type": "text"
      },
      "source": [
        "<a href=\"https://colab.research.google.com/github/smf-9000/kaggle/blob/main/%5B004_9%5D_NaN_AE_imputer_tps_sep_2021.ipynb\" target=\"_parent\"><img src=\"https://colab.research.google.com/assets/colab-badge.svg\" alt=\"Open In Colab\"/></a>"
      ]
    },
    {
      "cell_type": "markdown",
      "metadata": {
        "id": "-BQ5K7xKZElZ"
      },
      "source": [
        "#### Here I use Deep Autoencoder to impute NaN values."
      ]
    },
    {
      "cell_type": "code",
      "metadata": {
        "_cell_guid": "b1076dfc-b9ad-4769-8c92-a6c4dae69d19",
        "_uuid": "8f2839f25d086af736a60e9eeb907d3b93b6e0e5",
        "papermill": {
          "duration": 0.061392,
          "end_time": "2021-09-11T14:11:16.485641",
          "exception": false,
          "start_time": "2021-09-11T14:11:16.424249",
          "status": "completed"
        },
        "tags": [],
        "execution": {
          "iopub.status.busy": "2021-09-20T07:59:54.962417Z",
          "iopub.execute_input": "2021-09-20T07:59:54.962802Z",
          "iopub.status.idle": "2021-09-20T07:59:54.999368Z",
          "shell.execute_reply.started": "2021-09-20T07:59:54.962697Z",
          "shell.execute_reply": "2021-09-20T07:59:54.998352Z"
        },
        "trusted": true,
        "id": "u7Cp0b0UY-CT"
      },
      "source": [
        "%config Completer.use_jedi = False"
      ],
      "execution_count": null,
      "outputs": []
    },
    {
      "cell_type": "code",
      "metadata": {
        "papermill": {
          "duration": 3.878681,
          "end_time": "2021-09-11T14:11:20.397231",
          "exception": false,
          "start_time": "2021-09-11T14:11:16.51855",
          "status": "completed"
        },
        "tags": [],
        "execution": {
          "iopub.status.busy": "2021-09-20T07:59:55.00135Z",
          "iopub.execute_input": "2021-09-20T07:59:55.001847Z",
          "iopub.status.idle": "2021-09-20T07:59:58.412503Z",
          "shell.execute_reply.started": "2021-09-20T07:59:55.001813Z",
          "shell.execute_reply": "2021-09-20T07:59:58.411831Z"
        },
        "trusted": true,
        "id": "JZC8SoOaY-CY"
      },
      "source": [
        "import numpy as np\n",
        "import pandas as pd\n",
        "import seaborn as sns\n",
        "\n",
        "import matplotlib.pyplot as plt\n",
        "from matplotlib.pyplot import imshow, imread\n",
        "\n",
        "from sklearn.model_selection import train_test_split\n",
        "from sklearn.metrics import mean_squared_error\n",
        "from sklearn.model_selection import KFold, StratifiedKFold\n",
        "from sklearn.decomposition import PCA\n",
        "from sklearn.preprocessing import StandardScaler, PolynomialFeatures, KBinsDiscretizer, MinMaxScaler, QuantileTransformer\n",
        "from sklearn.cluster import KMeans\n",
        "from sklearn.mixture import GaussianMixture\n",
        "from sklearn.impute import SimpleImputer\n",
        "\n",
        "\n",
        "import scipy.stats as stats\n",
        "\n",
        "import lightgbm as lgb\n",
        "import warnings\n",
        "\n",
        "import optuna\n",
        "\n",
        "import gc"
      ],
      "execution_count": null,
      "outputs": []
    },
    {
      "cell_type": "code",
      "metadata": {
        "papermill": {
          "duration": 0.04575,
          "end_time": "2021-09-11T14:11:20.482286",
          "exception": false,
          "start_time": "2021-09-11T14:11:20.436536",
          "status": "completed"
        },
        "tags": [],
        "execution": {
          "iopub.status.busy": "2021-09-20T07:59:58.413702Z",
          "iopub.execute_input": "2021-09-20T07:59:58.414156Z",
          "iopub.status.idle": "2021-09-20T07:59:58.417488Z",
          "shell.execute_reply.started": "2021-09-20T07:59:58.414102Z",
          "shell.execute_reply": "2021-09-20T07:59:58.4167Z"
        },
        "trusted": true,
        "id": "4AbBQ_BLY-Ca"
      },
      "source": [
        "R_SEED = 37\n",
        "N_FOLDS = 5"
      ],
      "execution_count": null,
      "outputs": []
    },
    {
      "cell_type": "code",
      "metadata": {
        "papermill": {
          "duration": 39.367727,
          "end_time": "2021-09-11T14:11:59.887252",
          "exception": false,
          "start_time": "2021-09-11T14:11:20.519525",
          "status": "completed"
        },
        "tags": [],
        "execution": {
          "iopub.status.busy": "2021-09-20T07:59:58.419474Z",
          "iopub.execute_input": "2021-09-20T07:59:58.419933Z",
          "iopub.status.idle": "2021-09-20T08:00:44.867203Z",
          "shell.execute_reply.started": "2021-09-20T07:59:58.419887Z",
          "shell.execute_reply": "2021-09-20T08:00:44.865069Z"
        },
        "trusted": true,
        "id": "dMXF2kkiY-Ca"
      },
      "source": [
        "submission_ex = pd.read_csv('/kaggle/input/tabular-playground-series-sep-2021/sample_solution.csv')\n",
        "train_data_b = pd.read_csv('/kaggle/input/tabular-playground-series-sep-2021/train.csv')\n",
        "test_data_b  = pd.read_csv('/kaggle/input/tabular-playground-series-sep-2021/test.csv')"
      ],
      "execution_count": null,
      "outputs": []
    },
    {
      "cell_type": "code",
      "metadata": {
        "papermill": {
          "duration": 0.83026,
          "end_time": "2021-09-11T14:12:00.751876",
          "exception": false,
          "start_time": "2021-09-11T14:11:59.921616",
          "status": "completed"
        },
        "tags": [],
        "execution": {
          "iopub.status.busy": "2021-09-20T08:00:44.871052Z",
          "iopub.execute_input": "2021-09-20T08:00:44.871452Z",
          "iopub.status.idle": "2021-09-20T08:00:45.70981Z",
          "shell.execute_reply.started": "2021-09-20T08:00:44.87139Z",
          "shell.execute_reply": "2021-09-20T08:00:45.709134Z"
        },
        "trusted": true,
        "id": "h-wLk6PbY-Cb"
      },
      "source": [
        "target_data = train_data_b[['claim']].copy()\n",
        "for_me_data_train = train_data_b[['id']].copy()\n",
        "for_me_data_test = test_data_b[['id']].copy()\n",
        "train_data_b.drop(['id', 'claim'], axis=1, inplace=True)\n",
        "submit_data = test_data_b[['id']].copy()\n",
        "test_data_b.drop(['id'], axis=1, inplace=True)\n",
        "n_missing_train = train_data_b.isna().sum(axis=1)"
      ],
      "execution_count": null,
      "outputs": []
    },
    {
      "cell_type": "code",
      "metadata": {
        "execution": {
          "iopub.status.busy": "2021-09-20T08:00:45.711046Z",
          "iopub.execute_input": "2021-09-20T08:00:45.711454Z",
          "iopub.status.idle": "2021-09-20T08:00:46.184127Z",
          "shell.execute_reply.started": "2021-09-20T08:00:45.711405Z",
          "shell.execute_reply": "2021-09-20T08:00:46.183468Z"
        },
        "trusted": true,
        "id": "HR0_Z2YEY-Cc"
      },
      "source": [
        "all_data = pd.concat([train_data_b, test_data_b])\n",
        "all_data.reset_index(drop=True, inplace=True)"
      ],
      "execution_count": null,
      "outputs": []
    },
    {
      "cell_type": "code",
      "metadata": {
        "execution": {
          "iopub.status.busy": "2021-09-20T08:00:46.185419Z",
          "iopub.execute_input": "2021-09-20T08:00:46.185815Z",
          "iopub.status.idle": "2021-09-20T08:00:51.816004Z",
          "shell.execute_reply.started": "2021-09-20T08:00:46.185768Z",
          "shell.execute_reply": "2021-09-20T08:00:51.815407Z"
        },
        "trusted": true,
        "id": "_gEgTRsvY-Cd"
      },
      "source": [
        "all_data_normalized = StandardScaler().fit_transform(all_data)\n",
        "all_data = pd.DataFrame(all_data_normalized.copy(), columns=all_data.columns)\n",
        "del all_data_normalized\n",
        "gc.collect()"
      ],
      "execution_count": null,
      "outputs": []
    },
    {
      "cell_type": "code",
      "metadata": {
        "execution": {
          "iopub.status.busy": "2021-09-20T08:00:51.823264Z",
          "iopub.execute_input": "2021-09-20T08:00:51.823819Z",
          "iopub.status.idle": "2021-09-20T08:00:54.839176Z",
          "shell.execute_reply.started": "2021-09-20T08:00:51.823778Z",
          "shell.execute_reply": "2021-09-20T08:00:54.838384Z"
        },
        "trusted": true,
        "id": "dKYxxRYPY-Ce"
      },
      "source": [
        "mm_scaler = MinMaxScaler()\n",
        "all_data_mm = mm_scaler.fit_transform(all_data)\n",
        "all_data = pd.DataFrame(all_data_mm.copy(), columns=all_data.columns)\n",
        "del all_data_mm\n",
        "gc.collect()"
      ],
      "execution_count": null,
      "outputs": []
    },
    {
      "cell_type": "code",
      "metadata": {
        "execution": {
          "iopub.status.busy": "2021-09-20T08:00:54.841375Z",
          "iopub.execute_input": "2021-09-20T08:00:54.841706Z",
          "iopub.status.idle": "2021-09-20T08:00:56.713635Z",
          "shell.execute_reply.started": "2021-09-20T08:00:54.841674Z",
          "shell.execute_reply": "2021-09-20T08:00:56.712662Z"
        },
        "trusted": true,
        "id": "MR2Fyc7pY-Ch"
      },
      "source": [
        "code_data = all_data.isna().astype(int)"
      ],
      "execution_count": null,
      "outputs": []
    },
    {
      "cell_type": "code",
      "metadata": {
        "execution": {
          "iopub.status.busy": "2021-09-20T08:00:56.714556Z",
          "iopub.execute_input": "2021-09-20T08:00:56.71479Z",
          "iopub.status.idle": "2021-09-20T08:01:44.229563Z",
          "shell.execute_reply.started": "2021-09-20T08:00:56.714765Z",
          "shell.execute_reply": "2021-09-20T08:01:44.228528Z"
        },
        "trusted": true,
        "id": "J_q0rc1WY-Ci"
      },
      "source": [
        "imputer = SimpleImputer(missing_values=np.nan, strategy='median') # add_indicator=True, \n",
        "\n",
        "old_features = list(all_data.columns)\n",
        "all_data = pd.DataFrame(imputer.fit_transform(all_data))\n",
        "features = old_features # + ['ind_for_' + str(e) for e in imputer.indicator_.features_]\n",
        "all_data.columns = features"
      ],
      "execution_count": null,
      "outputs": []
    },
    {
      "cell_type": "code",
      "metadata": {
        "papermill": {
          "duration": 4.677149,
          "end_time": "2021-09-11T14:13:31.74248",
          "exception": false,
          "start_time": "2021-09-11T14:13:27.065331",
          "status": "completed"
        },
        "tags": [],
        "execution": {
          "iopub.status.busy": "2021-09-20T08:03:08.467434Z",
          "iopub.execute_input": "2021-09-20T08:03:08.468076Z",
          "iopub.status.idle": "2021-09-20T08:03:08.473518Z",
          "shell.execute_reply.started": "2021-09-20T08:03:08.468026Z",
          "shell.execute_reply": "2021-09-20T08:03:08.472544Z"
        },
        "trusted": true,
        "id": "qv7rCzoOY-Ck"
      },
      "source": [
        "import tensorflow as tf\n",
        "from tensorflow.keras import datasets, layers, models, Model"
      ],
      "execution_count": null,
      "outputs": []
    },
    {
      "cell_type": "code",
      "metadata": {
        "papermill": {
          "duration": 0.045482,
          "end_time": "2021-09-11T14:13:32.128823",
          "exception": false,
          "start_time": "2021-09-11T14:13:32.083341",
          "status": "completed"
        },
        "tags": [],
        "execution": {
          "iopub.status.busy": "2021-09-20T08:03:08.475325Z",
          "iopub.execute_input": "2021-09-20T08:03:08.475646Z",
          "iopub.status.idle": "2021-09-20T08:03:08.492937Z",
          "shell.execute_reply.started": "2021-09-20T08:03:08.475608Z",
          "shell.execute_reply": "2021-09-20T08:03:08.491131Z"
        },
        "trusted": true,
        "id": "wIun2gUZY-Cl"
      },
      "source": [
        "def AE(input_shape=all_data.shape[1]):\n",
        "    \n",
        "    x_input = layers.Input(shape=input_shape)\n",
        "    \n",
        "    X = layers.Dense(128, activation='selu')(x_input)\n",
        "    X = layers.BatchNormalization()(X)  \n",
        "    X = layers.Dense(136, activation='selu')(X)\n",
        "    X = layers.BatchNormalization()(X)  \n",
        "    X = layers.Dense(144, activation='selu')(X)\n",
        "    X = layers.BatchNormalization()(X)  \n",
        "    X = layers.Dense(152, activation='selu')(X)\n",
        "    X = layers.BatchNormalization()(X)  \n",
        "    X = layers.Dense(160, activation='selu')(X)\n",
        "    X = layers.BatchNormalization()(X)  \n",
        "    X = layers.Dense(152, activation='selu')(X)\n",
        "    X = layers.BatchNormalization()(X)  \n",
        "    X = layers.Dense(144, activation='selu')(X)\n",
        "    X = layers.BatchNormalization()(X)  \n",
        "    X = layers.Dense(136, activation='selu')(X)\n",
        "    X = layers.BatchNormalization()(X)  \n",
        "    X = layers.Dense(128, activation='selu')(X)\n",
        "    X = layers.BatchNormalization()(X) \n",
        "    \n",
        "    X = layers.Dense(all_data.shape[1], activation='relu')(X)\n",
        "    \n",
        "    model = models.Model(inputs = x_input, outputs = X, name='TPS-SEP21_AE')\n",
        "    return model"
      ],
      "execution_count": null,
      "outputs": []
    },
    {
      "cell_type": "code",
      "metadata": {
        "execution": {
          "iopub.status.busy": "2021-09-20T08:03:09.264126Z",
          "iopub.execute_input": "2021-09-20T08:03:09.264591Z",
          "iopub.status.idle": "2021-09-20T08:03:09.480394Z",
          "shell.execute_reply.started": "2021-09-20T08:03:09.26456Z",
          "shell.execute_reply": "2021-09-20T08:03:09.479298Z"
        },
        "trusted": true,
        "id": "aESOYaOfY-Cm"
      },
      "source": [
        "gc.collect()"
      ],
      "execution_count": null,
      "outputs": []
    },
    {
      "cell_type": "code",
      "metadata": {
        "execution": {
          "iopub.status.busy": "2021-09-20T08:03:11.208512Z",
          "iopub.execute_input": "2021-09-20T08:03:11.208896Z",
          "iopub.status.idle": "2021-09-20T08:03:11.625189Z",
          "shell.execute_reply.started": "2021-09-20T08:03:11.208858Z",
          "shell.execute_reply": "2021-09-20T08:03:11.624027Z"
        },
        "trusted": true,
        "id": "JdKhtZNYY-Cm"
      },
      "source": [
        "del model"
      ],
      "execution_count": null,
      "outputs": []
    },
    {
      "cell_type": "code",
      "metadata": {
        "papermill": {
          "duration": 0.046813,
          "end_time": "2021-09-11T14:13:32.744732",
          "exception": false,
          "start_time": "2021-09-11T14:13:32.697919",
          "status": "completed"
        },
        "tags": [],
        "execution": {
          "iopub.status.busy": "2021-09-20T08:03:11.999301Z",
          "iopub.execute_input": "2021-09-20T08:03:11.999591Z",
          "iopub.status.idle": "2021-09-20T08:03:12.004706Z",
          "shell.execute_reply.started": "2021-09-20T08:03:11.999564Z",
          "shell.execute_reply": "2021-09-20T08:03:12.003454Z"
        },
        "trusted": true,
        "id": "0XVpad5MY-Cm"
      },
      "source": [
        "tf.random.set_seed(R_SEED)"
      ],
      "execution_count": null,
      "outputs": []
    },
    {
      "cell_type": "code",
      "metadata": {
        "execution": {
          "iopub.status.busy": "2021-09-20T08:03:22.471095Z",
          "iopub.execute_input": "2021-09-20T08:03:22.471428Z",
          "iopub.status.idle": "2021-09-20T08:03:31.012146Z",
          "shell.execute_reply.started": "2021-09-20T08:03:22.471393Z",
          "shell.execute_reply": "2021-09-20T08:03:31.011199Z"
        },
        "trusted": true,
        "id": "QrLRwg4lY-Cn"
      },
      "source": [
        "tpu = tf.distribute.cluster_resolver.TPUClusterResolver.connect()"
      ],
      "execution_count": null,
      "outputs": []
    },
    {
      "cell_type": "code",
      "metadata": {
        "execution": {
          "iopub.status.busy": "2021-09-20T08:03:31.013673Z",
          "iopub.execute_input": "2021-09-20T08:03:31.013944Z",
          "iopub.status.idle": "2021-09-20T08:03:31.023915Z",
          "shell.execute_reply.started": "2021-09-20T08:03:31.01389Z",
          "shell.execute_reply": "2021-09-20T08:03:31.023208Z"
        },
        "trusted": true,
        "id": "M0CDxrV1Y-Cn"
      },
      "source": [
        "tpu_strategy = tf.distribute.experimental.TPUStrategy(tpu)"
      ],
      "execution_count": null,
      "outputs": []
    },
    {
      "cell_type": "code",
      "metadata": {
        "execution": {
          "iopub.status.busy": "2021-09-20T08:03:31.025658Z",
          "iopub.execute_input": "2021-09-20T08:03:31.02591Z",
          "iopub.status.idle": "2021-09-20T08:03:31.037673Z",
          "shell.execute_reply.started": "2021-09-20T08:03:31.025882Z",
          "shell.execute_reply": "2021-09-20T08:03:31.036707Z"
        },
        "trusted": true,
        "id": "GtPdYWU5Y-Cn"
      },
      "source": [
        "tf.config.set_soft_device_placement(True)"
      ],
      "execution_count": null,
      "outputs": []
    },
    {
      "cell_type": "code",
      "metadata": {
        "execution": {
          "iopub.status.busy": "2021-09-20T08:10:43.460872Z",
          "iopub.execute_input": "2021-09-20T08:10:43.461321Z",
          "iopub.status.idle": "2021-09-20T08:10:43.942705Z",
          "shell.execute_reply.started": "2021-09-20T08:10:43.461278Z",
          "shell.execute_reply": "2021-09-20T08:10:43.941729Z"
        },
        "trusted": true,
        "id": "MwXUBW8RY-Cn"
      },
      "source": [
        "gc.collect()"
      ],
      "execution_count": null,
      "outputs": []
    },
    {
      "cell_type": "code",
      "metadata": {
        "execution": {
          "iopub.status.busy": "2021-09-20T08:10:47.571393Z",
          "iopub.execute_input": "2021-09-20T08:10:47.571757Z",
          "iopub.status.idle": "2021-09-20T08:46:40.642425Z",
          "shell.execute_reply.started": "2021-09-20T08:10:47.57171Z",
          "shell.execute_reply": "2021-09-20T08:46:40.6416Z"
        },
        "trusted": true,
        "id": "eAxs87ykY-Co"
      },
      "source": [
        "with tpu_strategy.scope():\n",
        "    model_1 = AE()\n",
        "\n",
        "    model_1.compile(\n",
        "        optimizer = tf.keras.optimizers.Adam(learning_rate = 0.0001),\n",
        "        loss = 'mse',\n",
        "        metrics = ['mse'])\n",
        "\n",
        "    history = model_1.fit(\n",
        "    all_data,\n",
        "    all_data,\n",
        "    epochs = 100,\n",
        "    shuffle = True,\n",
        "#     validation_split = 0.2,\n",
        "    batch_size = 1024,)"
      ],
      "execution_count": null,
      "outputs": []
    },
    {
      "cell_type": "code",
      "metadata": {
        "execution": {
          "iopub.status.busy": "2021-09-20T08:46:48.270868Z",
          "iopub.execute_input": "2021-09-20T08:46:48.271162Z",
          "iopub.status.idle": "2021-09-20T08:47:09.020614Z",
          "shell.execute_reply.started": "2021-09-20T08:46:48.271135Z",
          "shell.execute_reply": "2021-09-20T08:47:09.019824Z"
        },
        "trusted": true,
        "id": "rOMDlIerY-Co"
      },
      "source": [
        "_p = model_1.predict(all_data.values, batch_size=1024)"
      ],
      "execution_count": null,
      "outputs": []
    },
    {
      "cell_type": "code",
      "metadata": {
        "execution": {
          "iopub.status.busy": "2021-09-20T08:47:09.022033Z",
          "iopub.execute_input": "2021-09-20T08:47:09.022253Z",
          "iopub.status.idle": "2021-09-20T08:47:09.726093Z",
          "shell.execute_reply.started": "2021-09-20T08:47:09.022228Z",
          "shell.execute_reply": "2021-09-20T08:47:09.725114Z"
        },
        "trusted": true,
        "id": "UfPJdsKQY-Co"
      },
      "source": [
        "tmp = pd.DataFrame(_p, columns=all_data.columns, index=all_data.index)\n",
        "tmp1 = pd.DataFrame(mm_scaler.inverse_transform(tmp), columns=all_data.columns, index=all_data.index)"
      ],
      "execution_count": null,
      "outputs": []
    },
    {
      "cell_type": "code",
      "metadata": {
        "execution": {
          "iopub.status.busy": "2021-09-20T08:48:25.392104Z",
          "iopub.execute_input": "2021-09-20T08:48:25.392787Z",
          "iopub.status.idle": "2021-09-20T08:48:29.418357Z",
          "shell.execute_reply.started": "2021-09-20T08:48:25.392746Z",
          "shell.execute_reply": "2021-09-20T08:48:29.416305Z"
        },
        "trusted": true,
        "id": "WjOAgN-dY-Cp"
      },
      "source": [
        "imputer_data_all = pd.DataFrame(code_data.values * tmp1.values, columns=all_data.columns, index=all_data.index)"
      ],
      "execution_count": null,
      "outputs": []
    },
    {
      "cell_type": "code",
      "metadata": {
        "execution": {
          "iopub.status.busy": "2021-09-20T08:48:29.421938Z",
          "iopub.execute_input": "2021-09-20T08:48:29.422222Z",
          "iopub.status.idle": "2021-09-20T08:50:48.560585Z",
          "shell.execute_reply.started": "2021-09-20T08:48:29.422191Z",
          "shell.execute_reply": "2021-09-20T08:50:48.559625Z"
        },
        "trusted": true,
        "id": "RKEVx--eY-Cp"
      },
      "source": [
        "imputer_data_all.to_csv('imputer_data_all.csv', index=False)"
      ],
      "execution_count": null,
      "outputs": []
    },
    {
      "cell_type": "code",
      "metadata": {
        "id": "Q60XuJ6AY-Cp"
      },
      "source": [
        ""
      ],
      "execution_count": null,
      "outputs": []
    }
  ]
}