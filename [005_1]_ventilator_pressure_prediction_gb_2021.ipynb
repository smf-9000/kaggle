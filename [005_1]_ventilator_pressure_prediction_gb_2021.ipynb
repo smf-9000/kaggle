{
  "metadata": {
    "kernelspec": {
      "language": "python",
      "display_name": "Python 3",
      "name": "python3"
    },
    "language_info": {
      "name": "python",
      "version": "3.7.10",
      "mimetype": "text/x-python",
      "codemirror_mode": {
        "name": "ipython",
        "version": 3
      },
      "pygments_lexer": "ipython3",
      "nbconvert_exporter": "python",
      "file_extension": ".py"
    },
    "colab": {
      "name": "[005-1]-ventilator-pressure-prediction-gb-2021.ipynb",
      "provenance": [],
      "collapsed_sections": [],
      "include_colab_link": true
    }
  },
  "nbformat_minor": 0,
  "nbformat": 4,
  "cells": [
    {
      "cell_type": "markdown",
      "metadata": {
        "id": "view-in-github",
        "colab_type": "text"
      },
      "source": [
        "<a href=\"https://colab.research.google.com/github/smf-9000/kaggle/blob/main/%5B005_1%5D_ventilator_pressure_prediction_gb_2021.ipynb\" target=\"_parent\"><img src=\"https://colab.research.google.com/assets/colab-badge.svg\" alt=\"Open In Colab\"/></a>"
      ]
    },
    {
      "cell_type": "markdown",
      "source": [
        "## Google Brain - Ventilator Pressure Prediction Competition\n",
        "### Training setup, without inference"
      ],
      "metadata": {
        "id": "XELmoru9cwM-"
      }
    },
    {
      "cell_type": "markdown",
      "source": [
        "<div class=\"thumb\" style=\"--background: url('images/img.jpg')\"></div> "
      ],
      "metadata": {
        "id": "aKUxbKvlcwND"
      }
    },
    {
      "cell_type": "code",
      "source": [
        "%config Completer.use_jedi = False"
      ],
      "metadata": {
        "_uuid": "8f2839f25d086af736a60e9eeb907d3b93b6e0e5",
        "_cell_guid": "b1076dfc-b9ad-4769-8c92-a6c4dae69d19",
        "execution": {
          "iopub.status.busy": "2021-10-16T15:02:46.215760Z",
          "iopub.execute_input": "2021-10-16T15:02:46.216342Z",
          "iopub.status.idle": "2021-10-16T15:02:46.250063Z",
          "shell.execute_reply.started": "2021-10-16T15:02:46.216257Z",
          "shell.execute_reply": "2021-10-16T15:02:46.249082Z"
        },
        "trusted": true,
        "id": "CluaHUaUcwNE"
      },
      "execution_count": null,
      "outputs": []
    },
    {
      "cell_type": "code",
      "source": [
        "import numpy as np\n",
        "import pandas as pd\n",
        "import seaborn as sns\n",
        "\n",
        "import matplotlib.pyplot as plt\n",
        "from matplotlib.pyplot import imshow, imread\n",
        "\n",
        "from sklearn.preprocessing import StandardScaler, MinMaxScaler, RobustScaler\n",
        "from sklearn.model_selection import train_test_split, KFold\n",
        "from sklearn.metrics import mean_absolute_error\n",
        "\n",
        "import gc"
      ],
      "metadata": {
        "execution": {
          "iopub.status.busy": "2021-10-16T15:02:46.251729Z",
          "iopub.execute_input": "2021-10-16T15:02:46.251995Z",
          "iopub.status.idle": "2021-10-16T15:02:47.252020Z",
          "shell.execute_reply.started": "2021-10-16T15:02:46.251965Z",
          "shell.execute_reply": "2021-10-16T15:02:47.251110Z"
        },
        "trusted": true,
        "id": "lEvsYgs2cwNF"
      },
      "execution_count": null,
      "outputs": []
    },
    {
      "cell_type": "code",
      "source": [
        "R_SEED = 42"
      ],
      "metadata": {
        "execution": {
          "iopub.status.busy": "2021-10-16T15:02:47.253247Z",
          "iopub.execute_input": "2021-10-16T15:02:47.253512Z",
          "iopub.status.idle": "2021-10-16T15:02:47.257220Z",
          "shell.execute_reply.started": "2021-10-16T15:02:47.253484Z",
          "shell.execute_reply": "2021-10-16T15:02:47.256643Z"
        },
        "trusted": true,
        "id": "8cRQIpaycwNG"
      },
      "execution_count": null,
      "outputs": []
    },
    {
      "cell_type": "code",
      "source": [
        "submission_ex = pd.read_csv('/kaggle/input/ventilator-pressure-prediction/sample_submission.csv')\n",
        "train_data = pd.read_csv('/kaggle/input/ventilator-pressure-prediction/train.csv')\n",
        "# test_data = pd.read_csv('/kaggle/input/ventilator-pressure-prediction/test.csv')"
      ],
      "metadata": {
        "execution": {
          "iopub.status.busy": "2021-10-16T15:02:47.258110Z",
          "iopub.execute_input": "2021-10-16T15:02:47.258654Z",
          "iopub.status.idle": "2021-10-16T15:02:57.787944Z",
          "shell.execute_reply.started": "2021-10-16T15:02:47.258620Z",
          "shell.execute_reply": "2021-10-16T15:02:57.787332Z"
        },
        "trusted": true,
        "id": "YpiCgPnLcwNG"
      },
      "execution_count": null,
      "outputs": []
    },
    {
      "cell_type": "code",
      "source": [
        "gc.collect()"
      ],
      "metadata": {
        "execution": {
          "iopub.status.busy": "2021-10-16T15:02:57.848581Z",
          "iopub.execute_input": "2021-10-16T15:02:57.849141Z",
          "iopub.status.idle": "2021-10-16T15:02:57.968057Z",
          "shell.execute_reply.started": "2021-10-16T15:02:57.849107Z",
          "shell.execute_reply": "2021-10-16T15:02:57.966926Z"
        },
        "trusted": true,
        "id": "vF60nDngcwNL"
      },
      "execution_count": 2,
      "outputs": []
    },
    {
      "cell_type": "code",
      "source": [
        "target_data = train_data[['pressure']].copy()\n",
        "train_id_data = train_data[['id']].copy()\n",
        "# test_id_data = test_data[['id']].copy()\n",
        "train_data.drop(['id', 'pressure'], axis=1, inplace=True) \n",
        "# test_data.drop(['id'], axis=1, inplace=True) "
      ],
      "metadata": {
        "execution": {
          "iopub.status.busy": "2021-10-16T15:02:57.969140Z",
          "iopub.execute_input": "2021-10-16T15:02:57.969362Z",
          "iopub.status.idle": "2021-10-16T15:02:58.150679Z",
          "shell.execute_reply.started": "2021-10-16T15:02:57.969336Z",
          "shell.execute_reply": "2021-10-16T15:02:58.149751Z"
        },
        "trusted": true,
        "id": "f6HKdlv3cwNM"
      },
      "execution_count": null,
      "outputs": []
    },
    {
      "cell_type": "markdown",
      "source": [
        "### Columns\n",
        "* ```id``` - globally-unique time step identifier across an entire file\n",
        "* ```breath_id``` - **globally-unique time step for breaths**\n",
        "* ```R``` - lung attribute indicating how restricted the airway is (in cmH2O/L/S). Physically, this is the change in pressure per change in flow (air volume per time). Intuitively, one can imagine blowing up a balloon through a straw. We can change R by changing the diameter of the straw, with higher R being harder to blow.\n",
        "* ```C``` - lung attribute indicating how compliant the lung is (in mL/cmH2O). Physically, this is the change in volume per change in pressure. Intuitively, one can imagine the same balloon example. We can change C by changing the thickness of the balloon’s latex, with higher C having thinner latex and easier to blow.\n",
        "* ```time_step``` - the actual time stamp.\n",
        "* ```u_in``` - the control input for the inspiratory solenoid valve. Ranges from 0 to 100. Continuous variable from 0 to 100 representing the percentage the inspiratory solenoid valve is open to let air into the lung (i.e., 0 is completely closed and no air is let in and 100 is completely open)\n",
        "* ```u_out``` - the control input for the exploratory solenoid valve. Either 0 or 1. Control input is a binary variable representing whether the exploratory valve is open (1) or closed (0) to let air out.\n",
        "* ```pressure``` - the airway pressure measured in the respiratory circuit, measured in cmH2O."
      ],
      "metadata": {
        "id": "DYJ72k0ZcwNM"
      }
    },
    {
      "cell_type": "markdown",
      "source": [
        "<div style='background-image: url(\"https://raw.githubusercontent.com/google/deluca-lung/main/assets/2020-10-02%20Ventilator%20diagram.svg\");background-size: auto;height: 400px;background-position: center; background-repeat: no-repeat'></div>"
      ],
      "metadata": {
        "id": "FkVjZvNpcwNN"
      }
    },
    {
      "cell_type": "code",
      "source": [
        "train_data.info()"
      ],
      "metadata": {
        "execution": {
          "iopub.status.busy": "2021-10-16T15:02:58.151854Z",
          "iopub.execute_input": "2021-10-16T15:02:58.152090Z",
          "iopub.status.idle": "2021-10-16T15:02:58.169374Z",
          "shell.execute_reply.started": "2021-10-16T15:02:58.152062Z",
          "shell.execute_reply": "2021-10-16T15:02:58.168311Z"
        },
        "trusted": true,
        "id": "AoLFOKUQcwNN",
        "outputId": "963d1e97-ee73-4886-ee4a-1d14cfc95b02"
      },
      "execution_count": null,
      "outputs": [
        {
          "name": "stdout",
          "text": "<class 'pandas.core.frame.DataFrame'>\nRangeIndex: 6036000 entries, 0 to 6035999\nData columns (total 6 columns):\n #   Column     Dtype  \n---  ------     -----  \n 0   breath_id  int64  \n 1   R          int64  \n 2   C          int64  \n 3   time_step  float64\n 4   u_in       float64\n 5   u_out      int64  \ndtypes: float64(2), int64(4)\nmemory usage: 276.3 MB\n",
          "output_type": "stream"
        }
      ]
    },
    {
      "cell_type": "code",
      "source": [
        "target_data.info()"
      ],
      "metadata": {
        "execution": {
          "iopub.status.busy": "2021-10-16T15:02:58.170581Z",
          "iopub.execute_input": "2021-10-16T15:02:58.170939Z",
          "iopub.status.idle": "2021-10-16T15:02:58.186739Z",
          "shell.execute_reply.started": "2021-10-16T15:02:58.170792Z",
          "shell.execute_reply": "2021-10-16T15:02:58.185884Z"
        },
        "trusted": true,
        "id": "HYK5DiBfcwNN",
        "outputId": "4ecbc5e3-63b2-491b-b926-65f4ce1c5c0f"
      },
      "execution_count": null,
      "outputs": [
        {
          "name": "stdout",
          "text": "<class 'pandas.core.frame.DataFrame'>\nRangeIndex: 6036000 entries, 0 to 6035999\nData columns (total 1 columns):\n #   Column    Dtype  \n---  ------    -----  \n 0   pressure  float64\ndtypes: float64(1)\nmemory usage: 46.1 MB\n",
          "output_type": "stream"
        }
      ]
    },
    {
      "cell_type": "code",
      "source": [
        "unique_train_breath_id = np.unique(train_data['breath_id'])\n",
        "# unique_test_breath_id = np.unique(test_data['breath_id'])\n",
        "\n",
        "print('unique_train_breath_id: ', unique_train_breath_id)\n",
        "print('len: ', len(unique_train_breath_id))\n",
        "# print('unique_test_breath_id: ', unique_test_breath_id)\n",
        "# print('len: ', len(unique_test_breath_id))"
      ],
      "metadata": {
        "execution": {
          "iopub.status.busy": "2021-10-16T15:02:58.191581Z",
          "iopub.execute_input": "2021-10-16T15:02:58.191928Z",
          "iopub.status.idle": "2021-10-16T15:02:58.312550Z",
          "shell.execute_reply.started": "2021-10-16T15:02:58.191831Z",
          "shell.execute_reply": "2021-10-16T15:02:58.311585Z"
        },
        "trusted": true,
        "id": "_FyooCS6cwNO",
        "outputId": "35340a10-7c64-4123-86e7-88d19cf845e3"
      },
      "execution_count": null,
      "outputs": [
        {
          "name": "stdout",
          "text": "unique_train_breath_id:  [     1      2      3 ... 125743 125745 125749]\nlen:  75450\n",
          "output_type": "stream"
        }
      ]
    },
    {
      "cell_type": "code",
      "source": [
        "assert all(e == 80 for e in [train_data['breath_id'].value_counts().max(),\n",
        "                             train_data['breath_id'].value_counts().min()\n",
        "                            #  test_data['breath_id'].value_counts().max(),\n",
        "                            #  test_data['breath_id'].value_counts().min()\n",
        "                            ])"
      ],
      "metadata": {
        "execution": {
          "iopub.status.busy": "2021-10-16T15:02:58.313929Z",
          "iopub.execute_input": "2021-10-16T15:02:58.314311Z",
          "iopub.status.idle": "2021-10-16T15:02:58.317945Z",
          "shell.execute_reply.started": "2021-10-16T15:02:58.314278Z",
          "shell.execute_reply": "2021-10-16T15:02:58.317304Z"
        },
        "trusted": true,
        "id": "gAHtWSBFcwNO"
      },
      "execution_count": null,
      "outputs": []
    },
    {
      "cell_type": "code",
      "source": [
        ""
      ],
      "metadata": {
        "trusted": true,
        "id": "PjD5zqoicwNO"
      },
      "execution_count": null,
      "outputs": []
    },
    {
      "cell_type": "code",
      "source": [
        "n_of_cols = 3\n",
        "n_of_rows = 2\n",
        "\n",
        "fig, axes = plt.subplots(nrows = n_of_rows, ncols = n_of_cols, figsize=(25, 15))\n",
        "\n",
        "i = 1\n",
        "for c in train_data.columns:\n",
        "    \n",
        "    ax = axes[(i-1) // n_of_cols, (i-1) % n_of_cols]\n",
        "    \n",
        "    ax.set_title('feature: ' + c)\n",
        "    sns.histplot(train_data[c].values, kde=False, color = 'k', bins=100, alpha=0.5, ax=ax, label='train')\n",
        "    # sns.histplot(test_data[c].values, kde=False, color = 'orange', bins=100, alpha=0.5, ax=ax, label='test')\n",
        "    ax.spines[\"top\"].set_visible(False)\n",
        "    ax.spines[\"right\"].set_visible(False)\n",
        "    ax.legend()\n",
        "    \n",
        "    i += 1\n",
        "\n",
        "plt.legend()\n",
        "plt.show()"
      ],
      "metadata": {
        "execution": {
          "iopub.status.busy": "2021-10-16T15:02:58.318958Z",
          "iopub.execute_input": "2021-10-16T15:02:58.319615Z",
          "iopub.status.idle": "2021-10-16T15:02:58.330257Z",
          "shell.execute_reply.started": "2021-10-16T15:02:58.319574Z",
          "shell.execute_reply": "2021-10-16T15:02:58.329547Z"
        },
        "trusted": true,
        "id": "NThRgPh-cwNO"
      },
      "execution_count": null,
      "outputs": []
    },
    {
      "cell_type": "code",
      "source": [
        "fig = plt.figure(figsize = (20, 10))\n",
        "ax = fig.gca()\n",
        "\n",
        "ax.set_title('Target Value')\n",
        "sns.histplot(target_data['pressure'].values, kde=False, color = 'k', bins=1000, alpha=0.5, ax=ax, label='Target Value')\n",
        "ax.spines[\"top\"].set_visible(False)\n",
        "ax.spines[\"right\"].set_visible(False)\n",
        "ax.legend()\n",
        "\n",
        "plt.show()"
      ],
      "metadata": {
        "execution": {
          "iopub.status.busy": "2021-10-16T15:02:58.331340Z",
          "iopub.execute_input": "2021-10-16T15:02:58.332141Z",
          "iopub.status.idle": "2021-10-16T15:02:58.347311Z",
          "shell.execute_reply.started": "2021-10-16T15:02:58.332109Z",
          "shell.execute_reply": "2021-10-16T15:02:58.346454Z"
        },
        "trusted": true,
        "id": "gdBXrJJLcwNP"
      },
      "execution_count": null,
      "outputs": []
    },
    {
      "cell_type": "code",
      "source": [
        ""
      ],
      "metadata": {
        "trusted": true,
        "id": "0zc1nXe0cwNP"
      },
      "execution_count": null,
      "outputs": []
    },
    {
      "cell_type": "markdown",
      "source": [
        "#### FE [start]"
      ],
      "metadata": {
        "id": "TtR2cC87cwNQ"
      }
    },
    {
      "cell_type": "code",
      "source": [
        "TARGET_MIN = target_data['pressure'].values.min()\n",
        "TARGET_MAX = target_data['pressure'].values.max()"
      ],
      "metadata": {
        "execution": {
          "iopub.status.busy": "2021-10-16T15:02:58.374032Z",
          "iopub.execute_input": "2021-10-16T15:02:58.374526Z",
          "iopub.status.idle": "2021-10-16T15:02:58.394423Z",
          "shell.execute_reply.started": "2021-10-16T15:02:58.374488Z",
          "shell.execute_reply": "2021-10-16T15:02:58.393768Z"
        },
        "trusted": true,
        "id": "B8A1W-kCcwNQ"
      },
      "execution_count": null,
      "outputs": []
    },
    {
      "cell_type": "code",
      "source": [
        "for (df, _id) in [(train_data, train_id_data)]: #, (test_data, test_id_data)]:\n",
        "    ###########\n",
        "    # ADDING FEATURES\n",
        "    ###########\n",
        "    \n",
        "    #----------\n",
        "    df['time_step_sin'] = np.abs(np.sin(_id * (2. * np.pi / 160)))\n",
        "    #----------\n",
        "    df['real_time_step_2'] = df['time_step'] - df.groupby('breath_id')['time_step'].shift(1).fillna(0)\n",
        "    #----------\n",
        "    uout = df['u_out'].values\n",
        "    time_uout_0 = np.zeros(len(uout))\n",
        "    time_uout_1 = np.zeros(len(uout))\n",
        "    curr = uout[0]\n",
        "    i_start = 0\n",
        "    i_end = 0\n",
        "    for idx, n in enumerate(uout):\n",
        "        if curr != n:\n",
        "            d = i_end - i_start\n",
        "            for i in range(i_start, i_end + 1):\n",
        "                if curr == 0:\n",
        "                    time_uout_0[i] = np.sin((i - i_start) * (2. * np.pi / (2 * d))) + 0.1\n",
        "                if curr == 1:\n",
        "                    time_uout_1[i] = np.sin((i - i_start) * (2. * np.pi / (2 * d))) + 0.1\n",
        "            i_start = idx\n",
        "            i_end = idx\n",
        "            curr = uout[idx]\n",
        "        else:\n",
        "            i_end = idx\n",
        "    df['time_uout_0'] = time_uout_0\n",
        "    df['time_uout_1'] = time_uout_1\n",
        "    del uout, time_uout_0, time_uout_1\n",
        "    #----------\n",
        "    df['u_in_cumsum'] = (df['u_in']).groupby(df['breath_id']).cumsum()\n",
        "    #----------\n",
        "    df['u_in_lag_1'] = df.groupby('breath_id')['u_in'].shift(1).fillna(0)\n",
        "    df['u_in_lag_n1'] = df.groupby('breath_id')['u_in'].shift(-1).fillna(0)\n",
        "    df['u_in_lag_3'] = df.groupby('breath_id')['u_in'].shift(3).fillna(0)\n",
        "    df['u_in_lag_n3'] = df.groupby('breath_id')['u_in'].shift(-3).fillna(0)\n",
        "    #----------\n",
        "    df['u_in_diff_1'] = df['u_in'] - df['u_in_lag_1']\n",
        "    df['u_in_diff_n1'] = df['u_in_lag_n1'] - df['u_in']\n",
        "    df['u_in_diff_3'] = df['u_in'] - df['u_in_lag_3']\n",
        "    df['u_in_diff_n3'] = df['u_in_lag_n3'] - df['u_in']\n",
        "    #----------\n",
        "    df['bar_area'] = df['real_time_step_2'] * df['u_in_lag_1'] # for previous bar\n",
        "    #----------\n",
        "    df['area'] = df['time_step'] * df['u_in_lag_1']\n",
        "    df['area'] = df.groupby('breath_id')['area'].cumsum()\n",
        "    #----------\n",
        "    df['pp'] = df['area'] / df['C']\n",
        "    #----------\n",
        "    df['vv'] = df['pp'] / df['R']\n",
        "    #----------\n",
        "    df['R_times_C'] = df['R'] * df['C'] / 1000\n",
        "    #----------\n",
        "    df['u_in_diff_max'] = df.groupby(['breath_id'])['u_in'].transform('max') - df['u_in']\n",
        "    #----------\n",
        "    df['cross'] = df['u_in'] * df['u_out']\n",
        "    #----------\n",
        "    df['cross2'] = df['time_step'] * df['u_out']\n",
        "    #----------\n",
        "    df['u_out_group_sum'] = df['u_out'].groupby(df['breath_id']).transform('sum')\n",
        "    #----------\n",
        "    df['u_in_sum_u_out0'] = ((df['u_in']).groupby(df['breath_id'] + df['u_out'] * 0.5)).transform('sum') * (df['u_out'] == 0).astype(int)\n",
        "    #----------\n",
        "    df['u_in_sum_u_out1'] = ((df['u_in']).groupby(df['breath_id'] + df['u_out'] * 0.5)).transform('sum') * (df['u_out'] == 1).astype(int)\n",
        "    #----------\n",
        "    df['one'] = 1\n",
        "    df['count'] = (df['one']).groupby(df['breath_id']).cumsum()\n",
        "    df['u_in_cum_mean'] = df['u_in_cumsum'] / df['count'] # --------------------- f\n",
        "    #----------\n",
        "    df['bpm'] = 1 / df['time_step'].groupby(df['breath_id']).transform('max')\n",
        "    #----------\n",
        "    uin = df['u_in'].values\n",
        "    u_in_cum_f1 = np.zeros(len(uin))\n",
        "    u_in_cum_f2 = np.zeros(len(uin))\n",
        "    for i in range(int(len(uin) / 80)):\n",
        "        curr_cum = 0\n",
        "        count_for_f2 = 0\n",
        "        for j in range(i*80, (i+1)*80):\n",
        "            if uin[j] != 0:\n",
        "                curr_cum += uin[j]\n",
        "                count_for_f2 += 1\n",
        "                u_in_cum_f1[j] = curr_cum\n",
        "                u_in_cum_f2[j] = curr_cum / count_for_f2\n",
        "            else:\n",
        "                curr_cum = 0\n",
        "                count_for_f2 = 0\n",
        "    df['u_in_cum_f1'] = u_in_cum_f1\n",
        "    df['u_in_cum_f2'] = u_in_cum_f2\n",
        "    del uin, u_in_cum_f1, u_in_cum_f2\n",
        "    #----------\n",
        "    df['f_1'] = df['R'] * (df['u_out'] == 0).astype(int) * df['u_in']\n",
        "    df['f_2'] = df['u_in'] * (df['u_out'] == 0).astype(int) / df['C']\n",
        "    df['f_3'] = df['f_2'] / df['R']\n",
        "    #----------\n",
        "    \n",
        "    \n",
        "    \n",
        "    ###########\n",
        "    # DROP FEATURES\n",
        "    ###########\n",
        "    \n",
        "    df.drop(['breath_id'], axis=1, inplace=True)\n",
        "    df.drop(['one','count'], axis=1, inplace=True)\n",
        "\n",
        "gc.collect()"
      ],
      "metadata": {
        "execution": {
          "iopub.status.busy": "2021-10-16T15:02:58.395760Z",
          "iopub.execute_input": "2021-10-16T15:02:58.396199Z",
          "iopub.status.idle": "2021-10-16T15:03:43.927955Z",
          "shell.execute_reply.started": "2021-10-16T15:02:58.396165Z",
          "shell.execute_reply": "2021-10-16T15:03:43.927134Z"
        },
        "trusted": true,
        "id": "5ria0O9WcwNQ",
        "outputId": "26bf9da6-fb31-4f8d-89be-8f5d0931cd4d"
      },
      "execution_count": null,
      "outputs": [
        {
          "execution_count": 21,
          "output_type": "execute_result",
          "data": {
            "text/plain": "96"
          },
          "metadata": {}
        }
      ]
    },
    {
      "cell_type": "code",
      "source": [
        "# train\n",
        "\n",
        "train_data['RC'] = (train_data['R'] ** 2).astype(str) + train_data['C'].astype(str)\n",
        "train_data['R'] = train_data['R'].astype(str)\n",
        "train_data['C'] = train_data['C'].astype(str)\n",
        "train_data = pd.get_dummies(train_data)\n",
        "\n",
        "\n",
        "\n",
        "# test\n",
        "\n",
        "# test_data['RC'] = (test_data['R'] ** 2).astype(str) + test_data['C'].astype(str)\n",
        "# test_data['R'] = test_data['R'].astype(str)\n",
        "# test_data['C'] = test_data['C'].astype(str)\n",
        "# test_data = pd.get_dummies(test_data)"
      ],
      "metadata": {
        "execution": {
          "iopub.status.busy": "2021-10-16T15:03:43.935147Z",
          "iopub.execute_input": "2021-10-16T15:03:43.935495Z",
          "iopub.status.idle": "2021-10-16T15:04:20.436207Z",
          "shell.execute_reply.started": "2021-10-16T15:03:43.935417Z",
          "shell.execute_reply": "2021-10-16T15:04:20.435354Z"
        },
        "trusted": true,
        "id": "pRWZQfLacwNR"
      },
      "execution_count": null,
      "outputs": []
    },
    {
      "cell_type": "code",
      "source": [
        "gc.collect()"
      ],
      "metadata": {
        "execution": {
          "iopub.status.busy": "2021-10-16T15:04:20.437425Z",
          "iopub.execute_input": "2021-10-16T15:04:20.437706Z",
          "iopub.status.idle": "2021-10-16T15:04:20.546827Z",
          "shell.execute_reply.started": "2021-10-16T15:04:20.437676Z",
          "shell.execute_reply": "2021-10-16T15:04:20.546028Z"
        },
        "trusted": true,
        "id": "oL27d9BacwNR"
      },
      "execution_count": 3,
      "outputs": []
    },
    {
      "cell_type": "code",
      "source": [
        "# FE [end]"
      ],
      "metadata": {
        "id": "w50TBEMAcwNR"
      },
      "execution_count": null,
      "outputs": []
    },
    {
      "cell_type": "code",
      "source": [
        "scaler = RobustScaler() # MinMaxScaler RobustScaler StandardScaler\n",
        "train_data = scaler.fit_transform(train_data)\n",
        "# test_data = scaler.transform(test_data)"
      ],
      "metadata": {
        "execution": {
          "iopub.status.busy": "2021-10-16T15:04:20.548215Z",
          "iopub.execute_input": "2021-10-16T15:04:20.548487Z",
          "iopub.status.idle": "2021-10-16T15:04:31.681746Z",
          "shell.execute_reply.started": "2021-10-16T15:04:20.548435Z",
          "shell.execute_reply": "2021-10-16T15:04:31.680918Z"
        },
        "trusted": true,
        "id": "unWj9lPLcwNR"
      },
      "execution_count": null,
      "outputs": []
    },
    {
      "cell_type": "code",
      "source": [
        "train_data = np.float32(train_data)\n",
        "# test_data = np.float32(test_data)"
      ],
      "metadata": {
        "execution": {
          "iopub.status.busy": "2021-10-16T15:04:31.683068Z",
          "iopub.execute_input": "2021-10-16T15:04:31.683314Z",
          "iopub.status.idle": "2021-10-16T15:04:32.166124Z",
          "shell.execute_reply.started": "2021-10-16T15:04:31.683285Z",
          "shell.execute_reply": "2021-10-16T15:04:32.165202Z"
        },
        "trusted": true,
        "id": "Nhx2oKsFcwNS"
      },
      "execution_count": null,
      "outputs": []
    },
    {
      "cell_type": "code",
      "source": [
        "gc.collect()"
      ],
      "metadata": {
        "execution": {
          "iopub.status.busy": "2021-10-16T15:04:32.167757Z",
          "iopub.execute_input": "2021-10-16T15:04:32.168013Z",
          "iopub.status.idle": "2021-10-16T15:04:32.276887Z",
          "shell.execute_reply.started": "2021-10-16T15:04:32.167982Z",
          "shell.execute_reply": "2021-10-16T15:04:32.275765Z"
        },
        "trusted": true,
        "id": "0h5-w1vJcwNS",
        "outputId": "b06a41da-fae6-4b86-9d97-453312e8360f"
      },
      "execution_count": null,
      "outputs": [
        {
          "execution_count": 27,
          "output_type": "execute_result",
          "data": {
            "text/plain": "69"
          },
          "metadata": {}
        }
      ]
    },
    {
      "cell_type": "code",
      "source": [
        "frame_len = 80\n",
        "train_data = train_data.reshape(-1, frame_len, train_data.shape[1])\n",
        "# test_data = test_data.reshape(-1, frame_len, test_data.shape[1])\n",
        "target_data = target_data.to_numpy().reshape(-1, frame_len)"
      ],
      "metadata": {
        "execution": {
          "iopub.status.busy": "2021-10-16T15:04:32.278337Z",
          "iopub.execute_input": "2021-10-16T15:04:32.278674Z",
          "iopub.status.idle": "2021-10-16T15:04:32.289000Z",
          "shell.execute_reply.started": "2021-10-16T15:04:32.278634Z",
          "shell.execute_reply": "2021-10-16T15:04:32.288064Z"
        },
        "trusted": true,
        "id": "oZQYqxfucwNS"
      },
      "execution_count": null,
      "outputs": []
    },
    {
      "cell_type": "code",
      "source": [
        "train_data.shape"
      ],
      "metadata": {
        "execution": {
          "iopub.status.busy": "2021-10-16T15:04:32.314527Z",
          "iopub.execute_input": "2021-10-16T15:04:32.314868Z",
          "iopub.status.idle": "2021-10-16T15:04:32.325632Z",
          "shell.execute_reply.started": "2021-10-16T15:04:32.314823Z",
          "shell.execute_reply": "2021-10-16T15:04:32.324803Z"
        },
        "trusted": true,
        "id": "npa77AvtcwNT",
        "outputId": "562e5331-f170-4eca-d07f-bb6ce8039c80"
      },
      "execution_count": null,
      "outputs": [
        {
          "execution_count": 31,
          "output_type": "execute_result",
          "data": {
            "text/plain": "(75450, 80, 49)"
          },
          "metadata": {}
        }
      ]
    },
    {
      "cell_type": "code",
      "source": [
        "target_data.shape"
      ],
      "metadata": {
        "execution": {
          "iopub.status.busy": "2021-10-16T15:04:32.327110Z",
          "iopub.execute_input": "2021-10-16T15:04:32.327409Z",
          "iopub.status.idle": "2021-10-16T15:04:32.341651Z",
          "shell.execute_reply.started": "2021-10-16T15:04:32.327371Z",
          "shell.execute_reply": "2021-10-16T15:04:32.340648Z"
        },
        "trusted": true,
        "id": "LiwaL96kcwNT",
        "outputId": "5b2cc3aa-e814-454e-8477-1d2519343b44"
      },
      "execution_count": null,
      "outputs": [
        {
          "execution_count": 32,
          "output_type": "execute_result",
          "data": {
            "text/plain": "(75450, 80)"
          },
          "metadata": {}
        }
      ]
    },
    {
      "cell_type": "code",
      "source": [
        "train_data, X_test, target_data, y_test = train_test_split(train_data, target_data, test_size=0.2, random_state=R_SEED)"
      ],
      "metadata": {
        "execution": {
          "iopub.status.busy": "2021-10-16T15:04:32.342916Z",
          "iopub.execute_input": "2021-10-16T15:04:32.343403Z",
          "iopub.status.idle": "2021-10-16T15:04:32.908494Z",
          "shell.execute_reply.started": "2021-10-16T15:04:32.343365Z",
          "shell.execute_reply": "2021-10-16T15:04:32.907602Z"
        },
        "trusted": true,
        "id": "Rm0LI5KBcwNT"
      },
      "execution_count": null,
      "outputs": []
    },
    {
      "cell_type": "code",
      "source": [
        "gc.collect()"
      ],
      "metadata": {
        "execution": {
          "iopub.status.busy": "2021-10-16T15:04:32.909857Z",
          "iopub.execute_input": "2021-10-16T15:04:32.910078Z",
          "iopub.status.idle": "2021-10-16T15:04:33.017932Z",
          "shell.execute_reply.started": "2021-10-16T15:04:32.910052Z",
          "shell.execute_reply": "2021-10-16T15:04:33.016963Z"
        },
        "trusted": true,
        "id": "zrJcg1DNcwNT"
      },
      "execution_count": 4,
      "outputs": []
    },
    {
      "cell_type": "code",
      "source": [
        "import tensorflow as tf\n",
        "from tensorflow.keras import datasets, layers, models, Model\n",
        "from tensorflow.keras.callbacks import LearningRateScheduler, ReduceLROnPlateau, EarlyStopping\n",
        "from tensorflow.keras import backend as K\n",
        "from tensorflow.keras.optimizers.schedules import ExponentialDecay"
      ],
      "metadata": {
        "execution": {
          "iopub.status.busy": "2021-10-16T15:04:33.019283Z",
          "iopub.execute_input": "2021-10-16T15:04:33.019550Z",
          "iopub.status.idle": "2021-10-16T15:04:38.221442Z",
          "shell.execute_reply.started": "2021-10-16T15:04:33.019507Z",
          "shell.execute_reply": "2021-10-16T15:04:38.220593Z"
        },
        "trusted": true,
        "id": "_zfqwc0ccwNT"
      },
      "execution_count": 5,
      "outputs": []
    },
    {
      "cell_type": "code",
      "source": [
        "gc.collect()"
      ],
      "metadata": {
        "execution": {
          "iopub.status.busy": "2021-10-16T15:04:38.222658Z",
          "iopub.execute_input": "2021-10-16T15:04:38.223322Z",
          "iopub.status.idle": "2021-10-16T15:04:38.392389Z",
          "shell.execute_reply.started": "2021-10-16T15:04:38.223281Z",
          "shell.execute_reply": "2021-10-16T15:04:38.391628Z"
        },
        "trusted": true,
        "id": "uPSSLRiEcwNT"
      },
      "execution_count": 6,
      "outputs": []
    },
    {
      "cell_type": "code",
      "source": [
        "def ANN(input_shape=train_data.shape[-2:]):\n",
        "    \n",
        "    x_input = layers.Input(shape=input_shape)\n",
        "    \n",
        "    C = layers.Conv2D(filters = 64, kernel_size = (7, 7), strides = (1, 1), activation='relu')(tf.expand_dims(x_input, -1))\n",
        "    C = layers.Conv2D(filters = 128, kernel_size = (7, 7), strides = (1, 1), activation='relu')(C)\n",
        "    C = layers.AveragePooling2D(pool_size=(5, 5), strides=(5,5), padding=\"same\")(C)\n",
        "    C = layers.Flatten()(C)\n",
        "    C = layers.Dense(32, activation='selu')(C)\n",
        "    C = layers.RepeatVector(80)(C)\n",
        "    \n",
        "    CC = layers.TimeDistributed(layers.Conv1D(filters=64, kernel_size=7, activation='relu'))(tf.expand_dims(x_input, -1))\n",
        "    CC = layers.TimeDistributed(layers.Conv1D(filters=128, kernel_size=7, activation='relu'))(CC)\n",
        "    CC = layers.TimeDistributed(layers.AveragePooling1D(pool_size=5, strides=5, padding=\"same\"))(CC)\n",
        "    CC = layers.TimeDistributed(layers.Flatten())(CC)\n",
        "    CC = layers.TimeDistributed(layers.Dense(32, activation='selu'))(CC)\n",
        "        \n",
        "    X = layers.Bidirectional(layers.LSTM(512, return_sequences=True))(x_input) # --------------------------------------------------------\n",
        "    X = layers.Bidirectional(layers.LSTM(384, return_sequences=True))(X)\n",
        "    X = layers.Bidirectional(layers.LSTM(256, return_sequences=True))(X)\n",
        "    X = layers.Bidirectional(layers.LSTM(128, return_sequences=True))(X)\n",
        "    \n",
        "    X = layers.Concatenate()([X, C, CC])\n",
        "    \n",
        "    X = layers.Dense(128, activation='selu')(X)\n",
        "    X = layers.Dense(1)(X)\n",
        "    \n",
        "    model = models.Model(inputs = x_input, outputs = X, name='GB-21')\n",
        "    return model"
      ],
      "metadata": {
        "execution": {
          "iopub.status.busy": "2021-10-16T15:28:41.201075Z",
          "iopub.execute_input": "2021-10-16T15:28:41.201985Z",
          "iopub.status.idle": "2021-10-16T15:28:41.218129Z",
          "shell.execute_reply.started": "2021-10-16T15:28:41.201931Z",
          "shell.execute_reply": "2021-10-16T15:28:41.216923Z"
        },
        "trusted": true,
        "id": "d_GyRxducwNU"
      },
      "execution_count": null,
      "outputs": []
    },
    {
      "cell_type": "code",
      "source": [
        "print(TARGET_MIN, TARGET_MAX)"
      ],
      "metadata": {
        "execution": {
          "iopub.status.busy": "2021-10-16T15:28:41.220203Z",
          "iopub.execute_input": "2021-10-16T15:28:41.220971Z",
          "iopub.status.idle": "2021-10-16T15:28:41.236613Z",
          "shell.execute_reply.started": "2021-10-16T15:28:41.220906Z",
          "shell.execute_reply": "2021-10-16T15:28:41.235554Z"
        },
        "trusted": true,
        "id": "a2e8L_kycwNU",
        "outputId": "87f9a902-df0e-42e4-a732-bc3a0257ad21"
      },
      "execution_count": null,
      "outputs": [
        {
          "name": "stdout",
          "text": "-1.895744294564641 64.8209917386395\n",
          "output_type": "stream"
        }
      ]
    },
    {
      "cell_type": "code",
      "source": [
        "lr = ReduceLROnPlateau(monitor=\"val_loss\", factor=0.5, patience=15, verbose=1)\n",
        "es = EarlyStopping(monitor=\"val_loss\", patience=30, verbose=1, mode=\"min\", restore_best_weights=True)"
      ],
      "metadata": {
        "execution": {
          "iopub.status.busy": "2021-10-16T15:28:41.238086Z",
          "iopub.execute_input": "2021-10-16T15:28:41.238396Z",
          "iopub.status.idle": "2021-10-16T15:28:41.248253Z",
          "shell.execute_reply.started": "2021-10-16T15:28:41.238361Z",
          "shell.execute_reply": "2021-10-16T15:28:41.247508Z"
        },
        "trusted": true,
        "id": "8qSmLJPGcwNU"
      },
      "execution_count": null,
      "outputs": []
    },
    {
      "cell_type": "code",
      "source": [
        "model = ANN()\n",
        "model.summary()"
      ],
      "metadata": {
        "execution": {
          "iopub.status.busy": "2021-10-16T15:28:41.250389Z",
          "iopub.execute_input": "2021-10-16T15:28:41.250987Z",
          "iopub.status.idle": "2021-10-16T15:28:43.838327Z",
          "shell.execute_reply.started": "2021-10-16T15:28:41.250955Z",
          "shell.execute_reply": "2021-10-16T15:28:43.837544Z"
        },
        "trusted": true,
        "id": "Z1kzgPMNcwNU",
        "outputId": "0c7a562d-293a-4328-c2c2-de492937690b"
      },
      "execution_count": null,
      "outputs": [
        {
          "name": "stdout",
          "text": "Model: \"GB-21\"\n__________________________________________________________________________________________________\nLayer (type)                    Output Shape         Param #     Connected to                     \n==================================================================================================\ninput_5 (InputLayer)            [(None, 80, 49)]     0                                            \n__________________________________________________________________________________________________\ntf.expand_dims_8 (TFOpLambda)   (None, 80, 49, 1)    0           input_5[0][0]                    \n__________________________________________________________________________________________________\nconv2d_8 (Conv2D)               (None, 74, 43, 64)   3200        tf.expand_dims_8[0][0]           \n__________________________________________________________________________________________________\ntf.expand_dims_9 (TFOpLambda)   (None, 80, 49, 1)    0           input_5[0][0]                    \n__________________________________________________________________________________________________\nconv2d_9 (Conv2D)               (None, 68, 37, 128)  401536      conv2d_8[0][0]                   \n__________________________________________________________________________________________________\ntime_distributed_10 (TimeDistri (None, 80, 43, 64)   512         tf.expand_dims_9[0][0]           \n__________________________________________________________________________________________________\nbidirectional_8 (Bidirectional) (None, 80, 1024)     2301952     input_5[0][0]                    \n__________________________________________________________________________________________________\naverage_pooling2d_4 (AveragePoo (None, 14, 8, 128)   0           conv2d_9[0][0]                   \n__________________________________________________________________________________________________\ntime_distributed_11 (TimeDistri (None, 80, 37, 128)  57472       time_distributed_10[0][0]        \n__________________________________________________________________________________________________\nbidirectional_9 (Bidirectional) (None, 80, 768)      4328448     bidirectional_8[0][0]            \n__________________________________________________________________________________________________\nflatten_6 (Flatten)             (None, 14336)        0           average_pooling2d_4[0][0]        \n__________________________________________________________________________________________________\ntime_distributed_12 (TimeDistri (None, 80, 8, 128)   0           time_distributed_11[0][0]        \n__________________________________________________________________________________________________\nbidirectional_10 (Bidirectional (None, 80, 512)      2099200     bidirectional_9[0][0]            \n__________________________________________________________________________________________________\ndense_12 (Dense)                (None, 32)           458784      flatten_6[0][0]                  \n__________________________________________________________________________________________________\ntime_distributed_13 (TimeDistri (None, 80, 1024)     0           time_distributed_12[0][0]        \n__________________________________________________________________________________________________\nbidirectional_11 (Bidirectional (None, 80, 256)      656384      bidirectional_10[0][0]           \n__________________________________________________________________________________________________\nrepeat_vector_2 (RepeatVector)  (None, 80, 32)       0           dense_12[0][0]                   \n__________________________________________________________________________________________________\ntime_distributed_14 (TimeDistri (None, 80, 32)       32800       time_distributed_13[0][0]        \n__________________________________________________________________________________________________\nconcatenate_2 (Concatenate)     (None, 80, 320)      0           bidirectional_11[0][0]           \n                                                                 repeat_vector_2[0][0]            \n                                                                 time_distributed_14[0][0]        \n__________________________________________________________________________________________________\ndense_14 (Dense)                (None, 80, 128)      41088       concatenate_2[0][0]              \n__________________________________________________________________________________________________\ndense_15 (Dense)                (None, 80, 1)        129         dense_14[0][0]                   \n==================================================================================================\nTotal params: 10,381,505\nTrainable params: 10,381,505\nNon-trainable params: 0\n__________________________________________________________________________________________________\n",
          "output_type": "stream"
        }
      ]
    },
    {
      "cell_type": "markdown",
      "source": [
        "### TPU"
      ],
      "metadata": {
        "id": "ZA2KejyscwNV"
      }
    },
    {
      "cell_type": "code",
      "source": [
        "gc.collect()"
      ],
      "metadata": {
        "execution": {
          "iopub.status.busy": "2021-10-16T15:28:44.309110Z",
          "iopub.execute_input": "2021-10-16T15:28:44.309337Z",
          "iopub.status.idle": "2021-10-16T15:28:44.642754Z",
          "shell.execute_reply.started": "2021-10-16T15:28:44.309311Z",
          "shell.execute_reply": "2021-10-16T15:28:44.641869Z"
        },
        "trusted": true,
        "id": "o9ZxsIuTcwNV"
      },
      "execution_count": 8,
      "outputs": []
    },
    {
      "cell_type": "code",
      "source": [
        "EPOCH = 300\n",
        "BATCH_SIZE = 256 # with tpu we can go easily with 1024 even 2048, but with smaller batch size accuracy is way better\n",
        "\n",
        "k = 5\n",
        "\n",
        "test_preds = []\n",
        "\n",
        "# detect and init the TPU\n",
        "tpu = tf.distribute.cluster_resolver.TPUClusterResolver.connect()\n",
        "\n",
        "# instantiate a distribution strategy\n",
        "tpu_strategy = tf.distribute.experimental.TPUStrategy(tpu)\n",
        "\n",
        "with tpu_strategy.scope():\n",
        "    \n",
        "    kfolds = KFold(n_splits = k, shuffle = True, random_state = R_SEED)\n",
        "    curr_k = 1\n",
        "    for train_index, val_index in kfolds.split(train_data):\n",
        "        print('fold: ', curr_k)\n",
        "\n",
        "        X_train, X_val = train_data[train_index], train_data[val_index]\n",
        "        y_train, y_val = target_data[train_index], target_data[val_index]\n",
        "\n",
        "        model = ANN()\n",
        "        model.compile(\n",
        "                optimizer = tf.keras.optimizers.Adam(learning_rate = 0.001),\n",
        "                loss = 'mae',\n",
        "                metrics = ['mae'])\n",
        "\n",
        "        history = model.fit(\n",
        "            X_train,\n",
        "            y_train,\n",
        "            epochs = EPOCH,\n",
        "            shuffle = True,\n",
        "            validation_data = (X_val, y_val),\n",
        "            batch_size = BATCH_SIZE,\n",
        "            callbacks=[lr, es]\n",
        "        )\n",
        "\n",
        "        test_preds.append(model.predict(X_test, batch_size=BATCH_SIZE).squeeze().reshape(-1, 1).squeeze())\n",
        "\n",
        "        model.save('model_'+str(curr_k)+'.h5',save_format='h5')\n",
        "        \n",
        "        curr_k += 1\n",
        "        del model\n",
        "        gc.collect()\n",
        "\n",
        "    test_preds = sum(test_preds) / k\n",
        "    mae = mean_absolute_error(y_test.reshape(-1, 1).squeeze(), test_preds)\n",
        "    print(mae)"
      ],
      "metadata": {
        "execution": {
          "iopub.status.busy": "2021-10-16T15:28:44.644599Z",
          "iopub.execute_input": "2021-10-16T15:28:44.644837Z"
        },
        "trusted": true,
        "id": "SRpDw-rZcwNV"
      },
      "execution_count": 9,
      "outputs": []
    },
    {
      "cell_type": "code",
      "source": [
        ""
      ],
      "metadata": {
        "id": "4zcunTi2cwNV"
      },
      "execution_count": null,
      "outputs": []
    }
  ]
}