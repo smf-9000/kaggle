{
  "nbformat": 4,
  "nbformat_minor": 5,
  "metadata": {
    "kernelspec": {
      "display_name": "Python 3",
      "language": "python",
      "name": "python3"
    },
    "language_info": {
      "codemirror_mode": {
        "name": "ipython",
        "version": 3
      },
      "file_extension": ".py",
      "mimetype": "text/x-python",
      "name": "python",
      "nbconvert_exporter": "python",
      "pygments_lexer": "ipython3",
      "version": "3.7.10"
    },
    "papermill": {
      "default_parameters": {},
      "duration": 126.06365,
      "end_time": "2021-07-27T16:01:21.196594",
      "environment_variables": {},
      "exception": null,
      "input_path": "__notebook__.ipynb",
      "output_path": "__notebook__.ipynb",
      "parameters": {},
      "start_time": "2021-07-27T15:59:15.132944",
      "version": "2.3.3"
    },
    "colab": {
      "name": "[002]-tabular-playground-series-jul-2021-v2.ipynb",
      "provenance": [],
      "include_colab_link": true
    }
  },
  "cells": [
    {
      "cell_type": "markdown",
      "metadata": {
        "id": "view-in-github",
        "colab_type": "text"
      },
      "source": [
        "<a href=\"https://colab.research.google.com/github/smf-9000/kaggle/blob/main/%5B002%5D_tabular_playground_series_jul_2021_v2.ipynb\" target=\"_parent\"><img src=\"https://colab.research.google.com/assets/colab-badge.svg\" alt=\"Open In Colab\"/></a>"
      ]
    },
    {
      "cell_type": "code",
      "metadata": {
        "execution": {
          "iopub.execute_input": "2021-07-27T15:59:24.736518Z",
          "iopub.status.busy": "2021-07-27T15:59:24.735868Z",
          "iopub.status.idle": "2021-07-27T15:59:24.739102Z",
          "shell.execute_reply": "2021-07-27T15:59:24.738479Z",
          "shell.execute_reply.started": "2021-07-27T15:57:36.275008Z"
        },
        "papermill": {
          "duration": 0.056062,
          "end_time": "2021-07-27T15:59:24.739270",
          "exception": false,
          "start_time": "2021-07-27T15:59:24.683208",
          "status": "completed"
        },
        "tags": [],
        "id": "adb85425"
      },
      "source": [
        "%config Completer.use_jedi = False"
      ],
      "id": "adb85425",
      "execution_count": null,
      "outputs": []
    },
    {
      "cell_type": "code",
      "metadata": {
        "_cell_guid": "b1076dfc-b9ad-4769-8c92-a6c4dae69d19",
        "_uuid": "8f2839f25d086af736a60e9eeb907d3b93b6e0e5",
        "execution": {
          "iopub.execute_input": "2021-07-27T15:59:24.801285Z",
          "iopub.status.busy": "2021-07-27T15:59:24.800463Z",
          "iopub.status.idle": "2021-07-27T15:59:34.950060Z",
          "shell.execute_reply": "2021-07-27T15:59:34.950627Z",
          "shell.execute_reply.started": "2021-07-27T15:57:36.292613Z"
        },
        "papermill": {
          "duration": 10.184092,
          "end_time": "2021-07-27T15:59:34.950842",
          "exception": false,
          "start_time": "2021-07-27T15:59:24.766750",
          "status": "completed"
        },
        "tags": [],
        "id": "22484851",
        "outputId": "d6d92a19-f864-4df6-a049-f6248df0ec3b"
      },
      "source": [
        "import numpy as np\n",
        "import pandas as pd\n",
        "import seaborn as sns\n",
        "import matplotlib.pyplot as plt\n",
        "from matplotlib.pyplot import imshow, imread\n",
        "import tensorflow as tf\n",
        "from tensorflow.keras import backend as K\n",
        "from sklearn.model_selection import train_test_split\n",
        "from sklearn.model_selection import GridSearchCV\n",
        "from lightgbm import LGBMRegressor\n",
        "from xgboost import XGBRegressor\n",
        "from statsmodels.nonparametric.smoothers_lowess import lowess\n",
        "\n",
        "\n",
        "import os\n",
        "for dirname, _, filenames in os.walk('/kaggle/input'):\n",
        "    for filename in filenames:\n",
        "        print(os.path.join(dirname, filename))"
      ],
      "id": "22484851",
      "execution_count": null,
      "outputs": [
        {
          "output_type": "display_data",
          "data": {
            "text/html": [
              "<style type='text/css'>\n",
              ".datatable table.frame { margin-bottom: 0; }\n",
              ".datatable table.frame thead { border-bottom: none; }\n",
              ".datatable table.frame tr.coltypes td {  color: #FFFFFF;  line-height: 6px;  padding: 0 0.5em;}\n",
              ".datatable .bool    { background: #DDDD99; }\n",
              ".datatable .object  { background: #565656; }\n",
              ".datatable .int     { background: #5D9E5D; }\n",
              ".datatable .float   { background: #4040CC; }\n",
              ".datatable .str     { background: #CC4040; }\n",
              ".datatable .time    { background: #40CC40; }\n",
              ".datatable .row_index {  background: var(--jp-border-color3);  border-right: 1px solid var(--jp-border-color0);  color: var(--jp-ui-font-color3);  font-size: 9px;}\n",
              ".datatable .frame tbody td { text-align: left; }\n",
              ".datatable .frame tr.coltypes .row_index {  background: var(--jp-border-color0);}\n",
              ".datatable th:nth-child(2) { padding-left: 12px; }\n",
              ".datatable .hellipsis {  color: var(--jp-cell-editor-border-color);}\n",
              ".datatable .vellipsis {  background: var(--jp-layout-color0);  color: var(--jp-cell-editor-border-color);}\n",
              ".datatable .na {  color: var(--jp-cell-editor-border-color);  font-size: 80%;}\n",
              ".datatable .sp {  opacity: 0.25;}\n",
              ".datatable .footer { font-size: 9px; }\n",
              ".datatable .frame_dimensions {  background: var(--jp-border-color3);  border-top: 1px solid var(--jp-border-color0);  color: var(--jp-ui-font-color3);  display: inline-block;  opacity: 0.6;  padding: 1px 10px 1px 5px;}\n",
              "</style>\n"
            ],
            "text/plain": [
              "<IPython.core.display.HTML object>"
            ]
          },
          "metadata": {
            "tags": []
          }
        },
        {
          "output_type": "stream",
          "text": [
            "/kaggle/input/tabular-playground-series-jul-2021/sample_submission.csv\n",
            "/kaggle/input/tabular-playground-series-jul-2021/train.csv\n",
            "/kaggle/input/tabular-playground-series-jul-2021/test.csv\n"
          ],
          "name": "stdout"
        }
      ]
    },
    {
      "cell_type": "code",
      "metadata": {
        "execution": {
          "iopub.execute_input": "2021-07-27T15:59:35.013575Z",
          "iopub.status.busy": "2021-07-27T15:59:35.012853Z",
          "iopub.status.idle": "2021-07-27T15:59:35.093260Z",
          "shell.execute_reply": "2021-07-27T15:59:35.092664Z",
          "shell.execute_reply.started": "2021-07-27T15:57:36.313765Z"
        },
        "papermill": {
          "duration": 0.113199,
          "end_time": "2021-07-27T15:59:35.093407",
          "exception": false,
          "start_time": "2021-07-27T15:59:34.980208",
          "status": "completed"
        },
        "tags": [],
        "id": "db023997"
      },
      "source": [
        "submission_ex = pd.read_csv('/kaggle/input/tabular-playground-series-jul-2021/sample_submission.csv')\n",
        "train_df = pd.read_csv('/kaggle/input/tabular-playground-series-jul-2021/train.csv')\n",
        "test_df = pd.read_csv('/kaggle/input/tabular-playground-series-jul-2021/test.csv')\n",
        "\n",
        "targets_df = train_df[[\"target_carbon_monoxide\",\"target_benzene\",\"target_nitrogen_oxides\"]].copy()\n",
        "# train_df.drop([\"target_carbon_monoxide\",\"target_benzene\",\"target_nitrogen_oxides\"], axis=1, inplace=True)  "
      ],
      "id": "db023997",
      "execution_count": null,
      "outputs": []
    },
    {
      "cell_type": "code",
      "metadata": {
        "execution": {
          "iopub.execute_input": "2021-07-27T15:59:35.155862Z",
          "iopub.status.busy": "2021-07-27T15:59:35.155157Z",
          "iopub.status.idle": "2021-07-27T15:59:35.158031Z",
          "shell.execute_reply": "2021-07-27T15:59:35.158502Z",
          "shell.execute_reply.started": "2021-07-27T15:57:36.351475Z"
        },
        "papermill": {
          "duration": 0.036523,
          "end_time": "2021-07-27T15:59:35.158700",
          "exception": false,
          "start_time": "2021-07-27T15:59:35.122177",
          "status": "completed"
        },
        "tags": [],
        "id": "c87316a4"
      },
      "source": [
        "def root_mean_squared_log_error(y_true, y_pred):\n",
        "    msle = tf.keras.losses.MeanSquaredLogarithmicError()\n",
        "    return K.sqrt(msle(y_true, y_pred)) "
      ],
      "id": "c87316a4",
      "execution_count": null,
      "outputs": []
    },
    {
      "cell_type": "code",
      "metadata": {
        "_kg_hide-input": true,
        "execution": {
          "iopub.execute_input": "2021-07-27T15:59:35.222958Z",
          "iopub.status.busy": "2021-07-27T15:59:35.221942Z",
          "iopub.status.idle": "2021-07-27T15:59:35.247817Z",
          "shell.execute_reply": "2021-07-27T15:59:35.248338Z",
          "shell.execute_reply.started": "2021-07-27T15:57:39.053901Z"
        },
        "papermill": {
          "duration": 0.060782,
          "end_time": "2021-07-27T15:59:35.248540",
          "exception": false,
          "start_time": "2021-07-27T15:59:35.187758",
          "status": "completed"
        },
        "tags": [],
        "id": "2c0aac86",
        "outputId": "dea38ed5-df2e-49ec-bf21-8f23c9ee88aa"
      },
      "source": [
        "train_df.head()"
      ],
      "id": "2c0aac86",
      "execution_count": null,
      "outputs": [
        {
          "output_type": "execute_result",
          "data": {
            "text/html": [
              "<div>\n",
              "<style scoped>\n",
              "    .dataframe tbody tr th:only-of-type {\n",
              "        vertical-align: middle;\n",
              "    }\n",
              "\n",
              "    .dataframe tbody tr th {\n",
              "        vertical-align: top;\n",
              "    }\n",
              "\n",
              "    .dataframe thead th {\n",
              "        text-align: right;\n",
              "    }\n",
              "</style>\n",
              "<table border=\"1\" class=\"dataframe\">\n",
              "  <thead>\n",
              "    <tr style=\"text-align: right;\">\n",
              "      <th></th>\n",
              "      <th>date_time</th>\n",
              "      <th>deg_C</th>\n",
              "      <th>relative_humidity</th>\n",
              "      <th>absolute_humidity</th>\n",
              "      <th>sensor_1</th>\n",
              "      <th>sensor_2</th>\n",
              "      <th>sensor_3</th>\n",
              "      <th>sensor_4</th>\n",
              "      <th>sensor_5</th>\n",
              "      <th>target_carbon_monoxide</th>\n",
              "      <th>target_benzene</th>\n",
              "      <th>target_nitrogen_oxides</th>\n",
              "    </tr>\n",
              "  </thead>\n",
              "  <tbody>\n",
              "    <tr>\n",
              "      <th>0</th>\n",
              "      <td>2010-03-10 18:00:00</td>\n",
              "      <td>13.1</td>\n",
              "      <td>46.0</td>\n",
              "      <td>0.7578</td>\n",
              "      <td>1387.2</td>\n",
              "      <td>1087.8</td>\n",
              "      <td>1056.0</td>\n",
              "      <td>1742.8</td>\n",
              "      <td>1293.4</td>\n",
              "      <td>2.5</td>\n",
              "      <td>12.0</td>\n",
              "      <td>167.7</td>\n",
              "    </tr>\n",
              "    <tr>\n",
              "      <th>1</th>\n",
              "      <td>2010-03-10 19:00:00</td>\n",
              "      <td>13.2</td>\n",
              "      <td>45.3</td>\n",
              "      <td>0.7255</td>\n",
              "      <td>1279.1</td>\n",
              "      <td>888.2</td>\n",
              "      <td>1197.5</td>\n",
              "      <td>1449.9</td>\n",
              "      <td>1010.9</td>\n",
              "      <td>2.1</td>\n",
              "      <td>9.9</td>\n",
              "      <td>98.9</td>\n",
              "    </tr>\n",
              "    <tr>\n",
              "      <th>2</th>\n",
              "      <td>2010-03-10 20:00:00</td>\n",
              "      <td>12.6</td>\n",
              "      <td>56.2</td>\n",
              "      <td>0.7502</td>\n",
              "      <td>1331.9</td>\n",
              "      <td>929.6</td>\n",
              "      <td>1060.2</td>\n",
              "      <td>1586.1</td>\n",
              "      <td>1117.0</td>\n",
              "      <td>2.2</td>\n",
              "      <td>9.2</td>\n",
              "      <td>127.1</td>\n",
              "    </tr>\n",
              "    <tr>\n",
              "      <th>3</th>\n",
              "      <td>2010-03-10 21:00:00</td>\n",
              "      <td>11.0</td>\n",
              "      <td>62.4</td>\n",
              "      <td>0.7867</td>\n",
              "      <td>1321.0</td>\n",
              "      <td>929.0</td>\n",
              "      <td>1102.9</td>\n",
              "      <td>1536.5</td>\n",
              "      <td>1263.2</td>\n",
              "      <td>2.2</td>\n",
              "      <td>9.7</td>\n",
              "      <td>177.2</td>\n",
              "    </tr>\n",
              "    <tr>\n",
              "      <th>4</th>\n",
              "      <td>2010-03-10 22:00:00</td>\n",
              "      <td>11.9</td>\n",
              "      <td>59.0</td>\n",
              "      <td>0.7888</td>\n",
              "      <td>1272.0</td>\n",
              "      <td>852.7</td>\n",
              "      <td>1180.9</td>\n",
              "      <td>1415.5</td>\n",
              "      <td>1132.2</td>\n",
              "      <td>1.5</td>\n",
              "      <td>6.4</td>\n",
              "      <td>121.8</td>\n",
              "    </tr>\n",
              "  </tbody>\n",
              "</table>\n",
              "</div>"
            ],
            "text/plain": [
              "             date_time  deg_C  relative_humidity  absolute_humidity  sensor_1  \\\n",
              "0  2010-03-10 18:00:00   13.1               46.0             0.7578    1387.2   \n",
              "1  2010-03-10 19:00:00   13.2               45.3             0.7255    1279.1   \n",
              "2  2010-03-10 20:00:00   12.6               56.2             0.7502    1331.9   \n",
              "3  2010-03-10 21:00:00   11.0               62.4             0.7867    1321.0   \n",
              "4  2010-03-10 22:00:00   11.9               59.0             0.7888    1272.0   \n",
              "\n",
              "   sensor_2  sensor_3  sensor_4  sensor_5  target_carbon_monoxide  \\\n",
              "0    1087.8    1056.0    1742.8    1293.4                     2.5   \n",
              "1     888.2    1197.5    1449.9    1010.9                     2.1   \n",
              "2     929.6    1060.2    1586.1    1117.0                     2.2   \n",
              "3     929.0    1102.9    1536.5    1263.2                     2.2   \n",
              "4     852.7    1180.9    1415.5    1132.2                     1.5   \n",
              "\n",
              "   target_benzene  target_nitrogen_oxides  \n",
              "0            12.0                   167.7  \n",
              "1             9.9                    98.9  \n",
              "2             9.2                   127.1  \n",
              "3             9.7                   177.2  \n",
              "4             6.4                   121.8  "
            ]
          },
          "metadata": {
            "tags": []
          },
          "execution_count": 5
        }
      ]
    },
    {
      "cell_type": "code",
      "metadata": {
        "_kg_hide-input": true,
        "execution": {
          "iopub.execute_input": "2021-07-27T15:59:35.309711Z",
          "iopub.status.busy": "2021-07-27T15:59:35.309025Z",
          "iopub.status.idle": "2021-07-27T15:59:35.326224Z",
          "shell.execute_reply": "2021-07-27T15:59:35.326829Z",
          "shell.execute_reply.started": "2021-07-27T15:47:40.053775Z"
        },
        "papermill": {
          "duration": 0.049706,
          "end_time": "2021-07-27T15:59:35.327007",
          "exception": false,
          "start_time": "2021-07-27T15:59:35.277301",
          "status": "completed"
        },
        "tags": [],
        "id": "d012aa0d",
        "outputId": "4bf27077-56ec-481f-a3d1-35d36b38619f"
      },
      "source": [
        "test_df.head()"
      ],
      "id": "d012aa0d",
      "execution_count": null,
      "outputs": [
        {
          "output_type": "execute_result",
          "data": {
            "text/html": [
              "<div>\n",
              "<style scoped>\n",
              "    .dataframe tbody tr th:only-of-type {\n",
              "        vertical-align: middle;\n",
              "    }\n",
              "\n",
              "    .dataframe tbody tr th {\n",
              "        vertical-align: top;\n",
              "    }\n",
              "\n",
              "    .dataframe thead th {\n",
              "        text-align: right;\n",
              "    }\n",
              "</style>\n",
              "<table border=\"1\" class=\"dataframe\">\n",
              "  <thead>\n",
              "    <tr style=\"text-align: right;\">\n",
              "      <th></th>\n",
              "      <th>date_time</th>\n",
              "      <th>deg_C</th>\n",
              "      <th>relative_humidity</th>\n",
              "      <th>absolute_humidity</th>\n",
              "      <th>sensor_1</th>\n",
              "      <th>sensor_2</th>\n",
              "      <th>sensor_3</th>\n",
              "      <th>sensor_4</th>\n",
              "      <th>sensor_5</th>\n",
              "    </tr>\n",
              "  </thead>\n",
              "  <tbody>\n",
              "    <tr>\n",
              "      <th>0</th>\n",
              "      <td>2011-01-01 00:00:00</td>\n",
              "      <td>8.0</td>\n",
              "      <td>41.3</td>\n",
              "      <td>0.4375</td>\n",
              "      <td>1108.8</td>\n",
              "      <td>745.7</td>\n",
              "      <td>797.1</td>\n",
              "      <td>880.0</td>\n",
              "      <td>1273.1</td>\n",
              "    </tr>\n",
              "    <tr>\n",
              "      <th>1</th>\n",
              "      <td>2011-01-01 01:00:00</td>\n",
              "      <td>5.1</td>\n",
              "      <td>51.7</td>\n",
              "      <td>0.4564</td>\n",
              "      <td>1249.5</td>\n",
              "      <td>864.9</td>\n",
              "      <td>687.9</td>\n",
              "      <td>972.8</td>\n",
              "      <td>1714.0</td>\n",
              "    </tr>\n",
              "    <tr>\n",
              "      <th>2</th>\n",
              "      <td>2011-01-01 02:00:00</td>\n",
              "      <td>5.8</td>\n",
              "      <td>51.5</td>\n",
              "      <td>0.4689</td>\n",
              "      <td>1102.6</td>\n",
              "      <td>878.0</td>\n",
              "      <td>693.7</td>\n",
              "      <td>941.9</td>\n",
              "      <td>1300.8</td>\n",
              "    </tr>\n",
              "    <tr>\n",
              "      <th>3</th>\n",
              "      <td>2011-01-01 03:00:00</td>\n",
              "      <td>5.0</td>\n",
              "      <td>52.3</td>\n",
              "      <td>0.4693</td>\n",
              "      <td>1139.7</td>\n",
              "      <td>916.2</td>\n",
              "      <td>725.6</td>\n",
              "      <td>1011.0</td>\n",
              "      <td>1283.0</td>\n",
              "    </tr>\n",
              "    <tr>\n",
              "      <th>4</th>\n",
              "      <td>2011-01-01 04:00:00</td>\n",
              "      <td>4.5</td>\n",
              "      <td>57.5</td>\n",
              "      <td>0.4650</td>\n",
              "      <td>1022.4</td>\n",
              "      <td>838.5</td>\n",
              "      <td>871.5</td>\n",
              "      <td>967.0</td>\n",
              "      <td>1142.3</td>\n",
              "    </tr>\n",
              "  </tbody>\n",
              "</table>\n",
              "</div>"
            ],
            "text/plain": [
              "             date_time  deg_C  relative_humidity  absolute_humidity  sensor_1  \\\n",
              "0  2011-01-01 00:00:00    8.0               41.3             0.4375    1108.8   \n",
              "1  2011-01-01 01:00:00    5.1               51.7             0.4564    1249.5   \n",
              "2  2011-01-01 02:00:00    5.8               51.5             0.4689    1102.6   \n",
              "3  2011-01-01 03:00:00    5.0               52.3             0.4693    1139.7   \n",
              "4  2011-01-01 04:00:00    4.5               57.5             0.4650    1022.4   \n",
              "\n",
              "   sensor_2  sensor_3  sensor_4  sensor_5  \n",
              "0     745.7     797.1     880.0    1273.1  \n",
              "1     864.9     687.9     972.8    1714.0  \n",
              "2     878.0     693.7     941.9    1300.8  \n",
              "3     916.2     725.6    1011.0    1283.0  \n",
              "4     838.5     871.5     967.0    1142.3  "
            ]
          },
          "metadata": {
            "tags": []
          },
          "execution_count": 6
        }
      ]
    },
    {
      "cell_type": "code",
      "metadata": {
        "_kg_hide-input": true,
        "execution": {
          "iopub.execute_input": "2021-07-27T15:59:35.389362Z",
          "iopub.status.busy": "2021-07-27T15:59:35.388506Z",
          "iopub.status.idle": "2021-07-27T15:59:35.399781Z",
          "shell.execute_reply": "2021-07-27T15:59:35.400346Z",
          "shell.execute_reply.started": "2021-07-27T15:47:40.077508Z"
        },
        "papermill": {
          "duration": 0.044575,
          "end_time": "2021-07-27T15:59:35.400543",
          "exception": false,
          "start_time": "2021-07-27T15:59:35.355968",
          "status": "completed"
        },
        "tags": [],
        "id": "48f62e1b",
        "outputId": "ab1639b6-ef14-415a-b5f8-0421de47ad4d"
      },
      "source": [
        "targets_df.tail()"
      ],
      "id": "48f62e1b",
      "execution_count": null,
      "outputs": [
        {
          "output_type": "execute_result",
          "data": {
            "text/html": [
              "<div>\n",
              "<style scoped>\n",
              "    .dataframe tbody tr th:only-of-type {\n",
              "        vertical-align: middle;\n",
              "    }\n",
              "\n",
              "    .dataframe tbody tr th {\n",
              "        vertical-align: top;\n",
              "    }\n",
              "\n",
              "    .dataframe thead th {\n",
              "        text-align: right;\n",
              "    }\n",
              "</style>\n",
              "<table border=\"1\" class=\"dataframe\">\n",
              "  <thead>\n",
              "    <tr style=\"text-align: right;\">\n",
              "      <th></th>\n",
              "      <th>target_carbon_monoxide</th>\n",
              "      <th>target_benzene</th>\n",
              "      <th>target_nitrogen_oxides</th>\n",
              "    </tr>\n",
              "  </thead>\n",
              "  <tbody>\n",
              "    <tr>\n",
              "      <th>7106</th>\n",
              "      <td>1.3</td>\n",
              "      <td>5.1</td>\n",
              "      <td>191.1</td>\n",
              "    </tr>\n",
              "    <tr>\n",
              "      <th>7107</th>\n",
              "      <td>1.4</td>\n",
              "      <td>5.8</td>\n",
              "      <td>221.3</td>\n",
              "    </tr>\n",
              "    <tr>\n",
              "      <th>7108</th>\n",
              "      <td>1.6</td>\n",
              "      <td>5.2</td>\n",
              "      <td>227.4</td>\n",
              "    </tr>\n",
              "    <tr>\n",
              "      <th>7109</th>\n",
              "      <td>1.5</td>\n",
              "      <td>4.6</td>\n",
              "      <td>199.8</td>\n",
              "    </tr>\n",
              "    <tr>\n",
              "      <th>7110</th>\n",
              "      <td>1.4</td>\n",
              "      <td>4.1</td>\n",
              "      <td>186.5</td>\n",
              "    </tr>\n",
              "  </tbody>\n",
              "</table>\n",
              "</div>"
            ],
            "text/plain": [
              "      target_carbon_monoxide  target_benzene  target_nitrogen_oxides\n",
              "7106                     1.3             5.1                   191.1\n",
              "7107                     1.4             5.8                   221.3\n",
              "7108                     1.6             5.2                   227.4\n",
              "7109                     1.5             4.6                   199.8\n",
              "7110                     1.4             4.1                   186.5"
            ]
          },
          "metadata": {
            "tags": []
          },
          "execution_count": 7
        }
      ]
    },
    {
      "cell_type": "code",
      "metadata": {
        "_kg_hide-input": true,
        "execution": {
          "iopub.execute_input": "2021-07-27T15:59:35.463952Z",
          "iopub.status.busy": "2021-07-27T15:59:35.463233Z",
          "iopub.status.idle": "2021-07-27T15:59:35.475828Z",
          "shell.execute_reply": "2021-07-27T15:59:35.476348Z",
          "shell.execute_reply.started": "2021-07-27T15:47:40.103381Z"
        },
        "papermill": {
          "duration": 0.045839,
          "end_time": "2021-07-27T15:59:35.476538",
          "exception": false,
          "start_time": "2021-07-27T15:59:35.430699",
          "status": "completed"
        },
        "tags": [],
        "id": "59925fe5",
        "outputId": "5bee690a-38de-43db-8e8b-da8218c0176c"
      },
      "source": [
        "submission_ex.head()"
      ],
      "id": "59925fe5",
      "execution_count": null,
      "outputs": [
        {
          "output_type": "execute_result",
          "data": {
            "text/html": [
              "<div>\n",
              "<style scoped>\n",
              "    .dataframe tbody tr th:only-of-type {\n",
              "        vertical-align: middle;\n",
              "    }\n",
              "\n",
              "    .dataframe tbody tr th {\n",
              "        vertical-align: top;\n",
              "    }\n",
              "\n",
              "    .dataframe thead th {\n",
              "        text-align: right;\n",
              "    }\n",
              "</style>\n",
              "<table border=\"1\" class=\"dataframe\">\n",
              "  <thead>\n",
              "    <tr style=\"text-align: right;\">\n",
              "      <th></th>\n",
              "      <th>date_time</th>\n",
              "      <th>target_carbon_monoxide</th>\n",
              "      <th>target_benzene</th>\n",
              "      <th>target_nitrogen_oxides</th>\n",
              "    </tr>\n",
              "  </thead>\n",
              "  <tbody>\n",
              "    <tr>\n",
              "      <th>0</th>\n",
              "      <td>2011-01-01 00:00:00</td>\n",
              "      <td>2.0</td>\n",
              "      <td>10.0</td>\n",
              "      <td>300.0</td>\n",
              "    </tr>\n",
              "    <tr>\n",
              "      <th>1</th>\n",
              "      <td>2011-01-01 01:00:00</td>\n",
              "      <td>2.0</td>\n",
              "      <td>10.0</td>\n",
              "      <td>300.0</td>\n",
              "    </tr>\n",
              "    <tr>\n",
              "      <th>2</th>\n",
              "      <td>2011-01-01 02:00:00</td>\n",
              "      <td>2.0</td>\n",
              "      <td>10.0</td>\n",
              "      <td>300.0</td>\n",
              "    </tr>\n",
              "    <tr>\n",
              "      <th>3</th>\n",
              "      <td>2011-01-01 03:00:00</td>\n",
              "      <td>2.0</td>\n",
              "      <td>10.0</td>\n",
              "      <td>300.0</td>\n",
              "    </tr>\n",
              "    <tr>\n",
              "      <th>4</th>\n",
              "      <td>2011-01-01 04:00:00</td>\n",
              "      <td>2.0</td>\n",
              "      <td>10.0</td>\n",
              "      <td>300.0</td>\n",
              "    </tr>\n",
              "  </tbody>\n",
              "</table>\n",
              "</div>"
            ],
            "text/plain": [
              "             date_time  target_carbon_monoxide  target_benzene  \\\n",
              "0  2011-01-01 00:00:00                     2.0            10.0   \n",
              "1  2011-01-01 01:00:00                     2.0            10.0   \n",
              "2  2011-01-01 02:00:00                     2.0            10.0   \n",
              "3  2011-01-01 03:00:00                     2.0            10.0   \n",
              "4  2011-01-01 04:00:00                     2.0            10.0   \n",
              "\n",
              "   target_nitrogen_oxides  \n",
              "0                   300.0  \n",
              "1                   300.0  \n",
              "2                   300.0  \n",
              "3                   300.0  \n",
              "4                   300.0  "
            ]
          },
          "metadata": {
            "tags": []
          },
          "execution_count": 8
        }
      ]
    },
    {
      "cell_type": "code",
      "metadata": {
        "_kg_hide-input": true,
        "execution": {
          "iopub.execute_input": "2021-07-27T15:59:35.543864Z",
          "iopub.status.busy": "2021-07-27T15:59:35.543086Z",
          "iopub.status.idle": "2021-07-27T15:59:35.595017Z",
          "shell.execute_reply": "2021-07-27T15:59:35.594310Z",
          "shell.execute_reply.started": "2021-07-27T15:47:40.133628Z"
        },
        "papermill": {
          "duration": 0.088153,
          "end_time": "2021-07-27T15:59:35.595167",
          "exception": false,
          "start_time": "2021-07-27T15:59:35.507014",
          "status": "completed"
        },
        "tags": [],
        "id": "f4f2214f",
        "outputId": "b28d0e7f-c7a1-4153-de16-d4b771b4a4d0"
      },
      "source": [
        "train_df.describe()"
      ],
      "id": "f4f2214f",
      "execution_count": null,
      "outputs": [
        {
          "output_type": "execute_result",
          "data": {
            "text/html": [
              "<div>\n",
              "<style scoped>\n",
              "    .dataframe tbody tr th:only-of-type {\n",
              "        vertical-align: middle;\n",
              "    }\n",
              "\n",
              "    .dataframe tbody tr th {\n",
              "        vertical-align: top;\n",
              "    }\n",
              "\n",
              "    .dataframe thead th {\n",
              "        text-align: right;\n",
              "    }\n",
              "</style>\n",
              "<table border=\"1\" class=\"dataframe\">\n",
              "  <thead>\n",
              "    <tr style=\"text-align: right;\">\n",
              "      <th></th>\n",
              "      <th>deg_C</th>\n",
              "      <th>relative_humidity</th>\n",
              "      <th>absolute_humidity</th>\n",
              "      <th>sensor_1</th>\n",
              "      <th>sensor_2</th>\n",
              "      <th>sensor_3</th>\n",
              "      <th>sensor_4</th>\n",
              "      <th>sensor_5</th>\n",
              "      <th>target_carbon_monoxide</th>\n",
              "      <th>target_benzene</th>\n",
              "      <th>target_nitrogen_oxides</th>\n",
              "    </tr>\n",
              "  </thead>\n",
              "  <tbody>\n",
              "    <tr>\n",
              "      <th>count</th>\n",
              "      <td>7111.000000</td>\n",
              "      <td>7111.000000</td>\n",
              "      <td>7111.000000</td>\n",
              "      <td>7111.000000</td>\n",
              "      <td>7111.000000</td>\n",
              "      <td>7111.000000</td>\n",
              "      <td>7111.000000</td>\n",
              "      <td>7111.000000</td>\n",
              "      <td>7111.000000</td>\n",
              "      <td>7111.000000</td>\n",
              "      <td>7111.000000</td>\n",
              "    </tr>\n",
              "    <tr>\n",
              "      <th>mean</th>\n",
              "      <td>20.878034</td>\n",
              "      <td>47.561004</td>\n",
              "      <td>1.110309</td>\n",
              "      <td>1091.572100</td>\n",
              "      <td>938.064970</td>\n",
              "      <td>883.903305</td>\n",
              "      <td>1513.238349</td>\n",
              "      <td>998.335565</td>\n",
              "      <td>2.086219</td>\n",
              "      <td>10.237083</td>\n",
              "      <td>204.066784</td>\n",
              "    </tr>\n",
              "    <tr>\n",
              "      <th>std</th>\n",
              "      <td>7.937917</td>\n",
              "      <td>17.398731</td>\n",
              "      <td>0.398950</td>\n",
              "      <td>218.537554</td>\n",
              "      <td>281.978988</td>\n",
              "      <td>310.456355</td>\n",
              "      <td>350.180310</td>\n",
              "      <td>381.537695</td>\n",
              "      <td>1.447109</td>\n",
              "      <td>7.694426</td>\n",
              "      <td>193.927723</td>\n",
              "    </tr>\n",
              "    <tr>\n",
              "      <th>min</th>\n",
              "      <td>1.300000</td>\n",
              "      <td>8.900000</td>\n",
              "      <td>0.198800</td>\n",
              "      <td>620.300000</td>\n",
              "      <td>364.000000</td>\n",
              "      <td>310.600000</td>\n",
              "      <td>552.900000</td>\n",
              "      <td>242.700000</td>\n",
              "      <td>0.100000</td>\n",
              "      <td>0.100000</td>\n",
              "      <td>1.900000</td>\n",
              "    </tr>\n",
              "    <tr>\n",
              "      <th>25%</th>\n",
              "      <td>14.900000</td>\n",
              "      <td>33.700000</td>\n",
              "      <td>0.855900</td>\n",
              "      <td>930.250000</td>\n",
              "      <td>734.900000</td>\n",
              "      <td>681.050000</td>\n",
              "      <td>1320.350000</td>\n",
              "      <td>722.850000</td>\n",
              "      <td>1.000000</td>\n",
              "      <td>4.500000</td>\n",
              "      <td>76.450000</td>\n",
              "    </tr>\n",
              "    <tr>\n",
              "      <th>50%</th>\n",
              "      <td>20.700000</td>\n",
              "      <td>47.300000</td>\n",
              "      <td>1.083500</td>\n",
              "      <td>1060.500000</td>\n",
              "      <td>914.200000</td>\n",
              "      <td>827.800000</td>\n",
              "      <td>1513.100000</td>\n",
              "      <td>928.700000</td>\n",
              "      <td>1.700000</td>\n",
              "      <td>8.500000</td>\n",
              "      <td>141.000000</td>\n",
              "    </tr>\n",
              "    <tr>\n",
              "      <th>75%</th>\n",
              "      <td>25.800000</td>\n",
              "      <td>60.800000</td>\n",
              "      <td>1.404150</td>\n",
              "      <td>1215.800000</td>\n",
              "      <td>1124.100000</td>\n",
              "      <td>1008.850000</td>\n",
              "      <td>1720.400000</td>\n",
              "      <td>1224.700000</td>\n",
              "      <td>2.800000</td>\n",
              "      <td>14.200000</td>\n",
              "      <td>260.000000</td>\n",
              "    </tr>\n",
              "    <tr>\n",
              "      <th>max</th>\n",
              "      <td>46.100000</td>\n",
              "      <td>90.800000</td>\n",
              "      <td>2.231000</td>\n",
              "      <td>2088.300000</td>\n",
              "      <td>2302.600000</td>\n",
              "      <td>2567.400000</td>\n",
              "      <td>2913.800000</td>\n",
              "      <td>2594.600000</td>\n",
              "      <td>12.500000</td>\n",
              "      <td>63.700000</td>\n",
              "      <td>1472.300000</td>\n",
              "    </tr>\n",
              "  </tbody>\n",
              "</table>\n",
              "</div>"
            ],
            "text/plain": [
              "             deg_C  relative_humidity  absolute_humidity     sensor_1  \\\n",
              "count  7111.000000        7111.000000        7111.000000  7111.000000   \n",
              "mean     20.878034          47.561004           1.110309  1091.572100   \n",
              "std       7.937917          17.398731           0.398950   218.537554   \n",
              "min       1.300000           8.900000           0.198800   620.300000   \n",
              "25%      14.900000          33.700000           0.855900   930.250000   \n",
              "50%      20.700000          47.300000           1.083500  1060.500000   \n",
              "75%      25.800000          60.800000           1.404150  1215.800000   \n",
              "max      46.100000          90.800000           2.231000  2088.300000   \n",
              "\n",
              "          sensor_2     sensor_3     sensor_4     sensor_5  \\\n",
              "count  7111.000000  7111.000000  7111.000000  7111.000000   \n",
              "mean    938.064970   883.903305  1513.238349   998.335565   \n",
              "std     281.978988   310.456355   350.180310   381.537695   \n",
              "min     364.000000   310.600000   552.900000   242.700000   \n",
              "25%     734.900000   681.050000  1320.350000   722.850000   \n",
              "50%     914.200000   827.800000  1513.100000   928.700000   \n",
              "75%    1124.100000  1008.850000  1720.400000  1224.700000   \n",
              "max    2302.600000  2567.400000  2913.800000  2594.600000   \n",
              "\n",
              "       target_carbon_monoxide  target_benzene  target_nitrogen_oxides  \n",
              "count             7111.000000     7111.000000             7111.000000  \n",
              "mean                 2.086219       10.237083              204.066784  \n",
              "std                  1.447109        7.694426              193.927723  \n",
              "min                  0.100000        0.100000                1.900000  \n",
              "25%                  1.000000        4.500000               76.450000  \n",
              "50%                  1.700000        8.500000              141.000000  \n",
              "75%                  2.800000       14.200000              260.000000  \n",
              "max                 12.500000       63.700000             1472.300000  "
            ]
          },
          "metadata": {
            "tags": []
          },
          "execution_count": 9
        }
      ]
    },
    {
      "cell_type": "code",
      "metadata": {
        "_kg_hide-input": true,
        "execution": {
          "iopub.execute_input": "2021-07-27T15:59:35.671363Z",
          "iopub.status.busy": "2021-07-27T15:59:35.666062Z",
          "iopub.status.idle": "2021-07-27T15:59:35.699758Z",
          "shell.execute_reply": "2021-07-27T15:59:35.699075Z",
          "shell.execute_reply.started": "2021-07-27T15:47:40.186461Z"
        },
        "papermill": {
          "duration": 0.073171,
          "end_time": "2021-07-27T15:59:35.699906",
          "exception": false,
          "start_time": "2021-07-27T15:59:35.626735",
          "status": "completed"
        },
        "tags": [],
        "id": "474a0dd6",
        "outputId": "fd105fd1-ab58-478e-d0c8-3114c47401ec"
      },
      "source": [
        "test_df.describe()"
      ],
      "id": "474a0dd6",
      "execution_count": null,
      "outputs": [
        {
          "output_type": "execute_result",
          "data": {
            "text/html": [
              "<div>\n",
              "<style scoped>\n",
              "    .dataframe tbody tr th:only-of-type {\n",
              "        vertical-align: middle;\n",
              "    }\n",
              "\n",
              "    .dataframe tbody tr th {\n",
              "        vertical-align: top;\n",
              "    }\n",
              "\n",
              "    .dataframe thead th {\n",
              "        text-align: right;\n",
              "    }\n",
              "</style>\n",
              "<table border=\"1\" class=\"dataframe\">\n",
              "  <thead>\n",
              "    <tr style=\"text-align: right;\">\n",
              "      <th></th>\n",
              "      <th>deg_C</th>\n",
              "      <th>relative_humidity</th>\n",
              "      <th>absolute_humidity</th>\n",
              "      <th>sensor_1</th>\n",
              "      <th>sensor_2</th>\n",
              "      <th>sensor_3</th>\n",
              "      <th>sensor_4</th>\n",
              "      <th>sensor_5</th>\n",
              "    </tr>\n",
              "  </thead>\n",
              "  <tbody>\n",
              "    <tr>\n",
              "      <th>count</th>\n",
              "      <td>2247.000000</td>\n",
              "      <td>2247.000000</td>\n",
              "      <td>2247.000000</td>\n",
              "      <td>2247.000000</td>\n",
              "      <td>2247.000000</td>\n",
              "      <td>2247.000000</td>\n",
              "      <td>2247.000000</td>\n",
              "      <td>2247.000000</td>\n",
              "    </tr>\n",
              "    <tr>\n",
              "      <th>mean</th>\n",
              "      <td>10.808144</td>\n",
              "      <td>51.031242</td>\n",
              "      <td>0.627053</td>\n",
              "      <td>1106.534490</td>\n",
              "      <td>836.459769</td>\n",
              "      <td>828.321495</td>\n",
              "      <td>1104.850601</td>\n",
              "      <td>1029.851535</td>\n",
              "    </tr>\n",
              "    <tr>\n",
              "      <th>std</th>\n",
              "      <td>6.444497</td>\n",
              "      <td>16.665047</td>\n",
              "      <td>0.266588</td>\n",
              "      <td>205.341455</td>\n",
              "      <td>272.816585</td>\n",
              "      <td>339.511779</td>\n",
              "      <td>293.112225</td>\n",
              "      <td>434.863287</td>\n",
              "    </tr>\n",
              "    <tr>\n",
              "      <th>min</th>\n",
              "      <td>-1.800000</td>\n",
              "      <td>9.800000</td>\n",
              "      <td>0.184700</td>\n",
              "      <td>665.900000</td>\n",
              "      <td>356.200000</td>\n",
              "      <td>320.100000</td>\n",
              "      <td>523.400000</td>\n",
              "      <td>218.800000</td>\n",
              "    </tr>\n",
              "    <tr>\n",
              "      <th>25%</th>\n",
              "      <td>5.600000</td>\n",
              "      <td>36.900000</td>\n",
              "      <td>0.413350</td>\n",
              "      <td>951.500000</td>\n",
              "      <td>640.700000</td>\n",
              "      <td>597.050000</td>\n",
              "      <td>899.450000</td>\n",
              "      <td>688.550000</td>\n",
              "    </tr>\n",
              "    <tr>\n",
              "      <th>50%</th>\n",
              "      <td>9.800000</td>\n",
              "      <td>50.600000</td>\n",
              "      <td>0.596400</td>\n",
              "      <td>1080.400000</td>\n",
              "      <td>800.800000</td>\n",
              "      <td>757.100000</td>\n",
              "      <td>1076.200000</td>\n",
              "      <td>973.100000</td>\n",
              "    </tr>\n",
              "    <tr>\n",
              "      <th>75%</th>\n",
              "      <td>14.200000</td>\n",
              "      <td>63.550000</td>\n",
              "      <td>0.804950</td>\n",
              "      <td>1222.100000</td>\n",
              "      <td>1016.100000</td>\n",
              "      <td>944.950000</td>\n",
              "      <td>1288.350000</td>\n",
              "      <td>1324.000000</td>\n",
              "    </tr>\n",
              "    <tr>\n",
              "      <th>max</th>\n",
              "      <td>30.900000</td>\n",
              "      <td>88.800000</td>\n",
              "      <td>1.393000</td>\n",
              "      <td>1882.900000</td>\n",
              "      <td>1776.100000</td>\n",
              "      <td>1975.000000</td>\n",
              "      <td>2211.400000</td>\n",
              "      <td>2593.800000</td>\n",
              "    </tr>\n",
              "  </tbody>\n",
              "</table>\n",
              "</div>"
            ],
            "text/plain": [
              "             deg_C  relative_humidity  absolute_humidity     sensor_1  \\\n",
              "count  2247.000000        2247.000000        2247.000000  2247.000000   \n",
              "mean     10.808144          51.031242           0.627053  1106.534490   \n",
              "std       6.444497          16.665047           0.266588   205.341455   \n",
              "min      -1.800000           9.800000           0.184700   665.900000   \n",
              "25%       5.600000          36.900000           0.413350   951.500000   \n",
              "50%       9.800000          50.600000           0.596400  1080.400000   \n",
              "75%      14.200000          63.550000           0.804950  1222.100000   \n",
              "max      30.900000          88.800000           1.393000  1882.900000   \n",
              "\n",
              "          sensor_2     sensor_3     sensor_4     sensor_5  \n",
              "count  2247.000000  2247.000000  2247.000000  2247.000000  \n",
              "mean    836.459769   828.321495  1104.850601  1029.851535  \n",
              "std     272.816585   339.511779   293.112225   434.863287  \n",
              "min     356.200000   320.100000   523.400000   218.800000  \n",
              "25%     640.700000   597.050000   899.450000   688.550000  \n",
              "50%     800.800000   757.100000  1076.200000   973.100000  \n",
              "75%    1016.100000   944.950000  1288.350000  1324.000000  \n",
              "max    1776.100000  1975.000000  2211.400000  2593.800000  "
            ]
          },
          "metadata": {
            "tags": []
          },
          "execution_count": 10
        }
      ]
    },
    {
      "cell_type": "code",
      "metadata": {
        "_kg_hide-input": true,
        "execution": {
          "iopub.execute_input": "2021-07-27T15:59:35.768153Z",
          "iopub.status.busy": "2021-07-27T15:59:35.767474Z",
          "iopub.status.idle": "2021-07-27T15:59:35.774812Z",
          "shell.execute_reply": "2021-07-27T15:59:35.774283Z",
          "shell.execute_reply.started": "2021-07-27T15:47:40.224067Z"
        },
        "papermill": {
          "duration": 0.044063,
          "end_time": "2021-07-27T15:59:35.775010",
          "exception": false,
          "start_time": "2021-07-27T15:59:35.730947",
          "status": "completed"
        },
        "tags": [],
        "id": "d43c0574",
        "outputId": "1ae6c52a-9970-456a-b1c1-fc0f0a1fb5c5"
      },
      "source": [
        "train_df.isna().sum()"
      ],
      "id": "d43c0574",
      "execution_count": null,
      "outputs": [
        {
          "output_type": "execute_result",
          "data": {
            "text/plain": [
              "date_time                 0\n",
              "deg_C                     0\n",
              "relative_humidity         0\n",
              "absolute_humidity         0\n",
              "sensor_1                  0\n",
              "sensor_2                  0\n",
              "sensor_3                  0\n",
              "sensor_4                  0\n",
              "sensor_5                  0\n",
              "target_carbon_monoxide    0\n",
              "target_benzene            0\n",
              "target_nitrogen_oxides    0\n",
              "dtype: int64"
            ]
          },
          "metadata": {
            "tags": []
          },
          "execution_count": 11
        }
      ]
    },
    {
      "cell_type": "code",
      "metadata": {
        "_kg_hide-input": true,
        "execution": {
          "iopub.execute_input": "2021-07-27T15:59:35.844980Z",
          "iopub.status.busy": "2021-07-27T15:59:35.844323Z",
          "iopub.status.idle": "2021-07-27T15:59:35.847365Z",
          "shell.execute_reply": "2021-07-27T15:59:35.847874Z",
          "shell.execute_reply.started": "2021-07-27T15:47:40.259608Z"
        },
        "papermill": {
          "duration": 0.041922,
          "end_time": "2021-07-27T15:59:35.848058",
          "exception": false,
          "start_time": "2021-07-27T15:59:35.806136",
          "status": "completed"
        },
        "tags": [],
        "id": "d0d9b7a6",
        "outputId": "e58d6fc6-9aa4-4ed9-fc1e-62cf9d088e8a"
      },
      "source": [
        "test_df.isna().sum()"
      ],
      "id": "d0d9b7a6",
      "execution_count": null,
      "outputs": [
        {
          "output_type": "execute_result",
          "data": {
            "text/plain": [
              "date_time            0\n",
              "deg_C                0\n",
              "relative_humidity    0\n",
              "absolute_humidity    0\n",
              "sensor_1             0\n",
              "sensor_2             0\n",
              "sensor_3             0\n",
              "sensor_4             0\n",
              "sensor_5             0\n",
              "dtype: int64"
            ]
          },
          "metadata": {
            "tags": []
          },
          "execution_count": 12
        }
      ]
    },
    {
      "cell_type": "markdown",
      "metadata": {
        "papermill": {
          "duration": 0.031434,
          "end_time": "2021-07-27T15:59:35.910793",
          "exception": false,
          "start_time": "2021-07-27T15:59:35.879359",
          "status": "completed"
        },
        "tags": [],
        "id": "78c9c990"
      },
      "source": [
        "### train dataset"
      ],
      "id": "78c9c990"
    },
    {
      "cell_type": "code",
      "metadata": {
        "execution": {
          "iopub.execute_input": "2021-07-27T15:59:35.978430Z",
          "iopub.status.busy": "2021-07-27T15:59:35.977786Z",
          "iopub.status.idle": "2021-07-27T15:59:35.979692Z",
          "shell.execute_reply": "2021-07-27T15:59:35.980181Z",
          "shell.execute_reply.started": "2021-07-27T15:47:40.323686Z"
        },
        "papermill": {
          "duration": 0.038184,
          "end_time": "2021-07-27T15:59:35.980358",
          "exception": false,
          "start_time": "2021-07-27T15:59:35.942174",
          "status": "completed"
        },
        "tags": [],
        "id": "c05b4396"
      },
      "source": [
        "# ################################################################\n",
        "# for c in train_df.columns:\n",
        "#     if c != 'date_time':\n",
        "#         fig = plt.figure(figsize = (15, 5))\n",
        "#         g = train_df[c].plot()\n",
        "#         train_df['hmm'] = lowess(train_df[c].values, np.arange(len(train_df[c].values)), frac=0.10)[:, 1]\n",
        "#         g = train_df['hmm'].plot()\n",
        "#         g.legend([c])\n",
        "# del train_df['hmm'] "
      ],
      "id": "c05b4396",
      "execution_count": null,
      "outputs": []
    },
    {
      "cell_type": "code",
      "metadata": {
        "execution": {
          "iopub.execute_input": "2021-07-27T15:59:36.047029Z",
          "iopub.status.busy": "2021-07-27T15:59:36.046315Z",
          "iopub.status.idle": "2021-07-27T15:59:36.049357Z",
          "shell.execute_reply": "2021-07-27T15:59:36.049879Z",
          "shell.execute_reply.started": "2021-07-27T15:47:40.348792Z"
        },
        "papermill": {
          "duration": 0.038223,
          "end_time": "2021-07-27T15:59:36.050051",
          "exception": false,
          "start_time": "2021-07-27T15:59:36.011828",
          "status": "completed"
        },
        "tags": [],
        "id": "730f742d"
      },
      "source": [
        "# ################################################################\n",
        "# fig = plt.figure(figsize = (30,30))\n",
        "# ax = fig.gca()\n",
        "# hist = train_df[train_df.columns.values].hist(bins=150, ax = ax)"
      ],
      "id": "730f742d",
      "execution_count": null,
      "outputs": []
    },
    {
      "cell_type": "markdown",
      "metadata": {
        "papermill": {
          "duration": 0.033416,
          "end_time": "2021-07-27T15:59:36.116776",
          "exception": false,
          "start_time": "2021-07-27T15:59:36.083360",
          "status": "completed"
        },
        "tags": [],
        "id": "71bc0ed3"
      },
      "source": [
        "### test dataset"
      ],
      "id": "71bc0ed3"
    },
    {
      "cell_type": "code",
      "metadata": {
        "execution": {
          "iopub.execute_input": "2021-07-27T15:59:36.185220Z",
          "iopub.status.busy": "2021-07-27T15:59:36.184536Z",
          "iopub.status.idle": "2021-07-27T15:59:36.187619Z",
          "shell.execute_reply": "2021-07-27T15:59:36.188107Z",
          "shell.execute_reply.started": "2021-07-27T15:47:40.366699Z"
        },
        "papermill": {
          "duration": 0.039654,
          "end_time": "2021-07-27T15:59:36.188289",
          "exception": false,
          "start_time": "2021-07-27T15:59:36.148635",
          "status": "completed"
        },
        "tags": [],
        "id": "76ad3e2a"
      },
      "source": [
        "# ################################################################\n",
        "# for c in test_df.columns:\n",
        "#     if c != 'date_time':\n",
        "#         fig = plt.figure(figsize = (15, 5))\n",
        "#         g = test_df[c].plot()\n",
        "#         test_df['hmm'] = lowess(test_df[c].values, np.arange(len(test_df[c].values)), frac=0.15)[:, 1]\n",
        "#         g = test_df['hmm'].plot()\n",
        "#         g.legend([c])\n",
        "# del test_df['hmm']"
      ],
      "id": "76ad3e2a",
      "execution_count": null,
      "outputs": []
    },
    {
      "cell_type": "code",
      "metadata": {
        "execution": {
          "iopub.execute_input": "2021-07-27T15:59:36.255808Z",
          "iopub.status.busy": "2021-07-27T15:59:36.255136Z",
          "iopub.status.idle": "2021-07-27T15:59:36.258212Z",
          "shell.execute_reply": "2021-07-27T15:59:36.258673Z",
          "shell.execute_reply.started": "2021-07-27T15:47:40.399698Z"
        },
        "papermill": {
          "duration": 0.03799,
          "end_time": "2021-07-27T15:59:36.258847",
          "exception": false,
          "start_time": "2021-07-27T15:59:36.220857",
          "status": "completed"
        },
        "tags": [],
        "id": "ddb601e8"
      },
      "source": [
        "# ################################################################\n",
        "# fig = plt.figure(figsize = (30,30))\n",
        "# ax = fig.gca()\n",
        "# hist = test_df[test_df.columns.values].hist(bins=150, ax = ax)"
      ],
      "id": "ddb601e8",
      "execution_count": null,
      "outputs": []
    },
    {
      "cell_type": "markdown",
      "metadata": {
        "papermill": {
          "duration": 0.031467,
          "end_time": "2021-07-27T15:59:36.321819",
          "exception": false,
          "start_time": "2021-07-27T15:59:36.290352",
          "status": "completed"
        },
        "tags": [],
        "id": "f8ed41f8"
      },
      "source": [
        "### feature correlation"
      ],
      "id": "f8ed41f8"
    },
    {
      "cell_type": "code",
      "metadata": {
        "execution": {
          "iopub.execute_input": "2021-07-27T15:59:36.387835Z",
          "iopub.status.busy": "2021-07-27T15:59:36.387151Z",
          "iopub.status.idle": "2021-07-27T15:59:36.390304Z",
          "shell.execute_reply": "2021-07-27T15:59:36.390835Z",
          "shell.execute_reply.started": "2021-07-27T15:47:40.423730Z"
        },
        "papermill": {
          "duration": 0.037901,
          "end_time": "2021-07-27T15:59:36.391015",
          "exception": false,
          "start_time": "2021-07-27T15:59:36.353114",
          "status": "completed"
        },
        "tags": [],
        "id": "eb7ec97d"
      },
      "source": [
        "# ################################################################\n",
        "# corr = train_df.corr()\n",
        "# fig = plt.figure(figsize = (15,15))\n",
        "# sns.heatmap(corr, vmax = .8, square = True)\n",
        "# plt.show()"
      ],
      "id": "eb7ec97d",
      "execution_count": null,
      "outputs": []
    },
    {
      "cell_type": "markdown",
      "metadata": {
        "papermill": {
          "duration": 0.031118,
          "end_time": "2021-07-27T15:59:36.454148",
          "exception": false,
          "start_time": "2021-07-27T15:59:36.423030",
          "status": "completed"
        },
        "tags": [],
        "id": "e15337c1"
      },
      "source": [
        "### new features"
      ],
      "id": "e15337c1"
    },
    {
      "cell_type": "code",
      "metadata": {
        "execution": {
          "iopub.execute_input": "2021-07-27T15:59:36.522258Z",
          "iopub.status.busy": "2021-07-27T15:59:36.521565Z",
          "iopub.status.idle": "2021-07-27T16:01:09.084695Z",
          "shell.execute_reply": "2021-07-27T16:01:09.083936Z",
          "shell.execute_reply.started": "2021-07-27T15:47:40.453081Z"
        },
        "papermill": {
          "duration": 92.599322,
          "end_time": "2021-07-27T16:01:09.084871",
          "exception": false,
          "start_time": "2021-07-27T15:59:36.485549",
          "status": "completed"
        },
        "tags": [],
        "id": "c2825fbd"
      },
      "source": [
        "fold_part = 1000\n",
        "a = train_df.iloc[1:fold_part,:].iloc[::-1]\n",
        "b = train_df.iloc[-fold_part:-1,:].iloc[::-1]\n",
        "train_df = a.append(train_df.append(b))\n",
        "a = test_df.iloc[1:fold_part,:].iloc[::-1]\n",
        "b = test_df.iloc[-fold_part:-1,:].iloc[::-1]\n",
        "test_df = a.append(test_df.append(b))\n",
        "train_df.reset_index(drop=True, inplace=True)\n",
        "test_df.reset_index(drop=True, inplace=True)\n",
        "\n",
        "# -------------------------------------------------\n",
        "\n",
        "for df in [train_df, test_df]:\n",
        "    for col in df.columns:\n",
        "        if col not in ['target_carbon_monoxide','target_benzene','target_nitrogen_oxides','date_time']:\n",
        "            for mean in [0.03, 0.1, 0.2]:\n",
        "                df['mean_' + str(mean) + '_' + col] = lowess(df[col].values, np.arange(len(df[col].values)), frac=mean)[:, 1]\n",
        "            \n",
        "    df['date_time'] = pd.to_datetime(df['date_time'], errors='coerce')\n",
        "    \n",
        "    df['deg_F'] = (df['deg_C']*(9/5)) + 32\n",
        "    df[\"SMC\"] = (df[\"absolute_humidity\"] * 100) / df['relative_humidity']\n",
        "    df['dew_point'] = df['deg_C'] - ((100 - df['relative_humidity']) / 5)\n",
        "    \n",
        "    df['time'] = df['date_time'].astype(np.int64)//10**9\n",
        "    df['hh'] = df['date_time'].dt.hour.values\n",
        "    df['rush_h'] = df['hh'].apply(lambda x: 1 if x in [8,9,18,19,20]  else 0)\n",
        "    df['day_of_w'] = df['date_time'].dt.dayofweek.values\n",
        "    df['weekend'] = df['day_of_w'].apply(lambda x: 1 if (x>4)  else 0)\n",
        "    df['day_of_m'] = df['date_time'].dt.day.values\n",
        "    df['month'] = df['date_time'].dt.month.values\n",
        "    \n",
        "    df.drop(['dew_point'], axis=1, inplace=True)  \n",
        "    \n",
        "    df['hm_1'] = ((df['absolute_humidity'].values < 0.25)).astype(int)\n",
        "    \n",
        "#     for sen in ['sensor_1', 'sensor_2', 'sensor_3', 'sensor_4', 'sensor_5']:\n",
        "#         df.loc[df['hm_1'] == 1, sen] = df['mean_0.1_' + sen]\n",
        "    \n",
        "    lag_features = ['deg_C', 'relative_humidity', 'absolute_humidity', 'sensor_1', 'sensor_2', 'sensor_3', 'sensor_4', 'sensor_5']\n",
        "    lags = [3, 6, 9, 12]\n",
        "    for feature in lag_features:\n",
        "        for lag in lags:\n",
        "            df[feature + '_lag_' + str(lag)] = df[feature].shift(periods=lag, fill_value = 0)\n",
        "\n",
        "# -------------------------------------------------\n",
        "\n",
        "train_df = train_df.iloc[fold_part - 1:-fold_part + 1,:]\n",
        "test_df = test_df.iloc[fold_part - 1:-fold_part + 1,:]\n",
        "train_df.reset_index(drop=True, inplace=True)\n",
        "test_df.reset_index(drop=True, inplace=True)"
      ],
      "id": "c2825fbd",
      "execution_count": null,
      "outputs": []
    },
    {
      "cell_type": "code",
      "metadata": {
        "_kg_hide-input": true,
        "execution": {
          "iopub.execute_input": "2021-07-27T16:01:09.156120Z",
          "iopub.status.busy": "2021-07-27T16:01:09.155080Z",
          "iopub.status.idle": "2021-07-27T16:01:09.158438Z",
          "shell.execute_reply": "2021-07-27T16:01:09.157704Z",
          "shell.execute_reply.started": "2021-07-27T15:48:51.892809Z"
        },
        "papermill": {
          "duration": 0.039563,
          "end_time": "2021-07-27T16:01:09.158736",
          "exception": false,
          "start_time": "2021-07-27T16:01:09.119173",
          "status": "completed"
        },
        "tags": [],
        "id": "ad5d07e6"
      },
      "source": [
        "# from sklearn import preprocessing\n",
        "# # scaler = preprocessing.MinMaxScaler()\n",
        "# # scaler = preprocessing.MaxAbsScaler()\n",
        "# scaler = preprocessing.StandardScaler()\n",
        "# for df in [train_df, test_df]:\n",
        "#     for c in df.columns:\n",
        "#         if c not in ['target_carbon_monoxide','target_benzene','target_nitrogen_oxides','date_time']:\n",
        "#             df[[c]] = scaler.fit_transform(df[[c]])"
      ],
      "id": "ad5d07e6",
      "execution_count": null,
      "outputs": []
    },
    {
      "cell_type": "code",
      "metadata": {
        "_kg_hide-input": true,
        "execution": {
          "iopub.execute_input": "2021-07-27T16:01:09.228393Z",
          "iopub.status.busy": "2021-07-27T16:01:09.227675Z",
          "iopub.status.idle": "2021-07-27T16:01:09.231500Z",
          "shell.execute_reply": "2021-07-27T16:01:09.230793Z",
          "shell.execute_reply.started": "2021-07-27T15:48:51.899279Z"
        },
        "papermill": {
          "duration": 0.039466,
          "end_time": "2021-07-27T16:01:09.231695",
          "exception": false,
          "start_time": "2021-07-27T16:01:09.192229",
          "status": "completed"
        },
        "tags": [],
        "id": "623482fe"
      },
      "source": [
        "# train_df.head()"
      ],
      "id": "623482fe",
      "execution_count": null,
      "outputs": []
    },
    {
      "cell_type": "code",
      "metadata": {
        "_kg_hide-input": true,
        "execution": {
          "iopub.execute_input": "2021-07-27T16:01:09.301996Z",
          "iopub.status.busy": "2021-07-27T16:01:09.301202Z",
          "iopub.status.idle": "2021-07-27T16:01:09.304326Z",
          "shell.execute_reply": "2021-07-27T16:01:09.303792Z",
          "shell.execute_reply.started": "2021-07-27T15:48:51.913319Z"
        },
        "papermill": {
          "duration": 0.038758,
          "end_time": "2021-07-27T16:01:09.304474",
          "exception": false,
          "start_time": "2021-07-27T16:01:09.265716",
          "status": "completed"
        },
        "tags": [],
        "id": "3faae55b"
      },
      "source": [
        "# test_df.head()"
      ],
      "id": "3faae55b",
      "execution_count": null,
      "outputs": []
    },
    {
      "cell_type": "code",
      "metadata": {
        "_kg_hide-input": true,
        "execution": {
          "iopub.execute_input": "2021-07-27T16:01:09.373093Z",
          "iopub.status.busy": "2021-07-27T16:01:09.372400Z",
          "iopub.status.idle": "2021-07-27T16:01:09.375314Z",
          "shell.execute_reply": "2021-07-27T16:01:09.375799Z",
          "shell.execute_reply.started": "2021-07-27T15:48:51.923284Z"
        },
        "papermill": {
          "duration": 0.040088,
          "end_time": "2021-07-27T16:01:09.375998",
          "exception": false,
          "start_time": "2021-07-27T16:01:09.335910",
          "status": "completed"
        },
        "tags": [],
        "id": "1a21711f"
      },
      "source": [
        "# lgbm = LGBMRegressor()\n",
        "# _target = 'target_carbon_monoxide'\n",
        "# X = np.array(train_df[list(test_df.columns.values)[1:]].values, dtype='float32')\n",
        "# y = np.squeeze(np.array(train_df[[_target]].values, dtype='float32'))\n",
        "# params = {\n",
        "#     'num_leaves': [16, 21, 26],\n",
        "#     'learning_rate': [0.001, 0.003, 0.005],\n",
        "#     'max_depth': [6, 7, 8],\n",
        "#     'n_estimators': [700, 1000, 1300],\n",
        "#     'min_data_in_leaf': [5, 20]\n",
        "# }\n",
        "# grid= GridSearchCV(estimator=lgbm, param_grid = params, cv = 5, n_jobs=-1, verbose=True)\n",
        "# grid.fit(X, y)\n",
        "# print('=====================================', 'target: ', _target)\n",
        "# print(grid.best_estimator_)\n",
        "# print('-------------------------------------')\n",
        "# print(grid.best_score_)\n",
        "# print('-------------------------------------')\n",
        "# print(grid.best_params_)"
      ],
      "id": "1a21711f",
      "execution_count": null,
      "outputs": []
    },
    {
      "cell_type": "code",
      "metadata": {
        "_kg_hide-input": true,
        "execution": {
          "iopub.execute_input": "2021-07-27T16:01:09.446193Z",
          "iopub.status.busy": "2021-07-27T16:01:09.445311Z",
          "iopub.status.idle": "2021-07-27T16:01:09.449778Z",
          "shell.execute_reply": "2021-07-27T16:01:09.450316Z",
          "shell.execute_reply.started": "2021-07-27T15:48:51.935261Z"
        },
        "papermill": {
          "duration": 0.041397,
          "end_time": "2021-07-27T16:01:09.450492",
          "exception": false,
          "start_time": "2021-07-27T16:01:09.409095",
          "status": "completed"
        },
        "tags": [],
        "id": "456a32f2"
      },
      "source": [
        "# lgbm = LGBMRegressor()\n",
        "# _target = 'target_benzene'\n",
        "# X = np.array(train_df[list(test_df.columns.values)[1:]].values, dtype='float32')\n",
        "# y = np.squeeze(np.array(train_df[[_target]].values, dtype='float32'))\n",
        "# params = {\n",
        "#     'num_leaves': [3, 5, 7],\n",
        "#     'learning_rate': [0.003, 0.01, 0.03],\n",
        "#     'max_depth': [3, 4, 5],\n",
        "#     'n_estimators': [700, 1000, 1300]\n",
        "# }\n",
        "# grid= GridSearchCV(estimator=lgbm, param_grid = params, cv = 5, n_jobs=-1, verbose=True)\n",
        "# grid.fit(X, y)\n",
        "# print('=====================================', 'target: ', _target)\n",
        "# print(grid.best_estimator_)\n",
        "# print('-------------------------------------')\n",
        "# print(grid.best_score_)\n",
        "# print('-------------------------------------')\n",
        "# print(grid.best_params_)"
      ],
      "id": "456a32f2",
      "execution_count": null,
      "outputs": []
    },
    {
      "cell_type": "code",
      "metadata": {
        "_kg_hide-input": true,
        "execution": {
          "iopub.execute_input": "2021-07-27T16:01:09.519272Z",
          "iopub.status.busy": "2021-07-27T16:01:09.518602Z",
          "iopub.status.idle": "2021-07-27T16:01:09.521819Z",
          "shell.execute_reply": "2021-07-27T16:01:09.521269Z",
          "shell.execute_reply.started": "2021-07-27T15:48:51.947294Z"
        },
        "papermill": {
          "duration": 0.039949,
          "end_time": "2021-07-27T16:01:09.521967",
          "exception": false,
          "start_time": "2021-07-27T16:01:09.482018",
          "status": "completed"
        },
        "tags": [],
        "id": "48dda272"
      },
      "source": [
        "# lgbm = LGBMRegressor()\n",
        "# _target = 'target_nitrogen_oxides'\n",
        "# X = np.array(train_df[list(test_df.columns.values)[1:]].values, dtype='float32')\n",
        "# y = np.squeeze(np.array(train_df[[_target]].values, dtype='float32'))\n",
        "# params = {\n",
        "#     'num_leaves': [3, 4, 5],\n",
        "#     'learning_rate': [0.2, 0.1, 0.05],\n",
        "#     'max_depth': [-1, 5, 10],\n",
        "#     'n_estimators': [300, 500, 800]\n",
        "# }\n",
        "# grid= GridSearchCV(estimator=lgbm, param_grid = params, cv = 5, n_jobs=-1, verbose=True)\n",
        "# grid.fit(X, y)\n",
        "# print('=====================================', 'target: ', _target)\n",
        "# print(grid.best_estimator_)\n",
        "# print('-------------------------------------')\n",
        "# print(grid.best_score_)\n",
        "# print('-------------------------------------')\n",
        "# print(grid.best_params_)"
      ],
      "id": "48dda272",
      "execution_count": null,
      "outputs": []
    },
    {
      "cell_type": "markdown",
      "metadata": {
        "papermill": {
          "duration": 0.031841,
          "end_time": "2021-07-27T16:01:09.587631",
          "exception": false,
          "start_time": "2021-07-27T16:01:09.555790",
          "status": "completed"
        },
        "tags": [],
        "id": "6b1cdd58"
      },
      "source": [
        "### LGBMRegressor"
      ],
      "id": "6b1cdd58"
    },
    {
      "cell_type": "code",
      "metadata": {
        "_kg_hide-input": true,
        "execution": {
          "iopub.execute_input": "2021-07-27T16:01:09.658964Z",
          "iopub.status.busy": "2021-07-27T16:01:09.657932Z",
          "iopub.status.idle": "2021-07-27T16:01:09.661073Z",
          "shell.execute_reply": "2021-07-27T16:01:09.660429Z",
          "shell.execute_reply.started": "2021-07-27T15:48:51.964125Z"
        },
        "papermill": {
          "duration": 0.040523,
          "end_time": "2021-07-27T16:01:09.661213",
          "exception": false,
          "start_time": "2021-07-27T16:01:09.620690",
          "status": "completed"
        },
        "tags": [],
        "id": "8c38f167"
      },
      "source": [
        "# ===================================== target:  target_carbon_monoxide\n",
        "# LGBMRegressor(learning_rate=0.005, max_depth=7, min_data_in_leaf=20,\n",
        "#               n_estimators=1300, num_leaves=26)\n",
        "# -------------------------------------\n",
        "# 0.8820984830544785\n",
        "# -------------------------------------\n",
        "# {'learning_rate': 0.005, 'max_depth': 7, 'min_data_in_leaf': 20, 'n_estimators': 1300, 'num_leaves': 26}\n",
        "\n",
        "# ===================================== target:  target_benzene\n",
        "# LGBMRegressor(learning_rate=0.03, max_depth=3, n_estimators=700, num_leaves=7)\n",
        "# -------------------------------------\n",
        "# 0.9719938458962158\n",
        "# -------------------------------------\n",
        "# {'learning_rate': 0.03, 'max_depth': 3, 'n_estimators': 700, 'num_leaves': 7}\n",
        "# ===================================== target:  target_nitrogen_oxides\n",
        "# LGBMRegressor(n_estimators=300, num_leaves=4)\n",
        "# -------------------------------------\n",
        "# 0.5840828704905612\n",
        "# -------------------------------------\n",
        "# {'learning_rate': 0.1, 'max_depth': -1, 'n_estimators': 300, 'num_leaves': 4}"
      ],
      "id": "8c38f167",
      "execution_count": null,
      "outputs": []
    },
    {
      "cell_type": "code",
      "metadata": {
        "execution": {
          "iopub.execute_input": "2021-07-27T16:01:09.731671Z",
          "iopub.status.busy": "2021-07-27T16:01:09.730994Z",
          "iopub.status.idle": "2021-07-27T16:01:09.733978Z",
          "shell.execute_reply": "2021-07-27T16:01:09.733313Z",
          "shell.execute_reply.started": "2021-07-27T15:48:51.975179Z"
        },
        "papermill": {
          "duration": 0.041401,
          "end_time": "2021-07-27T16:01:09.734120",
          "exception": false,
          "start_time": "2021-07-27T16:01:09.692719",
          "status": "completed"
        },
        "tags": [],
        "id": "954926a0"
      },
      "source": [
        "lgbm_regs = {}\n",
        "\n",
        "lgbm_regs['target_carbon_monoxide'] = LGBMRegressor(\n",
        "                        num_leaves=26,\n",
        "                        learning_rate=0.005,\n",
        "                        max_depth= 7,\n",
        "                        n_estimators=1300)\n",
        "\n",
        "lgbm_regs['target_benzene'] = LGBMRegressor(\n",
        "                        num_leaves=7,\n",
        "                        learning_rate=0.03,\n",
        "                        max_depth= 3,\n",
        "                        n_estimators=700)\n",
        "\n",
        "lgbm_regs['target_nitrogen_oxides'] = LGBMRegressor(\n",
        "                        num_leaves=4,\n",
        "                        learning_rate=0.1,\n",
        "                        max_depth= -1,\n",
        "                        n_estimators=300)\n"
      ],
      "id": "954926a0",
      "execution_count": null,
      "outputs": []
    },
    {
      "cell_type": "markdown",
      "metadata": {
        "papermill": {
          "duration": 0.03214,
          "end_time": "2021-07-27T16:01:09.798360",
          "exception": false,
          "start_time": "2021-07-27T16:01:09.766220",
          "status": "completed"
        },
        "tags": [],
        "id": "2563bee0"
      },
      "source": [
        "### submission"
      ],
      "id": "2563bee0"
    },
    {
      "cell_type": "code",
      "metadata": {
        "execution": {
          "iopub.execute_input": "2021-07-27T16:01:09.867170Z",
          "iopub.status.busy": "2021-07-27T16:01:09.866482Z",
          "iopub.status.idle": "2021-07-27T16:01:09.869454Z",
          "shell.execute_reply": "2021-07-27T16:01:09.868945Z",
          "shell.execute_reply.started": "2021-07-27T15:48:51.996682Z"
        },
        "papermill": {
          "duration": 0.038772,
          "end_time": "2021-07-27T16:01:09.869619",
          "exception": false,
          "start_time": "2021-07-27T16:01:09.830847",
          "status": "completed"
        },
        "tags": [],
        "id": "c6fcecc3"
      },
      "source": [
        "submit = True"
      ],
      "id": "c6fcecc3",
      "execution_count": null,
      "outputs": []
    },
    {
      "cell_type": "code",
      "metadata": {
        "execution": {
          "iopub.execute_input": "2021-07-27T16:01:09.947959Z",
          "iopub.status.busy": "2021-07-27T16:01:09.946730Z",
          "iopub.status.idle": "2021-07-27T16:01:18.464803Z",
          "shell.execute_reply": "2021-07-27T16:01:18.465439Z",
          "shell.execute_reply.started": "2021-07-27T15:48:52.005856Z"
        },
        "papermill": {
          "duration": 8.563238,
          "end_time": "2021-07-27T16:01:18.465682",
          "exception": false,
          "start_time": "2021-07-27T16:01:09.902444",
          "status": "completed"
        },
        "tags": [],
        "id": "f268ce89",
        "outputId": "155f5e04-6c2e-411e-aca9-f330535fef5e"
      },
      "source": [
        "submission = submission_ex.copy()\n",
        "\n",
        "for _target in ['target_carbon_monoxide', 'target_benzene','target_nitrogen_oxides']:\n",
        "    X = np.array(train_df[list(test_df.columns.values)[1:]].values, dtype='float32')\n",
        "    y = np.squeeze(np.array(targets_df[[_target]].values, dtype='float32'))\n",
        "    X_test = np.array(test_df.iloc[:,1:].values, dtype='float32')\n",
        "    if not submit:\n",
        "#         X, X_val, y, y_val = train_test_split(X, y, test_size=0.2, random_state=423)\n",
        "        X, X_val = X[:5500], X[5500:]\n",
        "        y, y_val = y[:5500], y[5500:]\n",
        "        lgbm_regs[_target].fit(X, y)\n",
        "        p1 = lgbm_regs[_target].predict(X_val)\n",
        "        print('target: ', _target)\n",
        "        print('rmsle: ', root_mean_squared_log_error(y_val, p1))\n",
        "        \n",
        "        fig = plt.figure(figsize = (30, 15))\n",
        "        g = targets_df.iloc[5500:,:].reset_index()[_target].plot()\n",
        "        tmp_col = pd.DataFrame(data=p1, columns=['tmp'])\n",
        "        g = tmp_col['tmp'].plot(alpha = 0.7)\n",
        "        \n",
        "        g.legend([_target])\n",
        "    else:\n",
        "        print('submit: ', _target)\n",
        "        lgbm_regs[_target].fit(X, y)\n",
        "        p1 = lgbm_regs[_target].predict(X_test)\n",
        "        submission[_target] = p1\n"
      ],
      "id": "f268ce89",
      "execution_count": null,
      "outputs": [
        {
          "output_type": "stream",
          "text": [
            "submit:  target_carbon_monoxide\n",
            "submit:  target_benzene\n",
            "submit:  target_nitrogen_oxides\n"
          ],
          "name": "stdout"
        }
      ]
    },
    {
      "cell_type": "code",
      "metadata": {
        "execution": {
          "iopub.execute_input": "2021-07-27T16:01:18.541720Z",
          "iopub.status.busy": "2021-07-27T16:01:18.540605Z",
          "iopub.status.idle": "2021-07-27T16:01:18.580390Z",
          "shell.execute_reply": "2021-07-27T16:01:18.580930Z",
          "shell.execute_reply.started": "2021-07-27T15:48:59.340902Z"
        },
        "papermill": {
          "duration": 0.078948,
          "end_time": "2021-07-27T16:01:18.581103",
          "exception": false,
          "start_time": "2021-07-27T16:01:18.502155",
          "status": "completed"
        },
        "tags": [],
        "id": "e92d34c8",
        "outputId": "5731d159-7024-4ea5-b716-9d63ca56d0c5"
      },
      "source": [
        "submission.to_csv('submission.csv', index=False)\n",
        "\n",
        "test = pd.read_csv('submission.csv')\n",
        "test.tail()"
      ],
      "id": "e92d34c8",
      "execution_count": null,
      "outputs": [
        {
          "output_type": "execute_result",
          "data": {
            "text/html": [
              "<div>\n",
              "<style scoped>\n",
              "    .dataframe tbody tr th:only-of-type {\n",
              "        vertical-align: middle;\n",
              "    }\n",
              "\n",
              "    .dataframe tbody tr th {\n",
              "        vertical-align: top;\n",
              "    }\n",
              "\n",
              "    .dataframe thead th {\n",
              "        text-align: right;\n",
              "    }\n",
              "</style>\n",
              "<table border=\"1\" class=\"dataframe\">\n",
              "  <thead>\n",
              "    <tr style=\"text-align: right;\">\n",
              "      <th></th>\n",
              "      <th>date_time</th>\n",
              "      <th>target_carbon_monoxide</th>\n",
              "      <th>target_benzene</th>\n",
              "      <th>target_nitrogen_oxides</th>\n",
              "    </tr>\n",
              "  </thead>\n",
              "  <tbody>\n",
              "    <tr>\n",
              "      <th>2242</th>\n",
              "      <td>2011-04-04 10:00:00</td>\n",
              "      <td>2.930582</td>\n",
              "      <td>13.008469</td>\n",
              "      <td>590.232949</td>\n",
              "    </tr>\n",
              "    <tr>\n",
              "      <th>2243</th>\n",
              "      <td>2011-04-04 11:00:00</td>\n",
              "      <td>2.545479</td>\n",
              "      <td>10.546841</td>\n",
              "      <td>412.216426</td>\n",
              "    </tr>\n",
              "    <tr>\n",
              "      <th>2244</th>\n",
              "      <td>2011-04-04 12:00:00</td>\n",
              "      <td>2.887104</td>\n",
              "      <td>12.697983</td>\n",
              "      <td>409.606681</td>\n",
              "    </tr>\n",
              "    <tr>\n",
              "      <th>2245</th>\n",
              "      <td>2011-04-04 13:00:00</td>\n",
              "      <td>2.252789</td>\n",
              "      <td>10.531495</td>\n",
              "      <td>375.900760</td>\n",
              "    </tr>\n",
              "    <tr>\n",
              "      <th>2246</th>\n",
              "      <td>2011-04-04 14:00:00</td>\n",
              "      <td>2.768202</td>\n",
              "      <td>13.023273</td>\n",
              "      <td>375.989197</td>\n",
              "    </tr>\n",
              "  </tbody>\n",
              "</table>\n",
              "</div>"
            ],
            "text/plain": [
              "                date_time  target_carbon_monoxide  target_benzene  \\\n",
              "2242  2011-04-04 10:00:00                2.930582       13.008469   \n",
              "2243  2011-04-04 11:00:00                2.545479       10.546841   \n",
              "2244  2011-04-04 12:00:00                2.887104       12.697983   \n",
              "2245  2011-04-04 13:00:00                2.252789       10.531495   \n",
              "2246  2011-04-04 14:00:00                2.768202       13.023273   \n",
              "\n",
              "      target_nitrogen_oxides  \n",
              "2242              590.232949  \n",
              "2243              412.216426  \n",
              "2244              409.606681  \n",
              "2245              375.900760  \n",
              "2246              375.989197  "
            ]
          },
          "metadata": {
            "tags": []
          },
          "execution_count": 29
        }
      ]
    }
  ]
}