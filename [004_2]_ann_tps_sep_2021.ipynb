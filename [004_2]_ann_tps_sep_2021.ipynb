{
  "nbformat": 4,
  "nbformat_minor": 0,
  "metadata": {
    "kernelspec": {
      "language": "python",
      "display_name": "Python 3",
      "name": "python3"
    },
    "language_info": {
      "name": "python",
      "version": "3.7.10",
      "mimetype": "text/x-python",
      "codemirror_mode": {
        "name": "ipython",
        "version": 3
      },
      "pygments_lexer": "ipython3",
      "nbconvert_exporter": "python",
      "file_extension": ".py"
    },
    "colab": {
      "name": "[004-2]-ann-tps-sep-2021.ipynb",
      "provenance": [],
      "collapsed_sections": [],
      "include_colab_link": true
    }
  },
  "cells": [
    {
      "cell_type": "markdown",
      "metadata": {
        "id": "view-in-github",
        "colab_type": "text"
      },
      "source": [
        "<a href=\"https://colab.research.google.com/github/smf-9000/kaggle/blob/main/%5B004_2%5D_ann_tps_sep_2021.ipynb\" target=\"_parent\"><img src=\"https://colab.research.google.com/assets/colab-badge.svg\" alt=\"Open In Colab\"/></a>"
      ]
    },
    {
      "cell_type": "markdown",
      "metadata": {
        "id": "99R1QI6r7eW6"
      },
      "source": [
        "Additional feature extraction from row before the last from ann model-classifier"
      ]
    },
    {
      "cell_type": "code",
      "metadata": {
        "_uuid": "8f2839f25d086af736a60e9eeb907d3b93b6e0e5",
        "_cell_guid": "b1076dfc-b9ad-4769-8c92-a6c4dae69d19",
        "execution": {
          "iopub.status.busy": "2021-09-04T14:49:48.738231Z",
          "iopub.execute_input": "2021-09-04T14:49:48.738716Z",
          "iopub.status.idle": "2021-09-04T14:49:48.760530Z",
          "shell.execute_reply.started": "2021-09-04T14:49:48.738620Z",
          "shell.execute_reply": "2021-09-04T14:49:48.759391Z"
        },
        "trusted": true,
        "id": "bgSykUXN7EJs"
      },
      "source": [
        "%config Completer.use_jedi = False"
      ],
      "execution_count": null,
      "outputs": []
    },
    {
      "cell_type": "code",
      "metadata": {
        "execution": {
          "iopub.status.busy": "2021-09-04T14:49:48.762162Z",
          "iopub.execute_input": "2021-09-04T14:49:48.762560Z",
          "iopub.status.idle": "2021-09-04T14:49:52.154813Z",
          "shell.execute_reply.started": "2021-09-04T14:49:48.762519Z",
          "shell.execute_reply": "2021-09-04T14:49:52.153714Z"
        },
        "trusted": true,
        "id": "c_tYhKa57EJu",
        "outputId": "314781d3-fa2f-4ab2-ef18-fb81b30cef56"
      },
      "source": [
        "import numpy as np\n",
        "import pandas as pd\n",
        "import seaborn as sns\n",
        "\n",
        "import matplotlib.pyplot as plt\n",
        "from matplotlib.pyplot import imshow, imread\n",
        "\n",
        "from sklearn.model_selection import train_test_split\n",
        "from sklearn.metrics import mean_squared_error\n",
        "from sklearn.model_selection import KFold\n",
        "from sklearn.decomposition import PCA\n",
        "from sklearn.preprocessing import StandardScaler\n",
        "from sklearn.cluster import KMeans\n",
        "from sklearn.mixture import GaussianMixture\n",
        "\n",
        "import scipy.stats as stats\n",
        "\n",
        "import lightgbm as lgb\n",
        "import warnings\n",
        "\n",
        "import optuna"
      ],
      "execution_count": null,
      "outputs": [
        {
          "output_type": "display_data",
          "data": {
            "text/plain": "<IPython.core.display.HTML object>",
            "text/html": "<style type='text/css'>\n.datatable table.frame { margin-bottom: 0; }\n.datatable table.frame thead { border-bottom: none; }\n.datatable table.frame tr.coltypes td {  color: #FFFFFF;  line-height: 6px;  padding: 0 0.5em;}\n.datatable .bool    { background: #DDDD99; }\n.datatable .object  { background: #565656; }\n.datatable .int     { background: #5D9E5D; }\n.datatable .float   { background: #4040CC; }\n.datatable .str     { background: #CC4040; }\n.datatable .time    { background: #40CC40; }\n.datatable .row_index {  background: var(--jp-border-color3);  border-right: 1px solid var(--jp-border-color0);  color: var(--jp-ui-font-color3);  font-size: 9px;}\n.datatable .frame tbody td { text-align: left; }\n.datatable .frame tr.coltypes .row_index {  background: var(--jp-border-color0);}\n.datatable th:nth-child(2) { padding-left: 12px; }\n.datatable .hellipsis {  color: var(--jp-cell-editor-border-color);}\n.datatable .vellipsis {  background: var(--jp-layout-color0);  color: var(--jp-cell-editor-border-color);}\n.datatable .na {  color: var(--jp-cell-editor-border-color);  font-size: 80%;}\n.datatable .sp {  opacity: 0.25;}\n.datatable .footer { font-size: 9px; }\n.datatable .frame_dimensions {  background: var(--jp-border-color3);  border-top: 1px solid var(--jp-border-color0);  color: var(--jp-ui-font-color3);  display: inline-block;  opacity: 0.6;  padding: 1px 10px 1px 5px;}\n</style>\n"
          },
          "metadata": {}
        }
      ]
    },
    {
      "cell_type": "code",
      "metadata": {
        "execution": {
          "iopub.status.busy": "2021-09-04T14:49:52.156492Z",
          "iopub.execute_input": "2021-09-04T14:49:52.156805Z",
          "iopub.status.idle": "2021-09-04T14:49:52.161699Z",
          "shell.execute_reply.started": "2021-09-04T14:49:52.156775Z",
          "shell.execute_reply": "2021-09-04T14:49:52.160662Z"
        },
        "trusted": true,
        "id": "K_lAgOW27EJv"
      },
      "source": [
        "R_SEED = 37"
      ],
      "execution_count": null,
      "outputs": []
    },
    {
      "cell_type": "code",
      "metadata": {
        "execution": {
          "iopub.status.busy": "2021-09-04T14:49:52.163216Z",
          "iopub.execute_input": "2021-09-04T14:49:52.163745Z",
          "iopub.status.idle": "2021-09-04T14:51:34.026505Z",
          "shell.execute_reply.started": "2021-09-04T14:49:52.163710Z",
          "shell.execute_reply": "2021-09-04T14:51:34.025521Z"
        },
        "trusted": true,
        "id": "3OjifHAf7EJw"
      },
      "source": [
        "train_data_b = pd.read_csv('/kaggle/input/tpssep20210041/train_data_b.csv')\n",
        "test_data_b = pd.read_csv('/kaggle/input/tpssep20210041/test_data_b.csv')\n",
        "target_data = pd.read_csv('/kaggle/input/tpssep20210041/target_data.csv')\n",
        "submit_data = pd.read_csv('/kaggle/input/tpssep20210041/submit_data.csv')"
      ],
      "execution_count": null,
      "outputs": []
    },
    {
      "cell_type": "code",
      "metadata": {
        "trusted": true,
        "id": "1UQoWh837EJw"
      },
      "source": [
        ""
      ],
      "execution_count": null,
      "outputs": []
    },
    {
      "cell_type": "code",
      "metadata": {
        "execution": {
          "iopub.status.busy": "2021-09-04T14:59:58.571235Z",
          "iopub.execute_input": "2021-09-04T14:59:58.571643Z",
          "iopub.status.idle": "2021-09-04T14:59:58.576042Z",
          "shell.execute_reply.started": "2021-09-04T14:59:58.571610Z",
          "shell.execute_reply": "2021-09-04T14:59:58.575017Z"
        },
        "trusted": true,
        "id": "k36NIobt7EJw"
      },
      "source": [
        "import tensorflow as tf\n",
        "from tensorflow.keras import datasets, layers, models, Model"
      ],
      "execution_count": null,
      "outputs": []
    },
    {
      "cell_type": "code",
      "metadata": {
        "execution": {
          "iopub.status.busy": "2021-09-04T14:59:58.781856Z",
          "iopub.execute_input": "2021-09-04T14:59:58.782444Z",
          "iopub.status.idle": "2021-09-04T14:59:58.788044Z",
          "shell.execute_reply.started": "2021-09-04T14:59:58.782399Z",
          "shell.execute_reply": "2021-09-04T14:59:58.787035Z"
        },
        "trusted": true,
        "id": "R_aWNgUa7EJw"
      },
      "source": [
        "from sklearn.metrics import roc_auc_score\n",
        "\n",
        "def auroc(y_true, y_pred):\n",
        "    return tf.py_function(roc_auc_score, (y_true, y_pred), tf.double)"
      ],
      "execution_count": null,
      "outputs": []
    },
    {
      "cell_type": "code",
      "metadata": {
        "execution": {
          "iopub.status.busy": "2021-09-04T15:00:00.241144Z",
          "iopub.execute_input": "2021-09-04T15:00:00.241601Z",
          "iopub.status.idle": "2021-09-04T15:00:00.249065Z",
          "shell.execute_reply.started": "2021-09-04T15:00:00.241521Z",
          "shell.execute_reply": "2021-09-04T15:00:00.248168Z"
        },
        "trusted": true,
        "id": "uqtKFbbM7EJw"
      },
      "source": [
        "def ANN(input_shape=236):\n",
        "    \n",
        "    model = models.Sequential(\n",
        "        [\n",
        "            layers.Input(shape=input_shape),\n",
        "            layers.Dense(256, activation='selu'),\n",
        "            layers.BatchNormalization(),\n",
        "            layers.Dropout(rate=0.4),\n",
        "            layers.Dense(128, activation='selu'),\n",
        "            layers.BatchNormalization(),\n",
        "            layers.Dropout(rate=0.2),\n",
        "            layers.Dense(16, activation='selu', name='f_e'),\n",
        "            layers.Dense(1, activation='sigmoid')\n",
        "        ],\n",
        "        name='TPS-SEP21'\n",
        "    )\n",
        "    \n",
        "    model.compile(\n",
        "                    optimizer = tf.keras.optimizers.Adam(learning_rate = 0.00002),\n",
        "                    loss = 'binary_crossentropy',\n",
        "                    metrics = ['accuracy'])\n",
        "    return model"
      ],
      "execution_count": null,
      "outputs": []
    },
    {
      "cell_type": "code",
      "metadata": {
        "execution": {
          "iopub.status.busy": "2021-09-04T15:00:06.336668Z",
          "iopub.execute_input": "2021-09-04T15:00:06.337201Z",
          "iopub.status.idle": "2021-09-04T15:00:06.430918Z",
          "shell.execute_reply.started": "2021-09-04T15:00:06.337154Z",
          "shell.execute_reply": "2021-09-04T15:00:06.429791Z"
        },
        "trusted": true,
        "id": "LbiTnXoC7EJx",
        "outputId": "5c73f28e-68f5-44f7-d352-877ca964bc42"
      },
      "source": [
        "model = ANN()\n",
        "model.summary()"
      ],
      "execution_count": null,
      "outputs": [
        {
          "name": "stdout",
          "text": "Model: \"TPS-SEP21\"\n_________________________________________________________________\nLayer (type)                 Output Shape              Param #   \n=================================================================\ndense (Dense)                (None, 256)               60672     \n_________________________________________________________________\nbatch_normalization (BatchNo (None, 256)               1024      \n_________________________________________________________________\ndropout (Dropout)            (None, 256)               0         \n_________________________________________________________________\ndense_1 (Dense)              (None, 128)               32896     \n_________________________________________________________________\nbatch_normalization_1 (Batch (None, 128)               512       \n_________________________________________________________________\ndropout_1 (Dropout)          (None, 128)               0         \n_________________________________________________________________\nf_e (Dense)                  (None, 16)                2064      \n_________________________________________________________________\ndense_2 (Dense)              (None, 1)                 17        \n=================================================================\nTotal params: 97,185\nTrainable params: 96,417\nNon-trainable params: 768\n_________________________________________________________________\n",
          "output_type": "stream"
        }
      ]
    },
    {
      "cell_type": "code",
      "metadata": {
        "execution": {
          "iopub.status.busy": "2021-09-04T15:00:07.156443Z",
          "iopub.execute_input": "2021-09-04T15:00:07.156809Z",
          "iopub.status.idle": "2021-09-04T15:14:17.022226Z",
          "shell.execute_reply.started": "2021-09-04T15:00:07.156779Z",
          "shell.execute_reply": "2021-09-04T15:14:17.020954Z"
        },
        "trusted": true,
        "id": "jIt_CLk-7EJx",
        "outputId": "1e22cf94-944d-47c8-ec2b-38f0a82e313a"
      },
      "source": [
        "history = model.fit(\n",
        "    train_data_b,\n",
        "    target_data,\n",
        "    epochs = 20,\n",
        "    shuffle = True,\n",
        "#     validation_split = 0.4,\n",
        "    batch_size = 128,)"
      ],
      "execution_count": null,
      "outputs": [
        {
          "name": "stdout",
          "text": "Epoch 1/20\n7484/7484 [==============================] - 45s 6ms/step - loss: 0.7993 - accuracy: 0.5413\nEpoch 2/20\n7484/7484 [==============================] - 43s 6ms/step - loss: 0.6337 - accuracy: 0.6573\nEpoch 3/20\n7484/7484 [==============================] - 43s 6ms/step - loss: 0.5893 - accuracy: 0.7098\nEpoch 4/20\n7484/7484 [==============================] - 43s 6ms/step - loss: 0.5647 - accuracy: 0.7343\nEpoch 5/20\n7484/7484 [==============================] - 45s 6ms/step - loss: 0.5517 - accuracy: 0.7456\nEpoch 6/20\n7484/7484 [==============================] - 44s 6ms/step - loss: 0.5455 - accuracy: 0.7504\nEpoch 7/20\n7484/7484 [==============================] - 42s 6ms/step - loss: 0.5397 - accuracy: 0.7551\nEpoch 8/20\n7484/7484 [==============================] - 41s 5ms/step - loss: 0.5359 - accuracy: 0.7570\nEpoch 9/20\n7484/7484 [==============================] - 40s 5ms/step - loss: 0.5342 - accuracy: 0.7581\nEpoch 10/20\n7484/7484 [==============================] - 40s 5ms/step - loss: 0.5319 - accuracy: 0.7599\nEpoch 11/20\n7484/7484 [==============================] - 40s 5ms/step - loss: 0.5304 - accuracy: 0.7601\nEpoch 12/20\n7484/7484 [==============================] - 41s 5ms/step - loss: 0.5271 - accuracy: 0.7615\nEpoch 13/20\n7484/7484 [==============================] - 42s 6ms/step - loss: 0.5266 - accuracy: 0.7616\nEpoch 14/20\n7484/7484 [==============================] - 42s 6ms/step - loss: 0.5264 - accuracy: 0.7621\nEpoch 15/20\n7484/7484 [==============================] - 43s 6ms/step - loss: 0.5243 - accuracy: 0.7630\nEpoch 16/20\n7484/7484 [==============================] - 42s 6ms/step - loss: 0.5246 - accuracy: 0.7628\nEpoch 17/20\n7484/7484 [==============================] - 42s 6ms/step - loss: 0.5232 - accuracy: 0.7638\nEpoch 18/20\n7484/7484 [==============================] - 42s 6ms/step - loss: 0.5231 - accuracy: 0.7639\nEpoch 19/20\n7484/7484 [==============================] - 43s 6ms/step - loss: 0.5210 - accuracy: 0.7647\nEpoch 20/20\n7484/7484 [==============================] - 42s 6ms/step - loss: 0.5223 - accuracy: 0.7643\n",
          "output_type": "stream"
        }
      ]
    },
    {
      "cell_type": "code",
      "metadata": {
        "execution": {
          "iopub.status.busy": "2021-09-04T14:52:52.546638Z",
          "iopub.execute_input": "2021-09-04T14:52:52.547039Z",
          "iopub.status.idle": "2021-09-04T14:52:52.839403Z",
          "shell.execute_reply.started": "2021-09-04T14:52:52.547006Z",
          "shell.execute_reply": "2021-09-04T14:52:52.838362Z"
        },
        "trusted": true,
        "id": "2Av6dh6w7EJx"
      },
      "source": [
        "# model.save(\"nn_model.h5\")\n",
        "# model = models.load_model(\"../input/004-2-ann-tps-sep-2021/nn_model.h5\")"
      ],
      "execution_count": null,
      "outputs": []
    },
    {
      "cell_type": "code",
      "metadata": {
        "execution": {
          "iopub.status.busy": "2021-09-04T13:16:54.278115Z",
          "iopub.execute_input": "2021-09-04T13:16:54.278459Z",
          "iopub.status.idle": "2021-09-04T13:16:54.282169Z",
          "shell.execute_reply.started": "2021-09-04T13:16:54.278430Z",
          "shell.execute_reply": "2021-09-04T13:16:54.281131Z"
        },
        "trusted": true,
        "id": "SCJ3hLS_7EJy"
      },
      "source": [
        "# output = model(test_data_b.values)\n",
        "# submit_data['claim'] = np.squeeze(np.array(output))\n",
        "# submit_data.to_csv('submission_ann.csv', index=False)\n",
        "# submit_data"
      ],
      "execution_count": null,
      "outputs": []
    },
    {
      "cell_type": "code",
      "metadata": {
        "execution": {
          "iopub.status.busy": "2021-09-04T15:14:25.148221Z",
          "iopub.execute_input": "2021-09-04T15:14:25.148590Z",
          "iopub.status.idle": "2021-09-04T15:14:25.158821Z",
          "shell.execute_reply.started": "2021-09-04T15:14:25.148558Z",
          "shell.execute_reply": "2021-09-04T15:14:25.157613Z"
        },
        "trusted": true,
        "id": "8hGnmR7g7EJy"
      },
      "source": [
        "fe_idx = [l.name for l in model.layers].index('f_e')\n",
        "feature_extractor = Model(\n",
        "                inputs=model.inputs,\n",
        "                outputs=model.layers[fe_idx].output)"
      ],
      "execution_count": null,
      "outputs": []
    },
    {
      "cell_type": "code",
      "metadata": {
        "execution": {
          "iopub.status.busy": "2021-09-04T15:14:25.884403Z",
          "iopub.execute_input": "2021-09-04T15:14:25.884760Z",
          "iopub.status.idle": "2021-09-04T15:14:25.890011Z",
          "shell.execute_reply.started": "2021-09-04T15:14:25.884730Z",
          "shell.execute_reply": "2021-09-04T15:14:25.889255Z"
        },
        "trusted": true,
        "id": "urm30o6o7EJz"
      },
      "source": [
        "col = ['nn_f' + str(i) for i in range(model.layers[fe_idx].output_shape[1])]"
      ],
      "execution_count": null,
      "outputs": []
    },
    {
      "cell_type": "code",
      "metadata": {
        "execution": {
          "iopub.status.busy": "2021-09-04T15:14:27.249681Z",
          "iopub.execute_input": "2021-09-04T15:14:27.250407Z",
          "iopub.status.idle": "2021-09-04T15:14:27.256476Z",
          "shell.execute_reply.started": "2021-09-04T15:14:27.250361Z",
          "shell.execute_reply": "2021-09-04T15:14:27.255740Z"
        },
        "trusted": true,
        "id": "w7qyg5147EJz",
        "outputId": "14c51e53-f14b-4d92-a5d1-f54cc46ffae4"
      },
      "source": [
        "col"
      ],
      "execution_count": null,
      "outputs": [
        {
          "execution_count": 33,
          "output_type": "execute_result",
          "data": {
            "text/plain": "['nn_f0',\n 'nn_f1',\n 'nn_f2',\n 'nn_f3',\n 'nn_f4',\n 'nn_f5',\n 'nn_f6',\n 'nn_f7',\n 'nn_f8',\n 'nn_f9',\n 'nn_f10',\n 'nn_f11',\n 'nn_f12',\n 'nn_f13',\n 'nn_f14',\n 'nn_f15']"
          },
          "metadata": {}
        }
      ]
    },
    {
      "cell_type": "code",
      "metadata": {
        "execution": {
          "iopub.status.busy": "2021-09-04T15:14:35.177230Z",
          "iopub.execute_input": "2021-09-04T15:14:35.177742Z",
          "iopub.status.idle": "2021-09-04T15:14:46.208650Z",
          "shell.execute_reply.started": "2021-09-04T15:14:35.177708Z",
          "shell.execute_reply": "2021-09-04T15:14:46.207509Z"
        },
        "trusted": true,
        "id": "2ojV7kng7EJ0"
      },
      "source": [
        "new_features_train = feature_extractor(train_data_b.values)\n",
        "new_features_test = feature_extractor(test_data_b.values)"
      ],
      "execution_count": null,
      "outputs": []
    },
    {
      "cell_type": "code",
      "metadata": {
        "execution": {
          "iopub.status.busy": "2021-09-04T15:15:02.035861Z",
          "iopub.execute_input": "2021-09-04T15:15:02.036231Z",
          "iopub.status.idle": "2021-09-04T15:15:02.055400Z",
          "shell.execute_reply.started": "2021-09-04T15:15:02.036200Z",
          "shell.execute_reply": "2021-09-04T15:15:02.054403Z"
        },
        "trusted": true,
        "id": "rSkJrR1l7EJ0"
      },
      "source": [
        "train_data_new_features = pd.DataFrame(data=np.array(new_features_train), index=train_data_b.index, columns=col)"
      ],
      "execution_count": null,
      "outputs": []
    },
    {
      "cell_type": "code",
      "metadata": {
        "execution": {
          "iopub.status.busy": "2021-09-04T15:15:02.254961Z",
          "iopub.execute_input": "2021-09-04T15:15:02.255313Z",
          "iopub.status.idle": "2021-09-04T15:15:02.267710Z",
          "shell.execute_reply.started": "2021-09-04T15:15:02.255284Z",
          "shell.execute_reply": "2021-09-04T15:15:02.266590Z"
        },
        "trusted": true,
        "id": "N58orPFZ7EJ0"
      },
      "source": [
        "test_data_new_features = pd.DataFrame(data=np.array(new_features_test), index=test_data_b.index, columns=col)"
      ],
      "execution_count": null,
      "outputs": []
    },
    {
      "cell_type": "code",
      "metadata": {
        "execution": {
          "iopub.status.busy": "2021-09-04T15:15:03.464431Z",
          "iopub.execute_input": "2021-09-04T15:15:03.464785Z",
          "iopub.status.idle": "2021-09-04T15:15:03.492673Z",
          "shell.execute_reply.started": "2021-09-04T15:15:03.464755Z",
          "shell.execute_reply": "2021-09-04T15:15:03.491544Z"
        },
        "trusted": true,
        "id": "xGcDCmJG7EJ0",
        "outputId": "5f390fbe-9d85-4577-ade7-ca5e0ce95216"
      },
      "source": [
        "train_data_new_features.head()"
      ],
      "execution_count": null,
      "outputs": [
        {
          "execution_count": 37,
          "output_type": "execute_result",
          "data": {
            "text/plain": "      nn_f0     nn_f1     nn_f2     nn_f3     nn_f4     nn_f5     nn_f6  \\\n0 -1.210514  0.532672  0.437113  0.872868  0.732253  0.344190  0.607266   \n1  0.322745  1.598228 -1.016876 -0.396802  0.017066  0.027303  0.525136   \n2  0.166408 -1.340501  1.317596  1.464931  1.063987  1.542492 -0.251860   \n3 -1.495363 -0.640164  1.407812  0.496428  0.107750  0.191731 -0.640228   \n4  2.280773 -1.430678  1.089380  0.775491  0.651635  3.028939  0.870203   \n\n      nn_f7     nn_f8     nn_f9    nn_f10    nn_f11    nn_f12    nn_f13  \\\n0  0.396993  0.248075  1.288122 -0.196867 -0.148372  0.496609  0.217578   \n1 -0.143549 -0.105835  4.477329  0.067328  0.427172  0.755869  0.058427   \n2  0.628439  0.315774 -1.747668  1.406090  0.576749 -0.646716  0.805818   \n3  0.798172 -0.627507 -1.408519 -0.375085  0.325995  0.409651  0.458943   \n4  0.547089 -0.290916 -1.757262  1.393477  1.437148 -0.886092 -0.144421   \n\n     nn_f14    nn_f15  \n0  0.294164  0.896073  \n1  1.457199  6.357563  \n2 -1.354134 -1.757971  \n3 -1.261604 -1.685391  \n4 -1.432159 -1.758097  ",
            "text/html": "<div>\n<style scoped>\n    .dataframe tbody tr th:only-of-type {\n        vertical-align: middle;\n    }\n\n    .dataframe tbody tr th {\n        vertical-align: top;\n    }\n\n    .dataframe thead th {\n        text-align: right;\n    }\n</style>\n<table border=\"1\" class=\"dataframe\">\n  <thead>\n    <tr style=\"text-align: right;\">\n      <th></th>\n      <th>nn_f0</th>\n      <th>nn_f1</th>\n      <th>nn_f2</th>\n      <th>nn_f3</th>\n      <th>nn_f4</th>\n      <th>nn_f5</th>\n      <th>nn_f6</th>\n      <th>nn_f7</th>\n      <th>nn_f8</th>\n      <th>nn_f9</th>\n      <th>nn_f10</th>\n      <th>nn_f11</th>\n      <th>nn_f12</th>\n      <th>nn_f13</th>\n      <th>nn_f14</th>\n      <th>nn_f15</th>\n    </tr>\n  </thead>\n  <tbody>\n    <tr>\n      <th>0</th>\n      <td>-1.210514</td>\n      <td>0.532672</td>\n      <td>0.437113</td>\n      <td>0.872868</td>\n      <td>0.732253</td>\n      <td>0.344190</td>\n      <td>0.607266</td>\n      <td>0.396993</td>\n      <td>0.248075</td>\n      <td>1.288122</td>\n      <td>-0.196867</td>\n      <td>-0.148372</td>\n      <td>0.496609</td>\n      <td>0.217578</td>\n      <td>0.294164</td>\n      <td>0.896073</td>\n    </tr>\n    <tr>\n      <th>1</th>\n      <td>0.322745</td>\n      <td>1.598228</td>\n      <td>-1.016876</td>\n      <td>-0.396802</td>\n      <td>0.017066</td>\n      <td>0.027303</td>\n      <td>0.525136</td>\n      <td>-0.143549</td>\n      <td>-0.105835</td>\n      <td>4.477329</td>\n      <td>0.067328</td>\n      <td>0.427172</td>\n      <td>0.755869</td>\n      <td>0.058427</td>\n      <td>1.457199</td>\n      <td>6.357563</td>\n    </tr>\n    <tr>\n      <th>2</th>\n      <td>0.166408</td>\n      <td>-1.340501</td>\n      <td>1.317596</td>\n      <td>1.464931</td>\n      <td>1.063987</td>\n      <td>1.542492</td>\n      <td>-0.251860</td>\n      <td>0.628439</td>\n      <td>0.315774</td>\n      <td>-1.747668</td>\n      <td>1.406090</td>\n      <td>0.576749</td>\n      <td>-0.646716</td>\n      <td>0.805818</td>\n      <td>-1.354134</td>\n      <td>-1.757971</td>\n    </tr>\n    <tr>\n      <th>3</th>\n      <td>-1.495363</td>\n      <td>-0.640164</td>\n      <td>1.407812</td>\n      <td>0.496428</td>\n      <td>0.107750</td>\n      <td>0.191731</td>\n      <td>-0.640228</td>\n      <td>0.798172</td>\n      <td>-0.627507</td>\n      <td>-1.408519</td>\n      <td>-0.375085</td>\n      <td>0.325995</td>\n      <td>0.409651</td>\n      <td>0.458943</td>\n      <td>-1.261604</td>\n      <td>-1.685391</td>\n    </tr>\n    <tr>\n      <th>4</th>\n      <td>2.280773</td>\n      <td>-1.430678</td>\n      <td>1.089380</td>\n      <td>0.775491</td>\n      <td>0.651635</td>\n      <td>3.028939</td>\n      <td>0.870203</td>\n      <td>0.547089</td>\n      <td>-0.290916</td>\n      <td>-1.757262</td>\n      <td>1.393477</td>\n      <td>1.437148</td>\n      <td>-0.886092</td>\n      <td>-0.144421</td>\n      <td>-1.432159</td>\n      <td>-1.758097</td>\n    </tr>\n  </tbody>\n</table>\n</div>"
          },
          "metadata": {}
        }
      ]
    },
    {
      "cell_type": "code",
      "metadata": {
        "execution": {
          "iopub.status.busy": "2021-09-04T15:15:04.276767Z",
          "iopub.execute_input": "2021-09-04T15:15:04.277149Z",
          "iopub.status.idle": "2021-09-04T15:15:04.302242Z",
          "shell.execute_reply.started": "2021-09-04T15:15:04.277116Z",
          "shell.execute_reply": "2021-09-04T15:15:04.301106Z"
        },
        "trusted": true,
        "id": "2MT6EPrT7EJ0",
        "outputId": "27b9b157-898e-4229-8461-6dca58cf8522"
      },
      "source": [
        "test_data_new_features.head()"
      ],
      "execution_count": null,
      "outputs": [
        {
          "execution_count": 38,
          "output_type": "execute_result",
          "data": {
            "text/plain": "      nn_f0     nn_f1     nn_f2     nn_f3     nn_f4     nn_f5     nn_f6  \\\n0 -1.108520 -0.064040  0.914978  0.169181 -0.627552 -0.489166  0.423882   \n1 -0.647702  1.613844 -1.159137  0.085489  0.377783 -0.034059  0.195312   \n2 -0.866087  0.604774  0.217579 -0.293156 -0.520723 -0.045758  0.181501   \n3  0.545873  2.017678 -0.757720 -0.202564  0.358158 -0.204031  0.461005   \n4  0.026905  1.575511 -1.390320 -0.382868  0.343403 -0.653048  0.209651   \n\n      nn_f7     nn_f8     nn_f9    nn_f10    nn_f11    nn_f12    nn_f13  \\\n0  0.005536  0.098328  0.161746 -0.397844  0.225627  0.461899  0.295720   \n1  0.062766  0.456793  3.482244  0.316348  0.357182  0.072802 -0.526592   \n2 -0.469932  0.559400  1.621467 -0.879474  0.296437  0.318895  0.249893   \n3 -0.569477 -0.286507  3.053555 -0.176965  0.614605  0.224506  0.013721   \n4  0.366772  1.167329  2.902498 -0.605426  0.129572  0.135938 -0.005438   \n\n     nn_f14    nn_f15  \n0 -0.592789  0.992889  \n1  0.773572  6.601974  \n2  0.212182  1.268957  \n3  1.285336  6.382481  \n4  1.113387  6.323200  ",
            "text/html": "<div>\n<style scoped>\n    .dataframe tbody tr th:only-of-type {\n        vertical-align: middle;\n    }\n\n    .dataframe tbody tr th {\n        vertical-align: top;\n    }\n\n    .dataframe thead th {\n        text-align: right;\n    }\n</style>\n<table border=\"1\" class=\"dataframe\">\n  <thead>\n    <tr style=\"text-align: right;\">\n      <th></th>\n      <th>nn_f0</th>\n      <th>nn_f1</th>\n      <th>nn_f2</th>\n      <th>nn_f3</th>\n      <th>nn_f4</th>\n      <th>nn_f5</th>\n      <th>nn_f6</th>\n      <th>nn_f7</th>\n      <th>nn_f8</th>\n      <th>nn_f9</th>\n      <th>nn_f10</th>\n      <th>nn_f11</th>\n      <th>nn_f12</th>\n      <th>nn_f13</th>\n      <th>nn_f14</th>\n      <th>nn_f15</th>\n    </tr>\n  </thead>\n  <tbody>\n    <tr>\n      <th>0</th>\n      <td>-1.108520</td>\n      <td>-0.064040</td>\n      <td>0.914978</td>\n      <td>0.169181</td>\n      <td>-0.627552</td>\n      <td>-0.489166</td>\n      <td>0.423882</td>\n      <td>0.005536</td>\n      <td>0.098328</td>\n      <td>0.161746</td>\n      <td>-0.397844</td>\n      <td>0.225627</td>\n      <td>0.461899</td>\n      <td>0.295720</td>\n      <td>-0.592789</td>\n      <td>0.992889</td>\n    </tr>\n    <tr>\n      <th>1</th>\n      <td>-0.647702</td>\n      <td>1.613844</td>\n      <td>-1.159137</td>\n      <td>0.085489</td>\n      <td>0.377783</td>\n      <td>-0.034059</td>\n      <td>0.195312</td>\n      <td>0.062766</td>\n      <td>0.456793</td>\n      <td>3.482244</td>\n      <td>0.316348</td>\n      <td>0.357182</td>\n      <td>0.072802</td>\n      <td>-0.526592</td>\n      <td>0.773572</td>\n      <td>6.601974</td>\n    </tr>\n    <tr>\n      <th>2</th>\n      <td>-0.866087</td>\n      <td>0.604774</td>\n      <td>0.217579</td>\n      <td>-0.293156</td>\n      <td>-0.520723</td>\n      <td>-0.045758</td>\n      <td>0.181501</td>\n      <td>-0.469932</td>\n      <td>0.559400</td>\n      <td>1.621467</td>\n      <td>-0.879474</td>\n      <td>0.296437</td>\n      <td>0.318895</td>\n      <td>0.249893</td>\n      <td>0.212182</td>\n      <td>1.268957</td>\n    </tr>\n    <tr>\n      <th>3</th>\n      <td>0.545873</td>\n      <td>2.017678</td>\n      <td>-0.757720</td>\n      <td>-0.202564</td>\n      <td>0.358158</td>\n      <td>-0.204031</td>\n      <td>0.461005</td>\n      <td>-0.569477</td>\n      <td>-0.286507</td>\n      <td>3.053555</td>\n      <td>-0.176965</td>\n      <td>0.614605</td>\n      <td>0.224506</td>\n      <td>0.013721</td>\n      <td>1.285336</td>\n      <td>6.382481</td>\n    </tr>\n    <tr>\n      <th>4</th>\n      <td>0.026905</td>\n      <td>1.575511</td>\n      <td>-1.390320</td>\n      <td>-0.382868</td>\n      <td>0.343403</td>\n      <td>-0.653048</td>\n      <td>0.209651</td>\n      <td>0.366772</td>\n      <td>1.167329</td>\n      <td>2.902498</td>\n      <td>-0.605426</td>\n      <td>0.129572</td>\n      <td>0.135938</td>\n      <td>-0.005438</td>\n      <td>1.113387</td>\n      <td>6.323200</td>\n    </tr>\n  </tbody>\n</table>\n</div>"
          },
          "metadata": {}
        }
      ]
    },
    {
      "cell_type": "code",
      "metadata": {
        "execution": {
          "iopub.status.busy": "2021-09-04T15:15:06.194396Z",
          "iopub.execute_input": "2021-09-04T15:15:06.194755Z",
          "iopub.status.idle": "2021-09-04T15:15:40.077899Z",
          "shell.execute_reply.started": "2021-09-04T15:15:06.194723Z",
          "shell.execute_reply": "2021-09-04T15:15:40.077111Z"
        },
        "trusted": true,
        "id": "nnrSl5bK7EJ1"
      },
      "source": [
        "train_data_new_features.to_csv('train_data_nn_features.csv', index=False)\n",
        "test_data_new_features.to_csv('test_data_nn_features.csv', index=False)"
      ],
      "execution_count": null,
      "outputs": []
    },
    {
      "cell_type": "code",
      "metadata": {
        "id": "M8bxVCtl7EJ1"
      },
      "source": [
        ""
      ],
      "execution_count": null,
      "outputs": []
    },
    {
      "cell_type": "code",
      "metadata": {
        "id": "gv05K7tO7EJ1"
      },
      "source": [
        ""
      ],
      "execution_count": null,
      "outputs": []
    }
  ]
}